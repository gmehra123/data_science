{
 "cells": [
  {
   "cell_type": "code",
   "execution_count": 24,
   "id": "5e3a4eaa-cbec-4cf4-b266-618f21f50a93",
   "metadata": {},
   "outputs": [],
   "source": [
    "import pandas as pd\n",
    "import numpy as np\n",
    "import torch.nn as nn\n",
    "from torchvision.datasets import ImageFolder\n",
    "from torchvision import transforms\n",
    "from torch.utils.data import DataLoader\n",
    "import torch"
   ]
  },
  {
   "cell_type": "code",
   "execution_count": 25,
   "id": "c405f6f2-4051-4c12-8cfc-221d896389be",
   "metadata": {},
   "outputs": [],
   "source": [
    "transform_cloud = transforms.Compose([transforms.RandomAutocontrast(),transforms.RandomHorizontalFlip(),\n",
    "                                     transforms.RandomRotation(45),transforms.ToTensor(),\n",
    "                                     transforms.Resize((64,64))])"
   ]
  },
  {
   "cell_type": "code",
   "execution_count": 26,
   "id": "a0032161-c772-489c-8f0e-9213e045151f",
   "metadata": {
    "tags": []
   },
   "outputs": [],
   "source": [
    "transform_test = transforms.Compose([transforms.ToTensor(),\n",
    "                                     transforms.Resize((64,64))])"
   ]
  },
  {
   "cell_type": "code",
   "execution_count": 27,
   "id": "3c52e8ba-9f33-4bc7-8918-f20e62289357",
   "metadata": {},
   "outputs": [],
   "source": [
    "data_train = ImageFolder('clouds/clouds_train',transform = transform_cloud)"
   ]
  },
  {
   "cell_type": "code",
   "execution_count": 28,
   "id": "5d10a2e0-ac60-4873-a9ce-71143444d232",
   "metadata": {},
   "outputs": [],
   "source": [
    "data_test = ImageFolder('clouds/clouds_test', transform = transform_test)"
   ]
  },
  {
   "cell_type": "code",
   "execution_count": 29,
   "id": "b0d45acc-54ef-4caf-aa66-7ebeec6f7223",
   "metadata": {},
   "outputs": [],
   "source": [
    "trainload = DataLoader(data_train,batch_size=1,shuffle=True)"
   ]
  },
  {
   "cell_type": "code",
   "execution_count": 30,
   "id": "9cc71fc8-3852-4b1d-ac25-b8344665071d",
   "metadata": {},
   "outputs": [],
   "source": [
    "testload = DataLoader(data_test,batch_size=16,shuffle=True)"
   ]
  },
  {
   "cell_type": "code",
   "execution_count": 31,
   "id": "94e84059-f20a-4427-b703-90d64cda510e",
   "metadata": {},
   "outputs": [],
   "source": [
    "image,label=next(iter(trainload))"
   ]
  },
  {
   "cell_type": "code",
   "execution_count": 32,
   "id": "240c4de7-7446-4612-bb48-62b8126fa476",
   "metadata": {},
   "outputs": [
    {
     "data": {
      "text/plain": [
       "torch.Size([1, 3, 64, 64])"
      ]
     },
     "execution_count": 32,
     "metadata": {},
     "output_type": "execute_result"
    }
   ],
   "source": [
    "image.shape"
   ]
  },
  {
   "cell_type": "code",
   "execution_count": 33,
   "id": "7b9865be-9ccc-4de1-a539-158c9738d75b",
   "metadata": {},
   "outputs": [],
   "source": [
    "image=image.squeeze().permute(1,2,0)"
   ]
  },
  {
   "cell_type": "code",
   "execution_count": 34,
   "id": "e8fd6fcd-3543-4927-9bac-65801166a1fd",
   "metadata": {},
   "outputs": [],
   "source": [
    "import matplotlib.pyplot as plt"
   ]
  },
  {
   "cell_type": "code",
   "execution_count": 35,
   "id": "b5bac834-3b6f-47c8-80d1-63d195d154cd",
   "metadata": {},
   "outputs": [
    {
     "data": {
      "text/plain": [
       "<matplotlib.image.AxesImage at 0x1a280a1b6a0>"
      ]
     },
     "execution_count": 35,
     "metadata": {},
     "output_type": "execute_result"
    },
    {
     "data": {
      "image/png": "[encoded data removed]",
      "text/plain": [
       "<Figure size 640x480 with 1 Axes>"
      ]
     },
     "metadata": {},
     "output_type": "display_data"
    }
   ],
   "source": [
    "plt.imshow(image)"
   ]
  },
  {
   "cell_type": "code",
   "execution_count": 36,
   "id": "89a35e7b-5511-4ce1-a504-786bc0f31837",
   "metadata": {},
   "outputs": [],
   "source": [
    "trainload = DataLoader(data_train,batch_size=16,shuffle=True)"
   ]
  },
  {
   "cell_type": "code",
   "execution_count": 37,
   "id": "76890365-0e1f-4492-9862-c7306aaf1c1f",
   "metadata": {},
   "outputs": [],
   "source": [
    "class Net(nn.Module):\n",
    "    def __init__(self,num_classes):\n",
    "        super().__init__()\n",
    "        self.feature_extractor = nn.Sequential(nn.Conv2d(3,32, kernel_size=3, padding=1),\n",
    "                                              nn.ELU(),nn.MaxPool2d(kernel_size=2),\n",
    "                                              nn.Conv2d(32,64,kernel_size=3,padding=1),\n",
    "                                              nn.ELU(),nn.MaxPool2d(kernel_size=2),nn.Flatten())\n",
    "        self.classifier = nn.Linear(64*16*16,num_classes)\n",
    "\n",
    "    def forward(self,x):\n",
    "        x = self.feature_extractor(x)\n",
    "        x = self.classifier(x)\n",
    "        return(x)\n",
    "        "
   ]
  },
  {
   "cell_type": "code",
   "execution_count": 38,
   "id": "bb33e4df-a6f6-41e0-95d5-8f7bb87d469b",
   "metadata": {},
   "outputs": [],
   "source": [
    "net = Net(num_classes=7)\n",
    "from torch.optim import Adam\n",
    "crit = nn.CrossEntropyLoss()\n",
    "optimizer = Adam(net.parameters(),lr=0.001)\n",
    "from torchmetrics import Recall\n",
    "recall_metric = Recall(task='multiclass',num_classes=7,average='micro')"
   ]
  },
  {
   "cell_type": "code",
   "execution_count": 39,
   "id": "5fe49672-14c7-448f-8099-c92544fa5c4c",
   "metadata": {},
   "outputs": [
    {
     "name": "stdout",
     "output_type": "stream",
     "text": [
      "Epoch 0  loss is  1.7096736947695415\n",
      "Epoch  0 val loss is  tensor(1.4612)\n",
      "Epoch 0 recall is tensor(0.3745)\n",
      "Epoch 1  loss is  1.2774411956469218\n",
      "Epoch  1 val loss is  tensor(1.2531)\n",
      "Epoch 1 recall is tensor(0.4414)\n",
      "Epoch 2  loss is  1.365074243148168\n",
      "Epoch  2 val loss is  tensor(1.4519)\n",
      "Epoch 2 recall is tensor(0.4095)\n",
      "Epoch 3  loss is  1.2673391183217366\n",
      "Epoch  3 val loss is  tensor(1.1395)\n",
      "Epoch 3 recall is tensor(0.4522)\n",
      "Epoch 4  loss is  1.131753941377004\n",
      "Epoch  4 val loss is  tensor(1.0564)\n",
      "Epoch 4 recall is tensor(0.4790)\n",
      "Epoch 5  loss is  1.1196370194355647\n",
      "Epoch  5 val loss is  tensor(1.1421)\n",
      "Epoch 5 recall is tensor(0.4938)\n",
      "Epoch 6  loss is  1.0935423950354257\n",
      "Epoch  6 val loss is  tensor(1.1334)\n",
      "Epoch 6 recall is tensor(0.5053)\n",
      "Epoch 7  loss is  0.9155155340830485\n",
      "Epoch  7 val loss is  tensor(1.0213)\n",
      "Epoch 7 recall is tensor(0.5157)\n",
      "Epoch 8  loss is  1.0330271224180858\n",
      "Epoch  8 val loss is  tensor(1.5420)\n",
      "Epoch 8 recall is tensor(0.5087)\n",
      "Epoch 9  loss is  1.009452889362971\n",
      "Epoch  9 val loss is  tensor(1.0904)\n",
      "Epoch 9 recall is tensor(0.5128)\n"
     ]
    }
   ],
   "source": [
    "#Training loop\n",
    "for epoch in range(10):\n",
    "    running_loss = 0.0\n",
    "    valloss = 0.0\n",
    "    for images,labels in trainload:\n",
    "        optimizer.zero_grad()\n",
    "        pred = net(images)\n",
    "        loss = crit(pred,labels)\n",
    "        loss.backward()\n",
    "        optimizer.step()\n",
    "        running_loss = running_loss + loss.item()\n",
    "    print(\"Epoch\",epoch,\" loss is \",running_loss/len(trainload)) \n",
    "    net.eval()\n",
    "    with torch.no_grad():\n",
    "        for images,labels in testload:\n",
    "            outputs = net(images)\n",
    "            loss = crit(outputs,labels)\n",
    "            valloss = valloss + loss\n",
    "            _,pred = torch.max(outputs,1)\n",
    "            recall_metric(pred,labels)\n",
    "        recall = recall_metric.compute()\n",
    "        print(\"Epoch \",epoch, \"val loss is \",valloss/len(testload))\n",
    "        print(\"Epoch\", epoch,\"recall is\", recall)"
   ]
  },
  {
   "cell_type": "markdown",
   "id": "5d69280b-0257-4ec2-9bbd-1be4d85b7148",
   "metadata": {},
   "source": [
    "### Sequential Data\n",
    "* Sequential data is ordered data\n",
    "* Order of data points has dependencies within it\n",
    "* Do not split the data randomly for time series\n",
    "* The first thing you need to create is a sequence"
   ]
  },
  {
   "cell_type": "code",
   "execution_count": null,
   "id": "5cd1b33a-d907-4f9d-bf0c-5f57a9cb89dd",
   "metadata": {},
   "outputs": [],
   "source": []
  }
 ],
 "metadata": {
  "kernelspec": {
   "display_name": "Python 3 (ipykernel)",
   "language": "python",
   "name": "python3"
  },
  "language_info": {
   "codemirror_mode": {
    "name": "ipython",
    "version": 3
   },
   "file_extension": ".py",
   "mimetype": "text/x-python",
   "name": "python",
   "nbconvert_exporter": "python",
   "pygments_lexer": "ipython3",
   "version": "3.10.14"
  }
 },
 "nbformat": 4,
 "nbformat_minor": 5
}
