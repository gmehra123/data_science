{
 "cells": [
  {
   "cell_type": "markdown",
   "metadata": {
    "colab_type": "text",
    "id": "view-in-github"
   },
   "source": [
    "<a href=\"https://colab.research.google.com/github/gmehra123/data_science_projs/blob/main/Intermediate_deep_learning.ipynb\" target=\"_parent\"><img src=\"https://colab.research.google.com/assets/colab-badge.svg\" alt=\"Open In Colab\"/></a>"
   ]
  },
  {
   "cell_type": "markdown",
   "metadata": {
    "id": "yw6QQP8-53s9"
   },
   "source": [
    "### OOP in pytorch\n",
    "> OOP is a programming paradigm/method that encapsulates data and the abilities/methods that work on the data into one unit. Below is an example of a"
   ]
  },
  {
   "cell_type": "code",
   "execution_count": null,
   "metadata": {
    "id": "X5mgBdsAHDAR"
   },
   "outputs": [],
   "source": [
    "class Account:\n",
    "  def __init__(self,bal):\n",
    "    self.bal = bal\n",
    "\n",
    "  def deposit(self,dep):\n",
    "    self.bal+= dep\n"
   ]
  },
  {
   "cell_type": "code",
   "execution_count": null,
   "metadata": {
    "id": "UE8izfMio3zy"
   },
   "outputs": [],
   "source": []
  },
  {
   "cell_type": "code",
   "execution_count": null,
   "metadata": {
    "colab": {
     "base_uri": "https://localhost:8080/"
    },
    "id": "5EgD6hcCHdjd",
    "outputId": "7764420c-bf16-4c5a-c836-04567dc6a263"
   },
   "outputs": [
    {
     "data": {
      "text/plain": [
       "120"
      ]
     },
     "execution_count": 137,
     "metadata": {},
     "output_type": "execute_result"
    }
   ],
   "source": [
    "acc = Account(100)\n",
    "acc.deposit(20)\n",
    "acc.bal"
   ]
  },
  {
   "cell_type": "code",
   "execution_count": null,
   "metadata": {
    "id": "W_Wa3DRlHj-9"
   },
   "outputs": [],
   "source": []
  },
  {
   "cell_type": "code",
   "execution_count": null,
   "metadata": {
    "id": "E79F0acY5MLN"
   },
   "outputs": [],
   "source": [
    "import pandas as pd\n",
    "import torch.nn as nn\n",
    "from torch.utils.data import Dataset"
   ]
  },
  {
   "cell_type": "code",
   "execution_count": null,
   "metadata": {
    "id": "CmHs-RehRDeU"
   },
   "outputs": [],
   "source": [
    "class WaterDataset(Dataset):\n",
    "  def __init__(self,csv_path):\n",
    "    super().__init__()\n",
    "    data = pd.read_csv(csv_path)\n",
    "    self.data = data.to_numpy()\n",
    "\n",
    "  def __len__(self):\n",
    "    return self.data.shape[0]\n",
    "\n",
    "  def __getitem__(self,idx):\n",
    "    features = self.data[idx,:-1]\n",
    "    labels = self.data[idx,-1]\n",
    "    return features,labels"
   ]
  },
  {
   "cell_type": "code",
   "execution_count": null,
   "metadata": {
    "id": "JNiEPOnQSGv3"
   },
   "outputs": [],
   "source": [
    "water_data = WaterDataset('https://assets.datacamp.com/production/repositories/6193/datasets/fca5067912db2b2346f568ce806915450fe56b99/water_potability.csv')"
   ]
  },
  {
   "cell_type": "code",
   "execution_count": null,
   "metadata": {
    "id": "61DRVvmWYY3v"
   },
   "outputs": [],
   "source": [
    "from torch.utils.data import DataLoader"
   ]
  },
  {
   "cell_type": "code",
   "execution_count": null,
   "metadata": {
    "id": "K4-uiuWRYjnN"
   },
   "outputs": [],
   "source": [
    "dataloader = DataLoader(water_data,batch_size=2,shuffle=True)"
   ]
  },
  {
   "cell_type": "code",
   "execution_count": null,
   "metadata": {
    "colab": {
     "base_uri": "https://localhost:8080/"
    },
    "id": "pEAxZfFVYu5f",
    "outputId": "35469d28-8520-4136-9908-a27893fa32a0"
   },
   "outputs": [
    {
     "data": {
      "text/plain": [
       "[tensor([[0.6673, 0.4107, 0.1506, 0.6020, 0.6513, 0.7163, 0.5880, 0.8377, 0.6253],\n",
       "         [0.5011, 0.4301, 0.4543, 0.5195, 0.5226, 0.2205, 0.5727, 0.5249, 0.3902]],\n",
       "        dtype=torch.float64),\n",
       " tensor([0., 1.], dtype=torch.float64)]"
      ]
     },
     "execution_count": 8,
     "metadata": {},
     "output_type": "execute_result"
    }
   ],
   "source": [
    "next(iter(dataloader))"
   ]
  },
  {
   "cell_type": "code",
   "execution_count": null,
   "metadata": {
    "id": "9KzHDy-qY0o5"
   },
   "outputs": [],
   "source": [
    "class Net(nn.Module):\n",
    "  def __init__(self):\n",
    "    super(Net,self).__init__()\n",
    "    self.fc1 = nn.Linear(9,16)\n",
    "    self.fc2 = nn.Linear(16,8)\n",
    "    self.fc3 = nn.Linear(8,1)\n",
    "\n",
    "  def forward(self,x):\n",
    "    x = nn.functional.relu(self.fc1(x))\n",
    "    x = nn.functional.relu(self.fc2(x))\n",
    "    x = nn.functional.sigmoid(self.fc3(x))\n",
    "    return(x)"
   ]
  },
  {
   "cell_type": "code",
   "execution_count": null,
   "metadata": {
    "id": "ALVn05q_g0fw"
   },
   "outputs": [],
   "source": [
    "net = Net()\n",
    "from torch.optim import Adam"
   ]
  },
  {
   "cell_type": "code",
   "execution_count": null,
   "metadata": {
    "id": "lzAA1tF3bHap"
   },
   "outputs": [],
   "source": [
    "crit = nn.BCELoss()\n",
    "optimizer = Adam(net.parameters(),lr=0.001)"
   ]
  },
  {
   "cell_type": "code",
   "execution_count": null,
   "metadata": {
    "id": "MJvNvOWZxH3m"
   },
   "outputs": [],
   "source": [
    "def train_model(dataset,net,epochs=5):\n",
    "  crit = nn.BCELoss()\n",
    "  optimizer = Adam(net.parameters(),lr=0.001)\n",
    "  trainset,valset = torch.utils.data.random_split(dataset,[0.8,0.2])\n",
    "  trainload = DataLoader(dataset,batch_size=3,shuffle=True)\n",
    "  for epochs in range(epochs):\n",
    "    for features,labels in trainload:\n",
    "      optimizer.zero_grad()\n",
    "      preds = net(features.float())\n",
    "      loss = crit(preds,labels.reshape(-1,1))\n",
    "      loss.backward()\n",
    "      optimizer.step()\n"
   ]
  },
  {
   "cell_type": "code",
   "execution_count": null,
   "metadata": {
    "id": "moDBntCiaN5H"
   },
   "outputs": [],
   "source": [
    "from torch.utils.data import random_split"
   ]
  },
  {
   "cell_type": "code",
   "execution_count": null,
   "metadata": {
    "id": "88tTCp-_aaAf"
   },
   "outputs": [],
   "source": [
    "feat,labels=next(iter(dataloader))"
   ]
  },
  {
   "cell_type": "code",
   "execution_count": null,
   "metadata": {
    "id": "zHB4B3Q3cyqy"
   },
   "outputs": [],
   "source": [
    "pred= net(feat.float())"
   ]
  },
  {
   "cell_type": "code",
   "execution_count": null,
   "metadata": {
    "id": "dhD29K7xdnSA"
   },
   "outputs": [],
   "source": [
    "labels=labels.float()"
   ]
  },
  {
   "cell_type": "code",
   "execution_count": null,
   "metadata": {
    "colab": {
     "base_uri": "https://localhost:8080/"
    },
    "id": "HOAzBSzceeM8",
    "outputId": "aa2a68a6-c8b2-45ab-f506-c3d12ea491ea"
   },
   "outputs": [
    {
     "data": {
      "text/plain": [
       "tensor(0.6968, grad_fn=<BinaryCrossEntropyBackward0>)"
      ]
     },
     "execution_count": 16,
     "metadata": {},
     "output_type": "execute_result"
    }
   ],
   "source": [
    "crit(pred,labels.reshape(-1,1))"
   ]
  },
  {
   "cell_type": "code",
   "execution_count": null,
   "metadata": {
    "colab": {
     "base_uri": "https://localhost:8080/"
    },
    "id": "cWLt2sbXd0ii",
    "outputId": "d53d49f2-511c-4c62-b164-19479405c94a"
   },
   "outputs": [
    {
     "data": {
      "text/plain": [
       "torch.Size([2, 1])"
      ]
     },
     "execution_count": 17,
     "metadata": {},
     "output_type": "execute_result"
    }
   ],
   "source": [
    "pred.shape"
   ]
  },
  {
   "cell_type": "code",
   "execution_count": null,
   "metadata": {
    "colab": {
     "base_uri": "https://localhost:8080/"
    },
    "id": "vfLlkoYdd35W",
    "outputId": "2ca31524-89a1-4d07-bd10-1f30d71917da"
   },
   "outputs": [
    {
     "data": {
      "text/plain": [
       "torch.Size([2, 1])"
      ]
     },
     "execution_count": 18,
     "metadata": {},
     "output_type": "execute_result"
    }
   ],
   "source": [
    "labels.reshape(-1,1).shape"
   ]
  },
  {
   "cell_type": "code",
   "execution_count": null,
   "metadata": {
    "colab": {
     "base_uri": "https://localhost:8080/"
    },
    "id": "z-CaujT-jTyW",
    "outputId": "9ce21c29-9d3d-4c22-9be7-d82a4b04725f"
   },
   "outputs": [
    {
     "name": "stdout",
     "output_type": "stream",
     "text": [
      "Collecting torchmetrics\n",
      "  Downloading torchmetrics-1.3.2-py3-none-any.whl (841 kB)\n",
      "\u001b[2K     \u001b[90m━━━━━━━━━━━━━━━━━━━━━━━━━━━━━━━━━━━━━━━━\u001b[0m \u001b[32m841.5/841.5 kB\u001b[0m \u001b[31m8.0 MB/s\u001b[0m eta \u001b[36m0:00:00\u001b[0m\n",
      "\u001b[?25hRequirement already satisfied: numpy>1.20.0 in /usr/local/lib/python3.10/dist-packages (from torchmetrics) (1.25.2)\n",
      "Requirement already satisfied: packaging>17.1 in /usr/local/lib/python3.10/dist-packages (from torchmetrics) (24.0)\n",
      "Requirement already satisfied: torch>=1.10.0 in /usr/local/lib/python3.10/dist-packages (from torchmetrics) (2.2.1+cu121)\n",
      "Collecting lightning-utilities>=0.8.0 (from torchmetrics)\n",
      "  Downloading lightning_utilities-0.11.2-py3-none-any.whl (26 kB)\n",
      "Requirement already satisfied: setuptools in /usr/local/lib/python3.10/dist-packages (from lightning-utilities>=0.8.0->torchmetrics) (67.7.2)\n",
      "Requirement already satisfied: typing-extensions in /usr/local/lib/python3.10/dist-packages (from lightning-utilities>=0.8.0->torchmetrics) (4.11.0)\n",
      "Requirement already satisfied: filelock in /usr/local/lib/python3.10/dist-packages (from torch>=1.10.0->torchmetrics) (3.13.4)\n",
      "Requirement already satisfied: sympy in /usr/local/lib/python3.10/dist-packages (from torch>=1.10.0->torchmetrics) (1.12)\n",
      "Requirement already satisfied: networkx in /usr/local/lib/python3.10/dist-packages (from torch>=1.10.0->torchmetrics) (3.3)\n",
      "Requirement already satisfied: jinja2 in /usr/local/lib/python3.10/dist-packages (from torch>=1.10.0->torchmetrics) (3.1.3)\n",
      "Requirement already satisfied: fsspec in /usr/local/lib/python3.10/dist-packages (from torch>=1.10.0->torchmetrics) (2023.6.0)\n",
      "Collecting nvidia-cuda-nvrtc-cu12==12.1.105 (from torch>=1.10.0->torchmetrics)\n",
      "  Using cached nvidia_cuda_nvrtc_cu12-12.1.105-py3-none-manylinux1_x86_64.whl (23.7 MB)\n",
      "Collecting nvidia-cuda-runtime-cu12==12.1.105 (from torch>=1.10.0->torchmetrics)\n",
      "  Using cached nvidia_cuda_runtime_cu12-12.1.105-py3-none-manylinux1_x86_64.whl (823 kB)\n",
      "Collecting nvidia-cuda-cupti-cu12==12.1.105 (from torch>=1.10.0->torchmetrics)\n",
      "  Using cached nvidia_cuda_cupti_cu12-12.1.105-py3-none-manylinux1_x86_64.whl (14.1 MB)\n",
      "Collecting nvidia-cudnn-cu12==8.9.2.26 (from torch>=1.10.0->torchmetrics)\n",
      "  Using cached nvidia_cudnn_cu12-8.9.2.26-py3-none-manylinux1_x86_64.whl (731.7 MB)\n",
      "Collecting nvidia-cublas-cu12==12.1.3.1 (from torch>=1.10.0->torchmetrics)\n",
      "  Using cached nvidia_cublas_cu12-12.1.3.1-py3-none-manylinux1_x86_64.whl (410.6 MB)\n",
      "Collecting nvidia-cufft-cu12==11.0.2.54 (from torch>=1.10.0->torchmetrics)\n",
      "  Using cached nvidia_cufft_cu12-11.0.2.54-py3-none-manylinux1_x86_64.whl (121.6 MB)\n",
      "Collecting nvidia-curand-cu12==10.3.2.106 (from torch>=1.10.0->torchmetrics)\n",
      "  Using cached nvidia_curand_cu12-10.3.2.106-py3-none-manylinux1_x86_64.whl (56.5 MB)\n",
      "Collecting nvidia-cusolver-cu12==11.4.5.107 (from torch>=1.10.0->torchmetrics)\n",
      "  Using cached nvidia_cusolver_cu12-11.4.5.107-py3-none-manylinux1_x86_64.whl (124.2 MB)\n",
      "Collecting nvidia-cusparse-cu12==12.1.0.106 (from torch>=1.10.0->torchmetrics)\n",
      "  Using cached nvidia_cusparse_cu12-12.1.0.106-py3-none-manylinux1_x86_64.whl (196.0 MB)\n",
      "Collecting nvidia-nccl-cu12==2.19.3 (from torch>=1.10.0->torchmetrics)\n",
      "  Using cached nvidia_nccl_cu12-2.19.3-py3-none-manylinux1_x86_64.whl (166.0 MB)\n",
      "Collecting nvidia-nvtx-cu12==12.1.105 (from torch>=1.10.0->torchmetrics)\n",
      "  Using cached nvidia_nvtx_cu12-12.1.105-py3-none-manylinux1_x86_64.whl (99 kB)\n",
      "Requirement already satisfied: triton==2.2.0 in /usr/local/lib/python3.10/dist-packages (from torch>=1.10.0->torchmetrics) (2.2.0)\n",
      "Collecting nvidia-nvjitlink-cu12 (from nvidia-cusolver-cu12==11.4.5.107->torch>=1.10.0->torchmetrics)\n",
      "  Using cached nvidia_nvjitlink_cu12-12.4.127-py3-none-manylinux2014_x86_64.whl (21.1 MB)\n",
      "Requirement already satisfied: MarkupSafe>=2.0 in /usr/local/lib/python3.10/dist-packages (from jinja2->torch>=1.10.0->torchmetrics) (2.1.5)\n",
      "Requirement already satisfied: mpmath>=0.19 in /usr/local/lib/python3.10/dist-packages (from sympy->torch>=1.10.0->torchmetrics) (1.3.0)\n",
      "Installing collected packages: nvidia-nvtx-cu12, nvidia-nvjitlink-cu12, nvidia-nccl-cu12, nvidia-curand-cu12, nvidia-cufft-cu12, nvidia-cuda-runtime-cu12, nvidia-cuda-nvrtc-cu12, nvidia-cuda-cupti-cu12, nvidia-cublas-cu12, lightning-utilities, nvidia-cusparse-cu12, nvidia-cudnn-cu12, nvidia-cusolver-cu12, torchmetrics\n",
      "Successfully installed lightning-utilities-0.11.2 nvidia-cublas-cu12-12.1.3.1 nvidia-cuda-cupti-cu12-12.1.105 nvidia-cuda-nvrtc-cu12-12.1.105 nvidia-cuda-runtime-cu12-12.1.105 nvidia-cudnn-cu12-8.9.2.26 nvidia-cufft-cu12-11.0.2.54 nvidia-curand-cu12-10.3.2.106 nvidia-cusolver-cu12-11.4.5.107 nvidia-cusparse-cu12-12.1.0.106 nvidia-nccl-cu12-2.19.3 nvidia-nvjitlink-cu12-12.4.127 nvidia-nvtx-cu12-12.1.105 torchmetrics-1.3.2\n"
     ]
    }
   ],
   "source": [
    "!pip install torchmetrics"
   ]
  },
  {
   "cell_type": "code",
   "execution_count": null,
   "metadata": {
    "id": "uA-tCmtog036"
   },
   "outputs": [],
   "source": [
    "from torchmetrics import Accuracy"
   ]
  },
  {
   "cell_type": "code",
   "execution_count": null,
   "metadata": {
    "id": "eqZPde30kAOD"
   },
   "outputs": [],
   "source": [
    "acc =Accuracy(task='binary')"
   ]
  },
  {
   "cell_type": "code",
   "execution_count": null,
   "metadata": {
    "id": "O77TYsaYYHi0"
   },
   "outputs": [],
   "source": [
    "import torch"
   ]
  },
  {
   "cell_type": "code",
   "execution_count": null,
   "metadata": {
    "colab": {
     "base_uri": "https://localhost:8080/"
    },
    "id": "W9VWLjZtfe_x",
    "outputId": "a84add5a-2e78-4d40-835c-e194cf0f5481"
   },
   "outputs": [
    {
     "name": "stdout",
     "output_type": "stream",
     "text": [
      "Test Accuracy 0:  tensor(0.6194)\n",
      "Test Accuracy 1:  tensor(0.6194)\n",
      "Test Accuracy 2:  tensor(0.6194)\n",
      "Test Accuracy 3:  tensor(0.6194)\n",
      "Test Accuracy 4:  tensor(0.6194)\n",
      "Test Accuracy 5:  tensor(0.6194)\n",
      "Test Accuracy 6:  tensor(0.6194)\n",
      "Test Accuracy 7:  tensor(0.6194)\n",
      "Test Accuracy 8:  tensor(0.6194)\n",
      "Test Accuracy 9:  tensor(0.6194)\n"
     ]
    }
   ],
   "source": [
    "crit = nn.BCELoss()\n",
    "optimizer = Adam(net.parameters(),lr=0.001)\n",
    "trainset,valset = random_split(water_data,[0.8,0.2])\n",
    "trainload = DataLoader(trainset,batch_size=3,shuffle=True)\n",
    "valload = DataLoader(valset,batch_size=3,shuffle=True)\n",
    "for epochs in range(10):\n",
    "  for features,labels in trainload:\n",
    "    optimizer.zero_grad()\n",
    "    preds = net(features.float())\n",
    "    labels = labels.float()\n",
    "    loss = crit(preds,labels.reshape(-1,1))\n",
    "    loss.backward()\n",
    "    optimizer.step()\n",
    "\n",
    "  net.eval()\n",
    "\n",
    "  with torch.no_grad():\n",
    "    for features,labels in valload:\n",
    "      output = net(features.float())\n",
    "      preds = (output>=0.5).float()\n",
    "      acc(preds,labels.reshape(-1,1))\n",
    "\n",
    "  test_acc_epoch = acc.compute()\n",
    "  print(\"Test Accuracy {}: \".format(epochs),acc.compute())\n",
    "  net.train()\n"
   ]
  },
  {
   "cell_type": "code",
   "execution_count": null,
   "metadata": {
    "colab": {
     "base_uri": "https://localhost:8080/"
    },
    "id": "JTcr39IRhVaF",
    "outputId": "6ed80bb6-81f0-4a76-a480-fc39808d50a2"
   },
   "outputs": [
    {
     "data": {
      "text/plain": [
       "torch.float32"
      ]
     },
     "execution_count": 24,
     "metadata": {},
     "output_type": "execute_result"
    }
   ],
   "source": [
    "net.fc1.weight.dtype\n",
    "net.fc2.weight.dtype"
   ]
  },
  {
   "cell_type": "code",
   "execution_count": null,
   "metadata": {
    "colab": {
     "base_uri": "https://localhost:8080/"
    },
    "id": "j8qnl1VBiF7d",
    "outputId": "ebe81356-8312-40df-c5c6-3484dcee0208"
   },
   "outputs": [
    {
     "data": {
      "text/plain": [
       "torch.float64"
      ]
     },
     "execution_count": 25,
     "metadata": {},
     "output_type": "execute_result"
    }
   ],
   "source": [
    "features.dtype"
   ]
  },
  {
   "cell_type": "markdown",
   "metadata": {
    "id": "3SjaOQQ4Y9Gx"
   },
   "source": [
    "### Vanishing and Exploding gradients\n",
    "* Neural networks suffer from unstable gradients during training. In some cases this leads to vanishing gradients as eralier layers do not get any updates.\n",
    "* In other cases the opposite may happen as the gradients may explode\n",
    "> To solve this problem we use a 3 step approach\n",
    "> * **Proper weights intilization**. Good initialization ensures that the variance of a layers outputs is equal to the variance of its inputs. Variance of the gradients before and after a layer should also be the same. If you use RELU use *he-kaiming* initialization\n",
    "> * **Appropriate activation functions** ReLU has a dying neuron problem. The elu activation function takes care of this to a large extent\n",
    "> * **Batch Normalization** Is very similar to standardization but applied between layers"
   ]
  },
  {
   "cell_type": "code",
   "execution_count": null,
   "metadata": {
    "id": "KZPBvCWecc47"
   },
   "outputs": [],
   "source": [
    "import torch.nn.init as init\n",
    "import torch.nn as nn\n",
    "from torch.utils.data import Dataset,DataLoader\n",
    "from torch.optim import Adam"
   ]
  },
  {
   "cell_type": "code",
   "execution_count": null,
   "metadata": {
    "id": "CPYZ3-_fcokK"
   },
   "outputs": [],
   "source": [
    "class WaterData(Dataset):\n",
    "  def __init__(self,path):\n",
    "    super().__init__()\n",
    "    data = pd.read_csv(path)\n",
    "    self.y = data['Potability'].to_numpy()\n",
    "    self.X = data.drop(columns='Potability').to_numpy()\n",
    "\n",
    "  def __len__(self):\n",
    "    return len(self.y)\n",
    "\n",
    "  def __getitem__(self,idx):\n",
    "    features = self.X[idx]\n",
    "    labels = self.y[idx]\n",
    "    return features,labels"
   ]
  },
  {
   "cell_type": "code",
   "execution_count": null,
   "metadata": {
    "id": "sJ68NKKPmwnV"
   },
   "outputs": [],
   "source": [
    "class Model(nn.Module):\n",
    "  def __init__(self):\n",
    "    super(Model,self).__init__()\n",
    "    self.fc1 = nn.Linear(9,12)\n",
    "    self.bn1 = nn.BatchNorm1d(12)\n",
    "    self.fc2 = nn.Linear(12,10)\n",
    "    self.bn2 = nn.BatchNorm1d(10)\n",
    "    self.fc3 = nn.Linear(10,1)\n",
    "\n",
    "    init.kaiming_uniform_(self.fc1.weight)\n",
    "    init.kaiming_uniform_(self.fc2.weight)\n",
    "    init.kaiming_uniform_(self.fc3.weight,nonlinearity=\"sigmoid\")\n",
    "\n",
    "  def forward(self,x):\n",
    "    x = self.fc1(x)\n",
    "    x = self.bn1(x)\n",
    "    x = nn.functional.relu(x)\n",
    "    x = self.fc2(x)\n",
    "    x = nn.functional.relu(x)\n",
    "    #x = self.bn2(x)\n",
    "    x = self.fc3(x)\n",
    "    x = nn.functional.sigmoid(x)\n",
    "    return(x)"
   ]
  },
  {
   "cell_type": "code",
   "execution_count": null,
   "metadata": {
    "id": "POl8hoH93627"
   },
   "outputs": [],
   "source": []
  },
  {
   "cell_type": "code",
   "execution_count": null,
   "metadata": {
    "id": "00qgySmHijMc"
   },
   "outputs": [],
   "source": [
    "from torch.utils.data import random_split"
   ]
  },
  {
   "cell_type": "code",
   "execution_count": null,
   "metadata": {
    "id": "GbFBLxoqwjj1"
   },
   "outputs": [],
   "source": [
    "net = Model()"
   ]
  },
  {
   "cell_type": "code",
   "execution_count": null,
   "metadata": {
    "id": "AtafZ8hhijQF"
   },
   "outputs": [],
   "source": [
    "water = WaterData('https://assets.datacamp.com/production/repositories/6193/datasets/fca5067912db2b2346f568ce806915450fe56b99/water_potability.csv')"
   ]
  },
  {
   "cell_type": "code",
   "execution_count": null,
   "metadata": {
    "id": "1Fn2YU-iwqMh"
   },
   "outputs": [],
   "source": [
    "trainset,valset = random_split(water,[0.8,0.2])"
   ]
  },
  {
   "cell_type": "code",
   "execution_count": null,
   "metadata": {
    "id": "X4A5Zh4bkyo1"
   },
   "outputs": [],
   "source": [
    "trainload = DataLoader(trainset,batch_size=5,shuffle=True)\n",
    "valload = DataLoader(valset,batch_size=5,shuffle=True)"
   ]
  },
  {
   "cell_type": "code",
   "execution_count": null,
   "metadata": {
    "id": "iDfX-CbVil1u"
   },
   "outputs": [],
   "source": [
    "feat,label=next(iter(trainload))"
   ]
  },
  {
   "cell_type": "code",
   "execution_count": null,
   "metadata": {
    "colab": {
     "base_uri": "https://localhost:8080/"
    },
    "id": "R2-8j6NIz0DA",
    "outputId": "4dc75786-1d55-4d80-d249-9bf7f0f72a9c"
   },
   "outputs": [
    {
     "name": "stdout",
     "output_type": "stream",
     "text": [
      "0.021751023828983307\n",
      "0.021609120070934296\n",
      "0.021468661725521088\n",
      "0.021329661831259727\n",
      "0.02119210734963417\n",
      "0.021055951714515686\n",
      "0.020921174436807632\n",
      "0.020787760615348816\n",
      "0.02065572515130043\n",
      "0.020525000989437103\n",
      "0.020395588129758835\n",
      "0.020267488434910774\n",
      "0.020140668377280235\n",
      "0.020015103742480278\n",
      "0.019890785217285156\n",
      "0.01976771280169487\n",
      "0.019645828753709793\n",
      "0.01952514424920082\n",
      "0.019405653700232506\n",
      "0.019287321716547012\n",
      "0.0191701240837574\n",
      "0.019054073840379715\n",
      "0.018939144909381866\n",
      "0.018825318664312363\n",
      "0.01871257834136486\n",
      "0.018600905314087868\n",
      "0.018490303307771683\n",
      "0.018380772322416306\n",
      "0.018272235989570618\n",
      "0.0181647390127182\n",
      "0.018058253452181816\n",
      "0.017952758818864822\n",
      "0.01784825325012207\n",
      "0.01774471625685692\n",
      "0.017642129212617874\n",
      "0.017540495842695236\n",
      "0.01743979938328266\n",
      "0.01734001748263836\n",
      "0.017241140827536583\n",
      "0.017143193632364273\n",
      "0.017046108841896057\n",
      "0.016949914395809174\n",
      "0.016854584217071533\n",
      "0.01676008850336075\n",
      "0.016666464507579803\n",
      "0.016573671251535416\n",
      "0.01648169942200184\n",
      "0.016390550881624222\n",
      "0.016300201416015625\n",
      "0.016210641711950302\n",
      "0.016121871769428253\n",
      "0.016033872961997986\n",
      "0.015946656465530396\n",
      "0.01586020365357399\n",
      "0.015774473547935486\n",
      "0.015689510852098465\n",
      "0.015605263411998749\n",
      "0.015521742403507233\n",
      "0.01543893851339817\n",
      "0.015356832183897495\n",
      "0.01527542807161808\n",
      "0.015194715932011604\n",
      "0.015114703215658665\n",
      "0.01503534335643053\n",
      "0.014956649392843246\n",
      "0.014878612011671066\n",
      "0.014801235869526863\n",
      "0.014724494889378548\n",
      "0.014648396521806717\n",
      "0.014572917483747005\n",
      "0.01449807919561863\n",
      "0.01442384161055088\n",
      "0.01435021497309208\n",
      "0.014277195557951927\n",
      "0.014204759150743484\n",
      "0.014132918789982796\n",
      "0.01406165398657322\n",
      "0.013990970328450203\n",
      "0.013920851051807404\n",
      "0.01385129801928997\n",
      "0.013782300055027008\n",
      "0.013713846914470196\n",
      "0.013645945116877556\n",
      "0.013578580692410469\n",
      "0.013511733151972294\n",
      "0.013445429503917694\n",
      "0.013379634357988834\n",
      "0.01331436075270176\n",
      "0.013249590992927551\n",
      "0.013185332529246807\n",
      "0.013121571391820908\n",
      "0.01305830106139183\n",
      "0.0129955243319273\n",
      "0.012933220714330673\n",
      "0.012871400453150272\n",
      "0.012810057029128075\n",
      "0.012749184854328632\n",
      "0.012688764370977879\n",
      "0.01262880489230156\n",
      "0.01256929524242878\n",
      "0.012510240077972412\n",
      "0.012451622635126114\n",
      "0.012393460609018803\n",
      "0.01233571209013462\n",
      "0.012278405018150806\n",
      "0.012221526354551315\n",
      "0.012165073305368423\n",
      "0.012109027244150639\n",
      "0.01205340027809143\n",
      "0.011998177506029606\n",
      "0.011943353340029716\n",
      "0.011888943612575531\n",
      "0.011834916658699512\n",
      "0.011781291104853153\n",
      "0.011728055775165558\n",
      "0.011675208806991577\n",
      "0.011622737161815166\n",
      "0.011570639908313751\n",
      "0.011518917977809906\n",
      "0.01146756298840046\n",
      "0.011416583321988583\n",
      "0.011365963146090508\n",
      "0.011315682902932167\n",
      "0.011265786364674568\n",
      "0.011216225102543831\n",
      "0.011167015880346298\n",
      "0.011118153110146523\n",
      "0.011069634929299355\n",
      "0.011021453887224197\n",
      "0.010973608121275902\n",
      "0.010926089249551296\n",
      "0.010878907516598701\n",
      "0.010832037776708603\n",
      "0.010785498656332493\n",
      "0.010739283636212349\n",
      "0.01069338247179985\n",
      "0.010647792369127274\n",
      "0.010602517053484917\n",
      "0.010557550005614758\n",
      "0.010512880980968475\n",
      "0.010468527674674988\n",
      "0.010424451902508736\n",
      "0.010380689054727554\n",
      "0.010337220504879951\n",
      "0.010294035077095032\n",
      "0.010251141153275967\n",
      "0.010208530351519585\n",
      "0.010166201740503311\n",
      "0.010124152526259422\n",
      "0.010082384571433067\n",
      "0.010040891356766224\n",
      "0.009999671950936317\n",
      "0.009958725422620773\n",
      "0.00991804525256157\n",
      "0.009877625852823257\n",
      "0.009837480261921883\n",
      "0.009797578677535057\n",
      "0.00975794903934002\n",
      "0.009718566201627254\n",
      "0.009679444134235382\n",
      "0.009640570729970932\n",
      "0.009601940400898457\n",
      "0.009563569910824299\n",
      "0.00952543318271637\n",
      "0.009487539529800415\n",
      "0.009449908509850502\n",
      "0.009412489831447601\n",
      "0.009375328198075294\n",
      "0.009338385425508022\n",
      "0.009301681071519852\n",
      "0.009265214204788208\n",
      "0.009228966198861599\n",
      "0.009192939847707748\n",
      "0.00915715005248785\n",
      "0.009121580049395561\n",
      "0.00908622145652771\n",
      "0.009051084518432617\n",
      "0.009016165509819984\n",
      "0.008981462568044662\n",
      "0.008946970105171204\n",
      "0.00891268253326416\n",
      "0.008878622204065323\n",
      "0.008844754658639431\n",
      "0.008811095729470253\n",
      "0.008777635172009468\n",
      "0.008744385093450546\n",
      "0.008711334317922592\n",
      "0.008678480982780457\n",
      "0.008645826950669289\n",
      "0.00861337035894394\n",
      "0.008581136353313923\n",
      "0.008549031801521778\n",
      "0.008517158217728138\n",
      "0.008485471829771996\n",
      "0.008453969843685627\n",
      "0.008422653190791607\n",
      "0.00839152280241251\n",
      "0.008360577747225761\n",
      "0.008329808712005615\n",
      "0.008299227803945541\n"
     ]
    }
   ],
   "source": [
    "for i in range(200):\n",
    "  optimizer.zero_grad()\n",
    "  preds = net(features.float())\n",
    "  labels = labels.float()\n",
    "  loss = crit(preds,labels.reshape(-1,1))\n",
    "  print(loss.item())\n",
    "  loss.backward()\n",
    "  optimizer.step()"
   ]
  },
  {
   "cell_type": "code",
   "execution_count": null,
   "metadata": {
    "id": "6i0ZlTpSkDe1"
   },
   "outputs": [],
   "source": [
    "crit=nn.BCELoss()"
   ]
  },
  {
   "cell_type": "code",
   "execution_count": null,
   "metadata": {
    "colab": {
     "base_uri": "https://localhost:8080/"
    },
    "id": "hK7CXWmpkq0g",
    "outputId": "a5bdbd95-1d44-4b6d-e6e2-15e1b6c3ce3c"
   },
   "outputs": [
    {
     "name": "stdout",
     "output_type": "stream",
     "text": [
      "Test Accuracy 0:  tensor(0.6172)\n",
      "Test Accuracy 1:  tensor(0.6180)\n",
      "Test Accuracy 2:  tensor(0.6183)\n",
      "Test Accuracy 3:  tensor(0.6189)\n",
      "Test Accuracy 4:  tensor(0.6195)\n",
      "Test Accuracy 5:  tensor(0.6195)\n",
      "Test Accuracy 6:  tensor(0.6198)\n",
      "Test Accuracy 7:  tensor(0.6205)\n",
      "Test Accuracy 8:  tensor(0.6214)\n",
      "Test Accuracy 9:  tensor(0.6222)\n"
     ]
    }
   ],
   "source": [
    "crit = nn.BCELoss()\n",
    "optimizer = Adam(net.parameters(),lr=0.001)\n",
    "for epochs in range(10):\n",
    "  for features,labels in trainload:\n",
    "    optimizer.zero_grad()\n",
    "    preds = net(features.float())\n",
    "    labels = labels.float()\n",
    "    loss = crit(preds,labels.reshape(-1,1))\n",
    "    loss.backward()\n",
    "    optimizer.step()\n",
    "\n",
    "  net.eval()\n",
    "\n",
    "  with torch.no_grad():\n",
    "    for features,labels in valload:\n",
    "      output = net(features.float())\n",
    "      preds = (output>=0.5).float()\n",
    "      acc(preds,labels.reshape(-1,1))\n",
    "\n",
    "  test_acc_epoch = acc.compute()\n",
    "  print(\"Test Accuracy {}: \".format(epochs),acc.compute())\n",
    "  net.train()"
   ]
  },
  {
   "cell_type": "code",
   "execution_count": null,
   "metadata": {
    "id": "BkN7lFUoyocS"
   },
   "outputs": [],
   "source": [
    "data = pd.read_csv('https://assets.datacamp.com/production/repositories/6193/datasets/fca5067912db2b2346f568ce806915450fe56b99/water_potability.csv')"
   ]
  },
  {
   "cell_type": "code",
   "execution_count": null,
   "metadata": {
    "colab": {
     "base_uri": "https://localhost:8080/"
    },
    "id": "HBMq1vl1y0Yg",
    "outputId": "b80d6024-6cb0-4e96-c139-fe5444377bb3"
   },
   "outputs": [
    {
     "data": {
      "text/plain": [
       "Potability\n",
       "0    0.596718\n",
       "1    0.403282\n",
       "Name: proportion, dtype: float64"
      ]
     },
     "execution_count": 40,
     "metadata": {},
     "output_type": "execute_result"
    }
   ],
   "source": [
    "net()"
   ]
  },
  {
   "cell_type": "markdown",
   "metadata": {
    "id": "04VhgPBmo7ui"
   },
   "source": [
    "### Deep Learning with image data\n",
    "* Digital images are comprised of pixels or picture elements. It is a tiny sqaure\n",
    "* In gray scale each pixel represents 1 number between 0-255 representing all shades of grey\n",
    "* In color images each pixel is described by a set of 3 numbers representing the intensity of red,green and blue (RGB)\n",
    "* Folder structure for image processing\n",
    "  * Train Folder\n",
    "    * category 1 folder\n",
    "    * category 2 folder\n",
    "    * category n folder\n",
    "  * Test folder\n",
    "    * category 1 folder\n",
    "    * category 2 folder\n",
    "    * category 3 folder"
   ]
  },
  {
   "cell_type": "markdown",
   "metadata": {
    "id": "-R2B8Ct907UT"
   },
   "source": [
    "### Convolutional neural networks\n",
    "* A 256X256 image will have over 65K model inputs\n",
    "* If the next layer is a 1000 neurons then the number of parameters quickly explodes to 65 million.\n",
    "* if the image is color then you could end up with 200 million (65M X 3) parameters\n",
    "* Poor at recognizing spatial patterns\n",
    "* Parameters are collected in small grids called filters\n",
    "* Perform convolution to create a feature map\n",
    "* A feature map preserves spatial patterns and uses fewer inputs than a linear layer\n",
    "* We can use several feature maps and apply activations to each feature map\n",
    "* CNN network has\n",
    "  * Feature extractor-: Convolution, Activation, Pooling"
   ]
  },
  {
   "cell_type": "code",
   "execution_count": null,
   "metadata": {
    "id": "WZRuJRtwo6jL"
   },
   "outputs": [],
   "source": [
    "from torchvision.datasets import ImageFolder\n",
    "from torchvision import transforms"
   ]
  },
  {
   "cell_type": "code",
   "execution_count": null,
   "metadata": {
    "colab": {
     "base_uri": "https://localhost:8080/",
     "height": 158
    },
    "id": "q-BWZogOrEwl",
    "outputId": "f4ac8a2d-8f85-4183-e86f-761355800262"
   },
   "outputs": [
    {
     "ename": "NameError",
     "evalue": "name 'path' is not defined",
     "output_type": "error",
     "traceback": [
      "\u001b[0;31m---------------------------------------------------------------------------\u001b[0m",
      "\u001b[0;31mNameError\u001b[0m                                 Traceback (most recent call last)",
      "\u001b[0;32m<ipython-input-5-1f9707309d60>\u001b[0m in \u001b[0;36m<cell line: 2>\u001b[0;34m()\u001b[0m\n\u001b[1;32m      1\u001b[0m \u001b[0mtrain_transforms\u001b[0m \u001b[0;34m=\u001b[0m \u001b[0mtransforms\u001b[0m\u001b[0;34m.\u001b[0m\u001b[0mCompose\u001b[0m\u001b[0;34m(\u001b[0m\u001b[0;34m[\u001b[0m\u001b[0mtransforms\u001b[0m\u001b[0;34m.\u001b[0m\u001b[0mToTensor\u001b[0m\u001b[0;34m(\u001b[0m\u001b[0;34m)\u001b[0m\u001b[0;34m,\u001b[0m\u001b[0mtransforms\u001b[0m\u001b[0;34m.\u001b[0m\u001b[0mResize\u001b[0m\u001b[0;34m(\u001b[0m\u001b[0;34m(\u001b[0m\u001b[0;36m128\u001b[0m\u001b[0;34m,\u001b[0m\u001b[0;36m128\u001b[0m\u001b[0;34m)\u001b[0m\u001b[0;34m)\u001b[0m\u001b[0;34m]\u001b[0m\u001b[0;34m)\u001b[0m\u001b[0;34m\u001b[0m\u001b[0;34m\u001b[0m\u001b[0m\n\u001b[0;32m----> 2\u001b[0;31m \u001b[0mdatatrain\u001b[0m \u001b[0;34m=\u001b[0m \u001b[0mImageFolder\u001b[0m\u001b[0;34m(\u001b[0m\u001b[0mpath\u001b[0m\u001b[0;34m,\u001b[0m\u001b[0mtransform\u001b[0m\u001b[0;34m=\u001b[0m\u001b[0mtrain_transforms\u001b[0m\u001b[0;34m)\u001b[0m\u001b[0;34m\u001b[0m\u001b[0;34m\u001b[0m\u001b[0m\n\u001b[0m",
      "\u001b[0;31mNameError\u001b[0m: name 'path' is not defined"
     ]
    }
   ],
   "source": [
    "train_transforms = transforms.Compose([transforms.ToTensor(),transforms.Resize((128,128))])\n",
    "datatrain = ImageFolder(path,transform=train_transforms)"
   ]
  }
 ],
 "metadata": {
  "colab": {
   "authorship_tag": "ABX9TyMXvrNReocf0dsE2QVqCAcE",
   "include_colab_link": true,
   "mount_file_id": "1zuwl7kRrg4ERdMjU1DcSVT2U5ITGq-UX",
   "provenance": []
  },
  "kernelspec": {
   "display_name": "Python 3 (ipykernel)",
   "language": "python",
   "name": "python3"
  },
  "language_info": {
   "codemirror_mode": {
    "name": "ipython",
    "version": 3
   },
   "file_extension": ".py",
   "mimetype": "text/x-python",
   "name": "python",
   "nbconvert_exporter": "python",
   "pygments_lexer": "ipython3",
   "version": "3.10.14"
  }
 },
 "nbformat": 4,
 "nbformat_minor": 4
}
