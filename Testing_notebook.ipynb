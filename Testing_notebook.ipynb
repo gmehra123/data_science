{
  "nbformat": 4,
  "nbformat_minor": 0,
  "metadata": {
    "colab": {
      "provenance": [],
      "authorship_tag": "ABX9TyOCLkD0InTGrw/Tl7KmMWww",
      "include_colab_link": true
    },
    "kernelspec": {
      "name": "python3",
      "display_name": "Python 3"
    },
    "language_info": {
      "name": "python"
    }
  },
  "cells": [
    {
      "cell_type": "markdown",
      "metadata": {
        "id": "view-in-github",
        "colab_type": "text"
      },
      "source": [
        "<a href=\"https://colab.research.google.com/github/gmehra123/data_science_projs/blob/main/Testing_notebook.ipynb\" target=\"_parent\"><img src=\"https://colab.research.google.com/assets/colab-badge.svg\" alt=\"Open In Colab\"/></a>"
      ]
    },
    {
      "cell_type": "markdown",
      "source": [
        "## Neural Networks can replicate any function!!"
      ],
      "metadata": {
        "id": "M2qtZUKlg7mS"
      }
    },
    {
      "cell_type": "code",
      "execution_count": 481,
      "metadata": {
        "id": "e3dR6_l9g6OU"
      },
      "outputs": [],
      "source": [
        "from torch import nn\n",
        "import torch\n",
        "from sklearn.pipeline import Pipeline\n",
        "from sklearn.model_selection import train_test_split\n",
        "import matplotlib.pyplot as plt\n",
        "import numpy as np\n",
        "from torch.optim import SGD"
      ]
    },
    {
      "cell_type": "code",
      "source": [
        "X = np.linspace(1,100,num=200)\n",
        "y = np.sin(X) + X**2\n",
        "#X  , y"
      ],
      "metadata": {
        "id": "U-6tyHFyh70p"
      },
      "execution_count": 502,
      "outputs": []
    },
    {
      "cell_type": "code",
      "source": [],
      "metadata": {
        "id": "sK_mUG5ku1tg"
      },
      "execution_count": 163,
      "outputs": []
    },
    {
      "cell_type": "code",
      "source": [
        "fig,ax=plt.subplots()\n",
        "ax.plot(X,y)\n",
        "X_train,X_test,y_train,y_test = train_test_split(X,y,test_size=0.1, random_state=42,shuffle=True)\n",
        "#fig,ax=plt.subplots()"
      ],
      "metadata": {
        "colab": {
          "base_uri": "https://localhost:8080/",
          "height": 430
        },
        "id": "34d9P5Reikfk",
        "outputId": "b6fed206-13a0-48e6-c61b-5a220c75d9b0"
      },
      "execution_count": 503,
      "outputs": [
        {
          "output_type": "display_data",
          "data": {
            "text/plain": [
              "<Figure size 640x480 with 1 Axes>"
            ],
            "image/png": "[encoded data removed]"
          },
          "metadata": {}
        }
      ]
    },
    {
      "cell_type": "code",
      "source": [
        "class Model_comp(nn.Module):\n",
        "  def __init__(self):\n",
        "    super().__init__()\n",
        "    self.ll1 = nn.Linear(in_features=1,out_features=8)\n",
        "    self.ac1 = nn.ReLU()\n",
        "    self.ll2 = nn.Linear(in_features=8,out_features=16)\n",
        "    self.ac2 = nn.ReLU()\n",
        "    self.ll3 = nn.Linear(in_features=16,out_features=16)\n",
        "    self.ac3 = nn.ReLU()\n",
        "    self.ll4 = nn.Linear(in_features=16,out_features=4)\n",
        "    self.ac4 = nn.ReLU()\n",
        "    self.output = nn.Linear(in_features=4,out_features=1)\n",
        "\n",
        "  def forward(self,X):\n",
        "    X = self.ll1(X)\n",
        "    X = self.ac1(X)\n",
        "    X = self.ll2(X)\n",
        "    X = self.ac2(X)\n",
        "    X = self.ll3(X)\n",
        "    X = self.ac3(X)\n",
        "    X = self.ll4(X)\n",
        "    X = self.ac4(X)\n",
        "    X = self.output(X)\n",
        "    return(X)\n"
      ],
      "metadata": {
        "id": "VqdiFSCdjvVw"
      },
      "execution_count": 504,
      "outputs": []
    },
    {
      "cell_type": "code",
      "source": [
        "class ModelSimple(nn.Module):\n",
        "  def __init__(self):\n",
        "    super().__init__()\n",
        "    self.ll1 = nn.Linear(1,1)\n",
        "\n",
        "  def forward(self,X):\n",
        "    X = self.ll1(X)\n",
        "    return(X)"
      ],
      "metadata": {
        "id": "8ziyBrOsyE-3"
      },
      "execution_count": 505,
      "outputs": []
    },
    {
      "cell_type": "code",
      "source": [
        "from torch import nn\n",
        "class LinearRegressionModel(nn.Module): #<-- evrything in pytorch uses nn.module as a key building block\n",
        "  def __init__(self):\n",
        "    super().__init__()\n",
        "    self.weights =nn.Parameter(torch.randn(1,\n",
        "                                           requires_grad=True,\n",
        "                                           dtype=torch.float))\n",
        "    self.bias = nn.Parameter(torch.randn(1,\n",
        "                                         requires_grad=True,\n",
        "                                         dtype=torch.float))\n",
        "  def forward(self,X):\n",
        "    return self.weights * X + self.bias"
      ],
      "metadata": {
        "id": "lTswsoR-1_0J"
      },
      "execution_count": 506,
      "outputs": []
    },
    {
      "cell_type": "code",
      "source": [],
      "metadata": {
        "id": "n6REgvc7l3OA"
      },
      "execution_count": 168,
      "outputs": []
    },
    {
      "cell_type": "code",
      "source": [],
      "metadata": {
        "id": "MkUTBOxctoUO"
      },
      "execution_count": 506,
      "outputs": []
    },
    {
      "cell_type": "code",
      "source": [
        "X_train = torch.from_numpy(X_train).type(torch.float32).unsqueeze(dim=1)\n",
        "y_train = torch.from_numpy(y_train).type(torch.float32).unsqueeze(dim=1)\n",
        "X_test = torch.from_numpy(X_test).type(torch.float32).unsqueeze(dim=1)\n",
        "y_test = torch.from_numpy(y_test).type(torch.float32).unsqueeze(dim=1)"
      ],
      "metadata": {
        "id": "THe82qlGmSWR"
      },
      "execution_count": 507,
      "outputs": []
    },
    {
      "cell_type": "code",
      "source": [
        "# Create a seed\n",
        "#torch.manual_seed(42)\n",
        "model = Model_comp()\n",
        "#model.state_dict()"
      ],
      "metadata": {
        "id": "qkdmX6GRorPZ"
      },
      "execution_count": 509,
      "outputs": []
    },
    {
      "cell_type": "code",
      "source": [],
      "metadata": {
        "id": "cxeVmlcWB7jF"
      },
      "execution_count": null,
      "outputs": []
    },
    {
      "cell_type": "code",
      "source": [
        "with torch.inference_mode():\n",
        "  y_pred1 = model(X_test)"
      ],
      "metadata": {
        "id": "YfdGxtA3qeHa"
      },
      "execution_count": 510,
      "outputs": []
    },
    {
      "cell_type": "code",
      "source": [
        "import matplotlib.pyplot as plt\n",
        "def plot_data(training_data =X_train,\n",
        "              training_labels=y_train,\n",
        "              test_data=X_test,\n",
        "              test_labels=y_test,\n",
        "              predictions=None):\n",
        "  \"\"\"\n",
        "  Plots training data and labels in blue and test data and labels in red.\n",
        "  \"\"\"\n",
        "  fig,ax = plt.subplots(figsize=(10,7))\n",
        "  #ax.scatter(training_data,training_labels,c='b',marker='X',label='training_data')\n",
        "  ax.scatter(test_data,test_labels,c='r',label='test_data')\n",
        "  if predictions is not None:\n",
        "    ax.scatter(test_data,predictions,label='predictions')\n",
        "  ax.legend()\n"
      ],
      "metadata": {
        "id": "7ivDa1dv8fON"
      },
      "execution_count": 532,
      "outputs": []
    },
    {
      "cell_type": "code",
      "source": [
        "plot_data(predictions=y_pred1)"
      ],
      "metadata": {
        "colab": {
          "base_uri": "https://localhost:8080/",
          "height": 599
        },
        "id": "GZiBviPlCl2e",
        "outputId": "96d0524b-a783-436e-aac2-97613207a03d"
      },
      "execution_count": 533,
      "outputs": [
        {
          "output_type": "display_data",
          "data": {
            "text/plain": [
              "<Figure size 1000x700 with 1 Axes>"
            ],
            "image/png": "[encoded data removed]"
          },
          "metadata": {}
        }
      ]
    },
    {
      "cell_type": "code",
      "source": [],
      "metadata": {
        "id": "kqPqb1e7_cQw"
      },
      "execution_count": 457,
      "outputs": []
    },
    {
      "cell_type": "code",
      "source": [
        "# Setup a loss function\n",
        "loss_fn = nn.L1Loss()\n",
        "\n",
        "# Setup an Optimizer (SGD and Adam)\n",
        "optimizer = torch.optim.Adam(params = model.parameters(),\n",
        "                            lr =0.001) #lr--> leraning rate, very important hyperparameter"
      ],
      "metadata": {
        "id": "0CssBsccnNsb"
      },
      "execution_count": 534,
      "outputs": []
    },
    {
      "cell_type": "code",
      "source": [
        "# Training loop\n",
        "epochs = 100\n",
        "for epoch in range(epochs):\n",
        "  model.train()\n",
        "  #1. Fwd pass\n",
        "  y_pred = model(X_train)\n",
        "\n",
        "  #2. Calculate loss\n",
        "  loss_train = loss_fn(y_pred,y_train)\n",
        "\n",
        "  #3. Optimizer zero grad\n",
        "  optimizer.zero_grad()\n",
        "\n",
        "  #4. Backward pass\n",
        "  loss_train.backward()\n",
        "\n",
        "  #5 Optimizer step\n",
        "  optimizer.step()\n",
        "\n",
        "  model.eval()\n",
        "  with torch.inference_mode():\n",
        "    y_pred_test = model(X_test)\n",
        "\n",
        "    loss_test = loss_fn(y_pred_test,y_test)\n",
        "\n",
        "  if epoch % 10 == 0:\n",
        "    print(f\"epoch:{epoch} | loss_train: {loss_train} | loss_test: {loss_test}\")\n",
        ""
      ],
      "metadata": {
        "colab": {
          "base_uri": "https://localhost:8080/"
        },
        "id": "3-vAbSwSovew",
        "outputId": "e8b68d0d-9f5d-4ff8-8bca-935222fb9e04"
      },
      "execution_count": 535,
      "outputs": [
        {
          "output_type": "stream",
          "name": "stdout",
          "text": [
            "epoch:0 | loss_train: 47.76131820678711 | loss_test: 110.96356201171875\n",
            "epoch:10 | loss_train: 54.12691116333008 | loss_test: 47.625450134277344\n",
            "epoch:20 | loss_train: 47.002479553222656 | loss_test: 38.26945114135742\n",
            "epoch:30 | loss_train: 47.154296875 | loss_test: 39.655601501464844\n",
            "epoch:40 | loss_train: 46.06116485595703 | loss_test: 37.19692611694336\n",
            "epoch:50 | loss_train: 46.06695556640625 | loss_test: 36.52341842651367\n",
            "epoch:60 | loss_train: 44.66439437866211 | loss_test: 36.05707550048828\n",
            "epoch:70 | loss_train: 44.051937103271484 | loss_test: 35.3946647644043\n",
            "epoch:80 | loss_train: 43.438087463378906 | loss_test: 34.6000862121582\n",
            "epoch:90 | loss_train: 42.77238464355469 | loss_test: 33.9144287109375\n"
          ]
        }
      ]
    },
    {
      "cell_type": "code",
      "source": [
        "with torch.inference_mode():\n",
        "  y_pred_test_fnl = model(X_test)"
      ],
      "metadata": {
        "id": "ZIFLVJX1qTqC"
      },
      "execution_count": 536,
      "outputs": []
    },
    {
      "cell_type": "code",
      "source": [
        "plot_data(predictions=y_pred_test_fnl)"
      ],
      "metadata": {
        "colab": {
          "base_uri": "https://localhost:8080/",
          "height": 599
        },
        "id": "vLS_pUfurvmD",
        "outputId": "e71c342c-4b5d-41b0-c5b6-b87c91fa5a9e"
      },
      "execution_count": 537,
      "outputs": [
        {
          "output_type": "display_data",
          "data": {
            "text/plain": [
              "<Figure size 1000x700 with 1 Axes>"
            ],
            "image/png": "[encoded data removed]"
          },
          "metadata": {}
        }
      ]
    },
    {
      "cell_type": "code",
      "source": [],
      "metadata": {
        "id": "3SVWoksl6VRU"
      },
      "execution_count": 449,
      "outputs": []
    },
    {
      "cell_type": "code",
      "source": [
        "import matplotlib.pyplot as plt\n",
        "def plot_data(training_data =X_train,\n",
        "              training_labels=y_train,\n",
        "              test_data=X_test,\n",
        "              test_labels=y_test,\n",
        "              predictions=None):\n",
        "  \"\"\"\n",
        "  Plots training data and labels in blue and test data and labels in red.\n",
        "  \"\"\"\n",
        "  fig,ax = plt.subplots(figsize=(10,7))\n",
        "  ax.scatter(training_data,training_labels,c='b',marker='X',label='training_data')\n",
        "  ax.scatter(test_data,test_labels,c='r',label='test_data')\n",
        "  if predictions is not None:\n",
        "    ax.scatter(test_data,predictions,label='predictions')\n",
        "  ax.legend()\n"
      ],
      "metadata": {
        "id": "Nsz0Jvxe-XgM"
      },
      "execution_count": 461,
      "outputs": []
    },
    {
      "cell_type": "code",
      "source": [],
      "metadata": {
        "id": "GJof1aTN-f0j"
      },
      "execution_count": 461,
      "outputs": []
    },
    {
      "cell_type": "code",
      "source": [],
      "metadata": {
        "colab": {
          "base_uri": "https://localhost:8080/",
          "height": 447
        },
        "id": "zc9KrlnkBsMM",
        "outputId": "9fff6ebb-479d-4f35-f861-b9ddc90c794b"
      },
      "execution_count": 451,
      "outputs": [
        {
          "output_type": "execute_result",
          "data": {
            "text/plain": [
              "<matplotlib.collections.PathCollection at 0x77fdd5099ba0>"
            ]
          },
          "metadata": {},
          "execution_count": 451
        },
        {
          "output_type": "display_data",
          "data": {
            "text/plain": [
              "<Figure size 640x480 with 1 Axes>"
            ],
            "image/png": "[encoded data removed]"
          },
          "metadata": {}
        }
      ]
    },
    {
      "cell_type": "code",
      "source": [
        "model.state_dict()"
      ],
      "metadata": {
        "colab": {
          "base_uri": "https://localhost:8080/"
        },
        "id": "mb9JaqbkB9KM",
        "outputId": "86bffc8b-f85b-4b9a-d374-510528a65781"
      },
      "execution_count": 446,
      "outputs": [
        {
          "output_type": "execute_result",
          "data": {
            "text/plain": [
              "OrderedDict([('weights', tensor([0.7332])), ('bias', tensor([-0.1329]))])"
            ]
          },
          "metadata": {},
          "execution_count": 446
        }
      ]
    }
  ]
}