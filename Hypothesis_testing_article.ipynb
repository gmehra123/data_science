{
  "nbformat": 4,
  "nbformat_minor": 0,
  "metadata": {
    "colab": {
      "provenance": [],
      "authorship_tag": "ABX9TyNY/G4ixyL+GRO5Y3hDEI0O",
      "include_colab_link": true
    },
    "kernelspec": {
      "name": "python3",
      "display_name": "Python 3"
    },
    "language_info": {
      "name": "python"
    }
  },
  "cells": [
    {
      "cell_type": "markdown",
      "metadata": {
        "id": "view-in-github",
        "colab_type": "text"
      },
      "source": [
        "<a href=\"https://colab.research.google.com/github/gmehra123/data_science_projs/blob/main/Hypothesis_testing_article.ipynb\" target=\"_parent\"><img src=\"https://colab.research.google.com/assets/colab-badge.svg\" alt=\"Open In Colab\"/></a>"
      ]
    },
    {
      "cell_type": "markdown",
      "source": [
        "## Hypothesis Testing Using Python\n",
        "\n",
        "**What is a hypothesis test?**\n",
        "> A hypothesis test is used to test whether the data fit a particular hypothesis. We generally infer some metric (parameter) of the population from a sample (statistic). We formulate 2 hypothesis, the null hypothesis and the alternate hypothesis and a test statistic. We check to see the probability of getting the test stastic under the null hypothesis. This represents the chance of seeing a value as extreme as the test statistic under the condition that the null hypothesis is true. If this probability is very low then we know that what you are observing is an actual effect not due to sampling variability"
      ],
      "metadata": {
        "id": "I0qQiYiksQYW"
      }
    },
    {
      "cell_type": "markdown",
      "source": [
        "* Test of 1 proportion\n",
        "* Test of 2 samples\n",
        "* ANOVA test for statistical significance (Multiple Categories/samples)"
      ],
      "metadata": {
        "id": "8soNstQR5TKu"
      }
    },
    {
      "cell_type": "code",
      "source": [
        "import pandas as pd\n",
        "import matplotlib.pyplot as plt\n",
        "import numpy as np"
      ],
      "metadata": {
        "id": "ZfRAfemduTeD"
      },
      "execution_count": 1,
      "outputs": []
    },
    {
      "cell_type": "markdown",
      "source": [
        "### Test of hypothesized value and inferring from a sample"
      ],
      "metadata": {
        "id": "1nyx8PG8udBG"
      }
    },
    {
      "cell_type": "code",
      "execution_count": 2,
      "metadata": {
        "id": "C5RsbENcsJL3"
      },
      "outputs": [],
      "source": [
        "late=pd.read_feather('https://assets.datacamp.com/production/repositories/5982/datasets/887ec4bc2bcfd4195e7d3ad113168555f36d3afa/late_shipments.feather')"
      ]
    },
    {
      "cell_type": "code",
      "source": [
        "stack=pd.read_feather('https://assets.datacamp.com/production/repositories/5982/datasets/c59033b93930652f402e30db77c3b8ef713dd701/stack_overflow.feather')"
      ],
      "metadata": {
        "id": "Po1qC-QoyjHD"
      },
      "execution_count": 3,
      "outputs": []
    },
    {
      "cell_type": "code",
      "source": [
        "stack.shape[0]"
      ],
      "metadata": {
        "colab": {
          "base_uri": "https://localhost:8080/"
        },
        "id": "GX6XzMKPyH_I",
        "outputId": "657ef0b0-898e-42eb-e472-5192110c45ba"
      },
      "execution_count": 4,
      "outputs": [
        {
          "output_type": "execute_result",
          "data": {
            "text/plain": [
              "2261"
            ]
          },
          "metadata": {},
          "execution_count": 4
        }
      ]
    },
    {
      "cell_type": "code",
      "source": [
        "stack['converted_comp'].mean()"
      ],
      "metadata": {
        "colab": {
          "base_uri": "https://localhost:8080/"
        },
        "id": "tL_GMMi3yoqo",
        "outputId": "1e597068-6f7d-4464-98d2-b0e72b04cb0c"
      },
      "execution_count": 5,
      "outputs": [
        {
          "output_type": "execute_result",
          "data": {
            "text/plain": [
              "119574.71738168952"
            ]
          },
          "metadata": {},
          "execution_count": 5
        }
      ]
    },
    {
      "cell_type": "markdown",
      "source": [
        "1. **H0**: $U_{late}$-$U_{not-late}$ = 0\n",
        "2. **H1**: $U_{late}$-$U_{not-late}$>0"
      ],
      "metadata": {
        "id": "TnG9l9OQPsHQ"
      }
    },
    {
      "cell_type": "code",
      "source": [
        "# Test statistic\n",
        "sample_mean=stack['converted_comp'].mean()"
      ],
      "metadata": {
        "id": "k7ugMSJeDXIc"
      },
      "execution_count": null,
      "outputs": []
    },
    {
      "cell_type": "code",
      "source": [
        "# Determining the sample variability and std error using bootstrapping\n",
        "rep=np.empty(1000)\n",
        "for i in range(1000):\n",
        "  # Pulling a sample with replacement from the \n",
        "  sample=stack.sample(frac=1,replace=True)\n",
        "  mean=sample['converted_comp'].mean()\n",
        "  rep[i]=mean"
      ],
      "metadata": {
        "id": "qIPaw0ElDnZw"
      },
      "execution_count": null,
      "outputs": []
    },
    {
      "cell_type": "code",
      "source": [
        "# Visually plotting the bootstrap distribution of average salary\n",
        "fig,ax=plt.subplots()\n",
        "fig.set_figheight(6)\n",
        "fig.set_figwidth(10)\n",
        "ax.hist(rep,bins=20)\n",
        "ax.set_xlabel('Compensation Annualized $',fontsize=14)\n",
        "ax.set_ylabel('Counts',fontsize=14)\n",
        "plt.style.use('ggplot')\n",
        "plt.show()"
      ],
      "metadata": {
        "colab": {
          "base_uri": "https://localhost:8080/",
          "height": 392
        },
        "id": "rDYE7VQDGau_",
        "outputId": "ed400a48-1abd-49fd-e381-99e05dbbdd59"
      },
      "execution_count": null,
      "outputs": [
        {
          "output_type": "display_data",
          "data": {
            "text/plain": [
              "<Figure size 720x432 with 1 Axes>"
            ],
            "image/png": "[encoded data removed]"
          },
          "metadata": {}
        }
      ]
    },
    {
      "cell_type": "code",
      "source": [
        "#Find the std error from the bootstrap distribution\n",
        "std_error=np.std(rep)\n",
        "print(std_error)"
      ],
      "metadata": {
        "colab": {
          "base_uri": "https://localhost:8080/"
        },
        "id": "7jEoIIEBJYY0",
        "outputId": "2b81e815-7dbc-4e64-9261-b2c4072594b1"
      },
      "execution_count": null,
      "outputs": [
        {
          "output_type": "stream",
          "name": "stdout",
          "text": [
            "5500.247908891154\n"
          ]
        }
      ]
    },
    {
      "cell_type": "code",
      "source": [
        "# Estimating standard error from sample\n",
        "estimated=np.std(stack['converted_comp'])/np.sqrt(2261)\n",
        "print(estimated)"
      ],
      "metadata": {
        "colab": {
          "base_uri": "https://localhost:8080/"
        },
        "id": "G_de_7Y3Yrbw",
        "outputId": "f47e6176-a8b5-4e3d-a87a-792a2d95e896"
      },
      "execution_count": null,
      "outputs": [
        {
          "output_type": "stream",
          "name": "stdout",
          "text": [
            "5583.543382522849\n"
          ]
        }
      ]
    },
    {
      "cell_type": "code",
      "source": [
        "# Calculate z score\n",
        "z_score=(sample_mean-100000)/std_error\n",
        "print(z_score)"
      ],
      "metadata": {
        "colab": {
          "base_uri": "https://localhost:8080/"
        },
        "id": "EKv4HuXHJfJX",
        "outputId": "259e1805-2bed-4fc9-fe3d-028c991c9934"
      },
      "execution_count": null,
      "outputs": [
        {
          "output_type": "stream",
          "name": "stdout",
          "text": [
            "3.5588791098028474\n"
          ]
        }
      ]
    },
    {
      "cell_type": "code",
      "source": [
        "from scipy.stats import norm\n",
        "p_val=2*(1-norm.cdf(z_score,loc=0,scale=1))"
      ],
      "metadata": {
        "id": "JPIsPciYJ5QV"
      },
      "execution_count": null,
      "outputs": []
    },
    {
      "cell_type": "code",
      "source": [
        "print('p value is ',p_val,'less than 0.05 and thus we reject the null hypothesis')"
      ],
      "metadata": {
        "colab": {
          "base_uri": "https://localhost:8080/"
        },
        "id": "MrDVaxAvVpOx",
        "outputId": "cba272dd-ba1f-48c3-ef8c-bca8b232db8d"
      },
      "execution_count": null,
      "outputs": [
        {
          "output_type": "stream",
          "name": "stdout",
          "text": [
            "p value is  0.00037244090113142114 less than 0.05 and thus we reject the null hypothesis\n"
          ]
        }
      ]
    },
    {
      "cell_type": "markdown",
      "source": [
        "### Test of difference of means"
      ],
      "metadata": {
        "id": "eE5M8D5Gev47"
      }
    },
    {
      "cell_type": "code",
      "source": [
        "# Calculating the weights by late Yes and No\n",
        "means=late.groupby('late')['weight_kilograms'].mean()\n",
        "print(means)"
      ],
      "metadata": {
        "colab": {
          "base_uri": "https://localhost:8080/"
        },
        "id": "RbTxkbg3epoG",
        "outputId": "4c764556-1631-4e9d-e38a-e8d8e10b881b"
      },
      "execution_count": null,
      "outputs": [
        {
          "output_type": "stream",
          "name": "stdout",
          "text": [
            "late\n",
            "No     1897.791267\n",
            "Yes    2715.672131\n",
            "Name: weight_kilograms, dtype: float64\n"
          ]
        }
      ]
    },
    {
      "cell_type": "code",
      "source": [
        "# Calculate the difference in means\n",
        "diff_means=means[1]-means[0]\n",
        "print(diff_means)"
      ],
      "metadata": {
        "colab": {
          "base_uri": "https://localhost:8080/"
        },
        "id": "ry1t3ho0e5uk",
        "outputId": "0c6ffde2-7380-4b23-b632-6977f4cc41c9"
      },
      "execution_count": null,
      "outputs": [
        {
          "output_type": "stream",
          "name": "stdout",
          "text": [
            "817.8808638418964\n"
          ]
        }
      ]
    },
    {
      "cell_type": "markdown",
      "source": [
        "std_error=$\\sqrt{\\frac{Syes^2}{nyes}+\\frac{Sno^2}{nno}}$"
      ],
      "metadata": {
        "id": "DXCYDH5dL_ej"
      }
    },
    {
      "cell_type": "code",
      "source": [
        "# Getting the counts of the packages that were late\n",
        "counts=late['late'].value_counts()\n",
        "nno=counts[0]\n",
        "nyes=counts[1]\n",
        "\n",
        "# Calculating standard deviations for the late and not late packages\n",
        "std=late.groupby('late')['weight_kilograms'].std()\n",
        "syes=std[0]\n",
        "sno=std[1]\n",
        "\n",
        "# Now we can calculate the std error\n",
        "std_error=np.sqrt(sno**2/nno+syes**2/nyes)\n",
        "std_error"
      ],
      "metadata": {
        "colab": {
          "base_uri": "https://localhost:8080/"
        },
        "id": "2fWM16e5fkFr",
        "outputId": "440e2faf-9fc6-434d-c746-eb5a37eb089f"
      },
      "execution_count": 72,
      "outputs": [
        {
          "output_type": "execute_result",
          "data": {
            "text/plain": [
              "412.2832729146232"
            ]
          },
          "metadata": {},
          "execution_count": 72
        }
      ]
    },
    {
      "cell_type": "code",
      "source": [
        "# Confirm with boot strap\n",
        "for i in range(1000):\n",
        "  sample=late.sample(frac=1,replace=True)\n",
        "  means=sample.groupby('late')['weight_kilograms'].mean()\n",
        "  diff_means=means[1]-means[0]\n",
        "  rep[i]=diff_means\n",
        "\n",
        "np.std(rep)"
      ],
      "metadata": {
        "id": "tAmMNVHEjAT_",
        "colab": {
          "base_uri": "https://localhost:8080/"
        },
        "outputId": "c3cd9324-5a98-430b-b92e-e3f0c14e92cb"
      },
      "execution_count": 71,
      "outputs": [
        {
          "output_type": "execute_result",
          "data": {
            "text/plain": [
              "344.1733029853536"
            ]
          },
          "metadata": {},
          "execution_count": 71
        }
      ]
    },
    {
      "cell_type": "code",
      "source": [
        "# calculate t stat\n",
        "t_score=(diff_means-0)/std_error\n",
        "t_score"
      ],
      "metadata": {
        "colab": {
          "base_uri": "https://localhost:8080/"
        },
        "id": "zYWZL79njuL9",
        "outputId": "114a492b-14a4-40ba-ed7d-653c986956a0"
      },
      "execution_count": 69,
      "outputs": [
        {
          "output_type": "execute_result",
          "data": {
            "text/plain": [
              "2.8740971112937093"
            ]
          },
          "metadata": {},
          "execution_count": 69
        }
      ]
    },
    {
      "cell_type": "code",
      "source": [
        "# Calculate the p_val\n",
        "from scipy.stats import t\n",
        "1-t.cdf(t_score,df=n_yes+n_no-2)"
      ],
      "metadata": {
        "colab": {
          "base_uri": "https://localhost:8080/"
        },
        "id": "EACb3VibkFap",
        "outputId": "4bc1551c-6d52-413b-a3f8-456782a89f30"
      },
      "execution_count": 70,
      "outputs": [
        {
          "output_type": "execute_result",
          "data": {
            "text/plain": [
              "0.002068915254885395"
            ]
          },
          "metadata": {},
          "execution_count": 70
        }
      ]
    },
    {
      "cell_type": "markdown",
      "source": [
        "### Test across multiple categories (ANOVA)"
      ],
      "metadata": {
        "id": "c9sLn_v3cgur"
      }
    },
    {
      "cell_type": "code",
      "source": [
        "# looking at the data to see any differences\n",
        "stack.groupby('job_sat')['converted_comp'].mean()"
      ],
      "metadata": {
        "colab": {
          "base_uri": "https://localhost:8080/"
        },
        "id": "wWNk5zexcfUy",
        "outputId": "d6fb09a6-409c-4f44-d784-c3c25ddf18b4"
      },
      "execution_count": 7,
      "outputs": [
        {
          "output_type": "execute_result",
          "data": {
            "text/plain": [
              "job_sat\n",
              "Very dissatisfied        127539.679245\n",
              "Slightly dissatisfied     96643.324561\n",
              "Neither                  110593.980100\n",
              "Slightly satisfied        96084.992647\n",
              "Very satisfied           147281.484642\n",
              "Name: converted_comp, dtype: float64"
            ]
          },
          "metadata": {},
          "execution_count": 7
        }
      ]
    },
    {
      "cell_type": "code",
      "source": [
        "# Visualizing the difference in compensation across job satisfaction categories\n",
        "import seaborn as sns\n",
        "import matplotlib.pyplot as plt\n",
        "fig,ax=plt.subplots()\n",
        "fig.set_figheight(8)\n",
        "fig.set_figwidth(14)\n",
        "sns.boxplot(x='job_sat',y='converted_comp',data=stack)\n",
        "ax.set_xlabel('Job satisfaction level',fontsize=14)\n",
        "ax.set_ylabel('Compensation $',fontsize=14)\n",
        "plt.show()"
      ],
      "metadata": {
        "colab": {
          "base_uri": "https://localhost:8080/",
          "height": 512
        },
        "id": "lo8wLcJQcvFS",
        "outputId": "8c48364d-1268-46c9-f2fc-bce5e2cc39ee"
      },
      "execution_count": 8,
      "outputs": [
        {
          "output_type": "display_data",
          "data": {
            "text/plain": [
              "<Figure size 1008x576 with 1 Axes>"
            ],
            "image/png": "[encoded data removed]"
          },
          "metadata": {
            "needs_background": "light"
          }
        }
      ]
    },
    {
      "cell_type": "code",
      "source": [
        "!pip install pingouin"
      ],
      "metadata": {
        "colab": {
          "base_uri": "https://localhost:8080/",
          "height": 1000
        },
        "id": "5WFJaDalfSl-",
        "outputId": "52bb1bea-5b0e-44bc-94f9-2d119b4e84d4"
      },
      "execution_count": 82,
      "outputs": [
        {
          "output_type": "stream",
          "name": "stdout",
          "text": [
            "Looking in indexes: https://pypi.org/simple, https://us-python.pkg.dev/colab-wheels/public/simple/\n",
            "Collecting pingouin\n",
            "  Downloading pingouin-0.5.2.tar.gz (185 kB)\n",
            "\u001b[K     |████████████████████████████████| 185 kB 8.7 MB/s \n",
            "\u001b[?25hRequirement already satisfied: numpy>=1.19 in /usr/local/lib/python3.7/dist-packages (from pingouin) (1.21.6)\n",
            "Requirement already satisfied: scipy>=1.7 in /usr/local/lib/python3.7/dist-packages (from pingouin) (1.7.3)\n",
            "Requirement already satisfied: pandas>=1.0 in /usr/local/lib/python3.7/dist-packages (from pingouin) (1.3.5)\n",
            "Requirement already satisfied: matplotlib>=3.0.2 in /usr/local/lib/python3.7/dist-packages (from pingouin) (3.2.2)\n",
            "Requirement already satisfied: seaborn>=0.11 in /usr/local/lib/python3.7/dist-packages (from pingouin) (0.11.2)\n",
            "Collecting statsmodels>=0.13\n",
            "  Downloading statsmodels-0.13.5-cp37-cp37m-manylinux_2_17_x86_64.manylinux2014_x86_64.whl (9.9 MB)\n",
            "\u001b[K     |████████████████████████████████| 9.9 MB 50.0 MB/s \n",
            "\u001b[?25hRequirement already satisfied: scikit-learn<1.1.0 in /usr/local/lib/python3.7/dist-packages (from pingouin) (1.0.2)\n",
            "Collecting pandas_flavor>=0.2.0\n",
            "  Downloading pandas_flavor-0.3.0-py3-none-any.whl (6.3 kB)\n",
            "Collecting outdated\n",
            "  Downloading outdated-0.2.2-py2.py3-none-any.whl (7.5 kB)\n",
            "Requirement already satisfied: tabulate in /usr/local/lib/python3.7/dist-packages (from pingouin) (0.8.10)\n",
            "Requirement already satisfied: pyparsing!=2.0.4,!=2.1.2,!=2.1.6,>=2.0.1 in /usr/local/lib/python3.7/dist-packages (from matplotlib>=3.0.2->pingouin) (3.0.9)\n",
            "Requirement already satisfied: cycler>=0.10 in /usr/local/lib/python3.7/dist-packages (from matplotlib>=3.0.2->pingouin) (0.11.0)\n",
            "Requirement already satisfied: kiwisolver>=1.0.1 in /usr/local/lib/python3.7/dist-packages (from matplotlib>=3.0.2->pingouin) (1.4.4)\n",
            "Requirement already satisfied: python-dateutil>=2.1 in /usr/local/lib/python3.7/dist-packages (from matplotlib>=3.0.2->pingouin) (2.8.2)\n",
            "Requirement already satisfied: typing-extensions in /usr/local/lib/python3.7/dist-packages (from kiwisolver>=1.0.1->matplotlib>=3.0.2->pingouin) (4.1.1)\n",
            "Requirement already satisfied: pytz>=2017.3 in /usr/local/lib/python3.7/dist-packages (from pandas>=1.0->pingouin) (2022.6)\n",
            "Requirement already satisfied: xarray in /usr/local/lib/python3.7/dist-packages (from pandas_flavor>=0.2.0->pingouin) (0.20.2)\n",
            "Collecting pandas_flavor>=0.2.0\n",
            "  Downloading pandas_flavor-0.2.0-py2.py3-none-any.whl (6.6 kB)\n",
            "Requirement already satisfied: six>=1.5 in /usr/local/lib/python3.7/dist-packages (from python-dateutil>=2.1->matplotlib>=3.0.2->pingouin) (1.15.0)\n",
            "Requirement already satisfied: threadpoolctl>=2.0.0 in /usr/local/lib/python3.7/dist-packages (from scikit-learn<1.1.0->pingouin) (3.1.0)\n",
            "Requirement already satisfied: joblib>=0.11 in /usr/local/lib/python3.7/dist-packages (from scikit-learn<1.1.0->pingouin) (1.2.0)\n",
            "Requirement already satisfied: packaging>=21.3 in /usr/local/lib/python3.7/dist-packages (from statsmodels>=0.13->pingouin) (21.3)\n",
            "Requirement already satisfied: patsy>=0.5.2 in /usr/local/lib/python3.7/dist-packages (from statsmodels>=0.13->pingouin) (0.5.3)\n",
            "Collecting littleutils\n",
            "  Downloading littleutils-0.2.2.tar.gz (6.6 kB)\n",
            "Requirement already satisfied: requests in /usr/local/lib/python3.7/dist-packages (from outdated->pingouin) (2.23.0)\n",
            "Requirement already satisfied: setuptools>=44 in /usr/local/lib/python3.7/dist-packages (from outdated->pingouin) (57.4.0)\n",
            "Requirement already satisfied: chardet<4,>=3.0.2 in /usr/local/lib/python3.7/dist-packages (from requests->outdated->pingouin) (3.0.4)\n",
            "Requirement already satisfied: idna<3,>=2.5 in /usr/local/lib/python3.7/dist-packages (from requests->outdated->pingouin) (2.10)\n",
            "Requirement already satisfied: certifi>=2017.4.17 in /usr/local/lib/python3.7/dist-packages (from requests->outdated->pingouin) (2022.9.24)\n",
            "Requirement already satisfied: urllib3!=1.25.0,!=1.25.1,<1.26,>=1.21.1 in /usr/local/lib/python3.7/dist-packages (from requests->outdated->pingouin) (1.24.3)\n",
            "Requirement already satisfied: importlib-metadata in /usr/local/lib/python3.7/dist-packages (from xarray->pandas_flavor>=0.2.0->pingouin) (4.13.0)\n",
            "Requirement already satisfied: zipp>=0.5 in /usr/local/lib/python3.7/dist-packages (from importlib-metadata->xarray->pandas_flavor>=0.2.0->pingouin) (3.10.0)\n",
            "Building wheels for collected packages: pingouin, littleutils\n",
            "  Building wheel for pingouin (setup.py) ... \u001b[?25l\u001b[?25hdone\n",
            "  Created wheel for pingouin: filename=pingouin-0.5.2-py3-none-any.whl size=196208 sha256=66ecd195c0962147ad52b7fd7b5f6076175b4a0ab0912d69e898b9c4a9610493\n",
            "  Stored in directory: /root/.cache/pip/wheels/11/5a/63/a6d32fc26fa462c731f65480bfb98ff7bd39b8ebcb4bc6c2fe\n",
            "  Building wheel for littleutils (setup.py) ... \u001b[?25l\u001b[?25hdone\n",
            "  Created wheel for littleutils: filename=littleutils-0.2.2-py3-none-any.whl size=7047 sha256=8a96f6f0f61cb72c39bba4492191c0b313c8691ef5c5478cf71bb7dae2b612e4\n",
            "  Stored in directory: /root/.cache/pip/wheels/d6/64/cd/32819b511a488e4993f2fab909a95330289c3f4e0f6ef4676d\n",
            "Successfully built pingouin littleutils\n",
            "Installing collected packages: littleutils, statsmodels, pandas-flavor, outdated, pingouin\n",
            "  Attempting uninstall: statsmodels\n",
            "    Found existing installation: statsmodels 0.12.2\n",
            "    Uninstalling statsmodels-0.12.2:\n",
            "      Successfully uninstalled statsmodels-0.12.2\n",
            "Successfully installed littleutils-0.2.2 outdated-0.2.2 pandas-flavor-0.2.0 pingouin-0.5.2 statsmodels-0.13.5\n"
          ]
        },
        {
          "output_type": "display_data",
          "data": {
            "application/vnd.colab-display-data+json": {
              "pip_warning": {
                "packages": [
                  "statsmodels"
                ]
              }
            }
          },
          "metadata": {}
        }
      ]
    },
    {
      "cell_type": "code",
      "source": [
        "import pingouin"
      ],
      "metadata": {
        "id": "XqZ9HlT-fW7M"
      },
      "execution_count": 6,
      "outputs": []
    },
    {
      "cell_type": "code",
      "source": [
        "pingouin.anova(dv='converted_comp',between='job_sat',data=stack)"
      ],
      "metadata": {
        "colab": {
          "base_uri": "https://localhost:8080/",
          "height": 129
        },
        "id": "npUE9V0oflK7",
        "outputId": "10c1e46a-ae80-4368-a793-1329dc78caaa"
      },
      "execution_count": 10,
      "outputs": [
        {
          "output_type": "execute_result",
          "data": {
            "text/plain": [
              "    Source  ddof1  ddof2         F     p-unc       np2\n",
              "0  job_sat      4   2256  4.480485  0.001315  0.007882"
            ],
            "text/html": [
              "\n",
              "  <div id=\"df-44e005bb-4519-493c-b2c5-81a6023b3370\">\n",
              "    <div class=\"colab-df-container\">\n",
              "      <div>\n",
              "<style scoped>\n",
              "    .dataframe tbody tr th:only-of-type {\n",
              "        vertical-align: middle;\n",
              "    }\n",
              "\n",
              "    .dataframe tbody tr th {\n",
              "        vertical-align: top;\n",
              "    }\n",
              "\n",
              "    .dataframe thead th {\n",
              "        text-align: right;\n",
              "    }\n",
              "</style>\n",
              "<table border=\"1\" class=\"dataframe\">\n",
              "  <thead>\n",
              "    <tr style=\"text-align: right;\">\n",
              "      <th></th>\n",
              "      <th>Source</th>\n",
              "      <th>ddof1</th>\n",
              "      <th>ddof2</th>\n",
              "      <th>F</th>\n",
              "      <th>p-unc</th>\n",
              "      <th>np2</th>\n",
              "    </tr>\n",
              "  </thead>\n",
              "  <tbody>\n",
              "    <tr>\n",
              "      <th>0</th>\n",
              "      <td>job_sat</td>\n",
              "      <td>4</td>\n",
              "      <td>2256</td>\n",
              "      <td>4.480485</td>\n",
              "      <td>0.001315</td>\n",
              "      <td>0.007882</td>\n",
              "    </tr>\n",
              "  </tbody>\n",
              "</table>\n",
              "</div>\n",
              "      <button class=\"colab-df-convert\" onclick=\"convertToInteractive('df-44e005bb-4519-493c-b2c5-81a6023b3370')\"\n",
              "              title=\"Convert this dataframe to an interactive table.\"\n",
              "              style=\"display:none;\">\n",
              "        \n",
              "  <svg xmlns=\"http://www.w3.org/2000/svg\" height=\"24px\"viewBox=\"0 0 24 24\"\n",
              "       width=\"24px\">\n",
              "    <path d=\"M0 0h24v24H0V0z\" fill=\"none\"/>\n",
              "    <path d=\"M18.56 5.44l.94 2.06.94-2.06 2.06-.94-2.06-.94-.94-2.06-.94 2.06-2.06.94zm-11 1L8.5 8.5l.94-2.06 2.06-.94-2.06-.94L8.5 2.5l-.94 2.06-2.06.94zm10 10l.94 2.06.94-2.06 2.06-.94-2.06-.94-.94-2.06-.94 2.06-2.06.94z\"/><path d=\"M17.41 7.96l-1.37-1.37c-.4-.4-.92-.59-1.43-.59-.52 0-1.04.2-1.43.59L10.3 9.45l-7.72 7.72c-.78.78-.78 2.05 0 2.83L4 21.41c.39.39.9.59 1.41.59.51 0 1.02-.2 1.41-.59l7.78-7.78 2.81-2.81c.8-.78.8-2.07 0-2.86zM5.41 20L4 18.59l7.72-7.72 1.47 1.35L5.41 20z\"/>\n",
              "  </svg>\n",
              "      </button>\n",
              "      \n",
              "  <style>\n",
              "    .colab-df-container {\n",
              "      display:flex;\n",
              "      flex-wrap:wrap;\n",
              "      gap: 12px;\n",
              "    }\n",
              "\n",
              "    .colab-df-convert {\n",
              "      background-color: #E8F0FE;\n",
              "      border: none;\n",
              "      border-radius: 50%;\n",
              "      cursor: pointer;\n",
              "      display: none;\n",
              "      fill: #1967D2;\n",
              "      height: 32px;\n",
              "      padding: 0 0 0 0;\n",
              "      width: 32px;\n",
              "    }\n",
              "\n",
              "    .colab-df-convert:hover {\n",
              "      background-color: #E2EBFA;\n",
              "      box-shadow: 0px 1px 2px rgba(60, 64, 67, 0.3), 0px 1px 3px 1px rgba(60, 64, 67, 0.15);\n",
              "      fill: #174EA6;\n",
              "    }\n",
              "\n",
              "    [theme=dark] .colab-df-convert {\n",
              "      background-color: #3B4455;\n",
              "      fill: #D2E3FC;\n",
              "    }\n",
              "\n",
              "    [theme=dark] .colab-df-convert:hover {\n",
              "      background-color: #434B5C;\n",
              "      box-shadow: 0px 1px 3px 1px rgba(0, 0, 0, 0.15);\n",
              "      filter: drop-shadow(0px 1px 2px rgba(0, 0, 0, 0.3));\n",
              "      fill: #FFFFFF;\n",
              "    }\n",
              "  </style>\n",
              "\n",
              "      <script>\n",
              "        const buttonEl =\n",
              "          document.querySelector('#df-44e005bb-4519-493c-b2c5-81a6023b3370 button.colab-df-convert');\n",
              "        buttonEl.style.display =\n",
              "          google.colab.kernel.accessAllowed ? 'block' : 'none';\n",
              "\n",
              "        async function convertToInteractive(key) {\n",
              "          const element = document.querySelector('#df-44e005bb-4519-493c-b2c5-81a6023b3370');\n",
              "          const dataTable =\n",
              "            await google.colab.kernel.invokeFunction('convertToInteractive',\n",
              "                                                     [key], {});\n",
              "          if (!dataTable) return;\n",
              "\n",
              "          const docLinkHtml = 'Like what you see? Visit the ' +\n",
              "            '<a target=\"_blank\" href=https://colab.research.google.com/notebooks/data_table.ipynb>data table notebook</a>'\n",
              "            + ' to learn more about interactive tables.';\n",
              "          element.innerHTML = '';\n",
              "          dataTable['output_type'] = 'display_data';\n",
              "          await google.colab.output.renderOutput(dataTable, element);\n",
              "          const docLink = document.createElement('div');\n",
              "          docLink.innerHTML = docLinkHtml;\n",
              "          element.appendChild(docLink);\n",
              "        }\n",
              "      </script>\n",
              "    </div>\n",
              "  </div>\n",
              "  "
            ]
          },
          "metadata": {},
          "execution_count": 10
        }
      ]
    },
    {
      "cell_type": "code",
      "source": [
        "pingouin.pairwise_tests(data=stack,dv='converted_comp',between='job_sat',padjust='bonf')"
      ],
      "metadata": {
        "colab": {
          "base_uri": "https://localhost:8080/",
          "height": 363
        },
        "id": "Qaz4tj8dg-Tx",
        "outputId": "22443a67-7ada-405e-f441-f528eb49a165"
      },
      "execution_count": 11,
      "outputs": [
        {
          "output_type": "execute_result",
          "data": {
            "text/plain": [
              "  Contrast                   A                      B  Paired  Parametric  \\\n",
              "0  job_sat  Slightly satisfied         Very satisfied   False        True   \n",
              "1  job_sat  Slightly satisfied                Neither   False        True   \n",
              "2  job_sat  Slightly satisfied      Very dissatisfied   False        True   \n",
              "3  job_sat  Slightly satisfied  Slightly dissatisfied   False        True   \n",
              "4  job_sat      Very satisfied                Neither   False        True   \n",
              "5  job_sat      Very satisfied      Very dissatisfied   False        True   \n",
              "6  job_sat      Very satisfied  Slightly dissatisfied   False        True   \n",
              "7  job_sat             Neither      Very dissatisfied   False        True   \n",
              "8  job_sat             Neither  Slightly dissatisfied   False        True   \n",
              "9  job_sat   Very dissatisfied  Slightly dissatisfied   False        True   \n",
              "\n",
              "          T          dof alternative     p-unc    p-corr p-adjust     BF10  \\\n",
              "0 -4.009935  1478.622799   two-sided  0.000064  0.000638     bonf  158.564   \n",
              "1 -0.700752   258.204546   two-sided  0.484088  1.000000     bonf    0.114   \n",
              "2 -1.243665   187.153329   two-sided  0.215179  1.000000     bonf    0.208   \n",
              "3 -0.038264   569.926329   two-sided  0.969491  1.000000     bonf    0.074   \n",
              "4  1.662901   328.326639   two-sided  0.097286  0.972864     bonf    0.337   \n",
              "5  0.747379   221.666205   two-sided  0.455627  1.000000     bonf    0.126   \n",
              "6  3.076222   821.303063   two-sided  0.002166  0.021659     bonf     7.43   \n",
              "7 -0.545948   321.165726   two-sided  0.585481  1.000000     bonf    0.135   \n",
              "8  0.602209   367.730081   two-sided  0.547406  1.000000     bonf    0.118   \n",
              "9  1.129951   247.570187   two-sided  0.259590  1.000000     bonf    0.197   \n",
              "\n",
              "     hedges  \n",
              "0 -0.192931  \n",
              "1 -0.068513  \n",
              "2 -0.145624  \n",
              "3 -0.002719  \n",
              "4  0.120115  \n",
              "5  0.063479  \n",
              "6  0.173247  \n",
              "7 -0.058537  \n",
              "8  0.055707  \n",
              "9  0.119131  "
            ],
            "text/html": [
              "\n",
              "  <div id=\"df-b5e10d55-f19b-432b-8251-ea548d4574ae\">\n",
              "    <div class=\"colab-df-container\">\n",
              "      <div>\n",
              "<style scoped>\n",
              "    .dataframe tbody tr th:only-of-type {\n",
              "        vertical-align: middle;\n",
              "    }\n",
              "\n",
              "    .dataframe tbody tr th {\n",
              "        vertical-align: top;\n",
              "    }\n",
              "\n",
              "    .dataframe thead th {\n",
              "        text-align: right;\n",
              "    }\n",
              "</style>\n",
              "<table border=\"1\" class=\"dataframe\">\n",
              "  <thead>\n",
              "    <tr style=\"text-align: right;\">\n",
              "      <th></th>\n",
              "      <th>Contrast</th>\n",
              "      <th>A</th>\n",
              "      <th>B</th>\n",
              "      <th>Paired</th>\n",
              "      <th>Parametric</th>\n",
              "      <th>T</th>\n",
              "      <th>dof</th>\n",
              "      <th>alternative</th>\n",
              "      <th>p-unc</th>\n",
              "      <th>p-corr</th>\n",
              "      <th>p-adjust</th>\n",
              "      <th>BF10</th>\n",
              "      <th>hedges</th>\n",
              "    </tr>\n",
              "  </thead>\n",
              "  <tbody>\n",
              "    <tr>\n",
              "      <th>0</th>\n",
              "      <td>job_sat</td>\n",
              "      <td>Slightly satisfied</td>\n",
              "      <td>Very satisfied</td>\n",
              "      <td>False</td>\n",
              "      <td>True</td>\n",
              "      <td>-4.009935</td>\n",
              "      <td>1478.622799</td>\n",
              "      <td>two-sided</td>\n",
              "      <td>0.000064</td>\n",
              "      <td>0.000638</td>\n",
              "      <td>bonf</td>\n",
              "      <td>158.564</td>\n",
              "      <td>-0.192931</td>\n",
              "    </tr>\n",
              "    <tr>\n",
              "      <th>1</th>\n",
              "      <td>job_sat</td>\n",
              "      <td>Slightly satisfied</td>\n",
              "      <td>Neither</td>\n",
              "      <td>False</td>\n",
              "      <td>True</td>\n",
              "      <td>-0.700752</td>\n",
              "      <td>258.204546</td>\n",
              "      <td>two-sided</td>\n",
              "      <td>0.484088</td>\n",
              "      <td>1.000000</td>\n",
              "      <td>bonf</td>\n",
              "      <td>0.114</td>\n",
              "      <td>-0.068513</td>\n",
              "    </tr>\n",
              "    <tr>\n",
              "      <th>2</th>\n",
              "      <td>job_sat</td>\n",
              "      <td>Slightly satisfied</td>\n",
              "      <td>Very dissatisfied</td>\n",
              "      <td>False</td>\n",
              "      <td>True</td>\n",
              "      <td>-1.243665</td>\n",
              "      <td>187.153329</td>\n",
              "      <td>two-sided</td>\n",
              "      <td>0.215179</td>\n",
              "      <td>1.000000</td>\n",
              "      <td>bonf</td>\n",
              "      <td>0.208</td>\n",
              "      <td>-0.145624</td>\n",
              "    </tr>\n",
              "    <tr>\n",
              "      <th>3</th>\n",
              "      <td>job_sat</td>\n",
              "      <td>Slightly satisfied</td>\n",
              "      <td>Slightly dissatisfied</td>\n",
              "      <td>False</td>\n",
              "      <td>True</td>\n",
              "      <td>-0.038264</td>\n",
              "      <td>569.926329</td>\n",
              "      <td>two-sided</td>\n",
              "      <td>0.969491</td>\n",
              "      <td>1.000000</td>\n",
              "      <td>bonf</td>\n",
              "      <td>0.074</td>\n",
              "      <td>-0.002719</td>\n",
              "    </tr>\n",
              "    <tr>\n",
              "      <th>4</th>\n",
              "      <td>job_sat</td>\n",
              "      <td>Very satisfied</td>\n",
              "      <td>Neither</td>\n",
              "      <td>False</td>\n",
              "      <td>True</td>\n",
              "      <td>1.662901</td>\n",
              "      <td>328.326639</td>\n",
              "      <td>two-sided</td>\n",
              "      <td>0.097286</td>\n",
              "      <td>0.972864</td>\n",
              "      <td>bonf</td>\n",
              "      <td>0.337</td>\n",
              "      <td>0.120115</td>\n",
              "    </tr>\n",
              "    <tr>\n",
              "      <th>5</th>\n",
              "      <td>job_sat</td>\n",
              "      <td>Very satisfied</td>\n",
              "      <td>Very dissatisfied</td>\n",
              "      <td>False</td>\n",
              "      <td>True</td>\n",
              "      <td>0.747379</td>\n",
              "      <td>221.666205</td>\n",
              "      <td>two-sided</td>\n",
              "      <td>0.455627</td>\n",
              "      <td>1.000000</td>\n",
              "      <td>bonf</td>\n",
              "      <td>0.126</td>\n",
              "      <td>0.063479</td>\n",
              "    </tr>\n",
              "    <tr>\n",
              "      <th>6</th>\n",
              "      <td>job_sat</td>\n",
              "      <td>Very satisfied</td>\n",
              "      <td>Slightly dissatisfied</td>\n",
              "      <td>False</td>\n",
              "      <td>True</td>\n",
              "      <td>3.076222</td>\n",
              "      <td>821.303063</td>\n",
              "      <td>two-sided</td>\n",
              "      <td>0.002166</td>\n",
              "      <td>0.021659</td>\n",
              "      <td>bonf</td>\n",
              "      <td>7.43</td>\n",
              "      <td>0.173247</td>\n",
              "    </tr>\n",
              "    <tr>\n",
              "      <th>7</th>\n",
              "      <td>job_sat</td>\n",
              "      <td>Neither</td>\n",
              "      <td>Very dissatisfied</td>\n",
              "      <td>False</td>\n",
              "      <td>True</td>\n",
              "      <td>-0.545948</td>\n",
              "      <td>321.165726</td>\n",
              "      <td>two-sided</td>\n",
              "      <td>0.585481</td>\n",
              "      <td>1.000000</td>\n",
              "      <td>bonf</td>\n",
              "      <td>0.135</td>\n",
              "      <td>-0.058537</td>\n",
              "    </tr>\n",
              "    <tr>\n",
              "      <th>8</th>\n",
              "      <td>job_sat</td>\n",
              "      <td>Neither</td>\n",
              "      <td>Slightly dissatisfied</td>\n",
              "      <td>False</td>\n",
              "      <td>True</td>\n",
              "      <td>0.602209</td>\n",
              "      <td>367.730081</td>\n",
              "      <td>two-sided</td>\n",
              "      <td>0.547406</td>\n",
              "      <td>1.000000</td>\n",
              "      <td>bonf</td>\n",
              "      <td>0.118</td>\n",
              "      <td>0.055707</td>\n",
              "    </tr>\n",
              "    <tr>\n",
              "      <th>9</th>\n",
              "      <td>job_sat</td>\n",
              "      <td>Very dissatisfied</td>\n",
              "      <td>Slightly dissatisfied</td>\n",
              "      <td>False</td>\n",
              "      <td>True</td>\n",
              "      <td>1.129951</td>\n",
              "      <td>247.570187</td>\n",
              "      <td>two-sided</td>\n",
              "      <td>0.259590</td>\n",
              "      <td>1.000000</td>\n",
              "      <td>bonf</td>\n",
              "      <td>0.197</td>\n",
              "      <td>0.119131</td>\n",
              "    </tr>\n",
              "  </tbody>\n",
              "</table>\n",
              "</div>\n",
              "      <button class=\"colab-df-convert\" onclick=\"convertToInteractive('df-b5e10d55-f19b-432b-8251-ea548d4574ae')\"\n",
              "              title=\"Convert this dataframe to an interactive table.\"\n",
              "              style=\"display:none;\">\n",
              "        \n",
              "  <svg xmlns=\"http://www.w3.org/2000/svg\" height=\"24px\"viewBox=\"0 0 24 24\"\n",
              "       width=\"24px\">\n",
              "    <path d=\"M0 0h24v24H0V0z\" fill=\"none\"/>\n",
              "    <path d=\"M18.56 5.44l.94 2.06.94-2.06 2.06-.94-2.06-.94-.94-2.06-.94 2.06-2.06.94zm-11 1L8.5 8.5l.94-2.06 2.06-.94-2.06-.94L8.5 2.5l-.94 2.06-2.06.94zm10 10l.94 2.06.94-2.06 2.06-.94-2.06-.94-.94-2.06-.94 2.06-2.06.94z\"/><path d=\"M17.41 7.96l-1.37-1.37c-.4-.4-.92-.59-1.43-.59-.52 0-1.04.2-1.43.59L10.3 9.45l-7.72 7.72c-.78.78-.78 2.05 0 2.83L4 21.41c.39.39.9.59 1.41.59.51 0 1.02-.2 1.41-.59l7.78-7.78 2.81-2.81c.8-.78.8-2.07 0-2.86zM5.41 20L4 18.59l7.72-7.72 1.47 1.35L5.41 20z\"/>\n",
              "  </svg>\n",
              "      </button>\n",
              "      \n",
              "  <style>\n",
              "    .colab-df-container {\n",
              "      display:flex;\n",
              "      flex-wrap:wrap;\n",
              "      gap: 12px;\n",
              "    }\n",
              "\n",
              "    .colab-df-convert {\n",
              "      background-color: #E8F0FE;\n",
              "      border: none;\n",
              "      border-radius: 50%;\n",
              "      cursor: pointer;\n",
              "      display: none;\n",
              "      fill: #1967D2;\n",
              "      height: 32px;\n",
              "      padding: 0 0 0 0;\n",
              "      width: 32px;\n",
              "    }\n",
              "\n",
              "    .colab-df-convert:hover {\n",
              "      background-color: #E2EBFA;\n",
              "      box-shadow: 0px 1px 2px rgba(60, 64, 67, 0.3), 0px 1px 3px 1px rgba(60, 64, 67, 0.15);\n",
              "      fill: #174EA6;\n",
              "    }\n",
              "\n",
              "    [theme=dark] .colab-df-convert {\n",
              "      background-color: #3B4455;\n",
              "      fill: #D2E3FC;\n",
              "    }\n",
              "\n",
              "    [theme=dark] .colab-df-convert:hover {\n",
              "      background-color: #434B5C;\n",
              "      box-shadow: 0px 1px 3px 1px rgba(0, 0, 0, 0.15);\n",
              "      filter: drop-shadow(0px 1px 2px rgba(0, 0, 0, 0.3));\n",
              "      fill: #FFFFFF;\n",
              "    }\n",
              "  </style>\n",
              "\n",
              "      <script>\n",
              "        const buttonEl =\n",
              "          document.querySelector('#df-b5e10d55-f19b-432b-8251-ea548d4574ae button.colab-df-convert');\n",
              "        buttonEl.style.display =\n",
              "          google.colab.kernel.accessAllowed ? 'block' : 'none';\n",
              "\n",
              "        async function convertToInteractive(key) {\n",
              "          const element = document.querySelector('#df-b5e10d55-f19b-432b-8251-ea548d4574ae');\n",
              "          const dataTable =\n",
              "            await google.colab.kernel.invokeFunction('convertToInteractive',\n",
              "                                                     [key], {});\n",
              "          if (!dataTable) return;\n",
              "\n",
              "          const docLinkHtml = 'Like what you see? Visit the ' +\n",
              "            '<a target=\"_blank\" href=https://colab.research.google.com/notebooks/data_table.ipynb>data table notebook</a>'\n",
              "            + ' to learn more about interactive tables.';\n",
              "          element.innerHTML = '';\n",
              "          dataTable['output_type'] = 'display_data';\n",
              "          await google.colab.output.renderOutput(dataTable, element);\n",
              "          const docLink = document.createElement('div');\n",
              "          docLink.innerHTML = docLinkHtml;\n",
              "          element.appendChild(docLink);\n",
              "        }\n",
              "      </script>\n",
              "    </div>\n",
              "  </div>\n",
              "  "
            ]
          },
          "metadata": {},
          "execution_count": 11
        }
      ]
    }
  ]
}