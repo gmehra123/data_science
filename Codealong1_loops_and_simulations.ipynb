{
  "nbformat": 4,
  "nbformat_minor": 0,
  "metadata": {
    "colab": {
      "provenance": [],
      "authorship_tag": "ABX9TyNRW3xls0BqZrSx6mRyEFwk",
      "include_colab_link": true
    },
    "kernelspec": {
      "name": "python3",
      "display_name": "Python 3"
    },
    "language_info": {
      "name": "python"
    }
  },
  "cells": [
    {
      "cell_type": "markdown",
      "metadata": {
        "id": "view-in-github",
        "colab_type": "text"
      },
      "source": [
        "<a href=\"https://colab.research.google.com/github/gmehra123/data_science_projs/blob/main/Codealong1_loops_and_simulations.ipynb\" target=\"_parent\"><img src=\"https://colab.research.google.com/assets/colab-badge.svg\" alt=\"Open In Colab\"/></a>"
      ]
    },
    {
      "cell_type": "code",
      "execution_count": 2,
      "metadata": {
        "id": "gC0CWxk0ExUA"
      },
      "outputs": [],
      "source": [
        "import pandas as pd\n",
        "import numpy as np\n",
        "import matplotlib.pyplot as plt\n",
        "import seaborn as sns"
      ]
    },
    {
      "cell_type": "code",
      "source": [
        "# Review lists\n",
        "# Intialize an empty list\n",
        "l = []\n",
        "# Append values to a list\n",
        "l.append(45)\n",
        "l.append(30)\n",
        "print(l)"
      ],
      "metadata": {
        "colab": {
          "base_uri": "https://localhost:8080/"
        },
        "id": "y0o_5RsiFC6f",
        "outputId": "451665f0-2779-4182-a796-33ea0a96e98b"
      },
      "execution_count": 3,
      "outputs": [
        {
          "output_type": "stream",
          "name": "stdout",
          "text": [
            "[45, 30]\n"
          ]
        }
      ]
    },
    {
      "cell_type": "code",
      "source": [
        "# Review for loop\n",
        "# for loop in a list\n",
        "for item in l:\n",
        "  print(item)\n",
        "\n",
        "# executing for loop a se number of times\n",
        "for i in range(10):\n",
        "  print(\"Repeatable task\")"
      ],
      "metadata": {
        "colab": {
          "base_uri": "https://localhost:8080/"
        },
        "id": "XTT_ePpJFUhi",
        "outputId": "484ee2bf-94c0-4d01-b9a7-af34539eca65"
      },
      "execution_count": 6,
      "outputs": [
        {
          "output_type": "stream",
          "name": "stdout",
          "text": [
            "45\n",
            "30\n",
            "Repeatable task\n",
            "Repeatable task\n",
            "Repeatable task\n",
            "Repeatable task\n",
            "Repeatable task\n",
            "Repeatable task\n",
            "Repeatable task\n",
            "Repeatable task\n",
            "Repeatable task\n",
            "Repeatable task\n"
          ]
        }
      ]
    },
    {
      "cell_type": "code",
      "source": [
        "# Convert list to numpy array for easy math\n",
        "np.array(l)"
      ],
      "metadata": {
        "colab": {
          "base_uri": "https://localhost:8080/"
        },
        "id": "ie16BwAVFzAS",
        "outputId": "d28725bc-43e9-4d2e-9ef5-7e90b213c513"
      },
      "execution_count": 7,
      "outputs": [
        {
          "output_type": "execute_result",
          "data": {
            "text/plain": [
              "array([45, 30])"
            ]
          },
          "metadata": {},
          "execution_count": 7
        }
      ]
    },
    {
      "cell_type": "code",
      "source": [
        "# Reading a dataframe from a csv file\n",
        "cal = pd.read_csv(\"/content/sample_data/california_housing_train.csv\")"
      ],
      "metadata": {
        "id": "qNlaHE88GCPV"
      },
      "execution_count": 8,
      "outputs": []
    },
    {
      "cell_type": "code",
      "source": [
        "# Taking a sample from a dataframe of size n\n",
        "cal.sample(5)"
      ],
      "metadata": {
        "colab": {
          "base_uri": "https://localhost:8080/",
          "height": 226
        },
        "id": "LxuqoFGYGmJm",
        "outputId": "6bc3b2b8-823b-4616-d448-084c132eda7f"
      },
      "execution_count": 10,
      "outputs": [
        {
          "output_type": "execute_result",
          "data": {
            "text/plain": [
              "       longitude  latitude  housing_median_age  total_rooms  total_bedrooms  \\\n",
              "13558    -121.97     37.54                28.0       2312.0           496.0   \n",
              "4249     -118.00     33.84                29.0       2641.0           637.0   \n",
              "13227    -121.90     37.25                28.0       2714.0           502.0   \n",
              "6064     -118.22     33.90                30.0       1007.0           260.0   \n",
              "6656     -118.28     33.73                39.0       2602.0           802.0   \n",
              "\n",
              "       population  households  median_income  median_house_value  \n",
              "13558      1344.0       467.0         4.7135            203200.0  \n",
              "4249       2413.0       619.0         2.8169            165100.0  \n",
              "13227      1389.0       490.0         5.7385            240400.0  \n",
              "6064       1112.0       238.0         1.7262            115600.0  \n",
              "6656       2178.0       737.0         2.0469            234500.0  "
            ],
            "text/html": [
              "\n",
              "  <div id=\"df-2506273c-c682-4c0c-a69d-b655e1dd3094\" class=\"colab-df-container\">\n",
              "    <div>\n",
              "<style scoped>\n",
              "    .dataframe tbody tr th:only-of-type {\n",
              "        vertical-align: middle;\n",
              "    }\n",
              "\n",
              "    .dataframe tbody tr th {\n",
              "        vertical-align: top;\n",
              "    }\n",
              "\n",
              "    .dataframe thead th {\n",
              "        text-align: right;\n",
              "    }\n",
              "</style>\n",
              "<table border=\"1\" class=\"dataframe\">\n",
              "  <thead>\n",
              "    <tr style=\"text-align: right;\">\n",
              "      <th></th>\n",
              "      <th>longitude</th>\n",
              "      <th>latitude</th>\n",
              "      <th>housing_median_age</th>\n",
              "      <th>total_rooms</th>\n",
              "      <th>total_bedrooms</th>\n",
              "      <th>population</th>\n",
              "      <th>households</th>\n",
              "      <th>median_income</th>\n",
              "      <th>median_house_value</th>\n",
              "    </tr>\n",
              "  </thead>\n",
              "  <tbody>\n",
              "    <tr>\n",
              "      <th>13558</th>\n",
              "      <td>-121.97</td>\n",
              "      <td>37.54</td>\n",
              "      <td>28.0</td>\n",
              "      <td>2312.0</td>\n",
              "      <td>496.0</td>\n",
              "      <td>1344.0</td>\n",
              "      <td>467.0</td>\n",
              "      <td>4.7135</td>\n",
              "      <td>203200.0</td>\n",
              "    </tr>\n",
              "    <tr>\n",
              "      <th>4249</th>\n",
              "      <td>-118.00</td>\n",
              "      <td>33.84</td>\n",
              "      <td>29.0</td>\n",
              "      <td>2641.0</td>\n",
              "      <td>637.0</td>\n",
              "      <td>2413.0</td>\n",
              "      <td>619.0</td>\n",
              "      <td>2.8169</td>\n",
              "      <td>165100.0</td>\n",
              "    </tr>\n",
              "    <tr>\n",
              "      <th>13227</th>\n",
              "      <td>-121.90</td>\n",
              "      <td>37.25</td>\n",
              "      <td>28.0</td>\n",
              "      <td>2714.0</td>\n",
              "      <td>502.0</td>\n",
              "      <td>1389.0</td>\n",
              "      <td>490.0</td>\n",
              "      <td>5.7385</td>\n",
              "      <td>240400.0</td>\n",
              "    </tr>\n",
              "    <tr>\n",
              "      <th>6064</th>\n",
              "      <td>-118.22</td>\n",
              "      <td>33.90</td>\n",
              "      <td>30.0</td>\n",
              "      <td>1007.0</td>\n",
              "      <td>260.0</td>\n",
              "      <td>1112.0</td>\n",
              "      <td>238.0</td>\n",
              "      <td>1.7262</td>\n",
              "      <td>115600.0</td>\n",
              "    </tr>\n",
              "    <tr>\n",
              "      <th>6656</th>\n",
              "      <td>-118.28</td>\n",
              "      <td>33.73</td>\n",
              "      <td>39.0</td>\n",
              "      <td>2602.0</td>\n",
              "      <td>802.0</td>\n",
              "      <td>2178.0</td>\n",
              "      <td>737.0</td>\n",
              "      <td>2.0469</td>\n",
              "      <td>234500.0</td>\n",
              "    </tr>\n",
              "  </tbody>\n",
              "</table>\n",
              "</div>\n",
              "    <div class=\"colab-df-buttons\">\n",
              "\n",
              "  <div class=\"colab-df-container\">\n",
              "    <button class=\"colab-df-convert\" onclick=\"convertToInteractive('df-2506273c-c682-4c0c-a69d-b655e1dd3094')\"\n",
              "            title=\"Convert this dataframe to an interactive table.\"\n",
              "            style=\"display:none;\">\n",
              "\n",
              "  <svg xmlns=\"http://www.w3.org/2000/svg\" height=\"24px\" viewBox=\"0 -960 960 960\">\n",
              "    <path d=\"M120-120v-720h720v720H120Zm60-500h600v-160H180v160Zm220 220h160v-160H400v160Zm0 220h160v-160H400v160ZM180-400h160v-160H180v160Zm440 0h160v-160H620v160ZM180-180h160v-160H180v160Zm440 0h160v-160H620v160Z\"/>\n",
              "  </svg>\n",
              "    </button>\n",
              "\n",
              "  <style>\n",
              "    .colab-df-container {\n",
              "      display:flex;\n",
              "      gap: 12px;\n",
              "    }\n",
              "\n",
              "    .colab-df-convert {\n",
              "      background-color: #E8F0FE;\n",
              "      border: none;\n",
              "      border-radius: 50%;\n",
              "      cursor: pointer;\n",
              "      display: none;\n",
              "      fill: #1967D2;\n",
              "      height: 32px;\n",
              "      padding: 0 0 0 0;\n",
              "      width: 32px;\n",
              "    }\n",
              "\n",
              "    .colab-df-convert:hover {\n",
              "      background-color: #E2EBFA;\n",
              "      box-shadow: 0px 1px 2px rgba(60, 64, 67, 0.3), 0px 1px 3px 1px rgba(60, 64, 67, 0.15);\n",
              "      fill: #174EA6;\n",
              "    }\n",
              "\n",
              "    .colab-df-buttons div {\n",
              "      margin-bottom: 4px;\n",
              "    }\n",
              "\n",
              "    [theme=dark] .colab-df-convert {\n",
              "      background-color: #3B4455;\n",
              "      fill: #D2E3FC;\n",
              "    }\n",
              "\n",
              "    [theme=dark] .colab-df-convert:hover {\n",
              "      background-color: #434B5C;\n",
              "      box-shadow: 0px 1px 3px 1px rgba(0, 0, 0, 0.15);\n",
              "      filter: drop-shadow(0px 1px 2px rgba(0, 0, 0, 0.3));\n",
              "      fill: #FFFFFF;\n",
              "    }\n",
              "  </style>\n",
              "\n",
              "    <script>\n",
              "      const buttonEl =\n",
              "        document.querySelector('#df-2506273c-c682-4c0c-a69d-b655e1dd3094 button.colab-df-convert');\n",
              "      buttonEl.style.display =\n",
              "        google.colab.kernel.accessAllowed ? 'block' : 'none';\n",
              "\n",
              "      async function convertToInteractive(key) {\n",
              "        const element = document.querySelector('#df-2506273c-c682-4c0c-a69d-b655e1dd3094');\n",
              "        const dataTable =\n",
              "          await google.colab.kernel.invokeFunction('convertToInteractive',\n",
              "                                                    [key], {});\n",
              "        if (!dataTable) return;\n",
              "\n",
              "        const docLinkHtml = 'Like what you see? Visit the ' +\n",
              "          '<a target=\"_blank\" href=https://colab.research.google.com/notebooks/data_table.ipynb>data table notebook</a>'\n",
              "          + ' to learn more about interactive tables.';\n",
              "        element.innerHTML = '';\n",
              "        dataTable['output_type'] = 'display_data';\n",
              "        await google.colab.output.renderOutput(dataTable, element);\n",
              "        const docLink = document.createElement('div');\n",
              "        docLink.innerHTML = docLinkHtml;\n",
              "        element.appendChild(docLink);\n",
              "      }\n",
              "    </script>\n",
              "  </div>\n",
              "\n",
              "\n",
              "<div id=\"df-e578dcec-84c9-416c-b765-4440444feb5e\">\n",
              "  <button class=\"colab-df-quickchart\" onclick=\"quickchart('df-e578dcec-84c9-416c-b765-4440444feb5e')\"\n",
              "            title=\"Suggest charts.\"\n",
              "            style=\"display:none;\">\n",
              "\n",
              "<svg xmlns=\"http://www.w3.org/2000/svg\" height=\"24px\"viewBox=\"0 0 24 24\"\n",
              "     width=\"24px\">\n",
              "    <g>\n",
              "        <path d=\"M19 3H5c-1.1 0-2 .9-2 2v14c0 1.1.9 2 2 2h14c1.1 0 2-.9 2-2V5c0-1.1-.9-2-2-2zM9 17H7v-7h2v7zm4 0h-2V7h2v10zm4 0h-2v-4h2v4z\"/>\n",
              "    </g>\n",
              "</svg>\n",
              "  </button>\n",
              "\n",
              "<style>\n",
              "  .colab-df-quickchart {\n",
              "    background-color: #E8F0FE;\n",
              "    border: none;\n",
              "    border-radius: 50%;\n",
              "    cursor: pointer;\n",
              "    display: none;\n",
              "    fill: #1967D2;\n",
              "    height: 32px;\n",
              "    padding: 0 0 0 0;\n",
              "    width: 32px;\n",
              "  }\n",
              "\n",
              "  .colab-df-quickchart:hover {\n",
              "    background-color: #E2EBFA;\n",
              "    box-shadow: 0px 1px 2px rgba(60, 64, 67, 0.3), 0px 1px 3px 1px rgba(60, 64, 67, 0.15);\n",
              "    fill: #174EA6;\n",
              "  }\n",
              "\n",
              "  [theme=dark] .colab-df-quickchart {\n",
              "    background-color: #3B4455;\n",
              "    fill: #D2E3FC;\n",
              "  }\n",
              "\n",
              "  [theme=dark] .colab-df-quickchart:hover {\n",
              "    background-color: #434B5C;\n",
              "    box-shadow: 0px 1px 3px 1px rgba(0, 0, 0, 0.15);\n",
              "    filter: drop-shadow(0px 1px 2px rgba(0, 0, 0, 0.3));\n",
              "    fill: #FFFFFF;\n",
              "  }\n",
              "</style>\n",
              "\n",
              "  <script>\n",
              "    async function quickchart(key) {\n",
              "      const charts = await google.colab.kernel.invokeFunction(\n",
              "          'suggestCharts', [key], {});\n",
              "    }\n",
              "    (() => {\n",
              "      let quickchartButtonEl =\n",
              "        document.querySelector('#df-e578dcec-84c9-416c-b765-4440444feb5e button');\n",
              "      quickchartButtonEl.style.display =\n",
              "        google.colab.kernel.accessAllowed ? 'block' : 'none';\n",
              "    })();\n",
              "  </script>\n",
              "</div>\n",
              "    </div>\n",
              "  </div>\n"
            ]
          },
          "metadata": {},
          "execution_count": 10
        }
      ]
    },
    {
      "cell_type": "code",
      "source": [
        "# sample of the same size as the data frame (bootstrap replicate)\n",
        "cal_bs_rep = cal.sample(frac=1.0,replace = True)\n",
        "print(\"Re-Sample with replacement has shape \",cal_bs_rep.shape)\n",
        "print(\"Original datae shape \", cal.shape)\n",
        "print(\"Cal original median population \", cal.population.median())\n",
        "print(\"Re-Sample median population \", cal_bs_rep.population.median())"
      ],
      "metadata": {
        "colab": {
          "base_uri": "https://localhost:8080/"
        },
        "id": "yTDhFmmKGyBY",
        "outputId": "8089b14e-a2a9-4df8-e776-60d969ba5cc4"
      },
      "execution_count": 16,
      "outputs": [
        {
          "output_type": "stream",
          "name": "stdout",
          "text": [
            "Re-Sample with replacement has shape  (17000, 9)\n",
            "Original datae shape  (17000, 9)\n",
            "Cal original median population  1167.0\n",
            "Re-Sample median population  1157.0\n"
          ]
        }
      ]
    },
    {
      "cell_type": "code",
      "source": [],
      "metadata": {
        "id": "8DS5u4hbHFeH"
      },
      "execution_count": null,
      "outputs": []
    }
  ]
}