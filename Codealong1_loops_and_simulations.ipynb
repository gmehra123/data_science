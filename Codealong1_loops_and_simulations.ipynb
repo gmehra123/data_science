{
  "nbformat": 4,
  "nbformat_minor": 0,
  "metadata": {
    "colab": {
      "provenance": [],
      "authorship_tag": "ABX9TyNVpgsE9cgJShQnNFlydyiN",
      "include_colab_link": true
    },
    "kernelspec": {
      "name": "python3",
      "display_name": "Python 3"
    },
    "language_info": {
      "name": "python"
    }
  },
  "cells": [
    {
      "cell_type": "markdown",
      "metadata": {
        "id": "view-in-github",
        "colab_type": "text"
      },
      "source": [
        "<a href=\"https://colab.research.google.com/github/gmehra123/data_science_projs/blob/main/Codealong1_loops_and_simulations.ipynb\" target=\"_parent\"><img src=\"https://colab.research.google.com/assets/colab-badge.svg\" alt=\"Open In Colab\"/></a>"
      ]
    },
    {
      "cell_type": "code",
      "execution_count": 1,
      "metadata": {
        "id": "gC0CWxk0ExUA"
      },
      "outputs": [],
      "source": [
        "import pandas as pd\n",
        "import numpy as np\n",
        "import matplotlib.pyplot as plt\n",
        "import seaborn as sns"
      ]
    },
    {
      "cell_type": "code",
      "source": [
        "# Review lists\n",
        "# Intialize an empty list\n",
        "l = []\n",
        "# Append values to a list\n",
        "l.append(45)\n",
        "l.append(30)\n",
        "print(l)"
      ],
      "metadata": {
        "colab": {
          "base_uri": "https://localhost:8080/"
        },
        "id": "y0o_5RsiFC6f",
        "outputId": "174e6bc3-d9d4-4079-c5c4-96328ca4bbfa"
      },
      "execution_count": 2,
      "outputs": [
        {
          "output_type": "stream",
          "name": "stdout",
          "text": [
            "[45, 30]\n"
          ]
        }
      ]
    },
    {
      "cell_type": "code",
      "source": [
        "# Review for loop\n",
        "# for loop in a list\n",
        "for item in l:\n",
        "  print(item)\n",
        "\n",
        "# executing for loop a se number of times\n",
        "for i in range(10):\n",
        "  print(\"Repeatable task\")"
      ],
      "metadata": {
        "colab": {
          "base_uri": "https://localhost:8080/"
        },
        "id": "XTT_ePpJFUhi",
        "outputId": "23e81f8e-177f-4659-8610-3c5796d47ced"
      },
      "execution_count": 3,
      "outputs": [
        {
          "output_type": "stream",
          "name": "stdout",
          "text": [
            "45\n",
            "30\n",
            "Repeatable task\n",
            "Repeatable task\n",
            "Repeatable task\n",
            "Repeatable task\n",
            "Repeatable task\n",
            "Repeatable task\n",
            "Repeatable task\n",
            "Repeatable task\n",
            "Repeatable task\n",
            "Repeatable task\n"
          ]
        }
      ]
    },
    {
      "cell_type": "code",
      "source": [
        "# Convert list to numpy array for easy math\n",
        "np.array(l)"
      ],
      "metadata": {
        "colab": {
          "base_uri": "https://localhost:8080/"
        },
        "id": "ie16BwAVFzAS",
        "outputId": "d23b347e-f87a-4856-ac33-e20f8659452d"
      },
      "execution_count": 4,
      "outputs": [
        {
          "output_type": "execute_result",
          "data": {
            "text/plain": [
              "array([45, 30])"
            ]
          },
          "metadata": {},
          "execution_count": 4
        }
      ]
    },
    {
      "cell_type": "code",
      "source": [
        "# Reading a dataframe from a csv file\n",
        "cal = pd.read_csv(\"/content/sample_data/california_housing_train.csv\")"
      ],
      "metadata": {
        "id": "qNlaHE88GCPV"
      },
      "execution_count": 5,
      "outputs": []
    },
    {
      "cell_type": "code",
      "source": [
        "# Taking a sample from a dataframe of size n\n",
        "cal.sample(5)"
      ],
      "metadata": {
        "colab": {
          "base_uri": "https://localhost:8080/",
          "height": 206
        },
        "id": "LxuqoFGYGmJm",
        "outputId": "a7aed2cb-07de-486f-9885-47ef9938ef20"
      },
      "execution_count": 6,
      "outputs": [
        {
          "output_type": "execute_result",
          "data": {
            "text/plain": [
              "       longitude  latitude  housing_median_age  total_rooms  total_bedrooms  \\\n",
              "8038     -118.42     34.18                30.0       1323.0           353.0   \n",
              "3910     -117.95     33.63                17.0       6745.0          1547.0   \n",
              "12971    -121.85     39.77                17.0       5273.0          1177.0   \n",
              "11511    -121.26     38.11                 8.0       2770.0           642.0   \n",
              "7393     -118.35     34.04                45.0       1579.0           357.0   \n",
              "\n",
              "       population  households  median_income  median_house_value  \n",
              "8038        856.0       333.0         3.3594            202200.0  \n",
              "3910       2688.0      1535.0         3.9917            271600.0  \n",
              "12971      2446.0      1199.0         1.9362             89900.0  \n",
              "11511      1611.0       633.0         3.1284            115100.0  \n",
              "7393        713.0       335.0         2.1711            179200.0  "
            ],
            "text/html": [
              "\n",
              "  <div id=\"df-889699d2-8f04-4e88-9c10-b9b2537a97d7\" class=\"colab-df-container\">\n",
              "    <div>\n",
              "<style scoped>\n",
              "    .dataframe tbody tr th:only-of-type {\n",
              "        vertical-align: middle;\n",
              "    }\n",
              "\n",
              "    .dataframe tbody tr th {\n",
              "        vertical-align: top;\n",
              "    }\n",
              "\n",
              "    .dataframe thead th {\n",
              "        text-align: right;\n",
              "    }\n",
              "</style>\n",
              "<table border=\"1\" class=\"dataframe\">\n",
              "  <thead>\n",
              "    <tr style=\"text-align: right;\">\n",
              "      <th></th>\n",
              "      <th>longitude</th>\n",
              "      <th>latitude</th>\n",
              "      <th>housing_median_age</th>\n",
              "      <th>total_rooms</th>\n",
              "      <th>total_bedrooms</th>\n",
              "      <th>population</th>\n",
              "      <th>households</th>\n",
              "      <th>median_income</th>\n",
              "      <th>median_house_value</th>\n",
              "    </tr>\n",
              "  </thead>\n",
              "  <tbody>\n",
              "    <tr>\n",
              "      <th>8038</th>\n",
              "      <td>-118.42</td>\n",
              "      <td>34.18</td>\n",
              "      <td>30.0</td>\n",
              "      <td>1323.0</td>\n",
              "      <td>353.0</td>\n",
              "      <td>856.0</td>\n",
              "      <td>333.0</td>\n",
              "      <td>3.3594</td>\n",
              "      <td>202200.0</td>\n",
              "    </tr>\n",
              "    <tr>\n",
              "      <th>3910</th>\n",
              "      <td>-117.95</td>\n",
              "      <td>33.63</td>\n",
              "      <td>17.0</td>\n",
              "      <td>6745.0</td>\n",
              "      <td>1547.0</td>\n",
              "      <td>2688.0</td>\n",
              "      <td>1535.0</td>\n",
              "      <td>3.9917</td>\n",
              "      <td>271600.0</td>\n",
              "    </tr>\n",
              "    <tr>\n",
              "      <th>12971</th>\n",
              "      <td>-121.85</td>\n",
              "      <td>39.77</td>\n",
              "      <td>17.0</td>\n",
              "      <td>5273.0</td>\n",
              "      <td>1177.0</td>\n",
              "      <td>2446.0</td>\n",
              "      <td>1199.0</td>\n",
              "      <td>1.9362</td>\n",
              "      <td>89900.0</td>\n",
              "    </tr>\n",
              "    <tr>\n",
              "      <th>11511</th>\n",
              "      <td>-121.26</td>\n",
              "      <td>38.11</td>\n",
              "      <td>8.0</td>\n",
              "      <td>2770.0</td>\n",
              "      <td>642.0</td>\n",
              "      <td>1611.0</td>\n",
              "      <td>633.0</td>\n",
              "      <td>3.1284</td>\n",
              "      <td>115100.0</td>\n",
              "    </tr>\n",
              "    <tr>\n",
              "      <th>7393</th>\n",
              "      <td>-118.35</td>\n",
              "      <td>34.04</td>\n",
              "      <td>45.0</td>\n",
              "      <td>1579.0</td>\n",
              "      <td>357.0</td>\n",
              "      <td>713.0</td>\n",
              "      <td>335.0</td>\n",
              "      <td>2.1711</td>\n",
              "      <td>179200.0</td>\n",
              "    </tr>\n",
              "  </tbody>\n",
              "</table>\n",
              "</div>\n",
              "    <div class=\"colab-df-buttons\">\n",
              "\n",
              "  <div class=\"colab-df-container\">\n",
              "    <button class=\"colab-df-convert\" onclick=\"convertToInteractive('df-889699d2-8f04-4e88-9c10-b9b2537a97d7')\"\n",
              "            title=\"Convert this dataframe to an interactive table.\"\n",
              "            style=\"display:none;\">\n",
              "\n",
              "  <svg xmlns=\"http://www.w3.org/2000/svg\" height=\"24px\" viewBox=\"0 -960 960 960\">\n",
              "    <path d=\"M120-120v-720h720v720H120Zm60-500h600v-160H180v160Zm220 220h160v-160H400v160Zm0 220h160v-160H400v160ZM180-400h160v-160H180v160Zm440 0h160v-160H620v160ZM180-180h160v-160H180v160Zm440 0h160v-160H620v160Z\"/>\n",
              "  </svg>\n",
              "    </button>\n",
              "\n",
              "  <style>\n",
              "    .colab-df-container {\n",
              "      display:flex;\n",
              "      gap: 12px;\n",
              "    }\n",
              "\n",
              "    .colab-df-convert {\n",
              "      background-color: #E8F0FE;\n",
              "      border: none;\n",
              "      border-radius: 50%;\n",
              "      cursor: pointer;\n",
              "      display: none;\n",
              "      fill: #1967D2;\n",
              "      height: 32px;\n",
              "      padding: 0 0 0 0;\n",
              "      width: 32px;\n",
              "    }\n",
              "\n",
              "    .colab-df-convert:hover {\n",
              "      background-color: #E2EBFA;\n",
              "      box-shadow: 0px 1px 2px rgba(60, 64, 67, 0.3), 0px 1px 3px 1px rgba(60, 64, 67, 0.15);\n",
              "      fill: #174EA6;\n",
              "    }\n",
              "\n",
              "    .colab-df-buttons div {\n",
              "      margin-bottom: 4px;\n",
              "    }\n",
              "\n",
              "    [theme=dark] .colab-df-convert {\n",
              "      background-color: #3B4455;\n",
              "      fill: #D2E3FC;\n",
              "    }\n",
              "\n",
              "    [theme=dark] .colab-df-convert:hover {\n",
              "      background-color: #434B5C;\n",
              "      box-shadow: 0px 1px 3px 1px rgba(0, 0, 0, 0.15);\n",
              "      filter: drop-shadow(0px 1px 2px rgba(0, 0, 0, 0.3));\n",
              "      fill: #FFFFFF;\n",
              "    }\n",
              "  </style>\n",
              "\n",
              "    <script>\n",
              "      const buttonEl =\n",
              "        document.querySelector('#df-889699d2-8f04-4e88-9c10-b9b2537a97d7 button.colab-df-convert');\n",
              "      buttonEl.style.display =\n",
              "        google.colab.kernel.accessAllowed ? 'block' : 'none';\n",
              "\n",
              "      async function convertToInteractive(key) {\n",
              "        const element = document.querySelector('#df-889699d2-8f04-4e88-9c10-b9b2537a97d7');\n",
              "        const dataTable =\n",
              "          await google.colab.kernel.invokeFunction('convertToInteractive',\n",
              "                                                    [key], {});\n",
              "        if (!dataTable) return;\n",
              "\n",
              "        const docLinkHtml = 'Like what you see? Visit the ' +\n",
              "          '<a target=\"_blank\" href=https://colab.research.google.com/notebooks/data_table.ipynb>data table notebook</a>'\n",
              "          + ' to learn more about interactive tables.';\n",
              "        element.innerHTML = '';\n",
              "        dataTable['output_type'] = 'display_data';\n",
              "        await google.colab.output.renderOutput(dataTable, element);\n",
              "        const docLink = document.createElement('div');\n",
              "        docLink.innerHTML = docLinkHtml;\n",
              "        element.appendChild(docLink);\n",
              "      }\n",
              "    </script>\n",
              "  </div>\n",
              "\n",
              "\n",
              "<div id=\"df-96015cc8-b318-461a-bc46-180651ab6eff\">\n",
              "  <button class=\"colab-df-quickchart\" onclick=\"quickchart('df-96015cc8-b318-461a-bc46-180651ab6eff')\"\n",
              "            title=\"Suggest charts.\"\n",
              "            style=\"display:none;\">\n",
              "\n",
              "<svg xmlns=\"http://www.w3.org/2000/svg\" height=\"24px\"viewBox=\"0 0 24 24\"\n",
              "     width=\"24px\">\n",
              "    <g>\n",
              "        <path d=\"M19 3H5c-1.1 0-2 .9-2 2v14c0 1.1.9 2 2 2h14c1.1 0 2-.9 2-2V5c0-1.1-.9-2-2-2zM9 17H7v-7h2v7zm4 0h-2V7h2v10zm4 0h-2v-4h2v4z\"/>\n",
              "    </g>\n",
              "</svg>\n",
              "  </button>\n",
              "\n",
              "<style>\n",
              "  .colab-df-quickchart {\n",
              "    background-color: #E8F0FE;\n",
              "    border: none;\n",
              "    border-radius: 50%;\n",
              "    cursor: pointer;\n",
              "    display: none;\n",
              "    fill: #1967D2;\n",
              "    height: 32px;\n",
              "    padding: 0 0 0 0;\n",
              "    width: 32px;\n",
              "  }\n",
              "\n",
              "  .colab-df-quickchart:hover {\n",
              "    background-color: #E2EBFA;\n",
              "    box-shadow: 0px 1px 2px rgba(60, 64, 67, 0.3), 0px 1px 3px 1px rgba(60, 64, 67, 0.15);\n",
              "    fill: #174EA6;\n",
              "  }\n",
              "\n",
              "  [theme=dark] .colab-df-quickchart {\n",
              "    background-color: #3B4455;\n",
              "    fill: #D2E3FC;\n",
              "  }\n",
              "\n",
              "  [theme=dark] .colab-df-quickchart:hover {\n",
              "    background-color: #434B5C;\n",
              "    box-shadow: 0px 1px 3px 1px rgba(0, 0, 0, 0.15);\n",
              "    filter: drop-shadow(0px 1px 2px rgba(0, 0, 0, 0.3));\n",
              "    fill: #FFFFFF;\n",
              "  }\n",
              "</style>\n",
              "\n",
              "  <script>\n",
              "    async function quickchart(key) {\n",
              "      const charts = await google.colab.kernel.invokeFunction(\n",
              "          'suggestCharts', [key], {});\n",
              "    }\n",
              "    (() => {\n",
              "      let quickchartButtonEl =\n",
              "        document.querySelector('#df-96015cc8-b318-461a-bc46-180651ab6eff button');\n",
              "      quickchartButtonEl.style.display =\n",
              "        google.colab.kernel.accessAllowed ? 'block' : 'none';\n",
              "    })();\n",
              "  </script>\n",
              "</div>\n",
              "    </div>\n",
              "  </div>\n"
            ]
          },
          "metadata": {},
          "execution_count": 6
        }
      ]
    },
    {
      "cell_type": "code",
      "source": [
        "# sample of the same size as the data frame (bootstrap replicate)\n",
        "cal_bs_rep = cal.sample(frac=1.0,replace = True)\n",
        "print(\"Re-Sample with replacement has shape \",cal_bs_rep.shape)\n",
        "print(\"Original datae shape \", cal.shape)\n",
        "print(\"Cal original median population \", cal.population.median())\n",
        "print(\"Re-Sample median population \", cal_bs_rep.population.median())"
      ],
      "metadata": {
        "colab": {
          "base_uri": "https://localhost:8080/"
        },
        "id": "yTDhFmmKGyBY",
        "outputId": "abbb14c4-afff-411e-e473-0a821426fdab"
      },
      "execution_count": 13,
      "outputs": [
        {
          "output_type": "stream",
          "name": "stdout",
          "text": [
            "Re-Sample with replacement has shape  (17000, 9)\n",
            "Original datae shape  (17000, 9)\n",
            "Cal original median population  1167.0\n",
            "Re-Sample median population  1169.0\n"
          ]
        }
      ]
    },
    {
      "cell_type": "markdown",
      "source": [
        "### Coding problem\n",
        "* Now lets repeatedly sample the cal dataset with replacement.\n",
        "* Calculate the median population\n",
        "* Find out what range the median population value is 95% of the time <br>\n",
        "For this we use the concepts of loops to repeatedly sample a pandas data frame, calculate the median population for each sample and store the result in a list. From this list we can calculate a 95% confidence interval"
      ],
      "metadata": {
        "id": "9_ERyEVIbQ40"
      }
    },
    {
      "cell_type": "code",
      "source": [
        "# first we set the number of times we want to resample and store in sims\n",
        "sims = 10000\n",
        "# Intialize an empty list to store the results\n",
        "l = []\n",
        "# Now we iterate sims number of times using the range syntax that we saw earlier\n",
        "for i in range(sims):\n",
        "  # sample cal with replacement\n",
        "  cal_bs = cal.sample(frac=1.0, replace = True)\n",
        "  # Calculate median for the replicate/resample\n",
        "  median_pop = cal_bs.population.median()\n",
        "  l.append(median_pop)\n",
        "# Outside the loop convert list l into numpy array for easy math\n",
        "l_np = np.array(l)"
      ],
      "metadata": {
        "id": "8DS5u4hbHFeH"
      },
      "execution_count": 20,
      "outputs": []
    },
    {
      "cell_type": "code",
      "source": [],
      "metadata": {
        "id": "2FrlcCDpdvA5"
      },
      "execution_count": 20,
      "outputs": []
    },
    {
      "cell_type": "code",
      "source": [
        "# Now visualize results\n",
        "# Create a figure of size w=10 h=10 and an ax object to plot\n",
        "fig,ax = plt.subplots(figsize=(10,10))\n",
        "# Do the actual plotting now\n",
        "ax.hist(l_np,bins=30)\n",
        "plt.show()"
      ],
      "metadata": {
        "colab": {
          "base_uri": "https://localhost:8080/",
          "height": 830
        },
        "id": "giIhMjhBdW0W",
        "outputId": "8bdece28-eaa4-4a7b-d4dd-21ac7a5b8511"
      },
      "execution_count": 21,
      "outputs": [
        {
          "output_type": "display_data",
          "data": {
            "text/plain": [
              "<Figure size 1000x1000 with 1 Axes>"
            ],
            "image/png": "[encoded data removed]"
          },
          "metadata": {}
        }
      ]
    }
  ]
}