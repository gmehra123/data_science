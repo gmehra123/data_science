{
  "nbformat": 4,
  "nbformat_minor": 0,
  "metadata": {
    "colab": {
      "provenance": [],
      "authorship_tag": "ABX9TyO4v8GmwAizw0FpL55n/VTw",
      "include_colab_link": true
    },
    "kernelspec": {
      "name": "python3",
      "display_name": "Python 3"
    },
    "language_info": {
      "name": "python"
    }
  },
  "cells": [
    {
      "cell_type": "markdown",
      "metadata": {
        "id": "view-in-github",
        "colab_type": "text"
      },
      "source": [
        "<a href=\"https://colab.research.google.com/github/gmehra123/data_science_projs/blob/main/Computer_Vision.ipynb\" target=\"_parent\"><img src=\"https://colab.research.google.com/assets/colab-badge.svg\" alt=\"Open In Colab\"/></a>"
      ]
    },
    {
      "cell_type": "markdown",
      "source": [
        "## Computer Vision"
      ],
      "metadata": {
        "id": "06jEXKI2aD54"
      }
    },
    {
      "cell_type": "markdown",
      "source": [
        "### Introduction\n",
        "\n",
        "* If it uses images it is a computer vision problem\n",
        "* Binary clasiification (steak or pizza)\n",
        "* Multi class classification (Identify different foods and show calorie content)\n",
        "* Object detection\n",
        "* Computational photography: Identify different parts of an image"
      ],
      "metadata": {
        "id": "_ibzjhunaIrn"
      }
    },
    {
      "cell_type": "code",
      "execution_count": 2,
      "metadata": {
        "id": "Lx3eaczAZsFU"
      },
      "outputs": [],
      "source": [
        "what_we_will_do = {'01': 'Get a dataset from torchvision.datasets',\n",
        "                   '02':'Architecture of CNN',\n",
        "                   '03': 'End to end multiclass classification problem',\n",
        "                   '04': 'Discuss modelling workflow for computervision problems'}"
      ]
    },
    {
      "cell_type": "markdown",
      "source": [
        "### Inputs and outputs of CV\n",
        "* W * H * C (Width, Height abd Color channel). sometimes batch size precedes this and the dimension becomes batch * Width * Height * Color channel\n",
        "* Classification problems would create an output with columns equal to number of classes\n",
        "\n",
        "\n",
        "**What is a CNN**\n",
        "> Convulutional Neural networks use a moving window to convolve or move over the image detecting features. This converts the input into a set of numbers. Typical architecture involves a convolutional layer followed by a non linear activation followed by a pooling layer to reduce the dimensionality of the data\n"
      ],
      "metadata": {
        "id": "yAM6zumTdDx6"
      }
    },
    {
      "cell_type": "markdown",
      "source": [
        "### Computer Vision libraries\n",
        "See reference notebook: https://github.com/mrdbourke/pytorch-deep-learning/blob/main/video_notebooks/03_pytorch_computer_vision_video.ipynb\n",
        "\n",
        "* `torchvision` base library for vision problems\n",
        "* `torchvision.datasets` some vision datasets\n",
        "* `torchvision.transforms` manipulate vision data\n",
        "* `torchvision.models` pre-trained models\n",
        "* `torch.utils.data.Dataset` Base dataset class (create your own datasets)\n",
        "* `torch.utils.data.DataLoader` Creates a python iterable over a dataset\n"
      ],
      "metadata": {
        "id": "ZLpjtPFxBsvt"
      }
    },
    {
      "cell_type": "code",
      "source": [
        "import torch\n",
        "import torch.nn as nn\n",
        "\n",
        "# torchvision libraries and packages\n",
        "import torchvision\n",
        "from torchvision import datasets\n",
        "from torchvision.transforms import ToTensor\n",
        "from torchvision import transforms"
      ],
      "metadata": {
        "id": "pD3x-AQccooE"
      },
      "execution_count": 36,
      "outputs": []
    },
    {
      "cell_type": "code",
      "source": [
        "## 1. Getting a datset (Fashion MNIST)\n",
        "train_data = datasets.FashionMNIST(root=\"data\",\n",
        "                                   train=True, # training version of the dataset\n",
        "                                   download=True, # do we want to download\n",
        "                                   transform = ToTensor(), # convert to tensor\n",
        "                                   target_transform = None, # No label transformation\n",
        "                                   )\n"
      ],
      "metadata": {
        "id": "cZKWSLzDFilq"
      },
      "execution_count": 37,
      "outputs": []
    },
    {
      "cell_type": "code",
      "source": [
        "test_data = datasets.FashionMNIST(root=\"data\",\n",
        "                                  train=False,\n",
        "                                  download=True,\n",
        "                                  transform = ToTensor(),\n",
        "                                  target_transform = None\n",
        "                                  )"
      ],
      "metadata": {
        "id": "YQWAsRcfIT0z"
      },
      "execution_count": 9,
      "outputs": []
    },
    {
      "cell_type": "code",
      "source": [
        "len(train_data) , len(test_data)"
      ],
      "metadata": {
        "colab": {
          "base_uri": "https://localhost:8080/"
        },
        "id": "Jg7h2CfDI0sW",
        "outputId": "4bd66c46-243f-4bc6-ef0a-1776f28133d6"
      },
      "execution_count": 10,
      "outputs": [
        {
          "output_type": "execute_result",
          "data": {
            "text/plain": [
              "(60000, 10000)"
            ]
          },
          "metadata": {},
          "execution_count": 10
        }
      ]
    },
    {
      "cell_type": "code",
      "source": [
        "image, label = train_data[0]"
      ],
      "metadata": {
        "id": "-P1rYuRlI5HE"
      },
      "execution_count": 11,
      "outputs": []
    },
    {
      "cell_type": "code",
      "source": [
        "class_names = train_data.classes"
      ],
      "metadata": {
        "id": "K1tte72gJEdv"
      },
      "execution_count": 14,
      "outputs": []
    },
    {
      "cell_type": "code",
      "source": [
        "class_to_idx = train_data.class_to_idx"
      ],
      "metadata": {
        "id": "YNBwe9cEJdwo"
      },
      "execution_count": 16,
      "outputs": []
    },
    {
      "cell_type": "code",
      "source": [
        "class_to_idx"
      ],
      "metadata": {
        "colab": {
          "base_uri": "https://localhost:8080/"
        },
        "id": "7xx996x1JtkB",
        "outputId": "4ea91655-600f-4b34-c8eb-5746444cc727"
      },
      "execution_count": 38,
      "outputs": [
        {
          "output_type": "execute_result",
          "data": {
            "text/plain": [
              "{'T-shirt/top': 0,\n",
              " 'Trouser': 1,\n",
              " 'Pullover': 2,\n",
              " 'Dress': 3,\n",
              " 'Coat': 4,\n",
              " 'Sandal': 5,\n",
              " 'Shirt': 6,\n",
              " 'Sneaker': 7,\n",
              " 'Bag': 8,\n",
              " 'Ankle boot': 9}"
            ]
          },
          "metadata": {},
          "execution_count": 38
        }
      ]
    },
    {
      "cell_type": "code",
      "source": [
        "image.shape, label"
      ],
      "metadata": {
        "colab": {
          "base_uri": "https://localhost:8080/"
        },
        "id": "gSb6i5rlJv_w",
        "outputId": "915bb927-11a0-4b98-850c-9a193eb24acc"
      },
      "execution_count": 41,
      "outputs": [
        {
          "output_type": "execute_result",
          "data": {
            "text/plain": [
              "(torch.Size([1, 28, 28]), 6)"
            ]
          },
          "metadata": {},
          "execution_count": 41
        }
      ]
    },
    {
      "cell_type": "code",
      "source": [],
      "metadata": {
        "id": "vkbX0aqRYHhK"
      },
      "execution_count": null,
      "outputs": []
    },
    {
      "cell_type": "markdown",
      "source": [
        "### Getting the input and output shapes of the data\n",
        "* The images are 28 X 28 and are grayscale so color channel is 1.\n",
        "* Since PyTorch puts color channel first the input chape is `[1,28,28]`\n",
        "* Also since `torch` processes in batches the batch dimension comes first so `[None,1,28,28]` is the final input dimension\n",
        "* Since the number of classes is 10 the output dimension is `[10]`"
      ],
      "metadata": {
        "id": "8xsFntoDKLRq"
      }
    },
    {
      "cell_type": "code",
      "source": [
        "import matplotlib.pyplot as plt"
      ],
      "metadata": {
        "id": "-nW7J9OfKKiQ"
      },
      "execution_count": 19,
      "outputs": []
    },
    {
      "cell_type": "code",
      "source": [
        "image,label = train_data[0]\n",
        "# Matplotlib expects\n",
        "plt.imshow(image.squeeze(),cmap='gray')\n",
        "plt.title(f'Image of {class_names[label]}')"
      ],
      "metadata": {
        "colab": {
          "base_uri": "https://localhost:8080/",
          "height": 469
        },
        "id": "-9ginlKsMky0",
        "outputId": "1d647915-c168-45b8-a720-95233ef753c3"
      },
      "execution_count": 22,
      "outputs": [
        {
          "output_type": "execute_result",
          "data": {
            "text/plain": [
              "Text(0.5, 1.0, 'Image of Ankle boot')"
            ]
          },
          "metadata": {},
          "execution_count": 22
        },
        {
          "output_type": "display_data",
          "data": {
            "text/plain": [
              "<Figure size 640x480 with 1 Axes>"
            ],
            "image/png": "[encoded data removed]"
          },
          "metadata": {}
        }
      ]
    },
    {
      "cell_type": "code",
      "source": [
        "torch.manual_seed(42)\n",
        "fig = plt.figure(figsize=(12,12))\n",
        "rows,cols = 4,4\n",
        "for i in range(1,rows*cols+1):\n",
        "  rand_idx = torch.randint(0,len(train_data),size=[1]).item()\n",
        "  img,label = train_data[rand_idx]\n",
        "  fig.add_subplot(rows,cols,i)\n",
        "  plt.imshow(img.squeeze(),cmap='gray')\n",
        "  plt.title(f\"{class_names[label]}\")"
      ],
      "metadata": {
        "colab": {
          "base_uri": "https://localhost:8080/",
          "height": 1000
        },
        "id": "xdt3ozeJN5Cy",
        "outputId": "65525164-cfcf-40eb-fd60-599856c356c8"
      },
      "execution_count": 28,
      "outputs": [
        {
          "output_type": "display_data",
          "data": {
            "text/plain": [
              "<Figure size 1200x1200 with 16 Axes>"
            ],
            "image/png": "[encoded data removed]"
          },
          "metadata": {}
        }
      ]
    },
    {
      "cell_type": "markdown",
      "source": [
        "> Can we just use a linear model and lines to make accurate classification predictions on this data. If we look at the images, especially the images of boots and dresses, their edges are curved. This intuitively means that a linear model will not acurately capture the reality of these images"
      ],
      "metadata": {
        "id": "cgmkV9G6RCwi"
      }
    },
    {
      "cell_type": "markdown",
      "source": [
        "### Preparing data loaders\n",
        "* A dataloader turns our data into a python iterable.\n",
        "* Right now we are using the entire tensor dataset, in this case it is small and will probably work.\n",
        "* However with larger datasets, it is best paractice to turn them into data-loaders, the first step is breaking data into mini batches\n",
        "\n",
        "Why do it?\n",
        "* Computattionally expensive\n",
        "* Gives our neural network more chances to update its gradients per epoch (batch size = 32) **mini batch gradient descent**"
      ],
      "metadata": {
        "id": "Kn7fQtEFSFQU"
      }
    },
    {
      "cell_type": "code",
      "source": [
        "from torch.utils.data import DataLoader\n",
        "\n",
        "train_data_loader = DataLoader(dataset = train_data, # the datastet\n",
        "                               batch_size=32, # the batchsize\n",
        "                               shuffle=True # shuffle just in case the dataset has an implied order\n",
        "                               )\n",
        "\n",
        "test_data_loader = DataLoader(dataset=test_data,\n",
        "                              batch_size = 32,\n",
        "                              shuffle = False\n",
        "                              )\n",
        "train_data_loader, test_data_loader"
      ],
      "metadata": {
        "colab": {
          "base_uri": "https://localhost:8080/"
        },
        "id": "If8koDQYR3c4",
        "outputId": "3fd54a36-d81c-493d-b23b-6b04ccdc7b41"
      },
      "execution_count": 29,
      "outputs": [
        {
          "output_type": "execute_result",
          "data": {
            "text/plain": [
              "(<torch.utils.data.dataloader.DataLoader at 0x7e7ceece92d0>,\n",
              " <torch.utils.data.dataloader.DataLoader at 0x7e7ceece88e0>)"
            ]
          },
          "metadata": {},
          "execution_count": 29
        }
      ]
    },
    {
      "cell_type": "code",
      "source": [
        "print(f\"dataloaders: {train_data_loader,test_data_loader}\")\n",
        "print(f\"No of batches train,test:{len(train_data_loader),len(test_data_loader)}\")"
      ],
      "metadata": {
        "colab": {
          "base_uri": "https://localhost:8080/"
        },
        "id": "BDpCN49JWAq6",
        "outputId": "db65828e-d96e-49b1-a021-d2e9e8a40e90"
      },
      "execution_count": 34,
      "outputs": [
        {
          "output_type": "stream",
          "name": "stdout",
          "text": [
            "dataloaders: (<torch.utils.data.dataloader.DataLoader object at 0x7e7ceece92d0>, <torch.utils.data.dataloader.DataLoader object at 0x7e7ceece88e0>)\n",
            "No of batches train,test:(1875, 313)\n"
          ]
        }
      ]
    },
    {
      "cell_type": "code",
      "source": [
        "train_features_batch,train_labels_batch = next(iter(train_data_loader))\n",
        "train_features_batch.shape, train_labels_batch.shape"
      ],
      "metadata": {
        "colab": {
          "base_uri": "https://localhost:8080/"
        },
        "id": "d8dL0q8IW-W3",
        "outputId": "f19cb344-2266-40d4-9e58-1258b4905fc1"
      },
      "execution_count": 35,
      "outputs": [
        {
          "output_type": "execute_result",
          "data": {
            "text/plain": [
              "(torch.Size([32, 1, 28, 28]), torch.Size([32]))"
            ]
          },
          "metadata": {},
          "execution_count": 35
        }
      ]
    },
    {
      "cell_type": "code",
      "source": [
        "rand_idx = torch.randint(0,len(train_features_batch),size=[1]).item()\n",
        "img,label = train_features_batch[rand_idx], train_labels_batch[rand_idx]\n",
        "plt.imshow(img.squeeze(),cmap='gray')\n",
        "plt.title(f\"{class_names[label]}\")"
      ],
      "metadata": {
        "colab": {
          "base_uri": "https://localhost:8080/",
          "height": 469
        },
        "id": "vb18fyYtYJdb",
        "outputId": "b50b6e61-d41d-437f-f711-87264ee9c4c7"
      },
      "execution_count": 50,
      "outputs": [
        {
          "output_type": "execute_result",
          "data": {
            "text/plain": [
              "Text(0.5, 1.0, 'Pullover')"
            ]
          },
          "metadata": {},
          "execution_count": 50
        },
        {
          "output_type": "display_data",
          "data": {
            "text/plain": [
              "<Figure size 640x480 with 1 Axes>"
            ],
            "image/png": "[encoded data removed]"
          },
          "metadata": {}
        }
      ]
    },
    {
      "cell_type": "markdown",
      "source": [
        "### Build a baseline model\n",
        "Its a simple model that you will try and improve on with each iteration.\n",
        "\n",
        "It is best practice to start simple and then add complexity as needed. This means that experiment tracking becomes crucial.\n",
        "\n",
        "A new layer called flatten layer. Flatten converts C X W X H into C X Combined_dim where the combined dim is W*H in the case of FashionMNIST it is `[1,784]`"
      ],
      "metadata": {
        "id": "sduy9scoa5hk"
      }
    },
    {
      "cell_type": "code",
      "source": [
        "x=train_features_batch[0]\n",
        "flatten = nn.Flatten()\n",
        "x1 = flatten(x)\n",
        "x1.shape"
      ],
      "metadata": {
        "colab": {
          "base_uri": "https://localhost:8080/"
        },
        "id": "rL3tjzQwa4hX",
        "outputId": "84e3b1cb-17ed-4466-d23c-8a011b3b67d4"
      },
      "execution_count": 59,
      "outputs": [
        {
          "output_type": "execute_result",
          "data": {
            "text/plain": [
              "torch.Size([1, 784])"
            ]
          },
          "metadata": {},
          "execution_count": 59
        }
      ]
    },
    {
      "cell_type": "code",
      "source": [
        "class CV_01(nn.Module):\n",
        "  def __init__(self,\n",
        "               input_shape: int,\n",
        "               output_shape: int,\n",
        "               hidden_units:int\n",
        "               ):\n",
        "    super().__init__()\n",
        "    self.linear_stack = nn.Sequential(nn.Flatten(),\n",
        "                                      nn.Linear(in_features=input_shape,out_features=hidden_units),\n",
        "                                      nn.Linear(in_features=hidden_units,out_features=output_shape)\n",
        "                                      )\n",
        "  def forward(self,X):\n",
        "    X = self.linear_stack(X)\n",
        "    return X\n"
      ],
      "metadata": {
        "id": "eIeXwzAocQYb"
      },
      "execution_count": 62,
      "outputs": []
    },
    {
      "cell_type": "code",
      "source": [
        "model_0 = CV_01(784,10,8)"
      ],
      "metadata": {
        "id": "2R1Re5wOf2bt"
      },
      "execution_count": 63,
      "outputs": []
    },
    {
      "cell_type": "code",
      "source": [
        "x=train_features_batch[0]\n",
        "op=model_0(x)"
      ],
      "metadata": {
        "id": "hpYfJxvWgCd7"
      },
      "execution_count": 65,
      "outputs": []
    },
    {
      "cell_type": "code",
      "source": [
        "dummy_x = torch.rand(size=[1,28,28])"
      ],
      "metadata": {
        "id": "LiYrsESNgK9Q"
      },
      "execution_count": 68,
      "outputs": []
    },
    {
      "cell_type": "code",
      "source": [
        "flatten=nn.Flatten()\n",
        "flatten(dummy_x)"
      ],
      "metadata": {
        "colab": {
          "base_uri": "https://localhost:8080/"
        },
        "id": "HVh8LaBXiMRB",
        "outputId": "2adaa093-3703-4843-88ab-073376b0b105"
      },
      "execution_count": 73,
      "outputs": [
        {
          "output_type": "execute_result",
          "data": {
            "text/plain": [
              "tensor([[3.1096e-01, 5.3907e-01, 8.7604e-01, 6.6302e-01, 1.9105e-01, 8.0191e-01,\n",
              "         3.1586e-01, 6.2895e-01, 5.2944e-01, 8.5709e-01, 3.8832e-01, 2.9684e-01,\n",
              "         4.0040e-01, 5.0454e-01, 2.6404e-01, 8.4366e-01, 2.3193e-01, 5.7910e-01,\n",
              "         1.1611e-01, 4.3792e-01, 3.9227e-01, 2.9997e-01, 7.6138e-01, 5.3545e-02,\n",
              "         5.5244e-01, 4.5323e-01, 2.3996e-01, 8.8883e-01, 8.1388e-01, 6.5110e-01,\n",
              "         5.0973e-01, 7.7713e-01, 2.8037e-01, 9.3133e-02, 9.7980e-01, 3.1283e-01,\n",
              "         6.0030e-01, 5.0999e-01, 9.2093e-01, 9.9734e-01, 1.6360e-01, 4.9467e-01,\n",
              "         9.4641e-02, 8.2294e-01, 9.7739e-01, 3.0888e-01, 5.9062e-01, 3.8991e-01,\n",
              "         3.7887e-01, 8.9702e-01, 3.5438e-02, 4.3153e-01, 4.9795e-01, 5.9016e-02,\n",
              "         7.0560e-01, 8.3343e-01, 1.0282e-01, 6.9346e-01, 4.6765e-01, 9.6844e-01,\n",
              "         2.8815e-02, 9.2449e-01, 3.1425e-01, 9.2149e-01, 2.4495e-01, 5.8469e-01,\n",
              "         6.1664e-01, 8.1019e-01, 7.3435e-01, 7.7943e-01, 3.9475e-01, 1.0442e-01,\n",
              "         5.0581e-01, 9.5606e-01, 9.3250e-01, 2.0580e-01, 8.4396e-01, 7.2488e-01,\n",
              "         4.0952e-01, 7.7292e-01, 4.7915e-01, 5.6088e-01, 1.7237e-01, 4.3843e-01,\n",
              "         9.8946e-01, 8.0975e-01, 9.5915e-02, 4.7168e-01, 8.1849e-01, 2.8603e-01,\n",
              "         4.3737e-01, 7.4940e-01, 9.2023e-01, 9.5364e-01, 1.3879e-01, 2.8865e-02,\n",
              "         8.5335e-01, 4.6127e-01, 9.5142e-01, 8.5490e-01, 3.0480e-01, 6.4324e-01,\n",
              "         6.6822e-01, 3.2104e-01, 9.4923e-01, 5.4103e-01, 3.3658e-01, 4.3300e-02,\n",
              "         9.0016e-01, 4.1999e-03, 8.8057e-01, 3.2488e-01, 4.0846e-01, 5.6754e-01,\n",
              "         9.9151e-01, 1.7085e-01, 1.4490e-01, 8.0054e-01, 2.5716e-01, 3.1600e-01,\n",
              "         7.8905e-01, 2.9274e-01, 7.9782e-01, 3.0499e-01, 8.8460e-01, 9.9810e-01,\n",
              "         5.6916e-01, 3.3354e-01, 7.8126e-01, 6.3975e-01, 5.0217e-01, 9.4608e-01,\n",
              "         4.7108e-01, 6.7575e-01, 3.5109e-01, 4.0929e-01, 4.7848e-01, 5.3364e-01,\n",
              "         7.1866e-01, 8.7717e-01, 8.0652e-01, 2.8970e-01, 9.4817e-01, 8.3773e-01,\n",
              "         6.8025e-01, 5.5457e-01, 2.1703e-01, 2.0158e-01, 5.0251e-01, 1.2809e-01,\n",
              "         6.7540e-01, 4.6131e-02, 5.4144e-02, 2.7542e-01, 7.8769e-01, 8.9150e-01,\n",
              "         7.9737e-02, 1.8423e-01, 6.1092e-01, 4.0887e-01, 9.0247e-02, 6.3890e-01,\n",
              "         8.3813e-02, 5.3129e-01, 7.0382e-01, 9.6120e-01, 7.3281e-02, 8.7335e-01,\n",
              "         5.6957e-01, 9.3533e-01, 9.9217e-01, 3.7530e-01, 4.2213e-01, 3.7913e-01,\n",
              "         8.9324e-01, 2.8348e-01, 8.3020e-01, 7.0564e-01, 9.7013e-01, 8.5415e-01,\n",
              "         9.0578e-01, 8.9023e-02, 2.3683e-01, 1.4525e-01, 7.4827e-01, 6.0172e-01,\n",
              "         6.9058e-01, 6.8766e-01, 5.2116e-01, 6.9081e-01, 2.2887e-01, 8.2485e-01,\n",
              "         6.9539e-02, 4.0571e-02, 6.6981e-01, 9.6941e-01, 3.1708e-01, 9.7099e-01,\n",
              "         3.2251e-01, 1.2004e-01, 4.2226e-01, 7.7652e-01, 2.3975e-01, 9.6889e-01,\n",
              "         2.7640e-01, 2.7868e-01, 2.9176e-01, 1.1918e-01, 9.6641e-01, 2.1751e-01,\n",
              "         2.7504e-01, 3.4850e-01, 9.2090e-01, 7.3326e-01, 6.8409e-01, 3.6852e-01,\n",
              "         7.5269e-01, 5.9070e-01, 8.9837e-01, 6.1100e-01, 8.6698e-01, 8.4506e-01,\n",
              "         5.8738e-01, 2.0866e-02, 6.0173e-01, 1.2275e-01, 5.8590e-01, 4.4401e-01,\n",
              "         8.9783e-01, 1.4110e-01, 8.1995e-02, 7.2285e-01, 8.3013e-01, 3.9118e-01,\n",
              "         6.3533e-01, 9.0128e-01, 5.4974e-01, 3.6025e-01, 7.8910e-01, 9.5063e-01,\n",
              "         4.1513e-01, 8.3925e-01, 5.4172e-01, 3.9531e-01, 4.5636e-01, 1.4612e-02,\n",
              "         7.3986e-01, 2.2785e-01, 7.4170e-02, 4.3068e-01, 2.9628e-01, 1.8175e-01,\n",
              "         3.9474e-01, 4.4723e-01, 6.5197e-01, 5.6853e-01, 4.3320e-01, 6.1007e-01,\n",
              "         1.7648e-01, 9.2308e-01, 7.4483e-01, 8.1631e-01, 5.4029e-02, 8.4129e-01,\n",
              "         5.8838e-01, 1.6817e-02, 9.7477e-01, 4.8954e-01, 5.9589e-01, 9.1365e-01,\n",
              "         8.2244e-01, 9.4484e-01, 3.3318e-02, 9.9432e-01, 6.2179e-01, 5.0649e-01,\n",
              "         1.0714e-01, 2.3112e-01, 9.8541e-01, 8.7176e-01, 8.8976e-01, 4.5798e-01,\n",
              "         2.2149e-01, 6.1675e-01, 2.6175e-01, 1.7453e-01, 6.6148e-01, 8.9218e-01,\n",
              "         1.1643e-01, 5.8039e-02, 5.6756e-01, 3.2383e-01, 2.3263e-01, 3.9766e-01,\n",
              "         4.7109e-01, 3.6133e-01, 8.7027e-01, 7.7707e-01, 6.5726e-01, 3.3966e-01,\n",
              "         4.5543e-01, 8.2416e-01, 5.4146e-01, 1.7635e-02, 5.4751e-01, 7.6182e-01,\n",
              "         3.7175e-01, 4.0666e-01, 4.3217e-01, 8.0727e-01, 9.1287e-01, 1.0762e-01,\n",
              "         8.2943e-01, 7.0475e-01, 6.7503e-01, 2.1597e-01, 2.1455e-01, 9.9648e-01,\n",
              "         6.2795e-01, 3.8872e-01, 3.9873e-01, 8.3476e-01, 3.7545e-01, 8.3781e-01,\n",
              "         3.5824e-01, 6.1819e-01, 6.3172e-01, 2.4388e-01, 5.1236e-01, 5.9987e-01,\n",
              "         1.0998e-02, 4.0153e-01, 5.4760e-01, 9.1182e-01, 6.1072e-01, 7.5020e-02,\n",
              "         3.5345e-01, 9.9504e-01, 4.3493e-01, 8.7721e-01, 5.5737e-01, 8.2809e-01,\n",
              "         2.8513e-01, 9.9120e-01, 6.0552e-01, 3.9763e-01, 8.8445e-01, 7.4657e-01,\n",
              "         1.6391e-01, 4.6405e-01, 8.5836e-01, 6.2457e-01, 3.4187e-01, 1.7446e-01,\n",
              "         1.4987e-01, 7.7794e-01, 7.2625e-01, 5.6935e-02, 3.9734e-01, 6.2655e-01,\n",
              "         5.7617e-02, 9.3090e-01, 4.4668e-01, 2.9689e-01, 5.5567e-01, 6.8064e-01,\n",
              "         6.1111e-01, 9.7417e-01, 7.8147e-01, 4.5157e-01, 5.8511e-01, 6.2116e-01,\n",
              "         3.0169e-01, 7.1557e-02, 4.4681e-01, 3.0955e-01, 2.7684e-02, 6.7831e-01,\n",
              "         2.9021e-01, 9.7871e-01, 6.7882e-01, 7.1293e-01, 6.4573e-01, 6.9500e-01,\n",
              "         8.2014e-01, 8.6731e-01, 4.7268e-01, 3.5826e-01, 6.3547e-01, 2.7440e-01,\n",
              "         4.7459e-01, 6.4599e-01, 7.2342e-01, 1.6364e-02, 6.9361e-01, 3.0641e-01,\n",
              "         1.4782e-01, 2.8706e-01, 4.8921e-01, 7.4624e-01, 5.4686e-02, 6.3581e-01,\n",
              "         9.5049e-01, 2.1751e-01, 6.1948e-01, 2.9899e-01, 6.2293e-01, 7.1651e-01,\n",
              "         1.9199e-01, 6.1965e-01, 9.9420e-01, 5.3508e-01, 1.4509e-01, 5.0625e-01,\n",
              "         6.1026e-01, 6.5396e-01, 4.6396e-01, 3.9284e-01, 2.5139e-01, 8.2310e-01,\n",
              "         2.1755e-01, 3.2981e-01, 8.3175e-01, 2.6503e-01, 4.3474e-01, 3.0065e-01,\n",
              "         5.6810e-02, 7.4103e-01, 2.7798e-01, 2.6927e-01, 3.8983e-01, 6.3699e-01,\n",
              "         9.3902e-01, 9.4226e-01, 5.0683e-01, 7.1167e-02, 5.3690e-01, 5.1155e-01,\n",
              "         9.2227e-01, 3.9665e-01, 3.0187e-02, 6.8165e-01, 3.9034e-01, 6.7447e-01,\n",
              "         6.5045e-01, 6.7823e-01, 7.7658e-01, 1.4947e-01, 9.2734e-02, 9.6813e-01,\n",
              "         9.5701e-01, 3.0262e-01, 9.7874e-01, 5.9871e-01, 3.6862e-01, 2.2921e-01,\n",
              "         2.3392e-01, 9.0120e-01, 1.9267e-01, 2.9491e-01, 9.9775e-01, 2.5575e-01,\n",
              "         9.9196e-01, 7.2330e-01, 7.4805e-01, 6.1386e-01, 4.1049e-01, 7.2292e-01,\n",
              "         6.4893e-01, 2.2721e-01, 8.8100e-02, 9.3632e-02, 4.3949e-01, 6.4300e-01,\n",
              "         1.8308e-01, 5.9212e-01, 7.8803e-01, 7.9408e-01, 3.1316e-01, 6.1462e-01,\n",
              "         5.6679e-02, 8.5972e-01, 1.0040e-01, 5.2775e-01, 3.4293e-01, 8.5430e-02,\n",
              "         6.6601e-02, 1.7879e-01, 1.3702e-01, 8.8156e-01, 4.2320e-01, 1.6618e-01,\n",
              "         5.0180e-01, 2.7428e-01, 4.2760e-01, 9.3000e-01, 5.8726e-02, 6.5641e-02,\n",
              "         6.2254e-01, 8.4850e-01, 2.4964e-02, 6.5709e-01, 9.9538e-01, 4.1967e-01,\n",
              "         2.0497e-01, 7.4529e-01, 7.8242e-01, 4.4809e-01, 9.2204e-02, 5.1939e-01,\n",
              "         1.7620e-01, 7.3148e-02, 8.1208e-01, 8.4340e-01, 7.0074e-01, 9.2018e-02,\n",
              "         9.2403e-01, 8.6630e-01, 9.2972e-01, 4.6677e-01, 4.0740e-01, 5.1573e-02,\n",
              "         8.6897e-01, 4.7378e-01, 5.4657e-05, 9.8888e-01, 4.3535e-01, 8.0072e-01,\n",
              "         4.2620e-01, 4.2134e-01, 9.3983e-01, 9.1514e-01, 2.6664e-01, 5.1562e-01,\n",
              "         8.3962e-01, 5.2403e-01, 4.0990e-01, 9.4671e-01, 9.4523e-01, 3.6597e-01,\n",
              "         8.7857e-01, 4.5048e-01, 5.1486e-01, 9.0109e-01, 4.6121e-01, 4.5026e-01,\n",
              "         3.9135e-01, 8.2542e-02, 8.8715e-01, 1.0773e-01, 1.1622e-01, 5.6767e-01,\n",
              "         4.4734e-01, 5.1960e-01, 5.3934e-01, 9.9556e-01, 1.4536e-02, 1.9938e-01,\n",
              "         5.9223e-01, 5.4882e-02, 1.0499e-01, 8.8312e-01, 6.9360e-01, 3.4491e-01,\n",
              "         6.3195e-01, 5.8745e-01, 4.5074e-01, 9.1521e-01, 4.9987e-01, 8.5472e-01,\n",
              "         1.1080e-01, 2.9685e-01, 5.8457e-01, 7.6709e-01, 2.9656e-01, 8.6071e-01,\n",
              "         8.5192e-02, 3.0927e-01, 8.7589e-01, 1.2640e-01, 3.1069e-02, 3.7380e-01,\n",
              "         8.3433e-02, 6.4874e-01, 4.1209e-01, 3.5282e-01, 7.7651e-01, 5.2909e-01,\n",
              "         4.9220e-02, 2.6193e-02, 8.1402e-01, 7.1563e-01, 7.7476e-01, 7.5348e-02,\n",
              "         4.0338e-01, 9.2719e-01, 9.0387e-01, 8.3992e-01, 9.6417e-01, 3.4332e-01,\n",
              "         1.1292e-01, 7.8108e-01, 8.1880e-01, 3.4900e-01, 4.5332e-01, 4.7592e-01,\n",
              "         5.6462e-02, 2.9290e-01, 3.4156e-01, 6.8666e-01, 3.5411e-01, 7.2566e-01,\n",
              "         9.5022e-01, 3.9342e-01, 3.7813e-01, 1.8595e-01, 4.6184e-01, 4.2435e-02,\n",
              "         8.3796e-01, 9.3131e-01, 6.3335e-01, 9.7288e-01, 7.5185e-01, 8.3144e-01,\n",
              "         9.6181e-01, 1.5623e-01, 4.6077e-01, 6.8784e-01, 3.6617e-01, 1.4532e-01,\n",
              "         3.4300e-01, 2.5214e-01, 3.2463e-01, 1.1910e-01, 3.4918e-01, 7.8649e-01,\n",
              "         2.8055e-01, 7.1298e-01, 8.8812e-02, 1.8493e-01, 5.5182e-01, 9.6303e-01,\n",
              "         3.8242e-02, 7.1764e-01, 5.8745e-01, 9.1447e-02, 1.3697e-01, 7.5191e-01,\n",
              "         2.5017e-01, 8.5040e-01, 1.5423e-01, 8.7772e-01, 2.4492e-01, 7.0254e-01,\n",
              "         6.4960e-01, 1.0766e-01, 2.3778e-01, 3.7888e-01, 5.0159e-01, 7.4694e-01,\n",
              "         2.9447e-01, 5.7356e-01, 2.2877e-01, 2.6233e-01, 8.2629e-01, 3.6306e-01,\n",
              "         6.1883e-02, 5.2100e-01, 4.2872e-01, 6.4214e-01, 2.4494e-01, 5.2154e-01,\n",
              "         2.5333e-01, 1.9782e-01, 6.1430e-01, 6.5454e-01, 5.9250e-01, 9.6186e-01,\n",
              "         5.4635e-01, 5.4252e-01, 4.3463e-01, 1.6600e-02, 6.9556e-01, 8.8978e-01,\n",
              "         5.4955e-01, 1.1005e-01, 9.4894e-01, 6.1201e-01, 8.6165e-01, 7.1716e-01,\n",
              "         5.7887e-01, 3.5268e-01, 6.0265e-01, 6.6088e-01, 4.6969e-01, 1.8063e-01,\n",
              "         2.3723e-01, 4.1725e-02, 3.0445e-01, 4.1939e-01, 9.0894e-01, 2.3254e-01,\n",
              "         8.0135e-03, 7.7405e-01, 9.3110e-01, 1.1001e-01, 4.9501e-01, 6.5896e-01,\n",
              "         8.2234e-01, 4.1024e-01, 7.2773e-01, 8.8417e-01, 7.9260e-01, 7.4361e-01,\n",
              "         8.0407e-01, 5.1948e-02, 6.0631e-01, 8.8559e-01, 1.0384e-01, 6.1715e-02,\n",
              "         8.7101e-02, 6.5352e-01, 9.6403e-01, 4.5465e-01, 3.0124e-01, 5.2959e-01,\n",
              "         8.7734e-02, 5.8655e-01, 1.7128e-01, 1.6346e-01, 1.3527e-01, 3.5844e-01,\n",
              "         8.2585e-01, 6.0156e-01, 8.4797e-01, 1.7619e-02, 9.2805e-02, 8.0636e-01,\n",
              "         8.9386e-01, 9.2462e-01, 3.5638e-02, 7.2396e-01, 6.9643e-03, 3.5213e-01,\n",
              "         5.1013e-01, 7.3381e-01, 3.4726e-01, 6.7667e-02, 1.4130e-02, 2.9949e-01,\n",
              "         8.8104e-01, 7.1694e-01, 7.4732e-01, 9.5620e-02, 5.0733e-02, 9.6263e-01,\n",
              "         8.2660e-01, 2.8449e-01, 5.4204e-01, 8.6021e-01, 9.5009e-01, 9.7683e-02,\n",
              "         2.5219e-01, 6.9430e-01, 8.8202e-01, 5.8699e-01, 4.6914e-01, 5.1937e-01,\n",
              "         9.5500e-01, 1.0744e-01, 7.2779e-01, 1.4203e-01, 5.4754e-01, 2.7675e-02,\n",
              "         8.2384e-01, 2.2142e-01, 5.3321e-01, 1.8642e-01, 5.4579e-01, 2.5652e-01,\n",
              "         2.4429e-01, 2.8332e-01, 8.1023e-01, 5.6987e-01]])"
            ]
          },
          "metadata": {},
          "execution_count": 73
        }
      ]
    }
  ]
}