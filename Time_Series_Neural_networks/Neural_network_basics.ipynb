{
 "cells": [
  {
   "cell_type": "code",
   "execution_count": 1,
   "id": "51c6e772",
   "metadata": {
    "scrolled": true
   },
   "outputs": [],
   "source": [
    "import matplotlib.pyplot as plt\n",
    "import keras\n",
    "import numpy as np\n",
    "import pandas as pd"
   ]
  },
  {
   "cell_type": "markdown",
   "id": "08e689fd",
   "metadata": {},
   "source": [
    "### Creating a function y=mx+b+noise"
   ]
  },
  {
   "cell_type": "code",
   "execution_count": 2,
   "id": "56a9610c",
   "metadata": {},
   "outputs": [],
   "source": [
    "m=2\n",
    "b=3\n",
    "x=np.linspace(0,50,100)\n",
    "np.random.seed(101)\n",
    "noise=np.random.normal(2,2,size=len(x))"
   ]
  },
  {
   "cell_type": "code",
   "execution_count": 3,
   "id": "f8c105cf",
   "metadata": {},
   "outputs": [],
   "source": [
    "y=m*x+b+noise"
   ]
  },
  {
   "cell_type": "code",
   "execution_count": 4,
   "id": "d1acae58",
   "metadata": {},
   "outputs": [
    {
     "data": {
      "text/plain": [
       "[<matplotlib.lines.Line2D at 0x1a61fbed588>]"
      ]
     },
     "execution_count": 4,
     "metadata": {},
     "output_type": "execute_result"
    },
    {
     "data": {
      "image/png": "[encoded data removed]",
      "text/plain": [
       "<Figure size 640x480 with 1 Axes>"
      ]
     },
     "metadata": {},
     "output_type": "display_data"
    }
   ],
   "source": [
    "plt.plot(x,y,'*')"
   ]
  },
  {
   "cell_type": "markdown",
   "id": "5c9bebef",
   "metadata": {},
   "source": [
    "### Now building a keras model"
   ]
  },
  {
   "cell_type": "code",
   "execution_count": 6,
   "id": "94c31935",
   "metadata": {},
   "outputs": [],
   "source": [
    "from keras.models import Sequential\n",
    "from keras.layers import Dense"
   ]
  },
  {
   "cell_type": "code",
   "execution_count": 9,
   "id": "e5cadd59",
   "metadata": {},
   "outputs": [],
   "source": [
    "model=Sequential()\n",
    "model.add(Dense(4,activation='relu',input_dim=1))\n",
    "model.add(Dense(4,activation='relu'))\n",
    "model.add(Dense(1,activation='linear'))"
   ]
  },
  {
   "cell_type": "code",
   "execution_count": 11,
   "id": "419ada0f",
   "metadata": {},
   "outputs": [],
   "source": [
    "model.compile(loss='mse',optimizer='adam')"
   ]
  },
  {
   "cell_type": "code",
   "execution_count": 12,
   "id": "f3c8ba28",
   "metadata": {},
   "outputs": [
    {
     "name": "stdout",
     "output_type": "stream",
     "text": [
      "Model: \"sequential_2\"\n",
      "_________________________________________________________________\n",
      " Layer (type)                Output Shape              Param #   \n",
      "=================================================================\n",
      " dense_1 (Dense)             (None, 4)                 8         \n",
      "                                                                 \n",
      " dense_2 (Dense)             (None, 4)                 20        \n",
      "                                                                 \n",
      " dense_3 (Dense)             (None, 1)                 5         \n",
      "                                                                 \n",
      "=================================================================\n",
      "Total params: 33\n",
      "Trainable params: 33\n",
      "Non-trainable params: 0\n",
      "_________________________________________________________________\n"
     ]
    }
   ],
   "source": [
    "model.summary()"
   ]
  },
  {
   "cell_type": "code",
   "execution_count": 14,
   "id": "2da22e47",
   "metadata": {},
   "outputs": [
    {
     "name": "stdout",
     "output_type": "stream",
     "text": [
      "Epoch 1/200\n",
      "4/4 [==============================] - 1s 5ms/step - loss: 4086.7000\n",
      "Epoch 2/200\n",
      "4/4 [==============================] - 0s 3ms/step - loss: 4069.5425\n",
      "Epoch 3/200\n",
      "4/4 [==============================] - 0s 5ms/step - loss: 4052.3423\n",
      "Epoch 4/200\n",
      "4/4 [==============================] - 0s 6ms/step - loss: 4035.2793\n",
      "Epoch 5/200\n",
      "4/4 [==============================] - 0s 6ms/step - loss: 4018.6462\n",
      "Epoch 6/200\n",
      "4/4 [==============================] - 0s 7ms/step - loss: 4001.1709\n",
      "Epoch 7/200\n",
      "4/4 [==============================] - 0s 7ms/step - loss: 3984.5493\n",
      "Epoch 8/200\n",
      "4/4 [==============================] - 0s 5ms/step - loss: 3967.1570\n",
      "Epoch 9/200\n",
      "4/4 [==============================] - 0s 7ms/step - loss: 3949.9902\n",
      "Epoch 10/200\n",
      "4/4 [==============================] - 0s 6ms/step - loss: 3934.2185\n",
      "Epoch 11/200\n",
      "4/4 [==============================] - 0s 5ms/step - loss: 3918.0889\n",
      "Epoch 12/200\n",
      "4/4 [==============================] - 0s 5ms/step - loss: 3901.0830\n",
      "Epoch 13/200\n",
      "4/4 [==============================] - 0s 5ms/step - loss: 3884.6274\n",
      "Epoch 14/200\n",
      "4/4 [==============================] - 0s 6ms/step - loss: 3867.5144\n",
      "Epoch 15/200\n",
      "4/4 [==============================] - 0s 6ms/step - loss: 3849.1450\n",
      "Epoch 16/200\n",
      "4/4 [==============================] - 0s 6ms/step - loss: 3831.8545\n",
      "Epoch 17/200\n",
      "4/4 [==============================] - 0s 6ms/step - loss: 3813.1313\n",
      "Epoch 18/200\n",
      "4/4 [==============================] - 0s 6ms/step - loss: 3794.9211\n",
      "Epoch 19/200\n",
      "4/4 [==============================] - 0s 5ms/step - loss: 3776.1013\n",
      "Epoch 20/200\n",
      "4/4 [==============================] - 0s 7ms/step - loss: 3757.1553\n",
      "Epoch 21/200\n",
      "4/4 [==============================] - 0s 6ms/step - loss: 3738.7156\n",
      "Epoch 22/200\n",
      "4/4 [==============================] - 0s 8ms/step - loss: 3718.8137\n",
      "Epoch 23/200\n",
      "4/4 [==============================] - 0s 5ms/step - loss: 3699.4873\n",
      "Epoch 24/200\n",
      "4/4 [==============================] - 0s 7ms/step - loss: 3679.1428\n",
      "Epoch 25/200\n",
      "4/4 [==============================] - 0s 6ms/step - loss: 3656.5398\n",
      "Epoch 26/200\n",
      "4/4 [==============================] - 0s 5ms/step - loss: 3634.9573\n",
      "Epoch 27/200\n",
      "4/4 [==============================] - 0s 6ms/step - loss: 3612.3918\n",
      "Epoch 28/200\n",
      "4/4 [==============================] - 0s 6ms/step - loss: 3589.2351\n",
      "Epoch 29/200\n",
      "4/4 [==============================] - 0s 6ms/step - loss: 3564.9509\n",
      "Epoch 30/200\n",
      "4/4 [==============================] - 0s 5ms/step - loss: 3540.0186\n",
      "Epoch 31/200\n",
      "4/4 [==============================] - 0s 4ms/step - loss: 3514.6719\n",
      "Epoch 32/200\n",
      "4/4 [==============================] - 0s 7ms/step - loss: 3487.6938\n",
      "Epoch 33/200\n",
      "4/4 [==============================] - 0s 7ms/step - loss: 3459.9688\n",
      "Epoch 34/200\n",
      "4/4 [==============================] - 0s 6ms/step - loss: 3433.2769\n",
      "Epoch 35/200\n",
      "4/4 [==============================] - 0s 10ms/step - loss: 3410.2141\n",
      "Epoch 36/200\n",
      "4/4 [==============================] - 0s 7ms/step - loss: 3385.0635\n",
      "Epoch 37/200\n",
      "4/4 [==============================] - 0s 8ms/step - loss: 3360.2854\n",
      "Epoch 38/200\n",
      "4/4 [==============================] - 0s 6ms/step - loss: 3334.3440\n",
      "Epoch 39/200\n",
      "4/4 [==============================] - 0s 9ms/step - loss: 3306.7368\n",
      "Epoch 40/200\n",
      "4/4 [==============================] - 0s 8ms/step - loss: 3280.1968\n",
      "Epoch 41/200\n",
      "4/4 [==============================] - 0s 7ms/step - loss: 3252.2937\n",
      "Epoch 42/200\n",
      "4/4 [==============================] - 0s 5ms/step - loss: 3223.1663\n",
      "Epoch 43/200\n",
      "4/4 [==============================] - 0s 4ms/step - loss: 3193.6594\n",
      "Epoch 44/200\n",
      "4/4 [==============================] - 0s 6ms/step - loss: 3162.7229\n",
      "Epoch 45/200\n",
      "4/4 [==============================] - 0s 6ms/step - loss: 3131.0144\n",
      "Epoch 46/200\n",
      "4/4 [==============================] - 0s 6ms/step - loss: 3099.0398\n",
      "Epoch 47/200\n",
      "4/4 [==============================] - 0s 8ms/step - loss: 3066.5347\n",
      "Epoch 48/200\n",
      "4/4 [==============================] - 0s 7ms/step - loss: 3034.3962\n",
      "Epoch 49/200\n",
      "4/4 [==============================] - 0s 4ms/step - loss: 3000.2788\n",
      "Epoch 50/200\n",
      "4/4 [==============================] - 0s 5ms/step - loss: 2964.6882\n",
      "Epoch 51/200\n",
      "4/4 [==============================] - 0s 5ms/step - loss: 2928.9851\n",
      "Epoch 52/200\n",
      "4/4 [==============================] - 0s 5ms/step - loss: 2892.4116\n",
      "Epoch 53/200\n",
      "4/4 [==============================] - 0s 6ms/step - loss: 2854.9788\n",
      "Epoch 54/200\n",
      "4/4 [==============================] - 0s 5ms/step - loss: 2817.2576\n",
      "Epoch 55/200\n",
      "4/4 [==============================] - 0s 6ms/step - loss: 2778.5347\n",
      "Epoch 56/200\n",
      "4/4 [==============================] - 0s 4ms/step - loss: 2740.6226\n",
      "Epoch 57/200\n",
      "4/4 [==============================] - 0s 4ms/step - loss: 2703.0544\n",
      "Epoch 58/200\n",
      "4/4 [==============================] - 0s 4ms/step - loss: 2665.8877\n",
      "Epoch 59/200\n",
      "4/4 [==============================] - 0s 4ms/step - loss: 2626.7073\n",
      "Epoch 60/200\n",
      "4/4 [==============================] - 0s 4ms/step - loss: 2588.2461\n",
      "Epoch 61/200\n",
      "4/4 [==============================] - 0s 4ms/step - loss: 2545.0081\n",
      "Epoch 62/200\n",
      "4/4 [==============================] - 0s 4ms/step - loss: 2502.9485\n",
      "Epoch 63/200\n",
      "4/4 [==============================] - 0s 4ms/step - loss: 2460.4343\n",
      "Epoch 64/200\n",
      "4/4 [==============================] - 0s 5ms/step - loss: 2419.3274\n",
      "Epoch 65/200\n",
      "4/4 [==============================] - 0s 4ms/step - loss: 2377.0974\n",
      "Epoch 66/200\n",
      "4/4 [==============================] - 0s 4ms/step - loss: 2332.2114\n",
      "Epoch 67/200\n",
      "4/4 [==============================] - 0s 4ms/step - loss: 2287.9910\n",
      "Epoch 68/200\n",
      "4/4 [==============================] - 0s 3ms/step - loss: 2246.1313\n",
      "Epoch 69/200\n",
      "4/4 [==============================] - 0s 4ms/step - loss: 2204.8552\n",
      "Epoch 70/200\n",
      "4/4 [==============================] - 0s 4ms/step - loss: 2162.4583\n",
      "Epoch 71/200\n",
      "4/4 [==============================] - 0s 4ms/step - loss: 2120.2014\n",
      "Epoch 72/200\n",
      "4/4 [==============================] - 0s 4ms/step - loss: 2078.4573\n",
      "Epoch 73/200\n",
      "4/4 [==============================] - 0s 4ms/step - loss: 2031.7952\n",
      "Epoch 74/200\n",
      "4/4 [==============================] - 0s 4ms/step - loss: 1987.6753\n",
      "Epoch 75/200\n",
      "4/4 [==============================] - 0s 4ms/step - loss: 1942.0077\n",
      "Epoch 76/200\n",
      "4/4 [==============================] - 0s 4ms/step - loss: 1896.4353\n",
      "Epoch 77/200\n",
      "4/4 [==============================] - 0s 3ms/step - loss: 1850.7946\n",
      "Epoch 78/200\n",
      "4/4 [==============================] - 0s 4ms/step - loss: 1805.7070\n",
      "Epoch 79/200\n",
      "4/4 [==============================] - 0s 4ms/step - loss: 1759.9108\n",
      "Epoch 80/200\n",
      "4/4 [==============================] - 0s 4ms/step - loss: 1715.6975\n",
      "Epoch 81/200\n",
      "4/4 [==============================] - 0s 4ms/step - loss: 1670.8721\n",
      "Epoch 82/200\n",
      "4/4 [==============================] - 0s 4ms/step - loss: 1626.4418\n",
      "Epoch 83/200\n",
      "4/4 [==============================] - 0s 4ms/step - loss: 1579.2451\n",
      "Epoch 84/200\n",
      "4/4 [==============================] - 0s 5ms/step - loss: 1536.0040\n",
      "Epoch 85/200\n",
      "4/4 [==============================] - 0s 4ms/step - loss: 1488.5149\n",
      "Epoch 86/200\n",
      "4/4 [==============================] - 0s 5ms/step - loss: 1443.9883\n",
      "Epoch 87/200\n",
      "4/4 [==============================] - 0s 4ms/step - loss: 1398.0027\n",
      "Epoch 88/200\n",
      "4/4 [==============================] - 0s 5ms/step - loss: 1353.3198\n",
      "Epoch 89/200\n",
      "4/4 [==============================] - 0s 4ms/step - loss: 1308.4226\n",
      "Epoch 90/200\n",
      "4/4 [==============================] - 0s 4ms/step - loss: 1263.4441\n",
      "Epoch 91/200\n",
      "4/4 [==============================] - 0s 4ms/step - loss: 1218.3242\n",
      "Epoch 92/200\n",
      "4/4 [==============================] - 0s 3ms/step - loss: 1175.8347\n",
      "Epoch 93/200\n",
      "4/4 [==============================] - 0s 5ms/step - loss: 1131.9546\n",
      "Epoch 94/200\n",
      "4/4 [==============================] - 0s 4ms/step - loss: 1090.5060\n",
      "Epoch 95/200\n",
      "4/4 [==============================] - 0s 4ms/step - loss: 1049.9918\n",
      "Epoch 96/200\n",
      "4/4 [==============================] - 0s 5ms/step - loss: 1010.2367\n",
      "Epoch 97/200\n",
      "4/4 [==============================] - 0s 8ms/step - loss: 971.5906\n",
      "Epoch 98/200\n",
      "4/4 [==============================] - 0s 4ms/step - loss: 930.2347\n",
      "Epoch 99/200\n",
      "4/4 [==============================] - 0s 4ms/step - loss: 890.0881\n",
      "Epoch 100/200\n",
      "4/4 [==============================] - 0s 4ms/step - loss: 849.8254\n",
      "Epoch 101/200\n"
     ]
    },
    {
     "name": "stdout",
     "output_type": "stream",
     "text": [
      "4/4 [==============================] - 0s 4ms/step - loss: 813.1456\n",
      "Epoch 102/200\n",
      "4/4 [==============================] - 0s 3ms/step - loss: 776.9039\n",
      "Epoch 103/200\n",
      "4/4 [==============================] - 0s 4ms/step - loss: 741.5235\n",
      "Epoch 104/200\n",
      "4/4 [==============================] - 0s 4ms/step - loss: 708.6373\n",
      "Epoch 105/200\n",
      "4/4 [==============================] - 0s 4ms/step - loss: 675.1184\n",
      "Epoch 106/200\n",
      "4/4 [==============================] - 0s 5ms/step - loss: 642.1930\n",
      "Epoch 107/200\n",
      "4/4 [==============================] - 0s 4ms/step - loss: 610.8748\n",
      "Epoch 108/200\n",
      "4/4 [==============================] - 0s 4ms/step - loss: 581.8170\n",
      "Epoch 109/200\n",
      "4/4 [==============================] - 0s 4ms/step - loss: 551.2601\n",
      "Epoch 110/200\n",
      "4/4 [==============================] - 0s 4ms/step - loss: 522.8727\n",
      "Epoch 111/200\n",
      "4/4 [==============================] - 0s 5ms/step - loss: 495.4874\n",
      "Epoch 112/200\n",
      "4/4 [==============================] - 0s 5ms/step - loss: 468.5746\n",
      "Epoch 113/200\n",
      "4/4 [==============================] - 0s 3ms/step - loss: 442.0284\n",
      "Epoch 114/200\n",
      "4/4 [==============================] - 0s 5ms/step - loss: 416.2220\n",
      "Epoch 115/200\n",
      "4/4 [==============================] - 0s 5ms/step - loss: 392.0243\n",
      "Epoch 116/200\n",
      "4/4 [==============================] - 0s 4ms/step - loss: 369.7834\n",
      "Epoch 117/200\n",
      "4/4 [==============================] - 0s 5ms/step - loss: 348.1396\n",
      "Epoch 118/200\n",
      "4/4 [==============================] - 0s 3ms/step - loss: 327.4994\n",
      "Epoch 119/200\n",
      "4/4 [==============================] - 0s 5ms/step - loss: 307.3645\n",
      "Epoch 120/200\n",
      "4/4 [==============================] - 0s 4ms/step - loss: 288.1599\n",
      "Epoch 121/200\n",
      "4/4 [==============================] - 0s 6ms/step - loss: 269.5295\n",
      "Epoch 122/200\n",
      "4/4 [==============================] - 0s 4ms/step - loss: 251.8976\n",
      "Epoch 123/200\n",
      "4/4 [==============================] - 0s 5ms/step - loss: 235.2560\n",
      "Epoch 124/200\n",
      "4/4 [==============================] - 0s 6ms/step - loss: 218.9922\n",
      "Epoch 125/200\n",
      "4/4 [==============================] - 0s 4ms/step - loss: 204.3861\n",
      "Epoch 126/200\n",
      "4/4 [==============================] - 0s 4ms/step - loss: 189.1905\n",
      "Epoch 127/200\n",
      "4/4 [==============================] - 0s 4ms/step - loss: 175.8038\n",
      "Epoch 128/200\n",
      "4/4 [==============================] - 0s 4ms/step - loss: 162.6600\n",
      "Epoch 129/200\n",
      "4/4 [==============================] - 0s 5ms/step - loss: 150.2860\n",
      "Epoch 130/200\n",
      "4/4 [==============================] - 0s 5ms/step - loss: 138.7635\n",
      "Epoch 131/200\n",
      "4/4 [==============================] - 0s 4ms/step - loss: 128.3305\n",
      "Epoch 132/200\n",
      "4/4 [==============================] - 0s 4ms/step - loss: 118.6226\n",
      "Epoch 133/200\n",
      "4/4 [==============================] - 0s 5ms/step - loss: 109.4661\n",
      "Epoch 134/200\n",
      "4/4 [==============================] - 0s 3ms/step - loss: 100.2237\n",
      "Epoch 135/200\n",
      "4/4 [==============================] - 0s 4ms/step - loss: 91.7737\n",
      "Epoch 136/200\n",
      "4/4 [==============================] - 0s 4ms/step - loss: 84.0346\n",
      "Epoch 137/200\n",
      "4/4 [==============================] - 0s 4ms/step - loss: 76.5238\n",
      "Epoch 138/200\n",
      "4/4 [==============================] - 0s 3ms/step - loss: 70.0665\n",
      "Epoch 139/200\n",
      "4/4 [==============================] - 0s 4ms/step - loss: 63.9455\n",
      "Epoch 140/200\n",
      "4/4 [==============================] - 0s 4ms/step - loss: 58.3494\n",
      "Epoch 141/200\n",
      "4/4 [==============================] - 0s 4ms/step - loss: 53.3514\n",
      "Epoch 142/200\n",
      "4/4 [==============================] - 0s 4ms/step - loss: 48.7809\n",
      "Epoch 143/200\n",
      "4/4 [==============================] - 0s 4ms/step - loss: 44.4231\n",
      "Epoch 144/200\n",
      "4/4 [==============================] - 0s 5ms/step - loss: 40.7258\n",
      "Epoch 145/200\n",
      "4/4 [==============================] - 0s 3ms/step - loss: 37.2749\n",
      "Epoch 146/200\n",
      "4/4 [==============================] - 0s 3ms/step - loss: 34.1586\n",
      "Epoch 147/200\n",
      "4/4 [==============================] - 0s 4ms/step - loss: 31.3069\n",
      "Epoch 148/200\n",
      "4/4 [==============================] - 0s 3ms/step - loss: 28.8134\n",
      "Epoch 149/200\n",
      "4/4 [==============================] - 0s 5ms/step - loss: 26.6436\n",
      "Epoch 150/200\n",
      "4/4 [==============================] - 0s 3ms/step - loss: 24.5375\n",
      "Epoch 151/200\n",
      "4/4 [==============================] - 0s 4ms/step - loss: 22.7252\n",
      "Epoch 152/200\n",
      "4/4 [==============================] - 0s 4ms/step - loss: 21.0282\n",
      "Epoch 153/200\n",
      "4/4 [==============================] - 0s 4ms/step - loss: 19.5948\n",
      "Epoch 154/200\n",
      "4/4 [==============================] - 0s 3ms/step - loss: 18.2568\n",
      "Epoch 155/200\n",
      "4/4 [==============================] - 0s 4ms/step - loss: 17.0559\n",
      "Epoch 156/200\n",
      "4/4 [==============================] - 0s 4ms/step - loss: 16.0247\n",
      "Epoch 157/200\n",
      "4/4 [==============================] - 0s 5ms/step - loss: 14.9890\n",
      "Epoch 158/200\n",
      "4/4 [==============================] - 0s 3ms/step - loss: 14.1074\n",
      "Epoch 159/200\n",
      "4/4 [==============================] - 0s 4ms/step - loss: 13.3216\n",
      "Epoch 160/200\n",
      "4/4 [==============================] - 0s 4ms/step - loss: 12.6158\n",
      "Epoch 161/200\n",
      "4/4 [==============================] - 0s 4ms/step - loss: 11.9516\n",
      "Epoch 162/200\n",
      "4/4 [==============================] - 0s 3ms/step - loss: 11.3527\n",
      "Epoch 163/200\n",
      "4/4 [==============================] - 0s 4ms/step - loss: 10.8445\n",
      "Epoch 164/200\n",
      "4/4 [==============================] - 0s 4ms/step - loss: 10.4095\n",
      "Epoch 165/200\n",
      "4/4 [==============================] - 0s 3ms/step - loss: 9.9713\n",
      "Epoch 166/200\n",
      "4/4 [==============================] - 0s 3ms/step - loss: 9.6386\n",
      "Epoch 167/200\n",
      "4/4 [==============================] - 0s 3ms/step - loss: 9.3079\n",
      "Epoch 168/200\n",
      "4/4 [==============================] - 0s 3ms/step - loss: 9.0219\n",
      "Epoch 169/200\n",
      "4/4 [==============================] - 0s 3ms/step - loss: 8.7995\n",
      "Epoch 170/200\n",
      "4/4 [==============================] - 0s 4ms/step - loss: 8.5760\n",
      "Epoch 171/200\n",
      "4/4 [==============================] - 0s 4ms/step - loss: 8.3918\n",
      "Epoch 172/200\n",
      "4/4 [==============================] - 0s 4ms/step - loss: 8.2436\n",
      "Epoch 173/200\n",
      "4/4 [==============================] - 0s 4ms/step - loss: 8.0812\n",
      "Epoch 174/200\n",
      "4/4 [==============================] - 0s 4ms/step - loss: 7.9488\n",
      "Epoch 175/200\n",
      "4/4 [==============================] - 0s 4ms/step - loss: 7.8460\n",
      "Epoch 176/200\n",
      "4/4 [==============================] - 0s 3ms/step - loss: 7.7387\n",
      "Epoch 177/200\n",
      "4/4 [==============================] - 0s 3ms/step - loss: 7.6652\n",
      "Epoch 178/200\n",
      "4/4 [==============================] - 0s 4ms/step - loss: 7.5974\n",
      "Epoch 179/200\n",
      "4/4 [==============================] - 0s 5ms/step - loss: 7.5265\n",
      "Epoch 180/200\n",
      "4/4 [==============================] - 0s 3ms/step - loss: 7.4787\n",
      "Epoch 181/200\n",
      "4/4 [==============================] - 0s 3ms/step - loss: 7.4202\n",
      "Epoch 182/200\n",
      "4/4 [==============================] - 0s 3ms/step - loss: 7.3794\n",
      "Epoch 183/200\n",
      "4/4 [==============================] - 0s 4ms/step - loss: 7.3313\n",
      "Epoch 184/200\n",
      "4/4 [==============================] - 0s 5ms/step - loss: 7.2947\n",
      "Epoch 185/200\n",
      "4/4 [==============================] - 0s 3ms/step - loss: 7.2577\n",
      "Epoch 186/200\n",
      "4/4 [==============================] - 0s 4ms/step - loss: 7.2326\n",
      "Epoch 187/200\n",
      "4/4 [==============================] - 0s 3ms/step - loss: 7.2120\n",
      "Epoch 188/200\n",
      "4/4 [==============================] - 0s 3ms/step - loss: 7.1935\n",
      "Epoch 189/200\n",
      "4/4 [==============================] - 0s 4ms/step - loss: 7.1689\n",
      "Epoch 190/200\n",
      "4/4 [==============================] - 0s 4ms/step - loss: 7.1522\n",
      "Epoch 191/200\n",
      "4/4 [==============================] - 0s 3ms/step - loss: 7.1296\n",
      "Epoch 192/200\n",
      "4/4 [==============================] - 0s 3ms/step - loss: 7.1088\n",
      "Epoch 193/200\n",
      "4/4 [==============================] - 0s 3ms/step - loss: 7.0854\n",
      "Epoch 194/200\n",
      "4/4 [==============================] - 0s 3ms/step - loss: 7.0752\n",
      "Epoch 195/200\n",
      "4/4 [==============================] - 0s 4ms/step - loss: 7.0631\n",
      "Epoch 196/200\n",
      "4/4 [==============================] - 0s 4ms/step - loss: 7.0595\n",
      "Epoch 197/200\n",
      "4/4 [==============================] - 0s 4ms/step - loss: 7.0439\n",
      "Epoch 198/200\n",
      "4/4 [==============================] - 0s 3ms/step - loss: 7.0372\n",
      "Epoch 199/200\n",
      "4/4 [==============================] - 0s 3ms/step - loss: 7.0328\n",
      "Epoch 200/200\n",
      "4/4 [==============================] - 0s 4ms/step - loss: 7.0258\n"
     ]
    },
    {
     "data": {
      "text/plain": [
       "<keras.callbacks.History at 0x1a620044198>"
      ]
     },
     "execution_count": 14,
     "metadata": {},
     "output_type": "execute_result"
    }
   ],
   "source": [
    "model.fit(x,y,epochs=200)"
   ]
  },
  {
   "cell_type": "code",
   "execution_count": 16,
   "id": "dce4f52e",
   "metadata": {},
   "outputs": [],
   "source": [
    "loss=model.history.history['loss']"
   ]
  },
  {
   "cell_type": "code",
   "execution_count": 25,
   "id": "bc721ed9",
   "metadata": {},
   "outputs": [],
   "source": [
    "X=np.arange(1,len(loss)+1)"
   ]
  },
  {
   "cell_type": "code",
   "execution_count": 26,
   "id": "3b69d1ce",
   "metadata": {},
   "outputs": [
    {
     "data": {
      "text/plain": [
       "[<matplotlib.lines.Line2D at 0x1a6214bec88>]"
      ]
     },
     "execution_count": 26,
     "metadata": {},
     "output_type": "execute_result"
    },
    {
     "data": {
      "image/png": "[encoded data removed]",
      "text/plain": [
       "<Figure size 640x480 with 1 Axes>"
      ]
     },
     "metadata": {},
     "output_type": "display_data"
    }
   ],
   "source": [
    "plt.plot(X,loss)"
   ]
  },
  {
   "cell_type": "code",
   "execution_count": 27,
   "id": "5ce63e8e",
   "metadata": {},
   "outputs": [
    {
     "name": "stdout",
     "output_type": "stream",
     "text": [
      "4/4 [==============================] - 0s 3ms/step\n"
     ]
    }
   ],
   "source": [
    "X_test=np.linspace(0,50,100)\n",
    "y_preds=model.predict(X_test)"
   ]
  },
  {
   "cell_type": "code",
   "execution_count": 39,
   "id": "584357d1",
   "metadata": {},
   "outputs": [
    {
     "data": {
      "image/png": "[encoded data removed]",
      "text/plain": [
       "<Figure size 640x480 with 1 Axes>"
      ]
     },
     "metadata": {},
     "output_type": "display_data"
    }
   ],
   "source": [
    "plt.plot(x,y,'*')\n",
    "plt.plot(X_test,y_preds,ls='--',color='r')\n",
    "plt.title('Model of best fit')\n",
    "plt.xlabel('x-->')\n",
    "plt.ylabel('y-->')\n",
    "plt.show()"
   ]
  },
  {
   "cell_type": "code",
   "execution_count": null,
   "id": "f1c44e05",
   "metadata": {},
   "outputs": [],
   "source": []
  },
  {
   "cell_type": "code",
   "execution_count": null,
   "id": "e9102a7f",
   "metadata": {},
   "outputs": [],
   "source": []
  }
 ],
 "metadata": {
  "kernelspec": {
   "display_name": "Python 3 (ipykernel)",
   "language": "python",
   "name": "python3"
  },
  "language_info": {
   "codemirror_mode": {
    "name": "ipython",
    "version": 3
   },
   "file_extension": ".py",
   "mimetype": "text/x-python",
   "name": "python",
   "nbconvert_exporter": "python",
   "pygments_lexer": "ipython3",
   "version": "3.7.2"
  }
 },
 "nbformat": 4,
 "nbformat_minor": 5
}
