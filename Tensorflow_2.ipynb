{
  "nbformat": 4,
  "nbformat_minor": 0,
  "metadata": {
    "colab": {
      "provenance": [],
      "authorship_tag": "ABX9TyPW/eWx3CkK0k+THvbDh7w5",
      "include_colab_link": true
    },
    "kernelspec": {
      "name": "python3",
      "display_name": "Python 3"
    },
    "language_info": {
      "name": "python"
    }
  },
  "cells": [
    {
      "cell_type": "markdown",
      "metadata": {
        "id": "view-in-github",
        "colab_type": "text"
      },
      "source": [
        "<a href=\"https://colab.research.google.com/github/gmehra123/data_science_projs/blob/main/Tensorflow_2.ipynb\" target=\"_parent\"><img src=\"https://colab.research.google.com/assets/colab-badge.svg\" alt=\"Open In Colab\"/></a>"
      ]
    },
    {
      "cell_type": "code",
      "execution_count": 2,
      "metadata": {
        "id": "dSAQPFRZCDdD"
      },
      "outputs": [],
      "source": [
        "import pandas as pd\n",
        "import matplotlib.pyplot as plt\n",
        "import seaborn as sns\n",
        "from tensorflow.keras import Sequential\n",
        "from tensorflow.keras.layers import Dense"
      ]
    },
    {
      "cell_type": "markdown",
      "source": [
        "### Irrigation model"
      ],
      "metadata": {
        "id": "AOMxbuytG4H_"
      }
    },
    {
      "cell_type": "code",
      "source": [
        "irr=pd.read_csv('https://assets.datacamp.com/production/repositories/4335/datasets/e8e07e4d8969b5fb8f1d2eae9615feaa2ff5f319/irrigation_machine.csv')"
      ],
      "metadata": {
        "id": "Fu56yQClCoX-"
      },
      "execution_count": 31,
      "outputs": []
    },
    {
      "cell_type": "code",
      "source": [
        "irr.drop(columns='Unnamed: 0',inplace=True)"
      ],
      "metadata": {
        "id": "HiXg3byHIN0G"
      },
      "execution_count": 32,
      "outputs": []
    },
    {
      "cell_type": "code",
      "source": [
        "model=Sequential()\n",
        "model.add(Dense(64,activation='relu',input_shape=(20,)))\n",
        "model.add(Dense(3,activation='sigmoid'))"
      ],
      "metadata": {
        "id": "9OScrRY2IeQn"
      },
      "execution_count": 33,
      "outputs": []
    },
    {
      "cell_type": "code",
      "source": [
        "model.compile(loss='binary_crossentropy',optimizer='adam',metrics=['accuracy'])"
      ],
      "metadata": {
        "id": "4kJp6VQ3JFE1"
      },
      "execution_count": 34,
      "outputs": []
    },
    {
      "cell_type": "code",
      "source": [
        "X=irr.drop(columns=['parcel_0','parcel_1','parcel_2'])"
      ],
      "metadata": {
        "id": "KJOlG6w-Kq76"
      },
      "execution_count": 35,
      "outputs": []
    },
    {
      "cell_type": "code",
      "source": [
        "y=irr.loc[:,['parcel_0','parcel_1','parcel_2']]"
      ],
      "metadata": {
        "id": "u1EriYPDK8Rr"
      },
      "execution_count": 36,
      "outputs": []
    },
    {
      "cell_type": "code",
      "source": [
        "from sklearn.model_selection import train_test_split"
      ],
      "metadata": {
        "id": "m25esS45LS6T"
      },
      "execution_count": 37,
      "outputs": []
    },
    {
      "cell_type": "code",
      "source": [
        "X_train,X_test,y_train,y_test=train_test_split(X,y,test_size=0.2,stratify=y)"
      ],
      "metadata": {
        "id": "2DdbLDG8La6b"
      },
      "execution_count": 38,
      "outputs": []
    },
    {
      "cell_type": "code",
      "source": [
        "history=model.fit(X_train,y_train,validation_split=0.1,epochs=10)"
      ],
      "metadata": {
        "colab": {
          "base_uri": "https://localhost:8080/"
        },
        "id": "FWwrKaX5LpWV",
        "outputId": "8e59ff80-f1c4-4a84-a31a-b9716c38dd0f"
      },
      "execution_count": 39,
      "outputs": [
        {
          "output_type": "stream",
          "name": "stdout",
          "text": [
            "Epoch 1/10\n",
            "45/45 [==============================] - 1s 4ms/step - loss: 0.7166 - accuracy: 0.4313 - val_loss: 0.5121 - val_accuracy: 0.6250\n",
            "Epoch 2/10\n",
            "45/45 [==============================] - 0s 2ms/step - loss: 0.4624 - accuracy: 0.5965 - val_loss: 0.4136 - val_accuracy: 0.5938\n",
            "Epoch 3/10\n",
            "45/45 [==============================] - 0s 2ms/step - loss: 0.3924 - accuracy: 0.5882 - val_loss: 0.3517 - val_accuracy: 0.6438\n",
            "Epoch 4/10\n",
            "45/45 [==============================] - 0s 2ms/step - loss: 0.3475 - accuracy: 0.6118 - val_loss: 0.3121 - val_accuracy: 0.6375\n",
            "Epoch 5/10\n",
            "45/45 [==============================] - 0s 2ms/step - loss: 0.3206 - accuracy: 0.6097 - val_loss: 0.2863 - val_accuracy: 0.6062\n",
            "Epoch 6/10\n",
            "45/45 [==============================] - 0s 2ms/step - loss: 0.3017 - accuracy: 0.6069 - val_loss: 0.2685 - val_accuracy: 0.6125\n",
            "Epoch 7/10\n",
            "45/45 [==============================] - 0s 2ms/step - loss: 0.2884 - accuracy: 0.6104 - val_loss: 0.2546 - val_accuracy: 0.6750\n",
            "Epoch 8/10\n",
            "45/45 [==============================] - 0s 2ms/step - loss: 0.2791 - accuracy: 0.6146 - val_loss: 0.2457 - val_accuracy: 0.6438\n",
            "Epoch 9/10\n",
            "45/45 [==============================] - 0s 2ms/step - loss: 0.2707 - accuracy: 0.6132 - val_loss: 0.2401 - val_accuracy: 0.6250\n",
            "Epoch 10/10\n",
            "45/45 [==============================] - 0s 2ms/step - loss: 0.2643 - accuracy: 0.6021 - val_loss: 0.2325 - val_accuracy: 0.6250\n"
          ]
        }
      ]
    },
    {
      "cell_type": "code",
      "source": [
        "fig,ax=plt.subplots()\n",
        "ax.plot(history.history['loss'])\n",
        "ax.plot(history.history['val_loss'])\n"
      ],
      "metadata": {
        "colab": {
          "base_uri": "https://localhost:8080/",
          "height": 448
        },
        "id": "BgFUt4D9L9PP",
        "outputId": "81504e50-b134-44a9-f12a-2a51f80091ea"
      },
      "execution_count": 40,
      "outputs": [
        {
          "output_type": "execute_result",
          "data": {
            "text/plain": [
              "[<matplotlib.lines.Line2D at 0x7f8677cae7a0>]"
            ]
          },
          "metadata": {},
          "execution_count": 40
        },
        {
          "output_type": "display_data",
          "data": {
            "text/plain": [
              "<Figure size 640x480 with 1 Axes>"
            ],
            "image/png": "[encoded data removed]"
          },
          "metadata": {}
        }
      ]
    },
    {
      "cell_type": "code",
      "source": [
        "fig,ax=plt.subplots()\n",
        "ax.plot(history.history['accuracy'])\n",
        "ax.plot(history.history['val_accuracy'])"
      ],
      "metadata": {
        "colab": {
          "base_uri": "https://localhost:8080/",
          "height": 448
        },
        "id": "FSHpn66AMMC8",
        "outputId": "b0fb7aa2-5997-4b6e-8d71-e76a658677a3"
      },
      "execution_count": 41,
      "outputs": [
        {
          "output_type": "execute_result",
          "data": {
            "text/plain": [
              "[<matplotlib.lines.Line2D at 0x7f8677c37070>]"
            ]
          },
          "metadata": {},
          "execution_count": 41
        },
        {
          "output_type": "display_data",
          "data": {
            "text/plain": [
              "<Figure size 640x480 with 1 Axes>"
            ],
            "image/png": "[encoded data removed]"
          },
          "metadata": {}
        }
      ]
    },
    {
      "cell_type": "markdown",
      "source": [
        "### With early stopping"
      ],
      "metadata": {
        "id": "YXBV6XOxPIWR"
      }
    },
    {
      "cell_type": "code",
      "source": [
        "from tensorflow.keras.callbacks import EarlyStopping,ModelCheckpoint"
      ],
      "metadata": {
        "id": "KnRJnfKCPHn7"
      },
      "execution_count": 77,
      "outputs": []
    },
    {
      "cell_type": "code",
      "source": [
        "model_early=EarlyStopping(monitor='val_auc',patience=5)"
      ],
      "metadata": {
        "id": "mM6stqDVPE01"
      },
      "execution_count": 78,
      "outputs": []
    },
    {
      "cell_type": "code",
      "source": [
        "checker=ModelCheckpoint('best.hdf5',save_best_only=True)"
      ],
      "metadata": {
        "id": "12VeuGMXUTg4"
      },
      "execution_count": 91,
      "outputs": []
    },
    {
      "cell_type": "code",
      "source": [
        "model=Sequential()\n",
        "model.add(Dense(64,activation='relu',input_shape=(20,)))\n",
        "model.add(Dense(3,activation='sigmoid'))"
      ],
      "metadata": {
        "id": "26Bn5mq-Pwpc"
      },
      "execution_count": 92,
      "outputs": []
    },
    {
      "cell_type": "code",
      "source": [
        "model.compile(loss='binary_crossentropy',optimizer='adam',metrics=['AUC'])"
      ],
      "metadata": {
        "id": "Ub4Xqc2dP1o1"
      },
      "execution_count": 93,
      "outputs": []
    },
    {
      "cell_type": "code",
      "source": [
        "history=model.fit(X_train,y_train,validation_split=0.1,callbacks=[model_early,checker],epochs=100)"
      ],
      "metadata": {
        "colab": {
          "base_uri": "https://localhost:8080/"
        },
        "id": "eN23CVHLQMOJ",
        "outputId": "3ed98b80-a491-4440-fdeb-a2f704481fef"
      },
      "execution_count": 94,
      "outputs": [
        {
          "output_type": "stream",
          "name": "stdout",
          "text": [
            "Epoch 1/100\n",
            "45/45 [==============================] - 2s 8ms/step - loss: 0.5781 - auc: 0.7701 - val_loss: 0.4492 - val_auc: 0.8704\n",
            "Epoch 2/100\n",
            "45/45 [==============================] - 0s 3ms/step - loss: 0.4364 - auc: 0.8829 - val_loss: 0.3649 - val_auc: 0.9297\n",
            "Epoch 3/100\n",
            "45/45 [==============================] - 0s 3ms/step - loss: 0.3714 - auc: 0.9193 - val_loss: 0.3193 - val_auc: 0.9459\n",
            "Epoch 4/100\n",
            "45/45 [==============================] - 0s 3ms/step - loss: 0.3323 - auc: 0.9360 - val_loss: 0.2871 - val_auc: 0.9532\n",
            "Epoch 5/100\n",
            "45/45 [==============================] - 0s 3ms/step - loss: 0.3086 - auc: 0.9437 - val_loss: 0.2628 - val_auc: 0.9630\n",
            "Epoch 6/100\n",
            "45/45 [==============================] - 0s 3ms/step - loss: 0.2900 - auc: 0.9505 - val_loss: 0.2496 - val_auc: 0.9645\n",
            "Epoch 7/100\n",
            "45/45 [==============================] - 0s 2ms/step - loss: 0.2775 - auc: 0.9544 - val_loss: 0.2380 - val_auc: 0.9704\n",
            "Epoch 8/100\n",
            "45/45 [==============================] - 0s 2ms/step - loss: 0.2676 - auc: 0.9576 - val_loss: 0.2281 - val_auc: 0.9715\n",
            "Epoch 9/100\n",
            "45/45 [==============================] - 0s 3ms/step - loss: 0.2567 - auc: 0.9610 - val_loss: 0.2217 - val_auc: 0.9741\n",
            "Epoch 10/100\n",
            "45/45 [==============================] - 0s 3ms/step - loss: 0.2489 - auc: 0.9629 - val_loss: 0.2132 - val_auc: 0.9757\n",
            "Epoch 11/100\n",
            "45/45 [==============================] - 0s 4ms/step - loss: 0.2411 - auc: 0.9654 - val_loss: 0.2096 - val_auc: 0.9775\n",
            "Epoch 12/100\n",
            "45/45 [==============================] - 0s 4ms/step - loss: 0.2349 - auc: 0.9674 - val_loss: 0.2010 - val_auc: 0.9784\n",
            "Epoch 13/100\n",
            "45/45 [==============================] - 0s 4ms/step - loss: 0.2297 - auc: 0.9685 - val_loss: 0.1997 - val_auc: 0.9796\n",
            "Epoch 14/100\n",
            "45/45 [==============================] - 0s 4ms/step - loss: 0.2247 - auc: 0.9700 - val_loss: 0.1903 - val_auc: 0.9809\n",
            "Epoch 15/100\n",
            "45/45 [==============================] - 0s 3ms/step - loss: 0.2205 - auc: 0.9709 - val_loss: 0.1936 - val_auc: 0.9814\n",
            "Epoch 16/100\n",
            "45/45 [==============================] - 0s 4ms/step - loss: 0.2158 - auc: 0.9723 - val_loss: 0.1874 - val_auc: 0.9805\n",
            "Epoch 17/100\n",
            "45/45 [==============================] - 0s 3ms/step - loss: 0.2146 - auc: 0.9724 - val_loss: 0.1807 - val_auc: 0.9827\n",
            "Epoch 18/100\n",
            "45/45 [==============================] - 0s 2ms/step - loss: 0.2101 - auc: 0.9737 - val_loss: 0.1850 - val_auc: 0.9829\n",
            "Epoch 19/100\n",
            "45/45 [==============================] - 0s 3ms/step - loss: 0.2091 - auc: 0.9737 - val_loss: 0.1805 - val_auc: 0.9826\n",
            "Epoch 20/100\n",
            "45/45 [==============================] - 0s 3ms/step - loss: 0.2050 - auc: 0.9747 - val_loss: 0.1811 - val_auc: 0.9834\n",
            "Epoch 21/100\n",
            "45/45 [==============================] - 0s 4ms/step - loss: 0.2049 - auc: 0.9748 - val_loss: 0.1794 - val_auc: 0.9834\n",
            "Epoch 22/100\n",
            "45/45 [==============================] - 0s 4ms/step - loss: 0.2010 - auc: 0.9758 - val_loss: 0.1765 - val_auc: 0.9838\n",
            "Epoch 23/100\n",
            "45/45 [==============================] - 0s 2ms/step - loss: 0.2005 - auc: 0.9759 - val_loss: 0.1802 - val_auc: 0.9824\n",
            "Epoch 24/100\n",
            "45/45 [==============================] - 0s 3ms/step - loss: 0.1988 - auc: 0.9761 - val_loss: 0.1741 - val_auc: 0.9836\n",
            "Epoch 25/100\n",
            "45/45 [==============================] - 0s 3ms/step - loss: 0.1948 - auc: 0.9771 - val_loss: 0.1672 - val_auc: 0.9839\n",
            "Epoch 26/100\n",
            "45/45 [==============================] - 0s 3ms/step - loss: 0.1948 - auc: 0.9771 - val_loss: 0.1672 - val_auc: 0.9844\n",
            "Epoch 27/100\n",
            "45/45 [==============================] - 0s 2ms/step - loss: 0.1926 - auc: 0.9776 - val_loss: 0.1670 - val_auc: 0.9837\n",
            "Epoch 28/100\n",
            "45/45 [==============================] - 0s 2ms/step - loss: 0.1919 - auc: 0.9777 - val_loss: 0.1685 - val_auc: 0.9840\n",
            "Epoch 29/100\n",
            "45/45 [==============================] - 0s 3ms/step - loss: 0.1903 - auc: 0.9781 - val_loss: 0.1648 - val_auc: 0.9840\n",
            "Epoch 30/100\n",
            "45/45 [==============================] - 0s 3ms/step - loss: 0.1887 - auc: 0.9784 - val_loss: 0.1660 - val_auc: 0.9838\n",
            "Epoch 31/100\n",
            "45/45 [==============================] - 0s 2ms/step - loss: 0.1876 - auc: 0.9788 - val_loss: 0.1696 - val_auc: 0.9845\n",
            "Epoch 32/100\n",
            "45/45 [==============================] - 0s 2ms/step - loss: 0.1864 - auc: 0.9790 - val_loss: 0.1700 - val_auc: 0.9842\n",
            "Epoch 33/100\n",
            "45/45 [==============================] - 0s 2ms/step - loss: 0.1853 - auc: 0.9792 - val_loss: 0.1624 - val_auc: 0.9843\n",
            "Epoch 34/100\n",
            "45/45 [==============================] - 0s 2ms/step - loss: 0.1836 - auc: 0.9797 - val_loss: 0.1668 - val_auc: 0.9842\n",
            "Epoch 35/100\n",
            "45/45 [==============================] - 0s 2ms/step - loss: 0.1841 - auc: 0.9797 - val_loss: 0.1639 - val_auc: 0.9844\n",
            "Epoch 36/100\n",
            "45/45 [==============================] - 0s 3ms/step - loss: 0.1884 - auc: 0.9788 - val_loss: 0.1628 - val_auc: 0.9845\n"
          ]
        }
      ]
    },
    {
      "cell_type": "code",
      "source": [
        "from sklearn.metrics import roc_curve"
      ],
      "metadata": {
        "id": "1sOMpMJWQlzP"
      },
      "execution_count": 83,
      "outputs": []
    },
    {
      "cell_type": "code",
      "source": [
        "y_pred_0=model.predict(X_test)[:,0]\n",
        "y_pred_1=model.predict(X_test)[:,1]\n",
        "y_pred_2=model.predict(X_test)[:,2]"
      ],
      "metadata": {
        "colab": {
          "base_uri": "https://localhost:8080/"
        },
        "id": "AMVl4ZjsRq0z",
        "outputId": "7baf721c-ab6d-4677-f5b5-c46c3db6b963"
      },
      "execution_count": 84,
      "outputs": [
        {
          "output_type": "stream",
          "name": "stdout",
          "text": [
            "13/13 [==============================] - 0s 2ms/step\n",
            "13/13 [==============================] - 0s 2ms/step\n",
            "13/13 [==============================] - 0s 1ms/step\n"
          ]
        }
      ]
    },
    {
      "cell_type": "code",
      "source": [
        "fpr,tpr,thresholds=roc_curve(y_test['parcel_0'],y_pred_0)\n",
        "fpr1,tpr1,thresholds1=roc_curve(y_test['parcel_1'],y_pred_1)"
      ],
      "metadata": {
        "id": "kbRw6re5SE8Y"
      },
      "execution_count": 85,
      "outputs": []
    },
    {
      "cell_type": "code",
      "source": [
        "fig,ax=plt.subplots()\n",
        "ax.plot(fpr,tpr)\n",
        "ax.plot(fpr1,tpr1)"
      ],
      "metadata": {
        "colab": {
          "base_uri": "https://localhost:8080/",
          "height": 448
        },
        "id": "6BLQklZqSOsF",
        "outputId": "612c4ea6-a414-47e5-a28b-da06286b1245"
      },
      "execution_count": 86,
      "outputs": [
        {
          "output_type": "execute_result",
          "data": {
            "text/plain": [
              "[<matplotlib.lines.Line2D at 0x7f86768557e0>]"
            ]
          },
          "metadata": {},
          "execution_count": 86
        },
        {
          "output_type": "display_data",
          "data": {
            "text/plain": [
              "<Figure size 640x480 with 1 Axes>"
            ],
            "image/png": "[encoded data removed]"
          },
          "metadata": {}
        }
      ]
    },
    {
      "cell_type": "code",
      "source": [
        "from keras.models import load_model\n",
        "model = load_model('best.hdf5')"
      ],
      "metadata": {
        "id": "U0jaopNpUyxa"
      },
      "execution_count": 96,
      "outputs": []
    },
    {
      "cell_type": "code",
      "source": [
        "model.summary()"
      ],
      "metadata": {
        "colab": {
          "base_uri": "https://localhost:8080/"
        },
        "id": "xho7RmpUVyyY",
        "outputId": "65f9d939-5e85-434d-b2f0-dc43025421cc"
      },
      "execution_count": 97,
      "outputs": [
        {
          "output_type": "stream",
          "name": "stdout",
          "text": [
            "Model: \"sequential_8\"\n",
            "_________________________________________________________________\n",
            " Layer (type)                Output Shape              Param #   \n",
            "=================================================================\n",
            " dense_16 (Dense)            (None, 64)                1344      \n",
            "                                                                 \n",
            " dense_17 (Dense)            (None, 3)                 195       \n",
            "                                                                 \n",
            "=================================================================\n",
            "Total params: 1,539\n",
            "Trainable params: 1,539\n",
            "Non-trainable params: 0\n",
            "_________________________________________________________________\n"
          ]
        }
      ]
    },
    {
      "cell_type": "code",
      "source": [],
      "metadata": {
        "id": "7gOpRkhQV5F-"
      },
      "execution_count": null,
      "outputs": []
    }
  ]
}