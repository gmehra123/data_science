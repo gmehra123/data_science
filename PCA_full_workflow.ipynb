{
  "nbformat": 4,
  "nbformat_minor": 0,
  "metadata": {
    "colab": {
      "provenance": [],
      "authorship_tag": "ABX9TyPr0kUX1u2M8xUppwwxEfjX",
      "include_colab_link": true
    },
    "kernelspec": {
      "name": "python3",
      "display_name": "Python 3"
    },
    "language_info": {
      "name": "python"
    }
  },
  "cells": [
    {
      "cell_type": "markdown",
      "metadata": {
        "id": "view-in-github",
        "colab_type": "text"
      },
      "source": [
        "<a href=\"https://colab.research.google.com/github/gmehra123/data_science_projs/blob/main/PCA_full_workflow.ipynb\" target=\"_parent\"><img src=\"https://colab.research.google.com/assets/colab-badge.svg\" alt=\"Open In Colab\"/></a>"
      ]
    },
    {
      "cell_type": "code",
      "execution_count": 1,
      "metadata": {
        "id": "fCn7fb5eEjus"
      },
      "outputs": [],
      "source": [
        "import pandas as pd\n",
        "import matplotlib.pyplot as plt\n",
        "import numpy as np\n",
        "from sklearn.model_selection import train_test_split\n",
        "from sklearn.pipeline import make_pipeline\n",
        "from sklearn.preprocessing import StandardScaler\n",
        "from sklearn.preprocessing import LabelEncoder\n",
        "from sklearn.decomposition import PCA"
      ]
    },
    {
      "cell_type": "code",
      "source": [
        "cancer=pd.read_csv('https://assets.datacamp.com/production/repositories/1796/datasets/0eb6987cb9633e4d6aa6cfd11e00993d2387caa4/wbc.csv')"
      ],
      "metadata": {
        "id": "mq31DKaOFPhS"
      },
      "execution_count": 2,
      "outputs": []
    },
    {
      "cell_type": "code",
      "source": [
        "scaler=StandardScaler()\n",
        "pca=PCA()\n",
        "pipeline=make_pipeline(scaler,pca)"
      ],
      "metadata": {
        "id": "CQXY9k2wFRXq"
      },
      "execution_count": 3,
      "outputs": []
    },
    {
      "cell_type": "code",
      "source": [
        "cancer.info(verbose=True)"
      ],
      "metadata": {
        "colab": {
          "base_uri": "https://localhost:8080/"
        },
        "id": "3aD__f-wGfYd",
        "outputId": "07d7651b-65c9-49ea-808f-4e20909db654"
      },
      "execution_count": 4,
      "outputs": [
        {
          "output_type": "stream",
          "name": "stdout",
          "text": [
            "<class 'pandas.core.frame.DataFrame'>\n",
            "RangeIndex: 569 entries, 0 to 568\n",
            "Data columns (total 33 columns):\n",
            " #   Column                   Non-Null Count  Dtype  \n",
            "---  ------                   --------------  -----  \n",
            " 0   id                       569 non-null    int64  \n",
            " 1   diagnosis                569 non-null    object \n",
            " 2   radius_mean              569 non-null    float64\n",
            " 3   texture_mean             569 non-null    float64\n",
            " 4   perimeter_mean           569 non-null    float64\n",
            " 5   area_mean                569 non-null    float64\n",
            " 6   smoothness_mean          569 non-null    float64\n",
            " 7   compactness_mean         569 non-null    float64\n",
            " 8   concavity_mean           569 non-null    float64\n",
            " 9   concave points_mean      569 non-null    float64\n",
            " 10  symmetry_mean            569 non-null    float64\n",
            " 11  fractal_dimension_mean   569 non-null    float64\n",
            " 12  radius_se                569 non-null    float64\n",
            " 13  texture_se               569 non-null    float64\n",
            " 14  perimeter_se             569 non-null    float64\n",
            " 15  area_se                  569 non-null    float64\n",
            " 16  smoothness_se            569 non-null    float64\n",
            " 17  compactness_se           569 non-null    float64\n",
            " 18  concavity_se             569 non-null    float64\n",
            " 19  concave points_se        569 non-null    float64\n",
            " 20  symmetry_se              569 non-null    float64\n",
            " 21  fractal_dimension_se     569 non-null    float64\n",
            " 22  radius_worst             569 non-null    float64\n",
            " 23  texture_worst            569 non-null    float64\n",
            " 24  perimeter_worst          569 non-null    float64\n",
            " 25  area_worst               569 non-null    float64\n",
            " 26  smoothness_worst         569 non-null    float64\n",
            " 27  compactness_worst        569 non-null    float64\n",
            " 28  concavity_worst          569 non-null    float64\n",
            " 29  concave points_worst     569 non-null    float64\n",
            " 30  symmetry_worst           569 non-null    float64\n",
            " 31  fractal_dimension_worst  569 non-null    float64\n",
            " 32  Unnamed: 32              0 non-null      float64\n",
            "dtypes: float64(31), int64(1), object(1)\n",
            "memory usage: 146.8+ KB\n"
          ]
        }
      ]
    },
    {
      "cell_type": "code",
      "source": [
        "features=cancer.drop(columns='Unnamed: 32')"
      ],
      "metadata": {
        "id": "yi-pKzcTG0F2"
      },
      "execution_count": 5,
      "outputs": []
    },
    {
      "cell_type": "code",
      "source": [
        "le=LabelEncoder()\n",
        "cancer['diagnosis']=le.fit_transform(cancer.diagnosis)\n",
        "y=cancer['diagnosis']"
      ],
      "metadata": {
        "id": "DF8pmCoNG-QD"
      },
      "execution_count": 6,
      "outputs": []
    },
    {
      "cell_type": "code",
      "source": [
        "features=cancer.drop(columns=['Unnamed: 32','diagnosis','id'])"
      ],
      "metadata": {
        "id": "dXvAJkDYHeTa"
      },
      "execution_count": 7,
      "outputs": []
    },
    {
      "cell_type": "code",
      "source": [
        "pipeline.fit(features)"
      ],
      "metadata": {
        "colab": {
          "base_uri": "https://localhost:8080/",
          "height": 125
        },
        "id": "NKeX5I7eHuvj",
        "outputId": "93779d01-79b6-435f-fa7b-67c48fa86f71"
      },
      "execution_count": 8,
      "outputs": [
        {
          "output_type": "execute_result",
          "data": {
            "text/plain": [
              "Pipeline(steps=[('standardscaler', StandardScaler()), ('pca', PCA())])"
            ],
            "text/html": [
              "<style>#sk-container-id-1 {color: black;background-color: white;}#sk-container-id-1 pre{padding: 0;}#sk-container-id-1 div.sk-toggleable {background-color: white;}#sk-container-id-1 label.sk-toggleable__label {cursor: pointer;display: block;width: 100%;margin-bottom: 0;padding: 0.3em;box-sizing: border-box;text-align: center;}#sk-container-id-1 label.sk-toggleable__label-arrow:before {content: \"▸\";float: left;margin-right: 0.25em;color: #696969;}#sk-container-id-1 label.sk-toggleable__label-arrow:hover:before {color: black;}#sk-container-id-1 div.sk-estimator:hover label.sk-toggleable__label-arrow:before {color: black;}#sk-container-id-1 div.sk-toggleable__content {max-height: 0;max-width: 0;overflow: hidden;text-align: left;background-color: #f0f8ff;}#sk-container-id-1 div.sk-toggleable__content pre {margin: 0.2em;color: black;border-radius: 0.25em;background-color: #f0f8ff;}#sk-container-id-1 input.sk-toggleable__control:checked~div.sk-toggleable__content {max-height: 200px;max-width: 100%;overflow: auto;}#sk-container-id-1 input.sk-toggleable__control:checked~label.sk-toggleable__label-arrow:before {content: \"▾\";}#sk-container-id-1 div.sk-estimator input.sk-toggleable__control:checked~label.sk-toggleable__label {background-color: #d4ebff;}#sk-container-id-1 div.sk-label input.sk-toggleable__control:checked~label.sk-toggleable__label {background-color: #d4ebff;}#sk-container-id-1 input.sk-hidden--visually {border: 0;clip: rect(1px 1px 1px 1px);clip: rect(1px, 1px, 1px, 1px);height: 1px;margin: -1px;overflow: hidden;padding: 0;position: absolute;width: 1px;}#sk-container-id-1 div.sk-estimator {font-family: monospace;background-color: #f0f8ff;border: 1px dotted black;border-radius: 0.25em;box-sizing: border-box;margin-bottom: 0.5em;}#sk-container-id-1 div.sk-estimator:hover {background-color: #d4ebff;}#sk-container-id-1 div.sk-parallel-item::after {content: \"\";width: 100%;border-bottom: 1px solid gray;flex-grow: 1;}#sk-container-id-1 div.sk-label:hover label.sk-toggleable__label {background-color: #d4ebff;}#sk-container-id-1 div.sk-serial::before {content: \"\";position: absolute;border-left: 1px solid gray;box-sizing: border-box;top: 0;bottom: 0;left: 50%;z-index: 0;}#sk-container-id-1 div.sk-serial {display: flex;flex-direction: column;align-items: center;background-color: white;padding-right: 0.2em;padding-left: 0.2em;position: relative;}#sk-container-id-1 div.sk-item {position: relative;z-index: 1;}#sk-container-id-1 div.sk-parallel {display: flex;align-items: stretch;justify-content: center;background-color: white;position: relative;}#sk-container-id-1 div.sk-item::before, #sk-container-id-1 div.sk-parallel-item::before {content: \"\";position: absolute;border-left: 1px solid gray;box-sizing: border-box;top: 0;bottom: 0;left: 50%;z-index: -1;}#sk-container-id-1 div.sk-parallel-item {display: flex;flex-direction: column;z-index: 1;position: relative;background-color: white;}#sk-container-id-1 div.sk-parallel-item:first-child::after {align-self: flex-end;width: 50%;}#sk-container-id-1 div.sk-parallel-item:last-child::after {align-self: flex-start;width: 50%;}#sk-container-id-1 div.sk-parallel-item:only-child::after {width: 0;}#sk-container-id-1 div.sk-dashed-wrapped {border: 1px dashed gray;margin: 0 0.4em 0.5em 0.4em;box-sizing: border-box;padding-bottom: 0.4em;background-color: white;}#sk-container-id-1 div.sk-label label {font-family: monospace;font-weight: bold;display: inline-block;line-height: 1.2em;}#sk-container-id-1 div.sk-label-container {text-align: center;}#sk-container-id-1 div.sk-container {/* jupyter's `normalize.less` sets `[hidden] { display: none; }` but bootstrap.min.css set `[hidden] { display: none !important; }` so we also need the `!important` here to be able to override the default hidden behavior on the sphinx rendered scikit-learn.org. See: https://github.com/scikit-learn/scikit-learn/issues/21755 */display: inline-block !important;position: relative;}#sk-container-id-1 div.sk-text-repr-fallback {display: none;}</style><div id=\"sk-container-id-1\" class=\"sk-top-container\"><div class=\"sk-text-repr-fallback\"><pre>Pipeline(steps=[(&#x27;standardscaler&#x27;, StandardScaler()), (&#x27;pca&#x27;, PCA())])</pre><b>In a Jupyter environment, please rerun this cell to show the HTML representation or trust the notebook. <br />On GitHub, the HTML representation is unable to render, please try loading this page with nbviewer.org.</b></div><div class=\"sk-container\" hidden><div class=\"sk-item sk-dashed-wrapped\"><div class=\"sk-label-container\"><div class=\"sk-label sk-toggleable\"><input class=\"sk-toggleable__control sk-hidden--visually\" id=\"sk-estimator-id-1\" type=\"checkbox\" ><label for=\"sk-estimator-id-1\" class=\"sk-toggleable__label sk-toggleable__label-arrow\">Pipeline</label><div class=\"sk-toggleable__content\"><pre>Pipeline(steps=[(&#x27;standardscaler&#x27;, StandardScaler()), (&#x27;pca&#x27;, PCA())])</pre></div></div></div><div class=\"sk-serial\"><div class=\"sk-item\"><div class=\"sk-estimator sk-toggleable\"><input class=\"sk-toggleable__control sk-hidden--visually\" id=\"sk-estimator-id-2\" type=\"checkbox\" ><label for=\"sk-estimator-id-2\" class=\"sk-toggleable__label sk-toggleable__label-arrow\">StandardScaler</label><div class=\"sk-toggleable__content\"><pre>StandardScaler()</pre></div></div></div><div class=\"sk-item\"><div class=\"sk-estimator sk-toggleable\"><input class=\"sk-toggleable__control sk-hidden--visually\" id=\"sk-estimator-id-3\" type=\"checkbox\" ><label for=\"sk-estimator-id-3\" class=\"sk-toggleable__label sk-toggleable__label-arrow\">PCA</label><div class=\"sk-toggleable__content\"><pre>PCA()</pre></div></div></div></div></div></div></div>"
            ]
          },
          "metadata": {},
          "execution_count": 8
        }
      ]
    },
    {
      "cell_type": "code",
      "source": [
        "pca.components_[:,0].shape"
      ],
      "metadata": {
        "colab": {
          "base_uri": "https://localhost:8080/"
        },
        "id": "8jTSYF4lH4qn",
        "outputId": "f605f6d9-e4e7-4a39-cb26-3e8092220e46"
      },
      "execution_count": 9,
      "outputs": [
        {
          "output_type": "execute_result",
          "data": {
            "text/plain": [
              "(30,)"
            ]
          },
          "metadata": {},
          "execution_count": 9
        }
      ]
    },
    {
      "cell_type": "code",
      "source": [
        "pd.DataFrame(pca.components_,columns=features.columns).head()"
      ],
      "metadata": {
        "colab": {
          "base_uri": "https://localhost:8080/",
          "height": 317
        },
        "id": "L1KF-3M5QKkH",
        "outputId": "d39e83c1-2a88-4052-e220-86f67453ccda"
      },
      "execution_count": 10,
      "outputs": [
        {
          "output_type": "execute_result",
          "data": {
            "text/plain": [
              "   radius_mean  texture_mean  perimeter_mean  area_mean  smoothness_mean  \\\n",
              "0     0.218902      0.103725        0.227537   0.220995         0.142590   \n",
              "1    -0.233857     -0.059706       -0.215181  -0.231077         0.186113   \n",
              "2    -0.008531      0.064550       -0.009314   0.028700        -0.104292   \n",
              "3     0.041409     -0.603050        0.041983   0.053434         0.159383   \n",
              "4     0.037786     -0.049469        0.037375   0.010331        -0.365089   \n",
              "\n",
              "   compactness_mean  concavity_mean  concave points_mean  symmetry_mean  \\\n",
              "0          0.239285        0.258400             0.260854       0.138167   \n",
              "1          0.151892        0.060165            -0.034768       0.190349   \n",
              "2         -0.074092        0.002734            -0.025564      -0.040240   \n",
              "3          0.031795        0.019123             0.065336       0.067125   \n",
              "4          0.011704        0.086375            -0.043861      -0.305941   \n",
              "\n",
              "   fractal_dimension_mean  ...  radius_worst  texture_worst  perimeter_worst  \\\n",
              "0                0.064363  ...      0.227997       0.104469         0.236640   \n",
              "1                0.366575  ...     -0.219866      -0.045467        -0.199878   \n",
              "2               -0.022574  ...     -0.047507      -0.042298        -0.048547   \n",
              "3                0.048587  ...      0.015417      -0.632808         0.013803   \n",
              "4               -0.044424  ...     -0.004407      -0.092883         0.007454   \n",
              "\n",
              "   area_worst  smoothness_worst  compactness_worst  concavity_worst  \\\n",
              "0    0.224871          0.127953           0.210096         0.228768   \n",
              "1   -0.219352          0.172304           0.143593         0.097964   \n",
              "2   -0.011902         -0.259798          -0.236076        -0.173057   \n",
              "3    0.025895          0.017652          -0.091328        -0.073951   \n",
              "4   -0.027391         -0.324435           0.121804         0.188519   \n",
              "\n",
              "   concave points_worst  symmetry_worst  fractal_dimension_worst  \n",
              "0              0.250886        0.122905                 0.131784  \n",
              "1             -0.008257        0.141883                 0.275339  \n",
              "2             -0.170344       -0.271313                -0.232791  \n",
              "3              0.006007       -0.036251                -0.077053  \n",
              "4              0.043332       -0.244559                 0.094423  \n",
              "\n",
              "[5 rows x 30 columns]"
            ],
            "text/html": [
              "\n",
              "  <div id=\"df-6c466c9a-b8d5-4734-bd87-8a7c5a7644e9\">\n",
              "    <div class=\"colab-df-container\">\n",
              "      <div>\n",
              "<style scoped>\n",
              "    .dataframe tbody tr th:only-of-type {\n",
              "        vertical-align: middle;\n",
              "    }\n",
              "\n",
              "    .dataframe tbody tr th {\n",
              "        vertical-align: top;\n",
              "    }\n",
              "\n",
              "    .dataframe thead th {\n",
              "        text-align: right;\n",
              "    }\n",
              "</style>\n",
              "<table border=\"1\" class=\"dataframe\">\n",
              "  <thead>\n",
              "    <tr style=\"text-align: right;\">\n",
              "      <th></th>\n",
              "      <th>radius_mean</th>\n",
              "      <th>texture_mean</th>\n",
              "      <th>perimeter_mean</th>\n",
              "      <th>area_mean</th>\n",
              "      <th>smoothness_mean</th>\n",
              "      <th>compactness_mean</th>\n",
              "      <th>concavity_mean</th>\n",
              "      <th>concave points_mean</th>\n",
              "      <th>symmetry_mean</th>\n",
              "      <th>fractal_dimension_mean</th>\n",
              "      <th>...</th>\n",
              "      <th>radius_worst</th>\n",
              "      <th>texture_worst</th>\n",
              "      <th>perimeter_worst</th>\n",
              "      <th>area_worst</th>\n",
              "      <th>smoothness_worst</th>\n",
              "      <th>compactness_worst</th>\n",
              "      <th>concavity_worst</th>\n",
              "      <th>concave points_worst</th>\n",
              "      <th>symmetry_worst</th>\n",
              "      <th>fractal_dimension_worst</th>\n",
              "    </tr>\n",
              "  </thead>\n",
              "  <tbody>\n",
              "    <tr>\n",
              "      <th>0</th>\n",
              "      <td>0.218902</td>\n",
              "      <td>0.103725</td>\n",
              "      <td>0.227537</td>\n",
              "      <td>0.220995</td>\n",
              "      <td>0.142590</td>\n",
              "      <td>0.239285</td>\n",
              "      <td>0.258400</td>\n",
              "      <td>0.260854</td>\n",
              "      <td>0.138167</td>\n",
              "      <td>0.064363</td>\n",
              "      <td>...</td>\n",
              "      <td>0.227997</td>\n",
              "      <td>0.104469</td>\n",
              "      <td>0.236640</td>\n",
              "      <td>0.224871</td>\n",
              "      <td>0.127953</td>\n",
              "      <td>0.210096</td>\n",
              "      <td>0.228768</td>\n",
              "      <td>0.250886</td>\n",
              "      <td>0.122905</td>\n",
              "      <td>0.131784</td>\n",
              "    </tr>\n",
              "    <tr>\n",
              "      <th>1</th>\n",
              "      <td>-0.233857</td>\n",
              "      <td>-0.059706</td>\n",
              "      <td>-0.215181</td>\n",
              "      <td>-0.231077</td>\n",
              "      <td>0.186113</td>\n",
              "      <td>0.151892</td>\n",
              "      <td>0.060165</td>\n",
              "      <td>-0.034768</td>\n",
              "      <td>0.190349</td>\n",
              "      <td>0.366575</td>\n",
              "      <td>...</td>\n",
              "      <td>-0.219866</td>\n",
              "      <td>-0.045467</td>\n",
              "      <td>-0.199878</td>\n",
              "      <td>-0.219352</td>\n",
              "      <td>0.172304</td>\n",
              "      <td>0.143593</td>\n",
              "      <td>0.097964</td>\n",
              "      <td>-0.008257</td>\n",
              "      <td>0.141883</td>\n",
              "      <td>0.275339</td>\n",
              "    </tr>\n",
              "    <tr>\n",
              "      <th>2</th>\n",
              "      <td>-0.008531</td>\n",
              "      <td>0.064550</td>\n",
              "      <td>-0.009314</td>\n",
              "      <td>0.028700</td>\n",
              "      <td>-0.104292</td>\n",
              "      <td>-0.074092</td>\n",
              "      <td>0.002734</td>\n",
              "      <td>-0.025564</td>\n",
              "      <td>-0.040240</td>\n",
              "      <td>-0.022574</td>\n",
              "      <td>...</td>\n",
              "      <td>-0.047507</td>\n",
              "      <td>-0.042298</td>\n",
              "      <td>-0.048547</td>\n",
              "      <td>-0.011902</td>\n",
              "      <td>-0.259798</td>\n",
              "      <td>-0.236076</td>\n",
              "      <td>-0.173057</td>\n",
              "      <td>-0.170344</td>\n",
              "      <td>-0.271313</td>\n",
              "      <td>-0.232791</td>\n",
              "    </tr>\n",
              "    <tr>\n",
              "      <th>3</th>\n",
              "      <td>0.041409</td>\n",
              "      <td>-0.603050</td>\n",
              "      <td>0.041983</td>\n",
              "      <td>0.053434</td>\n",
              "      <td>0.159383</td>\n",
              "      <td>0.031795</td>\n",
              "      <td>0.019123</td>\n",
              "      <td>0.065336</td>\n",
              "      <td>0.067125</td>\n",
              "      <td>0.048587</td>\n",
              "      <td>...</td>\n",
              "      <td>0.015417</td>\n",
              "      <td>-0.632808</td>\n",
              "      <td>0.013803</td>\n",
              "      <td>0.025895</td>\n",
              "      <td>0.017652</td>\n",
              "      <td>-0.091328</td>\n",
              "      <td>-0.073951</td>\n",
              "      <td>0.006007</td>\n",
              "      <td>-0.036251</td>\n",
              "      <td>-0.077053</td>\n",
              "    </tr>\n",
              "    <tr>\n",
              "      <th>4</th>\n",
              "      <td>0.037786</td>\n",
              "      <td>-0.049469</td>\n",
              "      <td>0.037375</td>\n",
              "      <td>0.010331</td>\n",
              "      <td>-0.365089</td>\n",
              "      <td>0.011704</td>\n",
              "      <td>0.086375</td>\n",
              "      <td>-0.043861</td>\n",
              "      <td>-0.305941</td>\n",
              "      <td>-0.044424</td>\n",
              "      <td>...</td>\n",
              "      <td>-0.004407</td>\n",
              "      <td>-0.092883</td>\n",
              "      <td>0.007454</td>\n",
              "      <td>-0.027391</td>\n",
              "      <td>-0.324435</td>\n",
              "      <td>0.121804</td>\n",
              "      <td>0.188519</td>\n",
              "      <td>0.043332</td>\n",
              "      <td>-0.244559</td>\n",
              "      <td>0.094423</td>\n",
              "    </tr>\n",
              "  </tbody>\n",
              "</table>\n",
              "<p>5 rows × 30 columns</p>\n",
              "</div>\n",
              "      <button class=\"colab-df-convert\" onclick=\"convertToInteractive('df-6c466c9a-b8d5-4734-bd87-8a7c5a7644e9')\"\n",
              "              title=\"Convert this dataframe to an interactive table.\"\n",
              "              style=\"display:none;\">\n",
              "        \n",
              "  <svg xmlns=\"http://www.w3.org/2000/svg\" height=\"24px\"viewBox=\"0 0 24 24\"\n",
              "       width=\"24px\">\n",
              "    <path d=\"M0 0h24v24H0V0z\" fill=\"none\"/>\n",
              "    <path d=\"M18.56 5.44l.94 2.06.94-2.06 2.06-.94-2.06-.94-.94-2.06-.94 2.06-2.06.94zm-11 1L8.5 8.5l.94-2.06 2.06-.94-2.06-.94L8.5 2.5l-.94 2.06-2.06.94zm10 10l.94 2.06.94-2.06 2.06-.94-2.06-.94-.94-2.06-.94 2.06-2.06.94z\"/><path d=\"M17.41 7.96l-1.37-1.37c-.4-.4-.92-.59-1.43-.59-.52 0-1.04.2-1.43.59L10.3 9.45l-7.72 7.72c-.78.78-.78 2.05 0 2.83L4 21.41c.39.39.9.59 1.41.59.51 0 1.02-.2 1.41-.59l7.78-7.78 2.81-2.81c.8-.78.8-2.07 0-2.86zM5.41 20L4 18.59l7.72-7.72 1.47 1.35L5.41 20z\"/>\n",
              "  </svg>\n",
              "      </button>\n",
              "      \n",
              "  <style>\n",
              "    .colab-df-container {\n",
              "      display:flex;\n",
              "      flex-wrap:wrap;\n",
              "      gap: 12px;\n",
              "    }\n",
              "\n",
              "    .colab-df-convert {\n",
              "      background-color: #E8F0FE;\n",
              "      border: none;\n",
              "      border-radius: 50%;\n",
              "      cursor: pointer;\n",
              "      display: none;\n",
              "      fill: #1967D2;\n",
              "      height: 32px;\n",
              "      padding: 0 0 0 0;\n",
              "      width: 32px;\n",
              "    }\n",
              "\n",
              "    .colab-df-convert:hover {\n",
              "      background-color: #E2EBFA;\n",
              "      box-shadow: 0px 1px 2px rgba(60, 64, 67, 0.3), 0px 1px 3px 1px rgba(60, 64, 67, 0.15);\n",
              "      fill: #174EA6;\n",
              "    }\n",
              "\n",
              "    [theme=dark] .colab-df-convert {\n",
              "      background-color: #3B4455;\n",
              "      fill: #D2E3FC;\n",
              "    }\n",
              "\n",
              "    [theme=dark] .colab-df-convert:hover {\n",
              "      background-color: #434B5C;\n",
              "      box-shadow: 0px 1px 3px 1px rgba(0, 0, 0, 0.15);\n",
              "      filter: drop-shadow(0px 1px 2px rgba(0, 0, 0, 0.3));\n",
              "      fill: #FFFFFF;\n",
              "    }\n",
              "  </style>\n",
              "\n",
              "      <script>\n",
              "        const buttonEl =\n",
              "          document.querySelector('#df-6c466c9a-b8d5-4734-bd87-8a7c5a7644e9 button.colab-df-convert');\n",
              "        buttonEl.style.display =\n",
              "          google.colab.kernel.accessAllowed ? 'block' : 'none';\n",
              "\n",
              "        async function convertToInteractive(key) {\n",
              "          const element = document.querySelector('#df-6c466c9a-b8d5-4734-bd87-8a7c5a7644e9');\n",
              "          const dataTable =\n",
              "            await google.colab.kernel.invokeFunction('convertToInteractive',\n",
              "                                                     [key], {});\n",
              "          if (!dataTable) return;\n",
              "\n",
              "          const docLinkHtml = 'Like what you see? Visit the ' +\n",
              "            '<a target=\"_blank\" href=https://colab.research.google.com/notebooks/data_table.ipynb>data table notebook</a>'\n",
              "            + ' to learn more about interactive tables.';\n",
              "          element.innerHTML = '';\n",
              "          dataTable['output_type'] = 'display_data';\n",
              "          await google.colab.output.renderOutput(dataTable, element);\n",
              "          const docLink = document.createElement('div');\n",
              "          docLink.innerHTML = docLinkHtml;\n",
              "          element.appendChild(docLink);\n",
              "        }\n",
              "      </script>\n",
              "    </div>\n",
              "  </div>\n",
              "  "
            ]
          },
          "metadata": {},
          "execution_count": 10
        }
      ]
    },
    {
      "cell_type": "code",
      "source": [
        "feat=range(pca.n_components_)\n",
        "explained_variance=pca.explained_variance_\n",
        "fig,ax=plt.subplots()\n",
        "ax.bar(x=feat,height=explained_variance)\n",
        "ax.set_xlabel('Number of components')\n",
        "ax.set_ylabel('Explained Variance')\n",
        "plt.show()"
      ],
      "metadata": {
        "colab": {
          "base_uri": "https://localhost:8080/",
          "height": 449
        },
        "id": "Z0Vgvz4uIOLa",
        "outputId": "57323ac5-6e4f-408c-ed3b-4ad97dfea303"
      },
      "execution_count": 11,
      "outputs": [
        {
          "output_type": "display_data",
          "data": {
            "text/plain": [
              "<Figure size 640x480 with 1 Axes>"
            ],
            "image/png": "[encoded data removed]"
          },
          "metadata": {}
        }
      ]
    },
    {
      "cell_type": "code",
      "source": [
        "pca=PCA(n_components=5)\n",
        "scaler=StandardScaler()\n",
        "pipeline=make_pipeline(scaler,pca)\n",
        "pipeline.fit(features)"
      ],
      "metadata": {
        "colab": {
          "base_uri": "https://localhost:8080/",
          "height": 125
        },
        "id": "I8vUUQn-JSc_",
        "outputId": "e47555fc-9213-4810-f21c-15523b147863"
      },
      "execution_count": 12,
      "outputs": [
        {
          "output_type": "execute_result",
          "data": {
            "text/plain": [
              "Pipeline(steps=[('standardscaler', StandardScaler()),\n",
              "                ('pca', PCA(n_components=5))])"
            ],
            "text/html": [
              "<style>#sk-container-id-2 {color: black;background-color: white;}#sk-container-id-2 pre{padding: 0;}#sk-container-id-2 div.sk-toggleable {background-color: white;}#sk-container-id-2 label.sk-toggleable__label {cursor: pointer;display: block;width: 100%;margin-bottom: 0;padding: 0.3em;box-sizing: border-box;text-align: center;}#sk-container-id-2 label.sk-toggleable__label-arrow:before {content: \"▸\";float: left;margin-right: 0.25em;color: #696969;}#sk-container-id-2 label.sk-toggleable__label-arrow:hover:before {color: black;}#sk-container-id-2 div.sk-estimator:hover label.sk-toggleable__label-arrow:before {color: black;}#sk-container-id-2 div.sk-toggleable__content {max-height: 0;max-width: 0;overflow: hidden;text-align: left;background-color: #f0f8ff;}#sk-container-id-2 div.sk-toggleable__content pre {margin: 0.2em;color: black;border-radius: 0.25em;background-color: #f0f8ff;}#sk-container-id-2 input.sk-toggleable__control:checked~div.sk-toggleable__content {max-height: 200px;max-width: 100%;overflow: auto;}#sk-container-id-2 input.sk-toggleable__control:checked~label.sk-toggleable__label-arrow:before {content: \"▾\";}#sk-container-id-2 div.sk-estimator input.sk-toggleable__control:checked~label.sk-toggleable__label {background-color: #d4ebff;}#sk-container-id-2 div.sk-label input.sk-toggleable__control:checked~label.sk-toggleable__label {background-color: #d4ebff;}#sk-container-id-2 input.sk-hidden--visually {border: 0;clip: rect(1px 1px 1px 1px);clip: rect(1px, 1px, 1px, 1px);height: 1px;margin: -1px;overflow: hidden;padding: 0;position: absolute;width: 1px;}#sk-container-id-2 div.sk-estimator {font-family: monospace;background-color: #f0f8ff;border: 1px dotted black;border-radius: 0.25em;box-sizing: border-box;margin-bottom: 0.5em;}#sk-container-id-2 div.sk-estimator:hover {background-color: #d4ebff;}#sk-container-id-2 div.sk-parallel-item::after {content: \"\";width: 100%;border-bottom: 1px solid gray;flex-grow: 1;}#sk-container-id-2 div.sk-label:hover label.sk-toggleable__label {background-color: #d4ebff;}#sk-container-id-2 div.sk-serial::before {content: \"\";position: absolute;border-left: 1px solid gray;box-sizing: border-box;top: 0;bottom: 0;left: 50%;z-index: 0;}#sk-container-id-2 div.sk-serial {display: flex;flex-direction: column;align-items: center;background-color: white;padding-right: 0.2em;padding-left: 0.2em;position: relative;}#sk-container-id-2 div.sk-item {position: relative;z-index: 1;}#sk-container-id-2 div.sk-parallel {display: flex;align-items: stretch;justify-content: center;background-color: white;position: relative;}#sk-container-id-2 div.sk-item::before, #sk-container-id-2 div.sk-parallel-item::before {content: \"\";position: absolute;border-left: 1px solid gray;box-sizing: border-box;top: 0;bottom: 0;left: 50%;z-index: -1;}#sk-container-id-2 div.sk-parallel-item {display: flex;flex-direction: column;z-index: 1;position: relative;background-color: white;}#sk-container-id-2 div.sk-parallel-item:first-child::after {align-self: flex-end;width: 50%;}#sk-container-id-2 div.sk-parallel-item:last-child::after {align-self: flex-start;width: 50%;}#sk-container-id-2 div.sk-parallel-item:only-child::after {width: 0;}#sk-container-id-2 div.sk-dashed-wrapped {border: 1px dashed gray;margin: 0 0.4em 0.5em 0.4em;box-sizing: border-box;padding-bottom: 0.4em;background-color: white;}#sk-container-id-2 div.sk-label label {font-family: monospace;font-weight: bold;display: inline-block;line-height: 1.2em;}#sk-container-id-2 div.sk-label-container {text-align: center;}#sk-container-id-2 div.sk-container {/* jupyter's `normalize.less` sets `[hidden] { display: none; }` but bootstrap.min.css set `[hidden] { display: none !important; }` so we also need the `!important` here to be able to override the default hidden behavior on the sphinx rendered scikit-learn.org. See: https://github.com/scikit-learn/scikit-learn/issues/21755 */display: inline-block !important;position: relative;}#sk-container-id-2 div.sk-text-repr-fallback {display: none;}</style><div id=\"sk-container-id-2\" class=\"sk-top-container\"><div class=\"sk-text-repr-fallback\"><pre>Pipeline(steps=[(&#x27;standardscaler&#x27;, StandardScaler()),\n",
              "                (&#x27;pca&#x27;, PCA(n_components=5))])</pre><b>In a Jupyter environment, please rerun this cell to show the HTML representation or trust the notebook. <br />On GitHub, the HTML representation is unable to render, please try loading this page with nbviewer.org.</b></div><div class=\"sk-container\" hidden><div class=\"sk-item sk-dashed-wrapped\"><div class=\"sk-label-container\"><div class=\"sk-label sk-toggleable\"><input class=\"sk-toggleable__control sk-hidden--visually\" id=\"sk-estimator-id-4\" type=\"checkbox\" ><label for=\"sk-estimator-id-4\" class=\"sk-toggleable__label sk-toggleable__label-arrow\">Pipeline</label><div class=\"sk-toggleable__content\"><pre>Pipeline(steps=[(&#x27;standardscaler&#x27;, StandardScaler()),\n",
              "                (&#x27;pca&#x27;, PCA(n_components=5))])</pre></div></div></div><div class=\"sk-serial\"><div class=\"sk-item\"><div class=\"sk-estimator sk-toggleable\"><input class=\"sk-toggleable__control sk-hidden--visually\" id=\"sk-estimator-id-5\" type=\"checkbox\" ><label for=\"sk-estimator-id-5\" class=\"sk-toggleable__label sk-toggleable__label-arrow\">StandardScaler</label><div class=\"sk-toggleable__content\"><pre>StandardScaler()</pre></div></div></div><div class=\"sk-item\"><div class=\"sk-estimator sk-toggleable\"><input class=\"sk-toggleable__control sk-hidden--visually\" id=\"sk-estimator-id-6\" type=\"checkbox\" ><label for=\"sk-estimator-id-6\" class=\"sk-toggleable__label sk-toggleable__label-arrow\">PCA</label><div class=\"sk-toggleable__content\"><pre>PCA(n_components=5)</pre></div></div></div></div></div></div></div>"
            ]
          },
          "metadata": {},
          "execution_count": 12
        }
      ]
    },
    {
      "cell_type": "code",
      "source": [
        "transformed=pipeline.transform(features)\n",
        "transformed"
      ],
      "metadata": {
        "id": "FnLP5-5CJ8UO",
        "colab": {
          "base_uri": "https://localhost:8080/"
        },
        "outputId": "98d9accb-a6d3-461f-be04-98bac465bdb1"
      },
      "execution_count": 14,
      "outputs": [
        {
          "output_type": "execute_result",
          "data": {
            "text/plain": [
              "array([[ 9.19283683,  1.94858307, -1.12316613,  3.63373081, -1.19510978],\n",
              "       [ 2.3878018 , -3.76817174, -0.52929267,  1.11826383,  0.62177512],\n",
              "       [ 5.73389628, -1.0751738 , -0.55174763,  0.91208276, -0.1770863 ],\n",
              "       ...,\n",
              "       [ 1.25617928, -1.90229671,  0.56273052, -2.08922701,  1.80999128],\n",
              "       [10.37479406,  1.67201011, -1.87702935, -2.35603109, -0.03374209],\n",
              "       [-5.4752433 , -0.67063679,  1.49044306, -2.29915708, -0.18470355]])"
            ]
          },
          "metadata": {},
          "execution_count": 14
        }
      ]
    },
    {
      "cell_type": "code",
      "source": [
        "X=pd.DataFrame(transformed,columns=['PCA1','PCA2','PCA3','PCA4','PCA5'])"
      ],
      "metadata": {
        "id": "EoMvoW_HL4Ka"
      },
      "execution_count": 16,
      "outputs": []
    },
    {
      "cell_type": "code",
      "source": [
        "X"
      ],
      "metadata": {
        "id": "jdLbWHNOksSM",
        "outputId": "6a882751-f1b3-4836-9d03-1c0ed3492893",
        "colab": {
          "base_uri": "https://localhost:8080/",
          "height": 423
        }
      },
      "execution_count": 17,
      "outputs": [
        {
          "output_type": "execute_result",
          "data": {
            "text/plain": [
              "          PCA1       PCA2      PCA3      PCA4      PCA5\n",
              "0     9.192837   1.948583 -1.123166  3.633731 -1.195110\n",
              "1     2.387802  -3.768172 -0.529293  1.118264  0.621775\n",
              "2     5.733896  -1.075174 -0.551748  0.912083 -0.177086\n",
              "3     7.122953  10.275589 -3.232790  0.152547 -2.960878\n",
              "4     3.935302  -1.948072  1.389767  2.940639  0.546747\n",
              "..         ...        ...       ...       ...       ...\n",
              "564   6.439315  -3.576817  2.459487  1.177314 -0.074825\n",
              "565   3.793382  -3.584048  2.088476 -2.506028 -0.510722\n",
              "566   1.256179  -1.902297  0.562731 -2.089227  1.809991\n",
              "567  10.374794   1.672010 -1.877029 -2.356031 -0.033742\n",
              "568  -5.475243  -0.670637  1.490443 -2.299157 -0.184704\n",
              "\n",
              "[569 rows x 5 columns]"
            ],
            "text/html": [
              "\n",
              "  <div id=\"df-6a8bb365-6b61-4032-b255-6712a817b374\">\n",
              "    <div class=\"colab-df-container\">\n",
              "      <div>\n",
              "<style scoped>\n",
              "    .dataframe tbody tr th:only-of-type {\n",
              "        vertical-align: middle;\n",
              "    }\n",
              "\n",
              "    .dataframe tbody tr th {\n",
              "        vertical-align: top;\n",
              "    }\n",
              "\n",
              "    .dataframe thead th {\n",
              "        text-align: right;\n",
              "    }\n",
              "</style>\n",
              "<table border=\"1\" class=\"dataframe\">\n",
              "  <thead>\n",
              "    <tr style=\"text-align: right;\">\n",
              "      <th></th>\n",
              "      <th>PCA1</th>\n",
              "      <th>PCA2</th>\n",
              "      <th>PCA3</th>\n",
              "      <th>PCA4</th>\n",
              "      <th>PCA5</th>\n",
              "    </tr>\n",
              "  </thead>\n",
              "  <tbody>\n",
              "    <tr>\n",
              "      <th>0</th>\n",
              "      <td>9.192837</td>\n",
              "      <td>1.948583</td>\n",
              "      <td>-1.123166</td>\n",
              "      <td>3.633731</td>\n",
              "      <td>-1.195110</td>\n",
              "    </tr>\n",
              "    <tr>\n",
              "      <th>1</th>\n",
              "      <td>2.387802</td>\n",
              "      <td>-3.768172</td>\n",
              "      <td>-0.529293</td>\n",
              "      <td>1.118264</td>\n",
              "      <td>0.621775</td>\n",
              "    </tr>\n",
              "    <tr>\n",
              "      <th>2</th>\n",
              "      <td>5.733896</td>\n",
              "      <td>-1.075174</td>\n",
              "      <td>-0.551748</td>\n",
              "      <td>0.912083</td>\n",
              "      <td>-0.177086</td>\n",
              "    </tr>\n",
              "    <tr>\n",
              "      <th>3</th>\n",
              "      <td>7.122953</td>\n",
              "      <td>10.275589</td>\n",
              "      <td>-3.232790</td>\n",
              "      <td>0.152547</td>\n",
              "      <td>-2.960878</td>\n",
              "    </tr>\n",
              "    <tr>\n",
              "      <th>4</th>\n",
              "      <td>3.935302</td>\n",
              "      <td>-1.948072</td>\n",
              "      <td>1.389767</td>\n",
              "      <td>2.940639</td>\n",
              "      <td>0.546747</td>\n",
              "    </tr>\n",
              "    <tr>\n",
              "      <th>...</th>\n",
              "      <td>...</td>\n",
              "      <td>...</td>\n",
              "      <td>...</td>\n",
              "      <td>...</td>\n",
              "      <td>...</td>\n",
              "    </tr>\n",
              "    <tr>\n",
              "      <th>564</th>\n",
              "      <td>6.439315</td>\n",
              "      <td>-3.576817</td>\n",
              "      <td>2.459487</td>\n",
              "      <td>1.177314</td>\n",
              "      <td>-0.074825</td>\n",
              "    </tr>\n",
              "    <tr>\n",
              "      <th>565</th>\n",
              "      <td>3.793382</td>\n",
              "      <td>-3.584048</td>\n",
              "      <td>2.088476</td>\n",
              "      <td>-2.506028</td>\n",
              "      <td>-0.510722</td>\n",
              "    </tr>\n",
              "    <tr>\n",
              "      <th>566</th>\n",
              "      <td>1.256179</td>\n",
              "      <td>-1.902297</td>\n",
              "      <td>0.562731</td>\n",
              "      <td>-2.089227</td>\n",
              "      <td>1.809991</td>\n",
              "    </tr>\n",
              "    <tr>\n",
              "      <th>567</th>\n",
              "      <td>10.374794</td>\n",
              "      <td>1.672010</td>\n",
              "      <td>-1.877029</td>\n",
              "      <td>-2.356031</td>\n",
              "      <td>-0.033742</td>\n",
              "    </tr>\n",
              "    <tr>\n",
              "      <th>568</th>\n",
              "      <td>-5.475243</td>\n",
              "      <td>-0.670637</td>\n",
              "      <td>1.490443</td>\n",
              "      <td>-2.299157</td>\n",
              "      <td>-0.184704</td>\n",
              "    </tr>\n",
              "  </tbody>\n",
              "</table>\n",
              "<p>569 rows × 5 columns</p>\n",
              "</div>\n",
              "      <button class=\"colab-df-convert\" onclick=\"convertToInteractive('df-6a8bb365-6b61-4032-b255-6712a817b374')\"\n",
              "              title=\"Convert this dataframe to an interactive table.\"\n",
              "              style=\"display:none;\">\n",
              "        \n",
              "  <svg xmlns=\"http://www.w3.org/2000/svg\" height=\"24px\"viewBox=\"0 0 24 24\"\n",
              "       width=\"24px\">\n",
              "    <path d=\"M0 0h24v24H0V0z\" fill=\"none\"/>\n",
              "    <path d=\"M18.56 5.44l.94 2.06.94-2.06 2.06-.94-2.06-.94-.94-2.06-.94 2.06-2.06.94zm-11 1L8.5 8.5l.94-2.06 2.06-.94-2.06-.94L8.5 2.5l-.94 2.06-2.06.94zm10 10l.94 2.06.94-2.06 2.06-.94-2.06-.94-.94-2.06-.94 2.06-2.06.94z\"/><path d=\"M17.41 7.96l-1.37-1.37c-.4-.4-.92-.59-1.43-.59-.52 0-1.04.2-1.43.59L10.3 9.45l-7.72 7.72c-.78.78-.78 2.05 0 2.83L4 21.41c.39.39.9.59 1.41.59.51 0 1.02-.2 1.41-.59l7.78-7.78 2.81-2.81c.8-.78.8-2.07 0-2.86zM5.41 20L4 18.59l7.72-7.72 1.47 1.35L5.41 20z\"/>\n",
              "  </svg>\n",
              "      </button>\n",
              "      \n",
              "  <style>\n",
              "    .colab-df-container {\n",
              "      display:flex;\n",
              "      flex-wrap:wrap;\n",
              "      gap: 12px;\n",
              "    }\n",
              "\n",
              "    .colab-df-convert {\n",
              "      background-color: #E8F0FE;\n",
              "      border: none;\n",
              "      border-radius: 50%;\n",
              "      cursor: pointer;\n",
              "      display: none;\n",
              "      fill: #1967D2;\n",
              "      height: 32px;\n",
              "      padding: 0 0 0 0;\n",
              "      width: 32px;\n",
              "    }\n",
              "\n",
              "    .colab-df-convert:hover {\n",
              "      background-color: #E2EBFA;\n",
              "      box-shadow: 0px 1px 2px rgba(60, 64, 67, 0.3), 0px 1px 3px 1px rgba(60, 64, 67, 0.15);\n",
              "      fill: #174EA6;\n",
              "    }\n",
              "\n",
              "    [theme=dark] .colab-df-convert {\n",
              "      background-color: #3B4455;\n",
              "      fill: #D2E3FC;\n",
              "    }\n",
              "\n",
              "    [theme=dark] .colab-df-convert:hover {\n",
              "      background-color: #434B5C;\n",
              "      box-shadow: 0px 1px 3px 1px rgba(0, 0, 0, 0.15);\n",
              "      filter: drop-shadow(0px 1px 2px rgba(0, 0, 0, 0.3));\n",
              "      fill: #FFFFFF;\n",
              "    }\n",
              "  </style>\n",
              "\n",
              "      <script>\n",
              "        const buttonEl =\n",
              "          document.querySelector('#df-6a8bb365-6b61-4032-b255-6712a817b374 button.colab-df-convert');\n",
              "        buttonEl.style.display =\n",
              "          google.colab.kernel.accessAllowed ? 'block' : 'none';\n",
              "\n",
              "        async function convertToInteractive(key) {\n",
              "          const element = document.querySelector('#df-6a8bb365-6b61-4032-b255-6712a817b374');\n",
              "          const dataTable =\n",
              "            await google.colab.kernel.invokeFunction('convertToInteractive',\n",
              "                                                     [key], {});\n",
              "          if (!dataTable) return;\n",
              "\n",
              "          const docLinkHtml = 'Like what you see? Visit the ' +\n",
              "            '<a target=\"_blank\" href=https://colab.research.google.com/notebooks/data_table.ipynb>data table notebook</a>'\n",
              "            + ' to learn more about interactive tables.';\n",
              "          element.innerHTML = '';\n",
              "          dataTable['output_type'] = 'display_data';\n",
              "          await google.colab.output.renderOutput(dataTable, element);\n",
              "          const docLink = document.createElement('div');\n",
              "          docLink.innerHTML = docLinkHtml;\n",
              "          element.appendChild(docLink);\n",
              "        }\n",
              "      </script>\n",
              "    </div>\n",
              "  </div>\n",
              "  "
            ]
          },
          "metadata": {},
          "execution_count": 17
        }
      ]
    },
    {
      "cell_type": "code",
      "source": [
        "X_train,X_test,y_train,y_test=train_test_split(X,y,test_size=0.2)"
      ],
      "metadata": {
        "id": "k0meoQJMMTza"
      },
      "execution_count": 18,
      "outputs": []
    },
    {
      "cell_type": "code",
      "source": [
        "from sklearn.tree import DecisionTreeClassifier"
      ],
      "metadata": {
        "id": "ZuRJVCl4N8sv"
      },
      "execution_count": 19,
      "outputs": []
    },
    {
      "cell_type": "code",
      "source": [
        "dt=DecisionTreeClassifier(max_depth=5)"
      ],
      "metadata": {
        "id": "MgshQm7EOD5A"
      },
      "execution_count": 20,
      "outputs": []
    },
    {
      "cell_type": "code",
      "source": [
        "dt.fit(X_train,y_train)"
      ],
      "metadata": {
        "colab": {
          "base_uri": "https://localhost:8080/",
          "height": 74
        },
        "id": "c7Ynu3WOOKkI",
        "outputId": "26b61262-8698-4be8-b13d-9ffc911b0e3c"
      },
      "execution_count": 21,
      "outputs": [
        {
          "output_type": "execute_result",
          "data": {
            "text/plain": [
              "DecisionTreeClassifier(max_depth=5)"
            ],
            "text/html": [
              "<style>#sk-container-id-3 {color: black;background-color: white;}#sk-container-id-3 pre{padding: 0;}#sk-container-id-3 div.sk-toggleable {background-color: white;}#sk-container-id-3 label.sk-toggleable__label {cursor: pointer;display: block;width: 100%;margin-bottom: 0;padding: 0.3em;box-sizing: border-box;text-align: center;}#sk-container-id-3 label.sk-toggleable__label-arrow:before {content: \"▸\";float: left;margin-right: 0.25em;color: #696969;}#sk-container-id-3 label.sk-toggleable__label-arrow:hover:before {color: black;}#sk-container-id-3 div.sk-estimator:hover label.sk-toggleable__label-arrow:before {color: black;}#sk-container-id-3 div.sk-toggleable__content {max-height: 0;max-width: 0;overflow: hidden;text-align: left;background-color: #f0f8ff;}#sk-container-id-3 div.sk-toggleable__content pre {margin: 0.2em;color: black;border-radius: 0.25em;background-color: #f0f8ff;}#sk-container-id-3 input.sk-toggleable__control:checked~div.sk-toggleable__content {max-height: 200px;max-width: 100%;overflow: auto;}#sk-container-id-3 input.sk-toggleable__control:checked~label.sk-toggleable__label-arrow:before {content: \"▾\";}#sk-container-id-3 div.sk-estimator input.sk-toggleable__control:checked~label.sk-toggleable__label {background-color: #d4ebff;}#sk-container-id-3 div.sk-label input.sk-toggleable__control:checked~label.sk-toggleable__label {background-color: #d4ebff;}#sk-container-id-3 input.sk-hidden--visually {border: 0;clip: rect(1px 1px 1px 1px);clip: rect(1px, 1px, 1px, 1px);height: 1px;margin: -1px;overflow: hidden;padding: 0;position: absolute;width: 1px;}#sk-container-id-3 div.sk-estimator {font-family: monospace;background-color: #f0f8ff;border: 1px dotted black;border-radius: 0.25em;box-sizing: border-box;margin-bottom: 0.5em;}#sk-container-id-3 div.sk-estimator:hover {background-color: #d4ebff;}#sk-container-id-3 div.sk-parallel-item::after {content: \"\";width: 100%;border-bottom: 1px solid gray;flex-grow: 1;}#sk-container-id-3 div.sk-label:hover label.sk-toggleable__label {background-color: #d4ebff;}#sk-container-id-3 div.sk-serial::before {content: \"\";position: absolute;border-left: 1px solid gray;box-sizing: border-box;top: 0;bottom: 0;left: 50%;z-index: 0;}#sk-container-id-3 div.sk-serial {display: flex;flex-direction: column;align-items: center;background-color: white;padding-right: 0.2em;padding-left: 0.2em;position: relative;}#sk-container-id-3 div.sk-item {position: relative;z-index: 1;}#sk-container-id-3 div.sk-parallel {display: flex;align-items: stretch;justify-content: center;background-color: white;position: relative;}#sk-container-id-3 div.sk-item::before, #sk-container-id-3 div.sk-parallel-item::before {content: \"\";position: absolute;border-left: 1px solid gray;box-sizing: border-box;top: 0;bottom: 0;left: 50%;z-index: -1;}#sk-container-id-3 div.sk-parallel-item {display: flex;flex-direction: column;z-index: 1;position: relative;background-color: white;}#sk-container-id-3 div.sk-parallel-item:first-child::after {align-self: flex-end;width: 50%;}#sk-container-id-3 div.sk-parallel-item:last-child::after {align-self: flex-start;width: 50%;}#sk-container-id-3 div.sk-parallel-item:only-child::after {width: 0;}#sk-container-id-3 div.sk-dashed-wrapped {border: 1px dashed gray;margin: 0 0.4em 0.5em 0.4em;box-sizing: border-box;padding-bottom: 0.4em;background-color: white;}#sk-container-id-3 div.sk-label label {font-family: monospace;font-weight: bold;display: inline-block;line-height: 1.2em;}#sk-container-id-3 div.sk-label-container {text-align: center;}#sk-container-id-3 div.sk-container {/* jupyter's `normalize.less` sets `[hidden] { display: none; }` but bootstrap.min.css set `[hidden] { display: none !important; }` so we also need the `!important` here to be able to override the default hidden behavior on the sphinx rendered scikit-learn.org. See: https://github.com/scikit-learn/scikit-learn/issues/21755 */display: inline-block !important;position: relative;}#sk-container-id-3 div.sk-text-repr-fallback {display: none;}</style><div id=\"sk-container-id-3\" class=\"sk-top-container\"><div class=\"sk-text-repr-fallback\"><pre>DecisionTreeClassifier(max_depth=5)</pre><b>In a Jupyter environment, please rerun this cell to show the HTML representation or trust the notebook. <br />On GitHub, the HTML representation is unable to render, please try loading this page with nbviewer.org.</b></div><div class=\"sk-container\" hidden><div class=\"sk-item\"><div class=\"sk-estimator sk-toggleable\"><input class=\"sk-toggleable__control sk-hidden--visually\" id=\"sk-estimator-id-7\" type=\"checkbox\" checked><label for=\"sk-estimator-id-7\" class=\"sk-toggleable__label sk-toggleable__label-arrow\">DecisionTreeClassifier</label><div class=\"sk-toggleable__content\"><pre>DecisionTreeClassifier(max_depth=5)</pre></div></div></div></div></div>"
            ]
          },
          "metadata": {},
          "execution_count": 21
        }
      ]
    },
    {
      "cell_type": "code",
      "source": [
        "y_pred=dt.predict(X_test)"
      ],
      "metadata": {
        "id": "hybeJJCcOOwN"
      },
      "execution_count": 22,
      "outputs": []
    },
    {
      "cell_type": "code",
      "source": [
        "from sklearn.metrics import classification_report"
      ],
      "metadata": {
        "id": "0V2Vr6JBOU4u"
      },
      "execution_count": 23,
      "outputs": []
    },
    {
      "cell_type": "code",
      "source": [
        "print(classification_report(y_test,y_pred))"
      ],
      "metadata": {
        "colab": {
          "base_uri": "https://localhost:8080/"
        },
        "id": "fnu8S8HsOacD",
        "outputId": "0a982485-77e7-4610-ed70-4db0756c5f76"
      },
      "execution_count": 24,
      "outputs": [
        {
          "output_type": "stream",
          "name": "stdout",
          "text": [
            "              precision    recall  f1-score   support\n",
            "\n",
            "           0       0.97      0.90      0.93        70\n",
            "           1       0.86      0.95      0.90        44\n",
            "\n",
            "    accuracy                           0.92       114\n",
            "   macro avg       0.91      0.93      0.92       114\n",
            "weighted avg       0.93      0.92      0.92       114\n",
            "\n"
          ]
        }
      ]
    },
    {
      "cell_type": "code",
      "source": [],
      "metadata": {
        "id": "8_hudp02hjU3"
      },
      "execution_count": null,
      "outputs": []
    },
    {
      "cell_type": "code",
      "source": [
        "cancer.diagnosis.value_counts(normalize=True)"
      ],
      "metadata": {
        "colab": {
          "base_uri": "https://localhost:8080/"
        },
        "id": "AqyIQJRHOijj",
        "outputId": "d756fb5a-d3d3-4c8a-f8a8-bfba553781c8"
      },
      "execution_count": 25,
      "outputs": [
        {
          "output_type": "execute_result",
          "data": {
            "text/plain": [
              "0    0.627417\n",
              "1    0.372583\n",
              "Name: diagnosis, dtype: float64"
            ]
          },
          "metadata": {},
          "execution_count": 25
        }
      ]
    },
    {
      "cell_type": "code",
      "source": [
        "import seaborn as sns\n",
        "sns.boxplot(y='PCA1',data=X)"
      ],
      "metadata": {
        "colab": {
          "base_uri": "https://localhost:8080/",
          "height": 428
        },
        "id": "0zmfInjlhkX1",
        "outputId": "343dc3bf-6e6a-456b-d087-8c7b753bf690"
      },
      "execution_count": 28,
      "outputs": [
        {
          "output_type": "execute_result",
          "data": {
            "text/plain": [
              "<Axes: ylabel='PCA1'>"
            ]
          },
          "metadata": {},
          "execution_count": 28
        },
        {
          "output_type": "display_data",
          "data": {
            "text/plain": [
              "<Figure size 640x480 with 1 Axes>"
            ],
            "image/png": "[encoded data removed]"
          },
          "metadata": {}
        }
      ]
    },
    {
      "cell_type": "code",
      "source": [
        "indices=X.loc[X.PCA1>10].index"
      ],
      "metadata": {
        "id": "QlIFqK4sh3fw"
      },
      "execution_count": 32,
      "outputs": []
    },
    {
      "cell_type": "code",
      "source": [
        "cancer.loc[cancer.index.isin(indices)]"
      ],
      "metadata": {
        "colab": {
          "base_uri": "https://localhost:8080/",
          "height": 411
        },
        "id": "PsdabQxZiI8o",
        "outputId": "6fe1eb58-c9f2-45e6-d12c-8987ecfa7495"
      },
      "execution_count": 33,
      "outputs": [
        {
          "output_type": "execute_result",
          "data": {
            "text/plain": [
              "            id  diagnosis  radius_mean  texture_mean  perimeter_mean  \\\n",
              "78     8610862          1        20.18         23.97           143.7   \n",
              "82     8611555          1        25.22         24.91           171.5   \n",
              "108      86355          1        22.27         19.67           152.8   \n",
              "122     865423          1        24.25         20.20           166.2   \n",
              "212    8810703          1        28.11         18.47           188.5   \n",
              "352     899987          1        25.73         17.46           174.2   \n",
              "461  911296202          1        27.42         26.27           186.9   \n",
              "567     927241          1        20.60         29.33           140.1   \n",
              "\n",
              "     area_mean  smoothness_mean  compactness_mean  concavity_mean  \\\n",
              "78      1245.0           0.1286            0.3454          0.3754   \n",
              "82      1878.0           0.1063            0.2665          0.3339   \n",
              "108     1509.0           0.1326            0.2768          0.4264   \n",
              "122     1761.0           0.1447            0.2867          0.4268   \n",
              "212     2499.0           0.1142            0.1516          0.3201   \n",
              "352     2010.0           0.1149            0.2363          0.3368   \n",
              "461     2501.0           0.1084            0.1988          0.3635   \n",
              "567     1265.0           0.1178            0.2770          0.3514   \n",
              "\n",
              "     concave points_mean  ...  texture_worst  perimeter_worst  area_worst  \\\n",
              "78                0.1604  ...          31.72            170.3      1623.0   \n",
              "82                0.1845  ...          33.62            211.7      2562.0   \n",
              "108               0.1823  ...          28.01            206.8      2360.0   \n",
              "122               0.2012  ...          23.99            180.9      2073.0   \n",
              "212               0.1595  ...          18.47            188.5      2499.0   \n",
              "352               0.1913  ...          23.58            229.3      3234.0   \n",
              "461               0.1689  ...          31.37            251.2      4254.0   \n",
              "567               0.1520  ...          39.42            184.6      1821.0   \n",
              "\n",
              "     smoothness_worst  compactness_worst  concavity_worst  \\\n",
              "78             0.1639             0.6164           0.7681   \n",
              "82             0.1573             0.6076           0.6476   \n",
              "108            0.1701             0.6997           0.9608   \n",
              "122            0.1696             0.4244           0.5803   \n",
              "212            0.1142             0.1516           0.3201   \n",
              "352            0.1530             0.5937           0.6451   \n",
              "461            0.1357             0.4256           0.6833   \n",
              "567            0.1650             0.8681           0.9387   \n",
              "\n",
              "     concave points_worst  symmetry_worst  fractal_dimension_worst  \\\n",
              "78                 0.2508          0.5440                  0.09964   \n",
              "82                 0.2867          0.2355                  0.10510   \n",
              "108                0.2910          0.4055                  0.09789   \n",
              "122                0.2248          0.3222                  0.08009   \n",
              "212                0.1595          0.1648                  0.05525   \n",
              "352                0.2756          0.3690                  0.08815   \n",
              "461                0.2625          0.2641                  0.07427   \n",
              "567                0.2650          0.4087                  0.12400   \n",
              "\n",
              "     Unnamed: 32  \n",
              "78           NaN  \n",
              "82           NaN  \n",
              "108          NaN  \n",
              "122          NaN  \n",
              "212          NaN  \n",
              "352          NaN  \n",
              "461          NaN  \n",
              "567          NaN  \n",
              "\n",
              "[8 rows x 33 columns]"
            ],
            "text/html": [
              "\n",
              "  <div id=\"df-4f158b13-7356-44fa-b42b-f1144fe6e9ab\">\n",
              "    <div class=\"colab-df-container\">\n",
              "      <div>\n",
              "<style scoped>\n",
              "    .dataframe tbody tr th:only-of-type {\n",
              "        vertical-align: middle;\n",
              "    }\n",
              "\n",
              "    .dataframe tbody tr th {\n",
              "        vertical-align: top;\n",
              "    }\n",
              "\n",
              "    .dataframe thead th {\n",
              "        text-align: right;\n",
              "    }\n",
              "</style>\n",
              "<table border=\"1\" class=\"dataframe\">\n",
              "  <thead>\n",
              "    <tr style=\"text-align: right;\">\n",
              "      <th></th>\n",
              "      <th>id</th>\n",
              "      <th>diagnosis</th>\n",
              "      <th>radius_mean</th>\n",
              "      <th>texture_mean</th>\n",
              "      <th>perimeter_mean</th>\n",
              "      <th>area_mean</th>\n",
              "      <th>smoothness_mean</th>\n",
              "      <th>compactness_mean</th>\n",
              "      <th>concavity_mean</th>\n",
              "      <th>concave points_mean</th>\n",
              "      <th>...</th>\n",
              "      <th>texture_worst</th>\n",
              "      <th>perimeter_worst</th>\n",
              "      <th>area_worst</th>\n",
              "      <th>smoothness_worst</th>\n",
              "      <th>compactness_worst</th>\n",
              "      <th>concavity_worst</th>\n",
              "      <th>concave points_worst</th>\n",
              "      <th>symmetry_worst</th>\n",
              "      <th>fractal_dimension_worst</th>\n",
              "      <th>Unnamed: 32</th>\n",
              "    </tr>\n",
              "  </thead>\n",
              "  <tbody>\n",
              "    <tr>\n",
              "      <th>78</th>\n",
              "      <td>8610862</td>\n",
              "      <td>1</td>\n",
              "      <td>20.18</td>\n",
              "      <td>23.97</td>\n",
              "      <td>143.7</td>\n",
              "      <td>1245.0</td>\n",
              "      <td>0.1286</td>\n",
              "      <td>0.3454</td>\n",
              "      <td>0.3754</td>\n",
              "      <td>0.1604</td>\n",
              "      <td>...</td>\n",
              "      <td>31.72</td>\n",
              "      <td>170.3</td>\n",
              "      <td>1623.0</td>\n",
              "      <td>0.1639</td>\n",
              "      <td>0.6164</td>\n",
              "      <td>0.7681</td>\n",
              "      <td>0.2508</td>\n",
              "      <td>0.5440</td>\n",
              "      <td>0.09964</td>\n",
              "      <td>NaN</td>\n",
              "    </tr>\n",
              "    <tr>\n",
              "      <th>82</th>\n",
              "      <td>8611555</td>\n",
              "      <td>1</td>\n",
              "      <td>25.22</td>\n",
              "      <td>24.91</td>\n",
              "      <td>171.5</td>\n",
              "      <td>1878.0</td>\n",
              "      <td>0.1063</td>\n",
              "      <td>0.2665</td>\n",
              "      <td>0.3339</td>\n",
              "      <td>0.1845</td>\n",
              "      <td>...</td>\n",
              "      <td>33.62</td>\n",
              "      <td>211.7</td>\n",
              "      <td>2562.0</td>\n",
              "      <td>0.1573</td>\n",
              "      <td>0.6076</td>\n",
              "      <td>0.6476</td>\n",
              "      <td>0.2867</td>\n",
              "      <td>0.2355</td>\n",
              "      <td>0.10510</td>\n",
              "      <td>NaN</td>\n",
              "    </tr>\n",
              "    <tr>\n",
              "      <th>108</th>\n",
              "      <td>86355</td>\n",
              "      <td>1</td>\n",
              "      <td>22.27</td>\n",
              "      <td>19.67</td>\n",
              "      <td>152.8</td>\n",
              "      <td>1509.0</td>\n",
              "      <td>0.1326</td>\n",
              "      <td>0.2768</td>\n",
              "      <td>0.4264</td>\n",
              "      <td>0.1823</td>\n",
              "      <td>...</td>\n",
              "      <td>28.01</td>\n",
              "      <td>206.8</td>\n",
              "      <td>2360.0</td>\n",
              "      <td>0.1701</td>\n",
              "      <td>0.6997</td>\n",
              "      <td>0.9608</td>\n",
              "      <td>0.2910</td>\n",
              "      <td>0.4055</td>\n",
              "      <td>0.09789</td>\n",
              "      <td>NaN</td>\n",
              "    </tr>\n",
              "    <tr>\n",
              "      <th>122</th>\n",
              "      <td>865423</td>\n",
              "      <td>1</td>\n",
              "      <td>24.25</td>\n",
              "      <td>20.20</td>\n",
              "      <td>166.2</td>\n",
              "      <td>1761.0</td>\n",
              "      <td>0.1447</td>\n",
              "      <td>0.2867</td>\n",
              "      <td>0.4268</td>\n",
              "      <td>0.2012</td>\n",
              "      <td>...</td>\n",
              "      <td>23.99</td>\n",
              "      <td>180.9</td>\n",
              "      <td>2073.0</td>\n",
              "      <td>0.1696</td>\n",
              "      <td>0.4244</td>\n",
              "      <td>0.5803</td>\n",
              "      <td>0.2248</td>\n",
              "      <td>0.3222</td>\n",
              "      <td>0.08009</td>\n",
              "      <td>NaN</td>\n",
              "    </tr>\n",
              "    <tr>\n",
              "      <th>212</th>\n",
              "      <td>8810703</td>\n",
              "      <td>1</td>\n",
              "      <td>28.11</td>\n",
              "      <td>18.47</td>\n",
              "      <td>188.5</td>\n",
              "      <td>2499.0</td>\n",
              "      <td>0.1142</td>\n",
              "      <td>0.1516</td>\n",
              "      <td>0.3201</td>\n",
              "      <td>0.1595</td>\n",
              "      <td>...</td>\n",
              "      <td>18.47</td>\n",
              "      <td>188.5</td>\n",
              "      <td>2499.0</td>\n",
              "      <td>0.1142</td>\n",
              "      <td>0.1516</td>\n",
              "      <td>0.3201</td>\n",
              "      <td>0.1595</td>\n",
              "      <td>0.1648</td>\n",
              "      <td>0.05525</td>\n",
              "      <td>NaN</td>\n",
              "    </tr>\n",
              "    <tr>\n",
              "      <th>352</th>\n",
              "      <td>899987</td>\n",
              "      <td>1</td>\n",
              "      <td>25.73</td>\n",
              "      <td>17.46</td>\n",
              "      <td>174.2</td>\n",
              "      <td>2010.0</td>\n",
              "      <td>0.1149</td>\n",
              "      <td>0.2363</td>\n",
              "      <td>0.3368</td>\n",
              "      <td>0.1913</td>\n",
              "      <td>...</td>\n",
              "      <td>23.58</td>\n",
              "      <td>229.3</td>\n",
              "      <td>3234.0</td>\n",
              "      <td>0.1530</td>\n",
              "      <td>0.5937</td>\n",
              "      <td>0.6451</td>\n",
              "      <td>0.2756</td>\n",
              "      <td>0.3690</td>\n",
              "      <td>0.08815</td>\n",
              "      <td>NaN</td>\n",
              "    </tr>\n",
              "    <tr>\n",
              "      <th>461</th>\n",
              "      <td>911296202</td>\n",
              "      <td>1</td>\n",
              "      <td>27.42</td>\n",
              "      <td>26.27</td>\n",
              "      <td>186.9</td>\n",
              "      <td>2501.0</td>\n",
              "      <td>0.1084</td>\n",
              "      <td>0.1988</td>\n",
              "      <td>0.3635</td>\n",
              "      <td>0.1689</td>\n",
              "      <td>...</td>\n",
              "      <td>31.37</td>\n",
              "      <td>251.2</td>\n",
              "      <td>4254.0</td>\n",
              "      <td>0.1357</td>\n",
              "      <td>0.4256</td>\n",
              "      <td>0.6833</td>\n",
              "      <td>0.2625</td>\n",
              "      <td>0.2641</td>\n",
              "      <td>0.07427</td>\n",
              "      <td>NaN</td>\n",
              "    </tr>\n",
              "    <tr>\n",
              "      <th>567</th>\n",
              "      <td>927241</td>\n",
              "      <td>1</td>\n",
              "      <td>20.60</td>\n",
              "      <td>29.33</td>\n",
              "      <td>140.1</td>\n",
              "      <td>1265.0</td>\n",
              "      <td>0.1178</td>\n",
              "      <td>0.2770</td>\n",
              "      <td>0.3514</td>\n",
              "      <td>0.1520</td>\n",
              "      <td>...</td>\n",
              "      <td>39.42</td>\n",
              "      <td>184.6</td>\n",
              "      <td>1821.0</td>\n",
              "      <td>0.1650</td>\n",
              "      <td>0.8681</td>\n",
              "      <td>0.9387</td>\n",
              "      <td>0.2650</td>\n",
              "      <td>0.4087</td>\n",
              "      <td>0.12400</td>\n",
              "      <td>NaN</td>\n",
              "    </tr>\n",
              "  </tbody>\n",
              "</table>\n",
              "<p>8 rows × 33 columns</p>\n",
              "</div>\n",
              "      <button class=\"colab-df-convert\" onclick=\"convertToInteractive('df-4f158b13-7356-44fa-b42b-f1144fe6e9ab')\"\n",
              "              title=\"Convert this dataframe to an interactive table.\"\n",
              "              style=\"display:none;\">\n",
              "        \n",
              "  <svg xmlns=\"http://www.w3.org/2000/svg\" height=\"24px\"viewBox=\"0 0 24 24\"\n",
              "       width=\"24px\">\n",
              "    <path d=\"M0 0h24v24H0V0z\" fill=\"none\"/>\n",
              "    <path d=\"M18.56 5.44l.94 2.06.94-2.06 2.06-.94-2.06-.94-.94-2.06-.94 2.06-2.06.94zm-11 1L8.5 8.5l.94-2.06 2.06-.94-2.06-.94L8.5 2.5l-.94 2.06-2.06.94zm10 10l.94 2.06.94-2.06 2.06-.94-2.06-.94-.94-2.06-.94 2.06-2.06.94z\"/><path d=\"M17.41 7.96l-1.37-1.37c-.4-.4-.92-.59-1.43-.59-.52 0-1.04.2-1.43.59L10.3 9.45l-7.72 7.72c-.78.78-.78 2.05 0 2.83L4 21.41c.39.39.9.59 1.41.59.51 0 1.02-.2 1.41-.59l7.78-7.78 2.81-2.81c.8-.78.8-2.07 0-2.86zM5.41 20L4 18.59l7.72-7.72 1.47 1.35L5.41 20z\"/>\n",
              "  </svg>\n",
              "      </button>\n",
              "      \n",
              "  <style>\n",
              "    .colab-df-container {\n",
              "      display:flex;\n",
              "      flex-wrap:wrap;\n",
              "      gap: 12px;\n",
              "    }\n",
              "\n",
              "    .colab-df-convert {\n",
              "      background-color: #E8F0FE;\n",
              "      border: none;\n",
              "      border-radius: 50%;\n",
              "      cursor: pointer;\n",
              "      display: none;\n",
              "      fill: #1967D2;\n",
              "      height: 32px;\n",
              "      padding: 0 0 0 0;\n",
              "      width: 32px;\n",
              "    }\n",
              "\n",
              "    .colab-df-convert:hover {\n",
              "      background-color: #E2EBFA;\n",
              "      box-shadow: 0px 1px 2px rgba(60, 64, 67, 0.3), 0px 1px 3px 1px rgba(60, 64, 67, 0.15);\n",
              "      fill: #174EA6;\n",
              "    }\n",
              "\n",
              "    [theme=dark] .colab-df-convert {\n",
              "      background-color: #3B4455;\n",
              "      fill: #D2E3FC;\n",
              "    }\n",
              "\n",
              "    [theme=dark] .colab-df-convert:hover {\n",
              "      background-color: #434B5C;\n",
              "      box-shadow: 0px 1px 3px 1px rgba(0, 0, 0, 0.15);\n",
              "      filter: drop-shadow(0px 1px 2px rgba(0, 0, 0, 0.3));\n",
              "      fill: #FFFFFF;\n",
              "    }\n",
              "  </style>\n",
              "\n",
              "      <script>\n",
              "        const buttonEl =\n",
              "          document.querySelector('#df-4f158b13-7356-44fa-b42b-f1144fe6e9ab button.colab-df-convert');\n",
              "        buttonEl.style.display =\n",
              "          google.colab.kernel.accessAllowed ? 'block' : 'none';\n",
              "\n",
              "        async function convertToInteractive(key) {\n",
              "          const element = document.querySelector('#df-4f158b13-7356-44fa-b42b-f1144fe6e9ab');\n",
              "          const dataTable =\n",
              "            await google.colab.kernel.invokeFunction('convertToInteractive',\n",
              "                                                     [key], {});\n",
              "          if (!dataTable) return;\n",
              "\n",
              "          const docLinkHtml = 'Like what you see? Visit the ' +\n",
              "            '<a target=\"_blank\" href=https://colab.research.google.com/notebooks/data_table.ipynb>data table notebook</a>'\n",
              "            + ' to learn more about interactive tables.';\n",
              "          element.innerHTML = '';\n",
              "          dataTable['output_type'] = 'display_data';\n",
              "          await google.colab.output.renderOutput(dataTable, element);\n",
              "          const docLink = document.createElement('div');\n",
              "          docLink.innerHTML = docLinkHtml;\n",
              "          element.appendChild(docLink);\n",
              "        }\n",
              "      </script>\n",
              "    </div>\n",
              "  </div>\n",
              "  "
            ]
          },
          "metadata": {},
          "execution_count": 33
        }
      ]
    },
    {
      "cell_type": "code",
      "source": [
        "sns.scatterplot(data=X,x='PCA1',y='PCA2')"
      ],
      "metadata": {
        "colab": {
          "base_uri": "https://localhost:8080/",
          "height": 466
        },
        "id": "dsqxYFyEiWeO",
        "outputId": "3b9a1d79-6441-4a45-9a0f-df3a807329a7"
      },
      "execution_count": 34,
      "outputs": [
        {
          "output_type": "execute_result",
          "data": {
            "text/plain": [
              "<Axes: xlabel='PCA1', ylabel='PCA2'>"
            ]
          },
          "metadata": {},
          "execution_count": 34
        },
        {
          "output_type": "display_data",
          "data": {
            "text/plain": [
              "<Figure size 640x480 with 1 Axes>"
            ],
            "image/png": "[encoded data removed]"
          },
          "metadata": {}
        }
      ]
    }
  ]
}