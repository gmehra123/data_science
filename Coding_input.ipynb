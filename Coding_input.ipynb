{
  "nbformat": 4,
  "nbformat_minor": 0,
  "metadata": {
    "colab": {
      "provenance": [],
      "authorship_tag": "ABX9TyMs442VR5IMr82LFbYM/y7G",
      "include_colab_link": true
    },
    "kernelspec": {
      "name": "python3",
      "display_name": "Python 3"
    },
    "language_info": {
      "name": "python"
    }
  },
  "cells": [
    {
      "cell_type": "markdown",
      "metadata": {
        "id": "view-in-github",
        "colab_type": "text"
      },
      "source": [
        "<a href=\"https://colab.research.google.com/github/gmehra123/data_science_projs/blob/main/Coding_input.ipynb\" target=\"_parent\"><img src=\"https://colab.research.google.com/assets/colab-badge.svg\" alt=\"Open In Colab\"/></a>"
      ]
    },
    {
      "cell_type": "code",
      "execution_count": 1,
      "metadata": {
        "id": "geLx85QvTWGN"
      },
      "outputs": [],
      "source": [
        "import numpy as np"
      ]
    },
    {
      "cell_type": "code",
      "source": [],
      "metadata": {
        "id": "OLj1YRNgQLVu"
      },
      "execution_count": null,
      "outputs": []
    },
    {
      "cell_type": "code",
      "source": [
        "l=[10000,20000,30000]"
      ],
      "metadata": {
        "id": "2mYkbpSNTYkW"
      },
      "execution_count": 2,
      "outputs": []
    },
    {
      "cell_type": "code",
      "source": [
        "l = []\n",
        "n = None\n",
        "while n!=\"done\":\n",
        "  n = input(\"Please enter a number\")\n",
        "  try:\n",
        "    n = float(n)\n",
        "    l.append(n)\n",
        "  except:\n",
        "    print('Not a number')"
      ],
      "metadata": {
        "colab": {
          "base_uri": "https://localhost:8080/"
        },
        "id": "EqOjyM4iTfOj",
        "outputId": "3f671289-4903-4db4-d1c6-502973c518ab"
      },
      "execution_count": 3,
      "outputs": [
        {
          "output_type": "stream",
          "name": "stdout",
          "text": [
            "Please enter a number4\n",
            "Please enter a number5\n",
            "Please enter a numberdone\n",
            "Not a number\n"
          ]
        }
      ]
    },
    {
      "cell_type": "code",
      "source": [
        "l=np.array(l)"
      ],
      "metadata": {
        "id": "1XXxNjxeZGSU"
      },
      "execution_count": 4,
      "outputs": []
    },
    {
      "cell_type": "code",
      "source": [
        "def fib(n):\n",
        "  if n <= 0:\n",
        "    print(\"Please enter number greater than 0\")\n",
        "  else:\n",
        "    a = 1\n",
        "    b = 1\n",
        "    for i in range(n):\n",
        "      print(a)\n",
        "      c = a + b\n",
        "      a = b\n",
        "      b = c\n",
        "\n"
      ],
      "metadata": {
        "id": "t5fUK6ySZMR7"
      },
      "execution_count": 5,
      "outputs": []
    },
    {
      "cell_type": "code",
      "source": [],
      "metadata": {
        "id": "jPYWZ6iCf1PA"
      },
      "execution_count": 5,
      "outputs": []
    },
    {
      "cell_type": "code",
      "source": [
        "# Using f strings\n",
        "print(f\"hello {l}\")"
      ],
      "metadata": {
        "colab": {
          "base_uri": "https://localhost:8080/"
        },
        "id": "NQIruq52UNF5",
        "outputId": "af82c07f-c3a0-4240-afd6-c0ca59898682"
      },
      "execution_count": 6,
      "outputs": [
        {
          "output_type": "stream",
          "name": "stdout",
          "text": [
            "hello [4. 5.]\n"
          ]
        }
      ]
    },
    {
      "cell_type": "code",
      "source": [
        "greeting = \"Hello my boy\"\n",
        "greeting = greeting.lower()\n",
        "if greeting.startswith(\"hello\"):\n",
        "  res = 0\n",
        "else:\n",
        "  res = 100\n",
        "print(res)\n"
      ],
      "metadata": {
        "colab": {
          "base_uri": "https://localhost:8080/"
        },
        "id": "RnOUeMXOVCVf",
        "outputId": "44d4537f-1092-44d2-e0f3-b94d5a2756d7"
      },
      "execution_count": 7,
      "outputs": [
        {
          "output_type": "stream",
          "name": "stdout",
          "text": [
            "0\n"
          ]
        }
      ]
    },
    {
      "cell_type": "code",
      "source": [
        "\"a1\".isalpha()"
      ],
      "metadata": {
        "colab": {
          "base_uri": "https://localhost:8080/"
        },
        "id": "12zKkVaigeQX",
        "outputId": "a692f76a-2514-4e89-d64d-c9f5ae6ccbed"
      },
      "execution_count": 8,
      "outputs": [
        {
          "output_type": "execute_result",
          "data": {
            "text/plain": [
              "False"
            ]
          },
          "metadata": {},
          "execution_count": 8
        }
      ]
    },
    {
      "cell_type": "code",
      "source": [
        "\".\" in [\".\",\",\"]"
      ],
      "metadata": {
        "colab": {
          "base_uri": "https://localhost:8080/"
        },
        "id": "fMnX32LtQPUb",
        "outputId": "03c3f869-d027-476d-e35a-46d0b9356f86"
      },
      "execution_count": 9,
      "outputs": [
        {
          "output_type": "execute_result",
          "data": {
            "text/plain": [
              "True"
            ]
          },
          "metadata": {},
          "execution_count": 9
        }
      ]
    },
    {
      "cell_type": "code",
      "source": [
        "# Using try, except and else paradigm\n",
        "while True:\n",
        "  try:\n",
        "    num = input(\"Enter a number\")\n",
        "    num = int(num)\n",
        "  except ValueError:\n",
        "    print(\"num is not an integer\")\n",
        "  else:\n",
        "    break\n",
        "print(f\"number is {num}\")"
      ],
      "metadata": {
        "colab": {
          "base_uri": "https://localhost:8080/"
        },
        "id": "7uHdYMpnYhZx",
        "outputId": "c359cc5a-6473-4dff-fd12-75273931ab18"
      },
      "execution_count": 17,
      "outputs": [
        {
          "output_type": "stream",
          "name": "stdout",
          "text": [
            "Enter a number45\n",
            "number is 45\n"
          ]
        }
      ]
    },
    {
      "cell_type": "code",
      "source": [
        "def main():\n",
        "  x = get_int()\n",
        "  print(f\"x is {x}\")\n",
        "\n",
        "def get_int():\n",
        "  while True:\n",
        "    try:\n",
        "      x = int(input(\"enter number\"))\n",
        "      return(x)\n",
        "    except ValueError:\n",
        "      print(\"x is not an integer\")\n",
        "\n",
        "main()\n"
      ],
      "metadata": {
        "colab": {
          "base_uri": "https://localhost:8080/"
        },
        "id": "CPjLWBXQ0rP8",
        "outputId": "97f78a71-0ae3-4dc1-921c-abba82118a92"
      },
      "execution_count": 20,
      "outputs": [
        {
          "output_type": "stream",
          "name": "stdout",
          "text": [
            "enter numberdog\n",
            "x is not an integer\n",
            "enter numbercat\n",
            "x is not an integer\n",
            "enter number35\n",
            "x is 35\n"
          ]
        }
      ]
    }
  ]
}