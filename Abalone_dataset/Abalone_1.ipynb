{
 "cells": [
  {
   "cell_type": "code",
   "execution_count": 1,
   "id": "1c313ad5-050e-4c1b-b1f3-829a9ad293e1",
   "metadata": {},
   "outputs": [],
   "source": [
    "import pandas as pd\n",
    "import numpy as np\n",
    "import matplotlib.pyplot as plt"
   ]
  },
  {
   "cell_type": "code",
   "execution_count": 2,
   "id": "fc811d87-6bb7-45a1-ac43-86c0fdc52bf4",
   "metadata": {},
   "outputs": [],
   "source": [
    "ab = pd.read_csv('train.csv')"
   ]
  },
  {
   "cell_type": "code",
   "execution_count": 3,
   "id": "2efc26d9-8619-44d0-9b42-152bfe9d0679",
   "metadata": {},
   "outputs": [
    {
     "data": {
      "text/plain": [
       "(90615, 10)"
      ]
     },
     "execution_count": 3,
     "metadata": {},
     "output_type": "execute_result"
    }
   ],
   "source": [
    "ab.shape"
   ]
  },
  {
   "cell_type": "code",
   "execution_count": 4,
   "id": "59473b53-7fa8-40a5-8020-ea0131a1a216",
   "metadata": {},
   "outputs": [
    {
     "name": "stdout",
     "output_type": "stream",
     "text": [
      "<class 'pandas.core.frame.DataFrame'>\n",
      "RangeIndex: 90615 entries, 0 to 90614\n",
      "Data columns (total 10 columns):\n",
      " #   Column          Non-Null Count  Dtype  \n",
      "---  ------          --------------  -----  \n",
      " 0   id              90615 non-null  int64  \n",
      " 1   Sex             90615 non-null  object \n",
      " 2   Length          90615 non-null  float64\n",
      " 3   Diameter        90615 non-null  float64\n",
      " 4   Height          90615 non-null  float64\n",
      " 5   Whole weight    90615 non-null  float64\n",
      " 6   Whole weight.1  90615 non-null  float64\n",
      " 7   Whole weight.2  90615 non-null  float64\n",
      " 8   Shell weight    90615 non-null  float64\n",
      " 9   Rings           90615 non-null  int64  \n",
      "dtypes: float64(7), int64(2), object(1)\n",
      "memory usage: 6.9+ MB\n"
     ]
    }
   ],
   "source": [
    "ab.info()"
   ]
  },
  {
   "cell_type": "code",
   "execution_count": 5,
   "id": "fb62e254-9fa7-4343-a5bb-ffe97e793265",
   "metadata": {},
   "outputs": [
    {
     "data": {
      "text/plain": [
       "count    90615.000000\n",
       "mean         9.696794\n",
       "std          3.176221\n",
       "min          1.000000\n",
       "25%          8.000000\n",
       "50%          9.000000\n",
       "75%         11.000000\n",
       "max         29.000000\n",
       "Name: Rings, dtype: float64"
      ]
     },
     "execution_count": 5,
     "metadata": {},
     "output_type": "execute_result"
    }
   ],
   "source": [
    "ab.Rings.describe()"
   ]
  },
  {
   "cell_type": "code",
   "execution_count": 6,
   "id": "71d1a5bc-92f3-4f9d-bd0d-b8fc25c7834d",
   "metadata": {},
   "outputs": [
    {
     "data": {
      "text/plain": [
       "(array([  440.,  9675., 40972., 25590.,  6581.,  4686.,  1994.,   543.,\n",
       "           69.,    65.]),\n",
       " array([ 1. ,  3.8,  6.6,  9.4, 12.2, 15. , 17.8, 20.6, 23.4, 26.2, 29. ]),\n",
       " <BarContainer object of 10 artists>)"
      ]
     },
     "execution_count": 6,
     "metadata": {},
     "output_type": "execute_result"
    },
    {
     "data": {
      "image/png": "[encoded data removed]",
      "text/plain": [
       "<Figure size 640x480 with 1 Axes>"
      ]
     },
     "metadata": {},
     "output_type": "display_data"
    }
   ],
   "source": [
    "fig,ax = plt.subplots()\n",
    "ax.hist(ab['Rings'],cumulative=False)"
   ]
  },
  {
   "cell_type": "code",
   "execution_count": 7,
   "id": "d5fe324b-b234-4a28-8949-4473aed9ae9d",
   "metadata": {},
   "outputs": [],
   "source": [
    "ab=pd.get_dummies(ab,columns=[\"Sex\"],prefix_sep = \"|\")"
   ]
  },
  {
   "cell_type": "code",
   "execution_count": 8,
   "id": "5e6dd71c-40de-49c7-b9fb-250cefbabd6f",
   "metadata": {},
   "outputs": [
    {
     "data": {
      "text/html": [
       "<div>\n",
       "<style scoped>\n",
       "    .dataframe tbody tr th:only-of-type {\n",
       "        vertical-align: middle;\n",
       "    }\n",
       "\n",
       "    .dataframe tbody tr th {\n",
       "        vertical-align: top;\n",
       "    }\n",
       "\n",
       "    .dataframe thead th {\n",
       "        text-align: right;\n",
       "    }\n",
       "</style>\n",
       "<table border=\"1\" class=\"dataframe\">\n",
       "  <thead>\n",
       "    <tr style=\"text-align: right;\">\n",
       "      <th></th>\n",
       "      <th>id</th>\n",
       "      <th>Length</th>\n",
       "      <th>Diameter</th>\n",
       "      <th>Height</th>\n",
       "      <th>Whole weight</th>\n",
       "      <th>Whole weight.1</th>\n",
       "      <th>Whole weight.2</th>\n",
       "      <th>Shell weight</th>\n",
       "      <th>Rings</th>\n",
       "      <th>Sex|F</th>\n",
       "      <th>Sex|I</th>\n",
       "      <th>Sex|M</th>\n",
       "    </tr>\n",
       "  </thead>\n",
       "  <tbody>\n",
       "    <tr>\n",
       "      <th>id</th>\n",
       "      <td>1.000000</td>\n",
       "      <td>0.004724</td>\n",
       "      <td>0.004290</td>\n",
       "      <td>0.005916</td>\n",
       "      <td>0.005228</td>\n",
       "      <td>0.004203</td>\n",
       "      <td>0.004878</td>\n",
       "      <td>0.005887</td>\n",
       "      <td>0.000938</td>\n",
       "      <td>0.005768</td>\n",
       "      <td>-0.005032</td>\n",
       "      <td>-0.000424</td>\n",
       "    </tr>\n",
       "    <tr>\n",
       "      <th>Length</th>\n",
       "      <td>0.004724</td>\n",
       "      <td>1.000000</td>\n",
       "      <td>0.989732</td>\n",
       "      <td>0.916094</td>\n",
       "      <td>0.931449</td>\n",
       "      <td>0.909609</td>\n",
       "      <td>0.913134</td>\n",
       "      <td>0.911073</td>\n",
       "      <td>0.623786</td>\n",
       "      <td>0.365578</td>\n",
       "      <td>-0.656415</td>\n",
       "      <td>0.315624</td>\n",
       "    </tr>\n",
       "    <tr>\n",
       "      <th>Diameter</th>\n",
       "      <td>0.004290</td>\n",
       "      <td>0.989732</td>\n",
       "      <td>1.000000</td>\n",
       "      <td>0.919618</td>\n",
       "      <td>0.933848</td>\n",
       "      <td>0.908466</td>\n",
       "      <td>0.914668</td>\n",
       "      <td>0.917871</td>\n",
       "      <td>0.636832</td>\n",
       "      <td>0.370765</td>\n",
       "      <td>-0.664771</td>\n",
       "      <td>0.319131</td>\n",
       "    </tr>\n",
       "    <tr>\n",
       "      <th>Height</th>\n",
       "      <td>0.005916</td>\n",
       "      <td>0.916094</td>\n",
       "      <td>0.919618</td>\n",
       "      <td>1.000000</td>\n",
       "      <td>0.902344</td>\n",
       "      <td>0.861769</td>\n",
       "      <td>0.886132</td>\n",
       "      <td>0.904019</td>\n",
       "      <td>0.665772</td>\n",
       "      <td>0.367521</td>\n",
       "      <td>-0.645291</td>\n",
       "      <td>0.302475</td>\n",
       "    </tr>\n",
       "    <tr>\n",
       "      <th>Whole weight</th>\n",
       "      <td>0.005228</td>\n",
       "      <td>0.931449</td>\n",
       "      <td>0.933848</td>\n",
       "      <td>0.902344</td>\n",
       "      <td>1.000000</td>\n",
       "      <td>0.971249</td>\n",
       "      <td>0.974319</td>\n",
       "      <td>0.964201</td>\n",
       "      <td>0.617274</td>\n",
       "      <td>0.368940</td>\n",
       "      <td>-0.651185</td>\n",
       "      <td>0.307096</td>\n",
       "    </tr>\n",
       "    <tr>\n",
       "      <th>Whole weight.1</th>\n",
       "      <td>0.004203</td>\n",
       "      <td>0.909609</td>\n",
       "      <td>0.908466</td>\n",
       "      <td>0.861769</td>\n",
       "      <td>0.971249</td>\n",
       "      <td>1.000000</td>\n",
       "      <td>0.949227</td>\n",
       "      <td>0.911800</td>\n",
       "      <td>0.515067</td>\n",
       "      <td>0.343068</td>\n",
       "      <td>-0.619272</td>\n",
       "      <td>0.299513</td>\n",
       "    </tr>\n",
       "    <tr>\n",
       "      <th>Whole weight.2</th>\n",
       "      <td>0.004878</td>\n",
       "      <td>0.913134</td>\n",
       "      <td>0.914668</td>\n",
       "      <td>0.886132</td>\n",
       "      <td>0.974319</td>\n",
       "      <td>0.949227</td>\n",
       "      <td>1.000000</td>\n",
       "      <td>0.937069</td>\n",
       "      <td>0.588954</td>\n",
       "      <td>0.370807</td>\n",
       "      <td>-0.646484</td>\n",
       "      <td>0.300536</td>\n",
       "    </tr>\n",
       "    <tr>\n",
       "      <th>Shell weight</th>\n",
       "      <td>0.005887</td>\n",
       "      <td>0.911073</td>\n",
       "      <td>0.917871</td>\n",
       "      <td>0.904019</td>\n",
       "      <td>0.964201</td>\n",
       "      <td>0.911800</td>\n",
       "      <td>0.937069</td>\n",
       "      <td>1.000000</td>\n",
       "      <td>0.694766</td>\n",
       "      <td>0.372127</td>\n",
       "      <td>-0.648101</td>\n",
       "      <td>0.300911</td>\n",
       "    </tr>\n",
       "    <tr>\n",
       "      <th>Rings</th>\n",
       "      <td>0.000938</td>\n",
       "      <td>0.623786</td>\n",
       "      <td>0.636832</td>\n",
       "      <td>0.665772</td>\n",
       "      <td>0.617274</td>\n",
       "      <td>0.515067</td>\n",
       "      <td>0.588954</td>\n",
       "      <td>0.694766</td>\n",
       "      <td>1.000000</td>\n",
       "      <td>0.296411</td>\n",
       "      <td>-0.516591</td>\n",
       "      <td>0.240048</td>\n",
       "    </tr>\n",
       "    <tr>\n",
       "      <th>Sex|F</th>\n",
       "      <td>0.005768</td>\n",
       "      <td>0.365578</td>\n",
       "      <td>0.370765</td>\n",
       "      <td>0.367521</td>\n",
       "      <td>0.368940</td>\n",
       "      <td>0.343068</td>\n",
       "      <td>0.370807</td>\n",
       "      <td>0.372127</td>\n",
       "      <td>0.296411</td>\n",
       "      <td>1.000000</td>\n",
       "      <td>-0.487569</td>\n",
       "      <td>-0.463848</td>\n",
       "    </tr>\n",
       "    <tr>\n",
       "      <th>Sex|I</th>\n",
       "      <td>-0.005032</td>\n",
       "      <td>-0.656415</td>\n",
       "      <td>-0.664771</td>\n",
       "      <td>-0.645291</td>\n",
       "      <td>-0.651185</td>\n",
       "      <td>-0.619272</td>\n",
       "      <td>-0.646484</td>\n",
       "      <td>-0.648101</td>\n",
       "      <td>-0.516591</td>\n",
       "      <td>-0.487569</td>\n",
       "      <td>1.000000</td>\n",
       "      <td>-0.547320</td>\n",
       "    </tr>\n",
       "    <tr>\n",
       "      <th>Sex|M</th>\n",
       "      <td>-0.000424</td>\n",
       "      <td>0.315624</td>\n",
       "      <td>0.319131</td>\n",
       "      <td>0.302475</td>\n",
       "      <td>0.307096</td>\n",
       "      <td>0.299513</td>\n",
       "      <td>0.300536</td>\n",
       "      <td>0.300911</td>\n",
       "      <td>0.240048</td>\n",
       "      <td>-0.463848</td>\n",
       "      <td>-0.547320</td>\n",
       "      <td>1.000000</td>\n",
       "    </tr>\n",
       "  </tbody>\n",
       "</table>\n",
       "</div>"
      ],
      "text/plain": [
       "                      id    Length  Diameter    Height  Whole weight  \\\n",
       "id              1.000000  0.004724  0.004290  0.005916      0.005228   \n",
       "Length          0.004724  1.000000  0.989732  0.916094      0.931449   \n",
       "Diameter        0.004290  0.989732  1.000000  0.919618      0.933848   \n",
       "Height          0.005916  0.916094  0.919618  1.000000      0.902344   \n",
       "Whole weight    0.005228  0.931449  0.933848  0.902344      1.000000   \n",
       "Whole weight.1  0.004203  0.909609  0.908466  0.861769      0.971249   \n",
       "Whole weight.2  0.004878  0.913134  0.914668  0.886132      0.974319   \n",
       "Shell weight    0.005887  0.911073  0.917871  0.904019      0.964201   \n",
       "Rings           0.000938  0.623786  0.636832  0.665772      0.617274   \n",
       "Sex|F           0.005768  0.365578  0.370765  0.367521      0.368940   \n",
       "Sex|I          -0.005032 -0.656415 -0.664771 -0.645291     -0.651185   \n",
       "Sex|M          -0.000424  0.315624  0.319131  0.302475      0.307096   \n",
       "\n",
       "                Whole weight.1  Whole weight.2  Shell weight     Rings  \\\n",
       "id                    0.004203        0.004878      0.005887  0.000938   \n",
       "Length                0.909609        0.913134      0.911073  0.623786   \n",
       "Diameter              0.908466        0.914668      0.917871  0.636832   \n",
       "Height                0.861769        0.886132      0.904019  0.665772   \n",
       "Whole weight          0.971249        0.974319      0.964201  0.617274   \n",
       "Whole weight.1        1.000000        0.949227      0.911800  0.515067   \n",
       "Whole weight.2        0.949227        1.000000      0.937069  0.588954   \n",
       "Shell weight          0.911800        0.937069      1.000000  0.694766   \n",
       "Rings                 0.515067        0.588954      0.694766  1.000000   \n",
       "Sex|F                 0.343068        0.370807      0.372127  0.296411   \n",
       "Sex|I                -0.619272       -0.646484     -0.648101 -0.516591   \n",
       "Sex|M                 0.299513        0.300536      0.300911  0.240048   \n",
       "\n",
       "                   Sex|F     Sex|I     Sex|M  \n",
       "id              0.005768 -0.005032 -0.000424  \n",
       "Length          0.365578 -0.656415  0.315624  \n",
       "Diameter        0.370765 -0.664771  0.319131  \n",
       "Height          0.367521 -0.645291  0.302475  \n",
       "Whole weight    0.368940 -0.651185  0.307096  \n",
       "Whole weight.1  0.343068 -0.619272  0.299513  \n",
       "Whole weight.2  0.370807 -0.646484  0.300536  \n",
       "Shell weight    0.372127 -0.648101  0.300911  \n",
       "Rings           0.296411 -0.516591  0.240048  \n",
       "Sex|F           1.000000 -0.487569 -0.463848  \n",
       "Sex|I          -0.487569  1.000000 -0.547320  \n",
       "Sex|M          -0.463848 -0.547320  1.000000  "
      ]
     },
     "execution_count": 8,
     "metadata": {},
     "output_type": "execute_result"
    }
   ],
   "source": [
    "ab.corr()"
   ]
  },
  {
   "cell_type": "code",
   "execution_count": 11,
   "id": "0b126698-2114-42d8-8f7d-9656face8d85",
   "metadata": {},
   "outputs": [],
   "source": [
    "from sklearn.tree import DecisionTreeRegressor\n",
    "from sklearn.ensemble import RandomForestRegressor\n",
    "from sklearn.linear_model import Lasso\n",
    "from sklearn.model_selection import RandomizedSearchCV,train_test_split,GridSearchCV\n",
    "from sklearn.metrics import mean_squared_error\n",
    "import xgboost"
   ]
  },
  {
   "cell_type": "code",
   "execution_count": 12,
   "id": "90f5c5c9-5969-47d3-91a6-076cc93025cd",
   "metadata": {},
   "outputs": [],
   "source": [
    "dt = DecisionTreeRegressor()\n",
    "rf = RandomForestRegressor()\n",
    "xgb = xgboost.XGBRegressor()"
   ]
  },
  {
   "cell_type": "code",
   "execution_count": 56,
   "id": "40866db8-f55e-4ce2-9f20-56947b2eb671",
   "metadata": {},
   "outputs": [],
   "source": [
    "dt_params = {'max_depth':[3,4,5,6,7,8,9,10]}\n",
    "rf_params = {'max_depth':[8,9],'n_estimators':[10,20,50,100,150]}\n",
    "lass_params = {'alpha':[0.001,0.01,0.1,0.2,0.5]}\n",
    "xgb_params = {'n_estimators':[50,100,150,250],'max_depth':[2,3,4,5],'learning_rate':[0.001,0.01,0.1]}"
   ]
  },
  {
   "cell_type": "code",
   "execution_count": 57,
   "id": "2b73c98d-67e8-44a9-97ab-79c83f8d677d",
   "metadata": {},
   "outputs": [],
   "source": [
    "dt_cv = GridSearchCV(dt,param_grid=dt_params,cv=3,scoring='neg_root_mean_squared_error')\n",
    "rf_cv = RandomizedSearchCV(rf,param_distributions=rf_params,cv=3,scoring=\"neg_root_mean_squared_error\")\n",
    "lass_cv = GridSearchCV(lass,param_grid=lass_params,cv=3,scoring='neg_root_mean_squared_error')\n",
    "xgb_cv = RandomizedSearchCV(xgb,param_distributions=xgb_params,cv=3,scoring=\"neg_root_mean_squared_error\")"
   ]
  },
  {
   "cell_type": "code",
   "execution_count": 58,
   "id": "ad348466-206d-4e44-ac06-b9f60b2cb64e",
   "metadata": {},
   "outputs": [],
   "source": [
    "y = ab.Rings\n",
    "X = ab.drop(columns=['Rings','id'])"
   ]
  },
  {
   "cell_type": "code",
   "execution_count": 59,
   "id": "ace426eb-cc82-4290-9184-d6fef62defe3",
   "metadata": {},
   "outputs": [
    {
     "data": {
      "text/html": [
       "<div>\n",
       "<style scoped>\n",
       "    .dataframe tbody tr th:only-of-type {\n",
       "        vertical-align: middle;\n",
       "    }\n",
       "\n",
       "    .dataframe tbody tr th {\n",
       "        vertical-align: top;\n",
       "    }\n",
       "\n",
       "    .dataframe thead th {\n",
       "        text-align: right;\n",
       "    }\n",
       "</style>\n",
       "<table border=\"1\" class=\"dataframe\">\n",
       "  <thead>\n",
       "    <tr style=\"text-align: right;\">\n",
       "      <th></th>\n",
       "      <th>Length</th>\n",
       "      <th>Diameter</th>\n",
       "      <th>Height</th>\n",
       "      <th>Whole weight</th>\n",
       "      <th>Whole weight.1</th>\n",
       "      <th>Whole weight.2</th>\n",
       "      <th>Shell weight</th>\n",
       "      <th>Sex|F</th>\n",
       "      <th>Sex|I</th>\n",
       "      <th>Sex|M</th>\n",
       "    </tr>\n",
       "  </thead>\n",
       "  <tbody>\n",
       "    <tr>\n",
       "      <th>0</th>\n",
       "      <td>0.550</td>\n",
       "      <td>0.430</td>\n",
       "      <td>0.150</td>\n",
       "      <td>0.7715</td>\n",
       "      <td>0.3285</td>\n",
       "      <td>0.1465</td>\n",
       "      <td>0.2400</td>\n",
       "      <td>1</td>\n",
       "      <td>0</td>\n",
       "      <td>0</td>\n",
       "    </tr>\n",
       "    <tr>\n",
       "      <th>1</th>\n",
       "      <td>0.630</td>\n",
       "      <td>0.490</td>\n",
       "      <td>0.145</td>\n",
       "      <td>1.1300</td>\n",
       "      <td>0.4580</td>\n",
       "      <td>0.2765</td>\n",
       "      <td>0.3200</td>\n",
       "      <td>1</td>\n",
       "      <td>0</td>\n",
       "      <td>0</td>\n",
       "    </tr>\n",
       "    <tr>\n",
       "      <th>2</th>\n",
       "      <td>0.160</td>\n",
       "      <td>0.110</td>\n",
       "      <td>0.025</td>\n",
       "      <td>0.0210</td>\n",
       "      <td>0.0055</td>\n",
       "      <td>0.0030</td>\n",
       "      <td>0.0050</td>\n",
       "      <td>0</td>\n",
       "      <td>1</td>\n",
       "      <td>0</td>\n",
       "    </tr>\n",
       "    <tr>\n",
       "      <th>3</th>\n",
       "      <td>0.595</td>\n",
       "      <td>0.475</td>\n",
       "      <td>0.150</td>\n",
       "      <td>0.9145</td>\n",
       "      <td>0.3755</td>\n",
       "      <td>0.2055</td>\n",
       "      <td>0.2500</td>\n",
       "      <td>0</td>\n",
       "      <td>0</td>\n",
       "      <td>1</td>\n",
       "    </tr>\n",
       "    <tr>\n",
       "      <th>4</th>\n",
       "      <td>0.555</td>\n",
       "      <td>0.425</td>\n",
       "      <td>0.130</td>\n",
       "      <td>0.7820</td>\n",
       "      <td>0.3695</td>\n",
       "      <td>0.1600</td>\n",
       "      <td>0.1975</td>\n",
       "      <td>0</td>\n",
       "      <td>1</td>\n",
       "      <td>0</td>\n",
       "    </tr>\n",
       "  </tbody>\n",
       "</table>\n",
       "</div>"
      ],
      "text/plain": [
       "   Length  Diameter  Height  Whole weight  Whole weight.1  Whole weight.2  \\\n",
       "0   0.550     0.430   0.150        0.7715          0.3285          0.1465   \n",
       "1   0.630     0.490   0.145        1.1300          0.4580          0.2765   \n",
       "2   0.160     0.110   0.025        0.0210          0.0055          0.0030   \n",
       "3   0.595     0.475   0.150        0.9145          0.3755          0.2055   \n",
       "4   0.555     0.425   0.130        0.7820          0.3695          0.1600   \n",
       "\n",
       "   Shell weight  Sex|F  Sex|I  Sex|M  \n",
       "0        0.2400      1      0      0  \n",
       "1        0.3200      1      0      0  \n",
       "2        0.0050      0      1      0  \n",
       "3        0.2500      0      0      1  \n",
       "4        0.1975      0      1      0  "
      ]
     },
     "execution_count": 59,
     "metadata": {},
     "output_type": "execute_result"
    }
   ],
   "source": [
    "X.head()"
   ]
  },
  {
   "cell_type": "code",
   "execution_count": 60,
   "id": "fb803183-d266-491c-86a7-d06d4ccb9002",
   "metadata": {},
   "outputs": [],
   "source": [
    "X_train,X_test,y_train,y_test = train_test_split(X,y,test_size=0.2,stratify=y)"
   ]
  },
  {
   "cell_type": "code",
   "execution_count": 61,
   "id": "369ee461-c9a3-4533-9149-b63147c7cbe9",
   "metadata": {},
   "outputs": [],
   "source": [
    "#dt_cv.fit(X_train,y_train)"
   ]
  },
  {
   "cell_type": "code",
   "execution_count": 62,
   "id": "df74d694-34ef-40bf-9b51-316edff588c1",
   "metadata": {},
   "outputs": [],
   "source": [
    "#dt_cv.best_score_"
   ]
  },
  {
   "cell_type": "code",
   "execution_count": 63,
   "id": "27e113d0-d0b2-4408-95ae-9ce6fd02934e",
   "metadata": {},
   "outputs": [],
   "source": [
    "#dt_cv.best_estimator_"
   ]
  },
  {
   "cell_type": "code",
   "execution_count": 64,
   "id": "ff1c79a3-6d34-43bd-98cd-8ec35cb72de1",
   "metadata": {},
   "outputs": [],
   "source": [
    "models = {'xgb':xgb_cv}\n",
    "results = {}\n",
    "for name,model in models.items():\n",
    "    model.fit(X_train,y_train)\n",
    "    y_pred = model.predict(X_test)\n",
    "    res = np.sqrt(mean_squared_error(y_test,y_pred))\n",
    "    results[name] = res"
   ]
  },
  {
   "cell_type": "code",
   "execution_count": 65,
   "id": "fece1a49-5437-4a18-a3f2-d53ed937f465",
   "metadata": {},
   "outputs": [
    {
     "name": "stdout",
     "output_type": "stream",
     "text": [
      "{'xgb': 1.8390426200340135}\n"
     ]
    }
   ],
   "source": [
    "print(results)"
   ]
  },
  {
   "cell_type": "code",
   "execution_count": 66,
   "id": "86acf990-5252-47f4-976d-43c5b4eb38e9",
   "metadata": {},
   "outputs": [
    {
     "data": {
      "text/plain": [
       "{'n_estimators': 250, 'max_depth': 4, 'learning_rate': 0.1}"
      ]
     },
     "execution_count": 66,
     "metadata": {},
     "output_type": "execute_result"
    }
   ],
   "source": [
    "xgb_cv.best_params_"
   ]
  },
  {
   "cell_type": "code",
   "execution_count": 30,
   "id": "d8e2028f-dd54-4057-bf13-3fbde110e9bf",
   "metadata": {},
   "outputs": [],
   "source": [
    "xgb_tuned = xgb_cv.best_estimator_"
   ]
  },
  {
   "cell_type": "code",
   "execution_count": 31,
   "id": "25062cb6-9f7f-4777-b39d-8b5a971e1947",
   "metadata": {},
   "outputs": [
    {
     "data": {
      "text/plain": [
       "array([0.01986259, 0.01313128, 0.04001353, 0.0351336 , 0.10224742,\n",
       "       0.01855219, 0.6805701 , 0.01145028, 0.06979214, 0.00924686],\n",
       "      dtype=float32)"
      ]
     },
     "execution_count": 31,
     "metadata": {},
     "output_type": "execute_result"
    }
   ],
   "source": [
    "xgb_cv.best_estimator_.feature_importances_"
   ]
  },
  {
   "cell_type": "code",
   "execution_count": 32,
   "id": "2bd4b0e7-ee6d-412c-bfd2-70f921e20444",
   "metadata": {},
   "outputs": [
    {
     "data": {
      "text/plain": [
       "Index(['Length', 'Diameter', 'Height', 'Whole weight', 'Whole weight.1',\n",
       "       'Whole weight.2', 'Shell weight', 'Sex|F', 'Sex|I', 'Sex|M'],\n",
       "      dtype='object')"
      ]
     },
     "execution_count": 32,
     "metadata": {},
     "output_type": "execute_result"
    }
   ],
   "source": [
    "X_test.columns"
   ]
  },
  {
   "cell_type": "code",
   "execution_count": 33,
   "id": "02eafb71-4d2c-42e2-9cb1-404c663a17d2",
   "metadata": {},
   "outputs": [],
   "source": [
    "test = pd.read_csv('test.csv')"
   ]
  },
  {
   "cell_type": "code",
   "execution_count": 34,
   "id": "1a8060a5-4187-49b6-9454-a0e5ccf25672",
   "metadata": {},
   "outputs": [
    {
     "data": {
      "text/html": [
       "<div>\n",
       "<style scoped>\n",
       "    .dataframe tbody tr th:only-of-type {\n",
       "        vertical-align: middle;\n",
       "    }\n",
       "\n",
       "    .dataframe tbody tr th {\n",
       "        vertical-align: top;\n",
       "    }\n",
       "\n",
       "    .dataframe thead th {\n",
       "        text-align: right;\n",
       "    }\n",
       "</style>\n",
       "<table border=\"1\" class=\"dataframe\">\n",
       "  <thead>\n",
       "    <tr style=\"text-align: right;\">\n",
       "      <th></th>\n",
       "      <th>id</th>\n",
       "      <th>Sex</th>\n",
       "      <th>Length</th>\n",
       "      <th>Diameter</th>\n",
       "      <th>Height</th>\n",
       "      <th>Whole weight</th>\n",
       "      <th>Whole weight.1</th>\n",
       "      <th>Whole weight.2</th>\n",
       "      <th>Shell weight</th>\n",
       "    </tr>\n",
       "  </thead>\n",
       "  <tbody>\n",
       "    <tr>\n",
       "      <th>0</th>\n",
       "      <td>90615</td>\n",
       "      <td>M</td>\n",
       "      <td>0.645</td>\n",
       "      <td>0.475</td>\n",
       "      <td>0.155</td>\n",
       "      <td>1.2380</td>\n",
       "      <td>0.6185</td>\n",
       "      <td>0.3125</td>\n",
       "      <td>0.3005</td>\n",
       "    </tr>\n",
       "    <tr>\n",
       "      <th>1</th>\n",
       "      <td>90616</td>\n",
       "      <td>M</td>\n",
       "      <td>0.580</td>\n",
       "      <td>0.460</td>\n",
       "      <td>0.160</td>\n",
       "      <td>0.9830</td>\n",
       "      <td>0.4785</td>\n",
       "      <td>0.2195</td>\n",
       "      <td>0.2750</td>\n",
       "    </tr>\n",
       "    <tr>\n",
       "      <th>2</th>\n",
       "      <td>90617</td>\n",
       "      <td>M</td>\n",
       "      <td>0.560</td>\n",
       "      <td>0.420</td>\n",
       "      <td>0.140</td>\n",
       "      <td>0.8395</td>\n",
       "      <td>0.3525</td>\n",
       "      <td>0.1845</td>\n",
       "      <td>0.2405</td>\n",
       "    </tr>\n",
       "    <tr>\n",
       "      <th>3</th>\n",
       "      <td>90618</td>\n",
       "      <td>M</td>\n",
       "      <td>0.570</td>\n",
       "      <td>0.490</td>\n",
       "      <td>0.145</td>\n",
       "      <td>0.8740</td>\n",
       "      <td>0.3525</td>\n",
       "      <td>0.1865</td>\n",
       "      <td>0.2350</td>\n",
       "    </tr>\n",
       "    <tr>\n",
       "      <th>4</th>\n",
       "      <td>90619</td>\n",
       "      <td>I</td>\n",
       "      <td>0.415</td>\n",
       "      <td>0.325</td>\n",
       "      <td>0.110</td>\n",
       "      <td>0.3580</td>\n",
       "      <td>0.1575</td>\n",
       "      <td>0.0670</td>\n",
       "      <td>0.1050</td>\n",
       "    </tr>\n",
       "  </tbody>\n",
       "</table>\n",
       "</div>"
      ],
      "text/plain": [
       "      id Sex  Length  Diameter  Height  Whole weight  Whole weight.1  \\\n",
       "0  90615   M   0.645     0.475   0.155        1.2380          0.6185   \n",
       "1  90616   M   0.580     0.460   0.160        0.9830          0.4785   \n",
       "2  90617   M   0.560     0.420   0.140        0.8395          0.3525   \n",
       "3  90618   M   0.570     0.490   0.145        0.8740          0.3525   \n",
       "4  90619   I   0.415     0.325   0.110        0.3580          0.1575   \n",
       "\n",
       "   Whole weight.2  Shell weight  \n",
       "0          0.3125        0.3005  \n",
       "1          0.2195        0.2750  \n",
       "2          0.1845        0.2405  \n",
       "3          0.1865        0.2350  \n",
       "4          0.0670        0.1050  "
      ]
     },
     "execution_count": 34,
     "metadata": {},
     "output_type": "execute_result"
    }
   ],
   "source": [
    "test.head()"
   ]
  },
  {
   "cell_type": "code",
   "execution_count": 35,
   "id": "e04918d2-4e3c-4690-9c53-ce96151befbe",
   "metadata": {},
   "outputs": [],
   "source": [
    "test_pred=pd.get_dummies(test,prefix_sep='|',columns=['Sex'])"
   ]
  },
  {
   "cell_type": "code",
   "execution_count": 36,
   "id": "be1ee8fb-2ee6-42d9-bfce-62f50adade9d",
   "metadata": {},
   "outputs": [],
   "source": [
    "test_pred.set_index('id',inplace=True)"
   ]
  },
  {
   "cell_type": "code",
   "execution_count": 38,
   "id": "8b9c51a2-7397-4da8-a154-bd120e5dbe42",
   "metadata": {},
   "outputs": [],
   "source": [
    "y_pred = xgb_tuned.predict(test_pred)"
   ]
  },
  {
   "cell_type": "code",
   "execution_count": 39,
   "id": "6ecd2f2e-c4f3-42ba-8b01-78dcb118ceb2",
   "metadata": {},
   "outputs": [],
   "source": [
    "y_pred=y_pred.astype(int)"
   ]
  },
  {
   "cell_type": "code",
   "execution_count": 40,
   "id": "c6ff1bce-0c4e-421c-bad4-662e66325723",
   "metadata": {},
   "outputs": [],
   "source": [
    "test['Rings'] = y_pred"
   ]
  },
  {
   "cell_type": "code",
   "execution_count": 41,
   "id": "68e46179-f24d-4da5-8b01-f7e5e4f5aea0",
   "metadata": {},
   "outputs": [],
   "source": [
    "test.set_index('id',inplace=True)"
   ]
  },
  {
   "cell_type": "code",
   "execution_count": 42,
   "id": "d2c90807-e0fe-4f5e-9848-1675ff0c110f",
   "metadata": {},
   "outputs": [],
   "source": [
    "submission = pd.DataFrame(test['Rings'])"
   ]
  },
  {
   "cell_type": "code",
   "execution_count": 43,
   "id": "c27f266b-8e05-4b61-8348-cc9de4675c6a",
   "metadata": {},
   "outputs": [],
   "source": [
    "submission.reset_index(inplace=True)"
   ]
  },
  {
   "cell_type": "code",
   "execution_count": 44,
   "id": "7b7e5d48-f578-440b-8370-49bd7fb593be",
   "metadata": {},
   "outputs": [],
   "source": [
    "submission.to_csv('submission.csv',index=False)"
   ]
  },
  {
   "cell_type": "code",
   "execution_count": 71,
   "id": "3e0a85a0-78ce-4ca1-a79d-2bf7085468d5",
   "metadata": {},
   "outputs": [
    {
     "data": {
      "text/html": [
       "<div>\n",
       "<style scoped>\n",
       "    .dataframe tbody tr th:only-of-type {\n",
       "        vertical-align: middle;\n",
       "    }\n",
       "\n",
       "    .dataframe tbody tr th {\n",
       "        vertical-align: top;\n",
       "    }\n",
       "\n",
       "    .dataframe thead th {\n",
       "        text-align: right;\n",
       "    }\n",
       "</style>\n",
       "<table border=\"1\" class=\"dataframe\">\n",
       "  <thead>\n",
       "    <tr style=\"text-align: right;\">\n",
       "      <th></th>\n",
       "      <th>id</th>\n",
       "      <th>Rings</th>\n",
       "    </tr>\n",
       "  </thead>\n",
       "  <tbody>\n",
       "    <tr>\n",
       "      <th>0</th>\n",
       "      <td>90615</td>\n",
       "      <td>9</td>\n",
       "    </tr>\n",
       "    <tr>\n",
       "      <th>1</th>\n",
       "      <td>90616</td>\n",
       "      <td>9</td>\n",
       "    </tr>\n",
       "    <tr>\n",
       "      <th>2</th>\n",
       "      <td>90617</td>\n",
       "      <td>10</td>\n",
       "    </tr>\n",
       "    <tr>\n",
       "      <th>3</th>\n",
       "      <td>90618</td>\n",
       "      <td>10</td>\n",
       "    </tr>\n",
       "    <tr>\n",
       "      <th>4</th>\n",
       "      <td>90619</td>\n",
       "      <td>7</td>\n",
       "    </tr>\n",
       "    <tr>\n",
       "      <th>...</th>\n",
       "      <td>...</td>\n",
       "      <td>...</td>\n",
       "    </tr>\n",
       "    <tr>\n",
       "      <th>60406</th>\n",
       "      <td>151021</td>\n",
       "      <td>6</td>\n",
       "    </tr>\n",
       "    <tr>\n",
       "      <th>60407</th>\n",
       "      <td>151022</td>\n",
       "      <td>9</td>\n",
       "    </tr>\n",
       "    <tr>\n",
       "      <th>60408</th>\n",
       "      <td>151023</td>\n",
       "      <td>11</td>\n",
       "    </tr>\n",
       "    <tr>\n",
       "      <th>60409</th>\n",
       "      <td>151024</td>\n",
       "      <td>12</td>\n",
       "    </tr>\n",
       "    <tr>\n",
       "      <th>60410</th>\n",
       "      <td>151025</td>\n",
       "      <td>8</td>\n",
       "    </tr>\n",
       "  </tbody>\n",
       "</table>\n",
       "<p>60411 rows × 2 columns</p>\n",
       "</div>"
      ],
      "text/plain": [
       "           id  Rings\n",
       "0       90615      9\n",
       "1       90616      9\n",
       "2       90617     10\n",
       "3       90618     10\n",
       "4       90619      7\n",
       "...       ...    ...\n",
       "60406  151021      6\n",
       "60407  151022      9\n",
       "60408  151023     11\n",
       "60409  151024     12\n",
       "60410  151025      8\n",
       "\n",
       "[60411 rows x 2 columns]"
      ]
     },
     "execution_count": 71,
     "metadata": {},
     "output_type": "execute_result"
    }
   ],
   "source": [
    "submission"
   ]
  },
  {
   "cell_type": "code",
   "execution_count": null,
   "id": "1e8db758-30ce-4d2a-b661-746537fe2992",
   "metadata": {},
   "outputs": [],
   "source": []
  }
 ],
 "metadata": {
  "kernelspec": {
   "display_name": "Python 3 (ipykernel)",
   "language": "python",
   "name": "python3"
  },
  "language_info": {
   "codemirror_mode": {
    "name": "ipython",
    "version": 3
   },
   "file_extension": ".py",
   "mimetype": "text/x-python",
   "name": "python",
   "nbconvert_exporter": "python",
   "pygments_lexer": "ipython3",
   "version": "3.10.14"
  }
 },
 "nbformat": 4,
 "nbformat_minor": 5
}
