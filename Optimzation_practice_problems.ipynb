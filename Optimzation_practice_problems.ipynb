{
  "nbformat": 4,
  "nbformat_minor": 0,
  "metadata": {
    "colab": {
      "provenance": [],
      "authorship_tag": "ABX9TyOd/ydI9rLElwkMCQYZKfPw",
      "include_colab_link": true
    },
    "kernelspec": {
      "name": "python3",
      "display_name": "Python 3"
    },
    "language_info": {
      "name": "python"
    }
  },
  "cells": [
    {
      "cell_type": "markdown",
      "metadata": {
        "id": "view-in-github",
        "colab_type": "text"
      },
      "source": [
        "<a href=\"https://colab.research.google.com/github/gmehra123/data_science_projs/blob/main/Optimzation_practice_problems.ipynb\" target=\"_parent\"><img src=\"https://colab.research.google.com/assets/colab-badge.svg\" alt=\"Open In Colab\"/></a>"
      ]
    },
    {
      "cell_type": "code",
      "source": [
        "!pip install pulp"
      ],
      "metadata": {
        "colab": {
          "base_uri": "https://localhost:8080/"
        },
        "id": "xM2gd9hOOJsj",
        "outputId": "10eb618d-a9a0-41bb-d18c-278ccdfc54be"
      },
      "execution_count": 1,
      "outputs": [
        {
          "output_type": "stream",
          "name": "stdout",
          "text": [
            "Looking in indexes: https://pypi.org/simple, https://us-python.pkg.dev/colab-wheels/public/simple/\n",
            "Collecting pulp\n",
            "  Downloading PuLP-2.7.0-py3-none-any.whl (14.3 MB)\n",
            "\u001b[2K     \u001b[90m━━━━━━━━━━━━━━━━━━━━━━━━━━━━━━━━━━━━━━━━\u001b[0m \u001b[32m14.3/14.3 MB\u001b[0m \u001b[31m35.3 MB/s\u001b[0m eta \u001b[36m0:00:00\u001b[0m\n",
            "\u001b[?25hInstalling collected packages: pulp\n",
            "Successfully installed pulp-2.7.0\n"
          ]
        }
      ]
    },
    {
      "cell_type": "code",
      "execution_count": 2,
      "metadata": {
        "id": "v110pnimNXDA"
      },
      "outputs": [],
      "source": [
        "import pandas as pd\n",
        "import matplotlib.pyplot as plt\n",
        "from pulp import *"
      ]
    },
    {
      "cell_type": "markdown",
      "source": [
        "### Investment problem\n",
        "1. Total Investmenr=100K\n",
        "2. 3 options\n",
        "  * Low risk fund returns 5%\n",
        "  * Med Risk fund returns 10%\n",
        "  * High Risk fund returns 20%\n",
        "Constraints\n",
        "* max of 10% of total in high risk fund\n",
        "* max of 20% with medium risk\n",
        "\n",
        "objective is to maximize returns\n"
      ],
      "metadata": {
        "id": "V0onG0J8OROb"
      }
    },
    {
      "cell_type": "code",
      "source": [
        "model=LpProblem('Investment',LpMaximize)"
      ],
      "metadata": {
        "id": "320rOFYvOQGG"
      },
      "execution_count": 3,
      "outputs": []
    },
    {
      "cell_type": "code",
      "source": [
        "# defining the Decision variable\n",
        "returns=[0.05,0.10,0.20]\n",
        "funds=['A','B','C']\n",
        "x=LpVariable.dicts('fund',[i for i in funds],lowBound=0,cat='Continous')\n",
        "x\n",
        "x['A']"
      ],
      "metadata": {
        "colab": {
          "base_uri": "https://localhost:8080/"
        },
        "id": "G-9Hpx4FPtXM",
        "outputId": "da97b5e8-478a-46ac-e687-ddeb34bb3cae"
      },
      "execution_count": 4,
      "outputs": [
        {
          "output_type": "execute_result",
          "data": {
            "text/plain": [
              "fund_A"
            ]
          },
          "metadata": {},
          "execution_count": 4
        }
      ]
    },
    {
      "cell_type": "code",
      "source": [
        "# objective function\n",
        "model+=0.05*x['A']+0.10*x['B']+0.20*x['C']\n",
        "# Now adding the constraints\n",
        "model+=x['C']<=10000\n",
        "model+=x['B']<=20000\n",
        "model+=x['A']+x['B']+x['C']==100000"
      ],
      "metadata": {
        "id": "VNwPcgMBSDGC"
      },
      "execution_count": 5,
      "outputs": []
    },
    {
      "cell_type": "code",
      "source": [
        "model.solve()"
      ],
      "metadata": {
        "colab": {
          "base_uri": "https://localhost:8080/"
        },
        "id": "SX4V5m6GTaHa",
        "outputId": "5e07c009-c90b-49d6-8d58-369f49c22b70"
      },
      "execution_count": 6,
      "outputs": [
        {
          "output_type": "execute_result",
          "data": {
            "text/plain": [
              "1"
            ]
          },
          "metadata": {},
          "execution_count": 6
        }
      ]
    },
    {
      "cell_type": "code",
      "source": [
        "for v in model.variables():\n",
        "  print(v, '= ',v.varValue)"
      ],
      "metadata": {
        "colab": {
          "base_uri": "https://localhost:8080/"
        },
        "id": "c9ft-cGXTcuZ",
        "outputId": "996795ad-4f01-4347-a3cd-91371a9b9c08"
      },
      "execution_count": 7,
      "outputs": [
        {
          "output_type": "stream",
          "name": "stdout",
          "text": [
            "fund_A =  70000.0\n",
            "fund_B =  20000.0\n",
            "fund_C =  10000.0\n"
          ]
        }
      ]
    },
    {
      "cell_type": "markdown",
      "source": [
        "### Simple Construction problem\n",
        "* Maximize revenue by choosing projects\n",
        "* There are 5 projects so 5 Binary decision varibales\n",
        "* objective function= P['A']* 500 + P['B'] *4000...etc\n",
        "* Constraints are the number of teams and the company has only 5 teams\n",
        " * A req 1 team\n",
        " * B requires 3 teams\n",
        " * c--> 2\n",
        " * d--> 1\n",
        " * e--> 5"
      ],
      "metadata": {
        "id": "e8Jg5pphVgMo"
      }
    },
    {
      "cell_type": "code",
      "source": [
        "projs=['A','B','C','D','E']\n",
        "x=LpVariable.dicts('choose_proj',[i for i in projs],cat='Binary')"
      ],
      "metadata": {
        "id": "wRwU9hHXUARR"
      },
      "execution_count": 8,
      "outputs": []
    },
    {
      "cell_type": "code",
      "source": [
        "model=LpProblem('Construction_Assignment', LpMaximize)\n",
        "model+=x['A']*500+x['B']*4000+x['C']*3000+x['D']*2000+x['E']*2000"
      ],
      "metadata": {
        "id": "6irNAoy6W6gx"
      },
      "execution_count": 9,
      "outputs": []
    },
    {
      "cell_type": "code",
      "source": [
        "# Adding constraints\n",
        "model+=1*x['A']+3*x['B']+2*x['C']+1*x['D']+5*x['E']<=5\n",
        "model+=x['C']-x['A']<=0\n",
        "model+=x['D']-x['A']<=0\n",
        "model+=x['D']-x['C']<=0"
      ],
      "metadata": {
        "id": "ZyQTm7faXsuI"
      },
      "execution_count": 10,
      "outputs": []
    },
    {
      "cell_type": "code",
      "source": [
        "model.solve()"
      ],
      "metadata": {
        "colab": {
          "base_uri": "https://localhost:8080/"
        },
        "id": "gKOFqPp7bc8P",
        "outputId": "05e04d41-72ef-4ac0-9bcd-7a4563f05437"
      },
      "execution_count": 11,
      "outputs": [
        {
          "output_type": "execute_result",
          "data": {
            "text/plain": [
              "1"
            ]
          },
          "metadata": {},
          "execution_count": 11
        }
      ]
    },
    {
      "cell_type": "code",
      "source": [
        "for v in model.variables():\n",
        "  print (v,'=',v.varValue)"
      ],
      "metadata": {
        "colab": {
          "base_uri": "https://localhost:8080/"
        },
        "id": "0_7CtITWZW2Q",
        "outputId": "d9e6399a-266a-4c29-c1cc-c10f7c6f2402"
      },
      "execution_count": 12,
      "outputs": [
        {
          "output_type": "stream",
          "name": "stdout",
          "text": [
            "choose_proj_A = 1.0\n",
            "choose_proj_B = 0.0\n",
            "choose_proj_C = 1.0\n",
            "choose_proj_D = 1.0\n",
            "choose_proj_E = 0.0\n"
          ]
        }
      ]
    },
    {
      "cell_type": "markdown",
      "source": [
        "Soln is choose projs A,C,D"
      ],
      "metadata": {
        "id": "uQAvtOLBZ1t2"
      }
    },
    {
      "cell_type": "markdown",
      "source": [
        "### Job Scheduling"
      ],
      "metadata": {
        "id": "igFezkfOhTUb"
      }
    },
    {
      "cell_type": "code",
      "source": [
        "jobs=['A','B','C','D','E','F']\n",
        "days=['1','2','3']\n",
        "x=LpVariable.dicts('job_schedule',[(i,j) for i in jobs for j in days],cat='Binary')\n",
        "x"
      ],
      "metadata": {
        "colab": {
          "base_uri": "https://localhost:8080/"
        },
        "id": "owEyDe79g-17",
        "outputId": "390d93a9-ec1a-4e88-a7e4-8466d1de7f94"
      },
      "execution_count": 13,
      "outputs": [
        {
          "output_type": "execute_result",
          "data": {
            "text/plain": [
              "{('A', '1'): job_schedule_('A',_'1'),\n",
              " ('A', '2'): job_schedule_('A',_'2'),\n",
              " ('A', '3'): job_schedule_('A',_'3'),\n",
              " ('B', '1'): job_schedule_('B',_'1'),\n",
              " ('B', '2'): job_schedule_('B',_'2'),\n",
              " ('B', '3'): job_schedule_('B',_'3'),\n",
              " ('C', '1'): job_schedule_('C',_'1'),\n",
              " ('C', '2'): job_schedule_('C',_'2'),\n",
              " ('C', '3'): job_schedule_('C',_'3'),\n",
              " ('D', '1'): job_schedule_('D',_'1'),\n",
              " ('D', '2'): job_schedule_('D',_'2'),\n",
              " ('D', '3'): job_schedule_('D',_'3'),\n",
              " ('E', '1'): job_schedule_('E',_'1'),\n",
              " ('E', '2'): job_schedule_('E',_'2'),\n",
              " ('E', '3'): job_schedule_('E',_'3'),\n",
              " ('F', '1'): job_schedule_('F',_'1'),\n",
              " ('F', '2'): job_schedule_('F',_'2'),\n",
              " ('F', '3'): job_schedule_('F',_'3')}"
            ]
          },
          "metadata": {},
          "execution_count": 13
        }
      ]
    },
    {
      "cell_type": "code",
      "source": [
        "model=LpProblem('Job_schedule',LpMaximize)"
      ],
      "metadata": {
        "id": "13n1Nw1C7gCP"
      },
      "execution_count": 14,
      "outputs": []
    },
    {
      "cell_type": "code",
      "source": [
        "hours=[2,3,5,2,6,4]\n",
        "rev=[200,500,300,100,1000,300]\n",
        "rev=dict(zip(jobs,rev))\n",
        "rev"
      ],
      "metadata": {
        "colab": {
          "base_uri": "https://localhost:8080/"
        },
        "id": "XnNJBMGnZzv-",
        "outputId": "5bebd116-3aaf-40c0-88e0-de64ede14874"
      },
      "execution_count": 15,
      "outputs": [
        {
          "output_type": "execute_result",
          "data": {
            "text/plain": [
              "{'A': 200, 'B': 500, 'C': 300, 'D': 100, 'E': 1000, 'F': 300}"
            ]
          },
          "metadata": {},
          "execution_count": 15
        }
      ]
    },
    {
      "cell_type": "code",
      "source": [
        "#Objective Function\n",
        "z=lpSum([x[(j,i)]*rev[j] for j in jobs for i in days ])\n",
        "model+=z"
      ],
      "metadata": {
        "id": "h4Iz2bVtjgN7"
      },
      "execution_count": 16,
      "outputs": []
    },
    {
      "cell_type": "code",
      "source": [
        "z"
      ],
      "metadata": {
        "colab": {
          "base_uri": "https://localhost:8080/"
        },
        "id": "pGVbl46n8-V3",
        "outputId": "17da9913-165b-4ae8-a530-e5684901cad4"
      },
      "execution_count": 17,
      "outputs": [
        {
          "output_type": "execute_result",
          "data": {
            "text/plain": [
              "200*job_schedule_('A',_'1') + 200*job_schedule_('A',_'2') + 200*job_schedule_('A',_'3') + 500*job_schedule_('B',_'1') + 500*job_schedule_('B',_'2') + 500*job_schedule_('B',_'3') + 300*job_schedule_('C',_'1') + 300*job_schedule_('C',_'2') + 300*job_schedule_('C',_'3') + 100*job_schedule_('D',_'1') + 100*job_schedule_('D',_'2') + 100*job_schedule_('D',_'3') + 1000*job_schedule_('E',_'1') + 1000*job_schedule_('E',_'2') + 1000*job_schedule_('E',_'3') + 300*job_schedule_('F',_'1') + 300*job_schedule_('F',_'2') + 300*job_schedule_('F',_'3') + 0"
            ]
          },
          "metadata": {},
          "execution_count": 17
        }
      ]
    },
    {
      "cell_type": "code",
      "source": [
        "# Constraints\n",
        "duration=[2,3,5,2,6,4]\n",
        "dur=dict(zip(jobs,duration))\n",
        "dur"
      ],
      "metadata": {
        "colab": {
          "base_uri": "https://localhost:8080/"
        },
        "id": "UKeN5p1l3ayp",
        "outputId": "d6a6d8a0-4338-4ebd-fa1d-789a43d5b7f8"
      },
      "execution_count": 18,
      "outputs": [
        {
          "output_type": "execute_result",
          "data": {
            "text/plain": [
              "{'A': 2, 'B': 3, 'C': 5, 'D': 2, 'E': 6, 'F': 4}"
            ]
          },
          "metadata": {},
          "execution_count": 18
        }
      ]
    },
    {
      "cell_type": "code",
      "source": [
        "# 6 hours in a day constraint\n",
        "for i in days:\n",
        "  model+=lpSum([x[(j,i)]*dur[j] for j in jobs])<=6"
      ],
      "metadata": {
        "id": "ghFb4lmq4fn5"
      },
      "execution_count": 19,
      "outputs": []
    },
    {
      "cell_type": "code",
      "source": [
        "# Every job can only be done once in the next three days\n",
        "for j in jobs:\n",
        "  model+=lpSum([x[(j,i)] for i in days])<=1"
      ],
      "metadata": {
        "id": "u28GckJc416f"
      },
      "execution_count": 20,
      "outputs": []
    },
    {
      "cell_type": "code",
      "source": [
        "model.solve()"
      ],
      "metadata": {
        "colab": {
          "base_uri": "https://localhost:8080/"
        },
        "id": "VBbkN8WQ7Bz_",
        "outputId": "0e5d302b-dabe-4f3a-fd0f-6107997045c5"
      },
      "execution_count": 21,
      "outputs": [
        {
          "output_type": "execute_result",
          "data": {
            "text/plain": [
              "1"
            ]
          },
          "metadata": {},
          "execution_count": 21
        }
      ]
    },
    {
      "cell_type": "code",
      "source": [
        "for v in model.variables():\n",
        "  print(v, '=', v.varValue)"
      ],
      "metadata": {
        "colab": {
          "base_uri": "https://localhost:8080/"
        },
        "id": "eQoiz8q77Ese",
        "outputId": "8b89ae24-4609-4c32-f87f-38cec51a6d05"
      },
      "execution_count": 22,
      "outputs": [
        {
          "output_type": "stream",
          "name": "stdout",
          "text": [
            "job_schedule_('A',_'1') = 0.0\n",
            "job_schedule_('A',_'2') = 0.0\n",
            "job_schedule_('A',_'3') = 1.0\n",
            "job_schedule_('B',_'1') = 0.0\n",
            "job_schedule_('B',_'2') = 0.0\n",
            "job_schedule_('B',_'3') = 1.0\n",
            "job_schedule_('C',_'1') = 0.0\n",
            "job_schedule_('C',_'2') = 0.0\n",
            "job_schedule_('C',_'3') = 0.0\n",
            "job_schedule_('D',_'1') = 1.0\n",
            "job_schedule_('D',_'2') = 0.0\n",
            "job_schedule_('D',_'3') = 0.0\n",
            "job_schedule_('E',_'1') = 0.0\n",
            "job_schedule_('E',_'2') = 1.0\n",
            "job_schedule_('E',_'3') = 0.0\n",
            "job_schedule_('F',_'1') = 1.0\n",
            "job_schedule_('F',_'2') = 0.0\n",
            "job_schedule_('F',_'3') = 0.0\n"
          ]
        }
      ]
    },
    {
      "cell_type": "code",
      "source": [
        "model.objective.value()"
      ],
      "metadata": {
        "colab": {
          "base_uri": "https://localhost:8080/"
        },
        "id": "nwfP88PQ8G5o",
        "outputId": "c5b2f0ed-5ab4-4efe-ea13-d93fff7ba261"
      },
      "execution_count": 23,
      "outputs": [
        {
          "output_type": "execute_result",
          "data": {
            "text/plain": [
              "2100.0"
            ]
          },
          "metadata": {},
          "execution_count": 23
        }
      ]
    },
    {
      "cell_type": "markdown",
      "source": [
        "### capacitive Plant problem\n",
        "* You have 4 locations where you can build 2 types of plants (High Cap or low Cap)\n",
        "* Each location or country has an associated demand that mudt be fulfilled.\n",
        "* You need to decide what kind of plant you need to build at each location and you need to decide how much to produce at each location.\n",
        "* The objective is to minimize both the total cost fixed and variable subject to the demand constraint"
      ],
      "metadata": {
        "id": "euT4l-T7mIe7"
      }
    },
    {
      "cell_type": "code",
      "source": [
        "#Creating the demand data frame\n",
        "countries=['USA','Germany','Japan','Brazil','India']\n",
        "cap1=['Low_cap','High_cap']\n",
        "dem=pd.DataFrame({'demand':[2719.6,84.1,1676.8,145.4,156.4]},index=countries,columns=['demand'])\n",
        "dem"
      ],
      "metadata": {
        "colab": {
          "base_uri": "https://localhost:8080/",
          "height": 206
        },
        "id": "WIbFukGTmHcM",
        "outputId": "c151e2a0-74b5-41ca-cb91-f529cee4cd35"
      },
      "execution_count": 82,
      "outputs": [
        {
          "output_type": "execute_result",
          "data": {
            "text/plain": [
              "         demand\n",
              "USA      2719.6\n",
              "Germany    84.1\n",
              "Japan    1676.8\n",
              "Brazil    145.4\n",
              "India     156.4"
            ],
            "text/html": [
              "\n",
              "  <div id=\"df-9052ca4a-7d56-4b7b-8d73-b9d2554f4aa9\">\n",
              "    <div class=\"colab-df-container\">\n",
              "      <div>\n",
              "<style scoped>\n",
              "    .dataframe tbody tr th:only-of-type {\n",
              "        vertical-align: middle;\n",
              "    }\n",
              "\n",
              "    .dataframe tbody tr th {\n",
              "        vertical-align: top;\n",
              "    }\n",
              "\n",
              "    .dataframe thead th {\n",
              "        text-align: right;\n",
              "    }\n",
              "</style>\n",
              "<table border=\"1\" class=\"dataframe\">\n",
              "  <thead>\n",
              "    <tr style=\"text-align: right;\">\n",
              "      <th></th>\n",
              "      <th>demand</th>\n",
              "    </tr>\n",
              "  </thead>\n",
              "  <tbody>\n",
              "    <tr>\n",
              "      <th>USA</th>\n",
              "      <td>2719.6</td>\n",
              "    </tr>\n",
              "    <tr>\n",
              "      <th>Germany</th>\n",
              "      <td>84.1</td>\n",
              "    </tr>\n",
              "    <tr>\n",
              "      <th>Japan</th>\n",
              "      <td>1676.8</td>\n",
              "    </tr>\n",
              "    <tr>\n",
              "      <th>Brazil</th>\n",
              "      <td>145.4</td>\n",
              "    </tr>\n",
              "    <tr>\n",
              "      <th>India</th>\n",
              "      <td>156.4</td>\n",
              "    </tr>\n",
              "  </tbody>\n",
              "</table>\n",
              "</div>\n",
              "      <button class=\"colab-df-convert\" onclick=\"convertToInteractive('df-9052ca4a-7d56-4b7b-8d73-b9d2554f4aa9')\"\n",
              "              title=\"Convert this dataframe to an interactive table.\"\n",
              "              style=\"display:none;\">\n",
              "        \n",
              "  <svg xmlns=\"http://www.w3.org/2000/svg\" height=\"24px\"viewBox=\"0 0 24 24\"\n",
              "       width=\"24px\">\n",
              "    <path d=\"M0 0h24v24H0V0z\" fill=\"none\"/>\n",
              "    <path d=\"M18.56 5.44l.94 2.06.94-2.06 2.06-.94-2.06-.94-.94-2.06-.94 2.06-2.06.94zm-11 1L8.5 8.5l.94-2.06 2.06-.94-2.06-.94L8.5 2.5l-.94 2.06-2.06.94zm10 10l.94 2.06.94-2.06 2.06-.94-2.06-.94-.94-2.06-.94 2.06-2.06.94z\"/><path d=\"M17.41 7.96l-1.37-1.37c-.4-.4-.92-.59-1.43-.59-.52 0-1.04.2-1.43.59L10.3 9.45l-7.72 7.72c-.78.78-.78 2.05 0 2.83L4 21.41c.39.39.9.59 1.41.59.51 0 1.02-.2 1.41-.59l7.78-7.78 2.81-2.81c.8-.78.8-2.07 0-2.86zM5.41 20L4 18.59l7.72-7.72 1.47 1.35L5.41 20z\"/>\n",
              "  </svg>\n",
              "      </button>\n",
              "      \n",
              "  <style>\n",
              "    .colab-df-container {\n",
              "      display:flex;\n",
              "      flex-wrap:wrap;\n",
              "      gap: 12px;\n",
              "    }\n",
              "\n",
              "    .colab-df-convert {\n",
              "      background-color: #E8F0FE;\n",
              "      border: none;\n",
              "      border-radius: 50%;\n",
              "      cursor: pointer;\n",
              "      display: none;\n",
              "      fill: #1967D2;\n",
              "      height: 32px;\n",
              "      padding: 0 0 0 0;\n",
              "      width: 32px;\n",
              "    }\n",
              "\n",
              "    .colab-df-convert:hover {\n",
              "      background-color: #E2EBFA;\n",
              "      box-shadow: 0px 1px 2px rgba(60, 64, 67, 0.3), 0px 1px 3px 1px rgba(60, 64, 67, 0.15);\n",
              "      fill: #174EA6;\n",
              "    }\n",
              "\n",
              "    [theme=dark] .colab-df-convert {\n",
              "      background-color: #3B4455;\n",
              "      fill: #D2E3FC;\n",
              "    }\n",
              "\n",
              "    [theme=dark] .colab-df-convert:hover {\n",
              "      background-color: #434B5C;\n",
              "      box-shadow: 0px 1px 3px 1px rgba(0, 0, 0, 0.15);\n",
              "      filter: drop-shadow(0px 1px 2px rgba(0, 0, 0, 0.3));\n",
              "      fill: #FFFFFF;\n",
              "    }\n",
              "  </style>\n",
              "\n",
              "      <script>\n",
              "        const buttonEl =\n",
              "          document.querySelector('#df-9052ca4a-7d56-4b7b-8d73-b9d2554f4aa9 button.colab-df-convert');\n",
              "        buttonEl.style.display =\n",
              "          google.colab.kernel.accessAllowed ? 'block' : 'none';\n",
              "\n",
              "        async function convertToInteractive(key) {\n",
              "          const element = document.querySelector('#df-9052ca4a-7d56-4b7b-8d73-b9d2554f4aa9');\n",
              "          const dataTable =\n",
              "            await google.colab.kernel.invokeFunction('convertToInteractive',\n",
              "                                                     [key], {});\n",
              "          if (!dataTable) return;\n",
              "\n",
              "          const docLinkHtml = 'Like what you see? Visit the ' +\n",
              "            '<a target=\"_blank\" href=https://colab.research.google.com/notebooks/data_table.ipynb>data table notebook</a>'\n",
              "            + ' to learn more about interactive tables.';\n",
              "          element.innerHTML = '';\n",
              "          dataTable['output_type'] = 'display_data';\n",
              "          await google.colab.output.renderOutput(dataTable, element);\n",
              "          const docLink = document.createElement('div');\n",
              "          docLink.innerHTML = docLinkHtml;\n",
              "          element.appendChild(docLink);\n",
              "        }\n",
              "      </script>\n",
              "    </div>\n",
              "  </div>\n",
              "  "
            ]
          },
          "metadata": {},
          "execution_count": 82
        }
      ]
    },
    {
      "cell_type": "code",
      "source": [
        "# Creating the Capacity data Frame\n",
        "cap=pd.DataFrame({'Low_cap':[500,500,500,500,500],'High_cap':[1500,1500,1500,1500,1500]},index=countries)\n",
        "cap"
      ],
      "metadata": {
        "id": "b7vGYJb6_dZd",
        "colab": {
          "base_uri": "https://localhost:8080/",
          "height": 206
        },
        "outputId": "a431c9eb-7df1-4633-8729-5df205ff1dbd"
      },
      "execution_count": 83,
      "outputs": [
        {
          "output_type": "execute_result",
          "data": {
            "text/plain": [
              "         Low_cap  High_cap\n",
              "USA          500      1500\n",
              "Germany      500      1500\n",
              "Japan        500      1500\n",
              "Brazil       500      1500\n",
              "India        500      1500"
            ],
            "text/html": [
              "\n",
              "  <div id=\"df-ab0bb456-d1e0-4d29-b4f9-ad973696c2a3\">\n",
              "    <div class=\"colab-df-container\">\n",
              "      <div>\n",
              "<style scoped>\n",
              "    .dataframe tbody tr th:only-of-type {\n",
              "        vertical-align: middle;\n",
              "    }\n",
              "\n",
              "    .dataframe tbody tr th {\n",
              "        vertical-align: top;\n",
              "    }\n",
              "\n",
              "    .dataframe thead th {\n",
              "        text-align: right;\n",
              "    }\n",
              "</style>\n",
              "<table border=\"1\" class=\"dataframe\">\n",
              "  <thead>\n",
              "    <tr style=\"text-align: right;\">\n",
              "      <th></th>\n",
              "      <th>Low_cap</th>\n",
              "      <th>High_cap</th>\n",
              "    </tr>\n",
              "  </thead>\n",
              "  <tbody>\n",
              "    <tr>\n",
              "      <th>USA</th>\n",
              "      <td>500</td>\n",
              "      <td>1500</td>\n",
              "    </tr>\n",
              "    <tr>\n",
              "      <th>Germany</th>\n",
              "      <td>500</td>\n",
              "      <td>1500</td>\n",
              "    </tr>\n",
              "    <tr>\n",
              "      <th>Japan</th>\n",
              "      <td>500</td>\n",
              "      <td>1500</td>\n",
              "    </tr>\n",
              "    <tr>\n",
              "      <th>Brazil</th>\n",
              "      <td>500</td>\n",
              "      <td>1500</td>\n",
              "    </tr>\n",
              "    <tr>\n",
              "      <th>India</th>\n",
              "      <td>500</td>\n",
              "      <td>1500</td>\n",
              "    </tr>\n",
              "  </tbody>\n",
              "</table>\n",
              "</div>\n",
              "      <button class=\"colab-df-convert\" onclick=\"convertToInteractive('df-ab0bb456-d1e0-4d29-b4f9-ad973696c2a3')\"\n",
              "              title=\"Convert this dataframe to an interactive table.\"\n",
              "              style=\"display:none;\">\n",
              "        \n",
              "  <svg xmlns=\"http://www.w3.org/2000/svg\" height=\"24px\"viewBox=\"0 0 24 24\"\n",
              "       width=\"24px\">\n",
              "    <path d=\"M0 0h24v24H0V0z\" fill=\"none\"/>\n",
              "    <path d=\"M18.56 5.44l.94 2.06.94-2.06 2.06-.94-2.06-.94-.94-2.06-.94 2.06-2.06.94zm-11 1L8.5 8.5l.94-2.06 2.06-.94-2.06-.94L8.5 2.5l-.94 2.06-2.06.94zm10 10l.94 2.06.94-2.06 2.06-.94-2.06-.94-.94-2.06-.94 2.06-2.06.94z\"/><path d=\"M17.41 7.96l-1.37-1.37c-.4-.4-.92-.59-1.43-.59-.52 0-1.04.2-1.43.59L10.3 9.45l-7.72 7.72c-.78.78-.78 2.05 0 2.83L4 21.41c.39.39.9.59 1.41.59.51 0 1.02-.2 1.41-.59l7.78-7.78 2.81-2.81c.8-.78.8-2.07 0-2.86zM5.41 20L4 18.59l7.72-7.72 1.47 1.35L5.41 20z\"/>\n",
              "  </svg>\n",
              "      </button>\n",
              "      \n",
              "  <style>\n",
              "    .colab-df-container {\n",
              "      display:flex;\n",
              "      flex-wrap:wrap;\n",
              "      gap: 12px;\n",
              "    }\n",
              "\n",
              "    .colab-df-convert {\n",
              "      background-color: #E8F0FE;\n",
              "      border: none;\n",
              "      border-radius: 50%;\n",
              "      cursor: pointer;\n",
              "      display: none;\n",
              "      fill: #1967D2;\n",
              "      height: 32px;\n",
              "      padding: 0 0 0 0;\n",
              "      width: 32px;\n",
              "    }\n",
              "\n",
              "    .colab-df-convert:hover {\n",
              "      background-color: #E2EBFA;\n",
              "      box-shadow: 0px 1px 2px rgba(60, 64, 67, 0.3), 0px 1px 3px 1px rgba(60, 64, 67, 0.15);\n",
              "      fill: #174EA6;\n",
              "    }\n",
              "\n",
              "    [theme=dark] .colab-df-convert {\n",
              "      background-color: #3B4455;\n",
              "      fill: #D2E3FC;\n",
              "    }\n",
              "\n",
              "    [theme=dark] .colab-df-convert:hover {\n",
              "      background-color: #434B5C;\n",
              "      box-shadow: 0px 1px 3px 1px rgba(0, 0, 0, 0.15);\n",
              "      filter: drop-shadow(0px 1px 2px rgba(0, 0, 0, 0.3));\n",
              "      fill: #FFFFFF;\n",
              "    }\n",
              "  </style>\n",
              "\n",
              "      <script>\n",
              "        const buttonEl =\n",
              "          document.querySelector('#df-ab0bb456-d1e0-4d29-b4f9-ad973696c2a3 button.colab-df-convert');\n",
              "        buttonEl.style.display =\n",
              "          google.colab.kernel.accessAllowed ? 'block' : 'none';\n",
              "\n",
              "        async function convertToInteractive(key) {\n",
              "          const element = document.querySelector('#df-ab0bb456-d1e0-4d29-b4f9-ad973696c2a3');\n",
              "          const dataTable =\n",
              "            await google.colab.kernel.invokeFunction('convertToInteractive',\n",
              "                                                     [key], {});\n",
              "          if (!dataTable) return;\n",
              "\n",
              "          const docLinkHtml = 'Like what you see? Visit the ' +\n",
              "            '<a target=\"_blank\" href=https://colab.research.google.com/notebooks/data_table.ipynb>data table notebook</a>'\n",
              "            + ' to learn more about interactive tables.';\n",
              "          element.innerHTML = '';\n",
              "          dataTable['output_type'] = 'display_data';\n",
              "          await google.colab.output.renderOutput(dataTable, element);\n",
              "          const docLink = document.createElement('div');\n",
              "          docLink.innerHTML = docLinkHtml;\n",
              "          element.appendChild(docLink);\n",
              "        }\n",
              "      </script>\n",
              "    </div>\n",
              "  </div>\n",
              "  "
            ]
          },
          "metadata": {},
          "execution_count": 83
        }
      ]
    },
    {
      "cell_type": "code",
      "source": [
        "# Creating the variable cost Data  frame\n",
        "var_cost=pd.DataFrame({'USA':[6,13,20,12,12],'Germany':[13,6,14,14,13],'Japan':[20,14,3,21,10],'Brazil':[12,14,21,8,23],'India':[17,13,9,21,8]},index=countries)"
      ],
      "metadata": {
        "id": "9lxdXrsnod4S"
      },
      "execution_count": 84,
      "outputs": []
    },
    {
      "cell_type": "code",
      "source": [
        "# Creating the fixed cost data frame\n",
        "fix_cost=pd.DataFrame({'Low_cap':[6500,4980,6230,3230,2110],'High_cap':[9500,7270,9100,4730,3080]},index=countries)\n",
        "fix_cost"
      ],
      "metadata": {
        "colab": {
          "base_uri": "https://localhost:8080/",
          "height": 206
        },
        "id": "EuyvhOX_p7aL",
        "outputId": "85758491-c010-4283-9d09-526fc54ccf12"
      },
      "execution_count": 85,
      "outputs": [
        {
          "output_type": "execute_result",
          "data": {
            "text/plain": [
              "         Low_cap  High_cap\n",
              "USA         6500      9500\n",
              "Germany     4980      7270\n",
              "Japan       6230      9100\n",
              "Brazil      3230      4730\n",
              "India       2110      3080"
            ],
            "text/html": [
              "\n",
              "  <div id=\"df-753f59bb-5837-4692-a4a5-00f79a92542e\">\n",
              "    <div class=\"colab-df-container\">\n",
              "      <div>\n",
              "<style scoped>\n",
              "    .dataframe tbody tr th:only-of-type {\n",
              "        vertical-align: middle;\n",
              "    }\n",
              "\n",
              "    .dataframe tbody tr th {\n",
              "        vertical-align: top;\n",
              "    }\n",
              "\n",
              "    .dataframe thead th {\n",
              "        text-align: right;\n",
              "    }\n",
              "</style>\n",
              "<table border=\"1\" class=\"dataframe\">\n",
              "  <thead>\n",
              "    <tr style=\"text-align: right;\">\n",
              "      <th></th>\n",
              "      <th>Low_cap</th>\n",
              "      <th>High_cap</th>\n",
              "    </tr>\n",
              "  </thead>\n",
              "  <tbody>\n",
              "    <tr>\n",
              "      <th>USA</th>\n",
              "      <td>6500</td>\n",
              "      <td>9500</td>\n",
              "    </tr>\n",
              "    <tr>\n",
              "      <th>Germany</th>\n",
              "      <td>4980</td>\n",
              "      <td>7270</td>\n",
              "    </tr>\n",
              "    <tr>\n",
              "      <th>Japan</th>\n",
              "      <td>6230</td>\n",
              "      <td>9100</td>\n",
              "    </tr>\n",
              "    <tr>\n",
              "      <th>Brazil</th>\n",
              "      <td>3230</td>\n",
              "      <td>4730</td>\n",
              "    </tr>\n",
              "    <tr>\n",
              "      <th>India</th>\n",
              "      <td>2110</td>\n",
              "      <td>3080</td>\n",
              "    </tr>\n",
              "  </tbody>\n",
              "</table>\n",
              "</div>\n",
              "      <button class=\"colab-df-convert\" onclick=\"convertToInteractive('df-753f59bb-5837-4692-a4a5-00f79a92542e')\"\n",
              "              title=\"Convert this dataframe to an interactive table.\"\n",
              "              style=\"display:none;\">\n",
              "        \n",
              "  <svg xmlns=\"http://www.w3.org/2000/svg\" height=\"24px\"viewBox=\"0 0 24 24\"\n",
              "       width=\"24px\">\n",
              "    <path d=\"M0 0h24v24H0V0z\" fill=\"none\"/>\n",
              "    <path d=\"M18.56 5.44l.94 2.06.94-2.06 2.06-.94-2.06-.94-.94-2.06-.94 2.06-2.06.94zm-11 1L8.5 8.5l.94-2.06 2.06-.94-2.06-.94L8.5 2.5l-.94 2.06-2.06.94zm10 10l.94 2.06.94-2.06 2.06-.94-2.06-.94-.94-2.06-.94 2.06-2.06.94z\"/><path d=\"M17.41 7.96l-1.37-1.37c-.4-.4-.92-.59-1.43-.59-.52 0-1.04.2-1.43.59L10.3 9.45l-7.72 7.72c-.78.78-.78 2.05 0 2.83L4 21.41c.39.39.9.59 1.41.59.51 0 1.02-.2 1.41-.59l7.78-7.78 2.81-2.81c.8-.78.8-2.07 0-2.86zM5.41 20L4 18.59l7.72-7.72 1.47 1.35L5.41 20z\"/>\n",
              "  </svg>\n",
              "      </button>\n",
              "      \n",
              "  <style>\n",
              "    .colab-df-container {\n",
              "      display:flex;\n",
              "      flex-wrap:wrap;\n",
              "      gap: 12px;\n",
              "    }\n",
              "\n",
              "    .colab-df-convert {\n",
              "      background-color: #E8F0FE;\n",
              "      border: none;\n",
              "      border-radius: 50%;\n",
              "      cursor: pointer;\n",
              "      display: none;\n",
              "      fill: #1967D2;\n",
              "      height: 32px;\n",
              "      padding: 0 0 0 0;\n",
              "      width: 32px;\n",
              "    }\n",
              "\n",
              "    .colab-df-convert:hover {\n",
              "      background-color: #E2EBFA;\n",
              "      box-shadow: 0px 1px 2px rgba(60, 64, 67, 0.3), 0px 1px 3px 1px rgba(60, 64, 67, 0.15);\n",
              "      fill: #174EA6;\n",
              "    }\n",
              "\n",
              "    [theme=dark] .colab-df-convert {\n",
              "      background-color: #3B4455;\n",
              "      fill: #D2E3FC;\n",
              "    }\n",
              "\n",
              "    [theme=dark] .colab-df-convert:hover {\n",
              "      background-color: #434B5C;\n",
              "      box-shadow: 0px 1px 3px 1px rgba(0, 0, 0, 0.15);\n",
              "      filter: drop-shadow(0px 1px 2px rgba(0, 0, 0, 0.3));\n",
              "      fill: #FFFFFF;\n",
              "    }\n",
              "  </style>\n",
              "\n",
              "      <script>\n",
              "        const buttonEl =\n",
              "          document.querySelector('#df-753f59bb-5837-4692-a4a5-00f79a92542e button.colab-df-convert');\n",
              "        buttonEl.style.display =\n",
              "          google.colab.kernel.accessAllowed ? 'block' : 'none';\n",
              "\n",
              "        async function convertToInteractive(key) {\n",
              "          const element = document.querySelector('#df-753f59bb-5837-4692-a4a5-00f79a92542e');\n",
              "          const dataTable =\n",
              "            await google.colab.kernel.invokeFunction('convertToInteractive',\n",
              "                                                     [key], {});\n",
              "          if (!dataTable) return;\n",
              "\n",
              "          const docLinkHtml = 'Like what you see? Visit the ' +\n",
              "            '<a target=\"_blank\" href=https://colab.research.google.com/notebooks/data_table.ipynb>data table notebook</a>'\n",
              "            + ' to learn more about interactive tables.';\n",
              "          element.innerHTML = '';\n",
              "          dataTable['output_type'] = 'display_data';\n",
              "          await google.colab.output.renderOutput(dataTable, element);\n",
              "          const docLink = document.createElement('div');\n",
              "          docLink.innerHTML = docLinkHtml;\n",
              "          element.appendChild(docLink);\n",
              "        }\n",
              "      </script>\n",
              "    </div>\n",
              "  </div>\n",
              "  "
            ]
          },
          "metadata": {},
          "execution_count": 85
        }
      ]
    },
    {
      "cell_type": "code",
      "source": [
        "#Defining the LP problem\n",
        "prob=LpProblem('Production_Plan',LpMinimize)"
      ],
      "metadata": {
        "id": "RKq3tes1qlaw"
      },
      "execution_count": 86,
      "outputs": []
    },
    {
      "cell_type": "code",
      "source": [
        "# Defining the Decision varibales\n",
        "# Variable 1 is defining what type of plant to open at location i\n",
        "plant_choice=LpVariable.dicts('plant_type_choice',[(i,j)for i in countries for j in cap],cat='Binary')\n",
        "prod_num=LpVariable.dicts('Prod_numbers',[(i,j) for i in countries for j in countries],cat='Continous',lowBound=0)"
      ],
      "metadata": {
        "id": "CNHXAeapq_pn"
      },
      "execution_count": 87,
      "outputs": []
    },
    {
      "cell_type": "code",
      "source": [
        "# Defining the objective Function\n",
        "prob+=lpSum([plant_choice[(i,j)]*fix_cost.loc[i,j] for i in countries for j in cap])+lpSum([prod_num[(i,j)]*var_cost.loc[i,j] for i in countries for j in countries])"
      ],
      "metadata": {
        "id": "u0MzMWoQsmgr"
      },
      "execution_count": 88,
      "outputs": []
    },
    {
      "cell_type": "code",
      "source": [
        "# Defining the constraints\n",
        "# Demand constraint\n",
        "for j in countries:\n",
        "  prob+=lpSum([prod_num[(i,j)] for i in countries])==dem.loc[j,'demand']"
      ],
      "metadata": {
        "id": "HQPwioaiuQUW"
      },
      "execution_count": 89,
      "outputs": []
    },
    {
      "cell_type": "code",
      "source": [
        "# Capacity constraint\n",
        "for i in countries:\n",
        "  prob+=lpSum([prod_num[(i,j)]for j in countries])<=lpSum(cap.loc[i,s]*plant_choice[(i,s)] for s in cap1)\n"
      ],
      "metadata": {
        "id": "F7x_FvX-vuHs"
      },
      "execution_count": 92,
      "outputs": []
    },
    {
      "cell_type": "code",
      "source": [
        "prob.solve()"
      ],
      "metadata": {
        "colab": {
          "base_uri": "https://localhost:8080/"
        },
        "id": "M7w3y3dhv13z",
        "outputId": "53e96b0d-46d9-4aae-ac58-0fdf6eb31517"
      },
      "execution_count": 93,
      "outputs": [
        {
          "output_type": "execute_result",
          "data": {
            "text/plain": [
              "1"
            ]
          },
          "metadata": {},
          "execution_count": 93
        }
      ]
    },
    {
      "cell_type": "code",
      "source": [],
      "metadata": {
        "colab": {
          "base_uri": "https://localhost:8080/",
          "height": 206
        },
        "id": "-VAEms-LyRKR",
        "outputId": "e491c052-047a-4ea6-9566-6744f8c19379"
      },
      "execution_count": 90,
      "outputs": [
        {
          "output_type": "execute_result",
          "data": {
            "text/plain": [
              "         Low_cap  High_cap\n",
              "USA          500      1500\n",
              "Germany      500      1500\n",
              "Japan        500      1500\n",
              "Brazil       500      1500\n",
              "India        500      1500"
            ],
            "text/html": [
              "\n",
              "  <div id=\"df-24e309b7-4d28-45d7-98f5-aedbd6c92607\">\n",
              "    <div class=\"colab-df-container\">\n",
              "      <div>\n",
              "<style scoped>\n",
              "    .dataframe tbody tr th:only-of-type {\n",
              "        vertical-align: middle;\n",
              "    }\n",
              "\n",
              "    .dataframe tbody tr th {\n",
              "        vertical-align: top;\n",
              "    }\n",
              "\n",
              "    .dataframe thead th {\n",
              "        text-align: right;\n",
              "    }\n",
              "</style>\n",
              "<table border=\"1\" class=\"dataframe\">\n",
              "  <thead>\n",
              "    <tr style=\"text-align: right;\">\n",
              "      <th></th>\n",
              "      <th>Low_cap</th>\n",
              "      <th>High_cap</th>\n",
              "    </tr>\n",
              "  </thead>\n",
              "  <tbody>\n",
              "    <tr>\n",
              "      <th>USA</th>\n",
              "      <td>500</td>\n",
              "      <td>1500</td>\n",
              "    </tr>\n",
              "    <tr>\n",
              "      <th>Germany</th>\n",
              "      <td>500</td>\n",
              "      <td>1500</td>\n",
              "    </tr>\n",
              "    <tr>\n",
              "      <th>Japan</th>\n",
              "      <td>500</td>\n",
              "      <td>1500</td>\n",
              "    </tr>\n",
              "    <tr>\n",
              "      <th>Brazil</th>\n",
              "      <td>500</td>\n",
              "      <td>1500</td>\n",
              "    </tr>\n",
              "    <tr>\n",
              "      <th>India</th>\n",
              "      <td>500</td>\n",
              "      <td>1500</td>\n",
              "    </tr>\n",
              "  </tbody>\n",
              "</table>\n",
              "</div>\n",
              "      <button class=\"colab-df-convert\" onclick=\"convertToInteractive('df-24e309b7-4d28-45d7-98f5-aedbd6c92607')\"\n",
              "              title=\"Convert this dataframe to an interactive table.\"\n",
              "              style=\"display:none;\">\n",
              "        \n",
              "  <svg xmlns=\"http://www.w3.org/2000/svg\" height=\"24px\"viewBox=\"0 0 24 24\"\n",
              "       width=\"24px\">\n",
              "    <path d=\"M0 0h24v24H0V0z\" fill=\"none\"/>\n",
              "    <path d=\"M18.56 5.44l.94 2.06.94-2.06 2.06-.94-2.06-.94-.94-2.06-.94 2.06-2.06.94zm-11 1L8.5 8.5l.94-2.06 2.06-.94-2.06-.94L8.5 2.5l-.94 2.06-2.06.94zm10 10l.94 2.06.94-2.06 2.06-.94-2.06-.94-.94-2.06-.94 2.06-2.06.94z\"/><path d=\"M17.41 7.96l-1.37-1.37c-.4-.4-.92-.59-1.43-.59-.52 0-1.04.2-1.43.59L10.3 9.45l-7.72 7.72c-.78.78-.78 2.05 0 2.83L4 21.41c.39.39.9.59 1.41.59.51 0 1.02-.2 1.41-.59l7.78-7.78 2.81-2.81c.8-.78.8-2.07 0-2.86zM5.41 20L4 18.59l7.72-7.72 1.47 1.35L5.41 20z\"/>\n",
              "  </svg>\n",
              "      </button>\n",
              "      \n",
              "  <style>\n",
              "    .colab-df-container {\n",
              "      display:flex;\n",
              "      flex-wrap:wrap;\n",
              "      gap: 12px;\n",
              "    }\n",
              "\n",
              "    .colab-df-convert {\n",
              "      background-color: #E8F0FE;\n",
              "      border: none;\n",
              "      border-radius: 50%;\n",
              "      cursor: pointer;\n",
              "      display: none;\n",
              "      fill: #1967D2;\n",
              "      height: 32px;\n",
              "      padding: 0 0 0 0;\n",
              "      width: 32px;\n",
              "    }\n",
              "\n",
              "    .colab-df-convert:hover {\n",
              "      background-color: #E2EBFA;\n",
              "      box-shadow: 0px 1px 2px rgba(60, 64, 67, 0.3), 0px 1px 3px 1px rgba(60, 64, 67, 0.15);\n",
              "      fill: #174EA6;\n",
              "    }\n",
              "\n",
              "    [theme=dark] .colab-df-convert {\n",
              "      background-color: #3B4455;\n",
              "      fill: #D2E3FC;\n",
              "    }\n",
              "\n",
              "    [theme=dark] .colab-df-convert:hover {\n",
              "      background-color: #434B5C;\n",
              "      box-shadow: 0px 1px 3px 1px rgba(0, 0, 0, 0.15);\n",
              "      filter: drop-shadow(0px 1px 2px rgba(0, 0, 0, 0.3));\n",
              "      fill: #FFFFFF;\n",
              "    }\n",
              "  </style>\n",
              "\n",
              "      <script>\n",
              "        const buttonEl =\n",
              "          document.querySelector('#df-24e309b7-4d28-45d7-98f5-aedbd6c92607 button.colab-df-convert');\n",
              "        buttonEl.style.display =\n",
              "          google.colab.kernel.accessAllowed ? 'block' : 'none';\n",
              "\n",
              "        async function convertToInteractive(key) {\n",
              "          const element = document.querySelector('#df-24e309b7-4d28-45d7-98f5-aedbd6c92607');\n",
              "          const dataTable =\n",
              "            await google.colab.kernel.invokeFunction('convertToInteractive',\n",
              "                                                     [key], {});\n",
              "          if (!dataTable) return;\n",
              "\n",
              "          const docLinkHtml = 'Like what you see? Visit the ' +\n",
              "            '<a target=\"_blank\" href=https://colab.research.google.com/notebooks/data_table.ipynb>data table notebook</a>'\n",
              "            + ' to learn more about interactive tables.';\n",
              "          element.innerHTML = '';\n",
              "          dataTable['output_type'] = 'display_data';\n",
              "          await google.colab.output.renderOutput(dataTable, element);\n",
              "          const docLink = document.createElement('div');\n",
              "          docLink.innerHTML = docLinkHtml;\n",
              "          element.appendChild(docLink);\n",
              "        }\n",
              "      </script>\n",
              "    </div>\n",
              "  </div>\n",
              "  "
            ]
          },
          "metadata": {},
          "execution_count": 90
        }
      ]
    },
    {
      "cell_type": "markdown",
      "source": [
        "### Simulating the output of a model\n",
        "* You can simulate the constraints and values in the objective function and see how the optimal solution changes. You can generally add some noise to the values.\n",
        "* This combines Monte Carlo simulation and optimization.\n"
      ],
      "metadata": {
        "id": "lPivfxXK2PID"
      }
    },
    {
      "cell_type": "code",
      "source": [],
      "metadata": {
        "id": "H6SXuYbuzsMj"
      },
      "execution_count": null,
      "outputs": []
    }
  ]
}